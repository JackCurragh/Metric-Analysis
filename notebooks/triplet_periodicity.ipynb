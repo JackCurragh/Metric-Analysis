{
 "cells": [
  {
   "attachments": {},
   "cell_type": "markdown",
   "metadata": {},
   "source": [
    "# Triplet Periodicity Metric Investigation\n",
    "\n",
    "Investigation of how to devlop a metric to summaries triplet periodicity accurately "
   ]
  },
  {
   "attachments": {},
   "cell_type": "markdown",
   "metadata": {},
   "source": [
    "## Import Functions"
   ]
  },
  {
   "cell_type": "code",
   "execution_count": 6,
   "metadata": {},
   "outputs": [],
   "source": [
    "from RiboMetric.modules import (\n",
    "    read_frame_distribution,\n",
    "    a_site_calculation,\n",
    ")\n",
    "\n",
    "import pandas as pd\n",
    "import math"
   ]
  },
  {
   "cell_type": "code",
   "execution_count": 7,
   "metadata": {},
   "outputs": [],
   "source": [
    "path_to_test_data = \"/home/jack/projects/RibosomeProfiler/tests/test_data/parsed_test.csv\""
   ]
  },
  {
   "cell_type": "code",
   "execution_count": 8,
   "metadata": {},
   "outputs": [],
   "source": [
    "read_df_pre = pd.read_csv(path_to_test_data)\n",
    "read_df = read_df_pre.loc[\n",
    "    read_df_pre.index.repeat(read_df_pre[\"count\"])\n",
    "].reset_index(drop=True)\n",
    "read_frame_dict = read_frame_distribution(a_site_calculation(read_df))"
   ]
  },
  {
   "attachments": {},
   "cell_type": "markdown",
   "metadata": {},
   "source": [
    "## Import the metric function for further modification "
   ]
  },
  {
   "cell_type": "code",
   "execution_count": 24,
   "metadata": {},
   "outputs": [],
   "source": [
    "def read_frame_distribution_metric(\n",
    "    read_frame_distribution: dict,\n",
    "        ) -> float:\n",
    "    \"\"\"       \n",
    "    Calculate the read frame distribution metric from the output of\n",
    "    the read_frame_distribution module.\n",
    "\n",
    "    This metric is the Shannon entropy of the read frame distribution \n",
    "\n",
    "    Inputs:\n",
    "        read_frame_distribution: Dictionary containing the output of the\n",
    "                read_frame_distribution module\n",
    "        \n",
    "    Outputs:\n",
    "        read_frame_distribution_metric: Shannon entropy of the read frame\n",
    "                distribution\n",
    "    \"\"\"\n",
    "\n",
    "    pseudocount = 1e-100  # to avoid log(0)\n",
    "\n",
    "    entropies = {}\n",
    "    for read_length in read_frame_distribution:\n",
    "        total_count = sum(read_frame_distribution[read_length].values())\n",
    "        max_entropy = math.log2(len(read_frame_distribution[read_length]))\n",
    "        entropy = 0.0\n",
    "        probs = []\n",
    "        for frame, count in read_frame_distribution[read_length].items():\n",
    "            prob = (count + pseudocount) / total_count\n",
    "            probs.append(prob)\n",
    "            entropy += max(-(prob * math.log2(prob)), 0.0)\n",
    "        score = (max_entropy - entropy)/max_entropy\n",
    "\n",
    "        entropies[read_length] = (score, total_count, probs)\n",
    "    weighted_sum = 0.0\n",
    "    for i in entropies:\n",
    "        weighted_sum += entropies[i][0] * entropies[i][1]\n",
    "    weighted_score = weighted_sum / sum([entropies[x][1] for x in entropies])\n",
    "    return entropies"
   ]
  },
  {
   "cell_type": "code",
   "execution_count": 23,
   "metadata": {},
   "outputs": [],
   "source": [
    "read_frame_dict = {\n",
    "    28: {0: 10000, 1: 1, 2: 1},\n",
    "    29: {0: 1, 10000: 1, 2: 1},\n",
    "    30: {0: 1, 1: 1, 2: 10000},\n",
    "    31: {0: 5000, 1: 5000, 2: 1},\n",
    "    32: {0: 1, 1: 5000, 2: 5000},\n",
    "    33: {0: 100, 1: 200, 2: 100},\n",
    "    34: {0: 1100, 1: 10000, 2: 2200},\n",
    "    35: {0: 1000, 1: 1000, 2: 1000},\n",
    "}"
   ]
  },
  {
   "cell_type": "code",
   "execution_count": 31,
   "metadata": {},
   "outputs": [],
   "source": [
    "read_frame_metric = read_frame_distribution_metric(read_frame_dict)"
   ]
  },
  {
   "cell_type": "code",
   "execution_count": 27,
   "metadata": {},
   "outputs": [],
   "source": [
    "def max_min_normalisation(\n",
    "    value: float,\n",
    "    min_value: float,\n",
    "    max_value: float,\n",
    "    ) -> float:\n",
    "    \"\"\"\n",
    "    Normalise a value between 0 and 1 based on the minimum and maximum\n",
    "    values of a set of values.\n",
    "\n",
    "    Inputs:\n",
    "        value: Value to be normalised\n",
    "        min_value: Minimum value of the set of values\n",
    "        max_value: Maximum value of the set of values\n",
    "\n",
    "    Outputs:\n",
    "        normalised_value: Normalised value between 0 and 1\n",
    "    \"\"\"\n",
    "    normalised_value = (value - min_value) / (max_value - min_value)\n",
    "    return normalised_value"
   ]
  },
  {
   "cell_type": "code",
   "execution_count": 36,
   "metadata": {},
   "outputs": [
    {
     "name": "stdout",
     "output_type": "stream",
     "text": [
      "len:  28 score:  0.9981415830150691 Normalised score:  0.9976769787688363\n",
      "len:  29 score:  0.0 Normalised score:  -0.25\n",
      "len:  30 score:  0.9981415830150691 Normalised score:  0.9976769787688363\n",
      "len:  31 score:  0.3682040362414955 Normalised score:  0.21025504530186936\n",
      "len:  32 score:  0.3682040362414956 Normalised score:  0.2102550453018695\n",
      "len:  33 score:  0.05360536964281378 Normalised score:  -0.18299328794648276\n",
      "len:  34 score:  0.34627280220652973 Normalised score:  0.18284100275816215\n",
      "len:  35 score:  0.0 Normalised score:  -0.25\n"
     ]
    }
   ],
   "source": [
    "for i in read_frame_metric:\n",
    "    print(\"len: \", i, \"score: \", read_frame_metric[i][0], \"Normalised score: \", max_min_normalisation(read_frame_metric[i][0], 0.2, 1))"
   ]
  },
  {
   "cell_type": "code",
   "execution_count": 37,
   "metadata": {},
   "outputs": [],
   "source": [
    "def max_min_2(x):\n",
    "    # Define the minimum and maximum values for the original range\n",
    "    min_value = 0.0  # Minimum possible value of the metric\n",
    "    max_value = 1.0  # Maximum possible value of the metric\n",
    "\n",
    "    # Define the new minimum and maximum values for the transformed range\n",
    "    new_min = 0.2  # The desired minimum value in the transformed range\n",
    "    new_max = 1.0  # The desired maximum value in the transformed range\n",
    "\n",
    "    # Apply the rescaling transformation\n",
    "    transformed_x = ((x - min_value) / (max_value - min_value)) * (new_max - new_min) + new_min\n",
    "\n",
    "    return transformed_x\n"
   ]
  },
  {
   "cell_type": "code",
   "execution_count": 38,
   "metadata": {},
   "outputs": [
    {
     "name": "stdout",
     "output_type": "stream",
     "text": [
      "len:  28 score:  0.9981415830150691 Normalised score:  0.9985132664120553\n",
      "len:  29 score:  0.0 Normalised score:  0.2\n",
      "len:  30 score:  0.9981415830150691 Normalised score:  0.9985132664120553\n",
      "len:  31 score:  0.3682040362414955 Normalised score:  0.49456322899319644\n",
      "len:  32 score:  0.3682040362414956 Normalised score:  0.4945632289931965\n",
      "len:  33 score:  0.05360536964281378 Normalised score:  0.24288429571425105\n",
      "len:  34 score:  0.34627280220652973 Normalised score:  0.4770182417652238\n",
      "len:  35 score:  0.0 Normalised score:  0.2\n"
     ]
    }
   ],
   "source": [
    "for i in read_frame_metric:\n",
    "    print(\"len: \", i, \"score: \", read_frame_metric[i][0], \"Normalised score: \", max_min_2(read_frame_metric[i][0]))"
   ]
  },
  {
   "cell_type": "code",
   "execution_count": 40,
   "metadata": {},
   "outputs": [
    {
     "name": "stdout",
     "output_type": "stream",
     "text": [
      "len:  28 score:  0.9981415830150691 Normalised score:  0.9990703593917042\n",
      "len:  29 score:  0.0 Normalised score:  0.0\n",
      "len:  30 score:  0.9981415830150691 Normalised score:  0.9990703593917042\n",
      "len:  31 score:  0.3682040362414955 Normalised score:  0.6067981841118969\n",
      "len:  32 score:  0.3682040362414956 Normalised score:  0.606798184111897\n",
      "len:  33 score:  0.05360536964281378 Normalised score:  0.23152833442758963\n",
      "len:  34 score:  0.34627280220652973 Normalised score:  0.5884494899365023\n",
      "len:  35 score:  0.0 Normalised score:  0.0\n"
     ]
    }
   ],
   "source": [
    "for i in read_frame_metric:\n",
    "    print(\"len: \", i, \"score: \", read_frame_metric[i][0], \"Normalised score: \", math.sqrt(read_frame_metric[i][0]))"
   ]
  }
 ],
 "metadata": {
  "kernelspec": {
   "display_name": "RibosomeProfiler",
   "language": "python",
   "name": "python3"
  },
  "language_info": {
   "codemirror_mode": {
    "name": "ipython",
    "version": 3
   },
   "file_extension": ".py",
   "mimetype": "text/x-python",
   "name": "python",
   "nbconvert_exporter": "python",
   "pygments_lexer": "ipython3",
   "version": "3.10.10"
  },
  "orig_nbformat": 4
 },
 "nbformat": 4,
 "nbformat_minor": 2
}
