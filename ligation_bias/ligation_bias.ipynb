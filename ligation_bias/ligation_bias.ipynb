{
 "cells": [
  {
   "attachments": {},
   "cell_type": "markdown",
   "metadata": {},
   "source": [
    "# Ligation Bias Metric Investigation\n",
    "\n",
    "Notebook to explore the development of a metric to summarise the degree of ligation bias in a sample.\n",
    "\n",
    "The basis for these metrics is the proportion to which dinucleotides are found at the 5' and 3' ends of ribo-seq reads relative to dinucleotide frequencies across all positions in Ribo-Seq reads.  "
   ]
  },
  {
   "cell_type": "code",
   "execution_count": null,
   "metadata": {},
   "outputs": [],
   "source": [
    "import math"
   ]
  },
  {
   "cell_type": "markdown",
   "metadata": {},
   "source": [
    "A simple metric for assessing unexpected proportions of a given dinucleotide a the ends of reads is finding the max difference between observed and expected frequencies."
   ]
  },
  {
   "cell_type": "code",
   "execution_count": null,
   "metadata": {},
   "outputs": [],
   "source": [
    "def ligation_bias_max_proportion_metric(\n",
    "        observed_freq: dict,\n",
    "        expected_freq: dict,\n",
    "        prime: str = \"five_prime\",\n",
    "        ) -> float:\n",
    "    \"\"\"\n",
    "    Calculate the ligation bias metric from the output of\n",
    "    the ligation_bias_distribution module.\n",
    "\n",
    "    This metric is the maximum difference in observed and expected\n",
    "    frequencies of dinucleotides\n",
    "\n",
    "    Inputs:\n",
    "        observed_freq: Dictionary containing the output of the\n",
    "                ligation_bias_distribution module\n",
    "        expected_freq: Dictionary containing the expected frequencies\n",
    "\n",
    "    Outputs:\n",
    "        lbd_df: Dataframe containing the ligation bias metric in bits\n",
    "    \"\"\"\n",
    "    scores = {}\n",
    "    for dinucleotide, observed_prob in observed_freq[prime].items():\n",
    "        expected_prob = expected_freq[dinucleotide]\n",
    "        scores[dinucleotide] = abs(\n",
    "            observed_prob - expected_prob)\n",
    "\n",
    "    return 1 - max(scores.values())"
   ]
  },
  {
   "cell_type": "code",
   "execution_count": null,
   "metadata": {},
   "outputs": [],
   "source": [
    "def ligation_bias_distribution_metric(\n",
    "        observed_freq: dict,\n",
    "        expected_freq: dict,\n",
    "        ) -> float:\n",
    "    \"\"\"\n",
    "    Calculate the ligation bias metric from the output of\n",
    "    the ligation_bias_distribution module.\n",
    "\n",
    "    This metric is the K-L divergence of the ligation bias distribution\n",
    "    of the observed frequencies from the expected frequencies. The\n",
    "    expected frequencies are calculated from the nucleotide composition\n",
    "    of the genome.\n",
    "\n",
    "    Inputs:\n",
    "        observed_freq: Dictionary containing the output of the\n",
    "                ligation_bias_distribution module\n",
    "        expected_freq: Dictionary containing the expected frequencies\n",
    "\n",
    "    Outputs:\n",
    "        lbd_df: Dataframe containing the ligation bias metric in bits\n",
    "    \"\"\"\n",
    "    # Needs possible rewrite using normalised ligation bias.\n",
    "    # Current iteration only accounts for five_prime\n",
    "    # division by 0 if background is non-existent, Only patterns that occur\n",
    "    # at least once are used (needs to be changed in ligation bias)\n",
    "    kl_divergence = 0.0\n",
    "\n",
    "    for dinucleotide, observed_prob in observed_freq[\"five_prime\"].items():\n",
    "        expected_prob = expected_freq[dinucleotide]\n",
    "        kl_divergence += observed_prob * math.log2(\n",
    "                                            observed_prob / expected_prob\n",
    "                                            )\n",
    "    return 1 - kl_divergence\n"
   ]
  }
 ],
 "metadata": {
  "language_info": {
   "name": "python"
  },
  "orig_nbformat": 4
 },
 "nbformat": 4,
 "nbformat_minor": 2
}
