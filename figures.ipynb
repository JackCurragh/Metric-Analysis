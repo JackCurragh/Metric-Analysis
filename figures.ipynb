{
 "cells": [
  {
   "cell_type": "markdown",
   "metadata": {},
   "source": []
  },
  {
   "cell_type": "code",
   "execution_count": 1,
   "metadata": {},
   "outputs": [],
   "source": [
    "from RiboMetric.metrics import (\n",
    "    fourier_transform,\n",
    "    read_frame_information_content,\n",
    "    periodicity_dominance,\n",
    "    periodicity_autocorrelation,\n",
    "    )\n",
    "\n",
    "from RiboMetric.modules import (\n",
    "    read_frame_score_trips_viz\n",
    ")\n",
    "\n",
    "import plotly.graph_objects as go\n",
    "import pandas as pd\n"
   ]
  },
  {
   "cell_type": "code",
   "execution_count": 2,
   "metadata": {},
   "outputs": [],
   "source": [
    "import itertools\n",
    "\n",
    "def generate_read_frame_distribution_permutations():\n",
    "    \"\"\"\n",
    "    Generate all possible permutations of read frame distributions that sum to 100.\n",
    "    \n",
    "    Args:\n",
    "        None\n",
    "\n",
    "    Returns:\n",
    "        simulated_read_frame_proportions (dict): Dictionary containing all possible read frame distributions that sum to 100.\n",
    "    \"\"\"\n",
    "    # Generate permutations\n",
    "    numbers = range(1, 101)\n",
    "    permutations = []\n",
    "    for perm in itertools.permutations(numbers, 3):\n",
    "        if sum(perm) == 100:\n",
    "            permutations.append(perm)\n",
    "\n",
    "    # Simulate read frame proportions\n",
    "    simulated_read_frame_proportions = {}\n",
    "    for i, perm in enumerate(permutations):\n",
    "        simulated_read_frame_proportions[i] = {0: perm[0], 1: perm[1], 2: perm[2]}\n",
    "\n",
    "    return simulated_read_frame_proportions\n"
   ]
  },
  {
   "cell_type": "code",
   "execution_count": 3,
   "metadata": {},
   "outputs": [],
   "source": [
    "import random\n",
    "\n",
    "def generate_metagene(frame_ratios, start, stop, noise_factor=0.8, max_count=100):\n",
    "    \"\"\"\n",
    "    Generate a metagene dictionary with varying degrees of periodicity based on frame ratios.\n",
    "    \n",
    "    Args:\n",
    "        frame_ratios (dict): A dictionary representing the global ratio of reads per frame.\n",
    "                             Keys are frame positions (0, 1, 2), and values are the corresponding ratios.\n",
    "        start (int): The start position of the metagene.\n",
    "        stop (int): The stop position of the metagene.\n",
    "    \n",
    "    Returns:\n",
    "        dict: A dictionary representing the metagene, where keys are positions and values are counts.\n",
    "    \"\"\"\n",
    "    metagene = {}\n",
    "    \n",
    "    # Initialize all positions with a small constant value\n",
    "    for pos in range(start, stop):\n",
    "        metagene[pos] = 1\n",
    "    \n",
    "    # Adjust counts based on frame ratios\n",
    "    for pos in range(start, stop):\n",
    "        frame = (pos - start) % 3\n",
    "        metagene[pos] += int(frame_ratios[frame] * max_count)\n",
    "    \n",
    "    # Introduce some random noise\n",
    "    for pos in range(start, stop):\n",
    "        metagene[pos] += int(random.uniform(0, noise_factor * max_count))\n",
    "    \n",
    "    return metagene\n"
   ]
  },
  {
   "cell_type": "code",
   "execution_count": 10,
   "metadata": {},
   "outputs": [],
   "source": [
    "example_metagenes = {\n",
    "    \"best\": generate_metagene({0: 0.98, 1: 0.01, 2: 0.01}, 0, 30, noise_factor=0.1),\n",
    "    \"worst\": generate_metagene({0: 0.45, 1: 0.45, 2: 0.1}, 0, 30, noise_factor=0.1),\n",
    "    \"random\": generate_metagene({0: 0.33, 1: 0.33, 2: 0.34}, 0, 30, noise_factor=0.8)\n",
    "}\n",
    "\n"
   ]
  },
  {
   "cell_type": "code",
   "execution_count": 32,
   "metadata": {},
   "outputs": [],
   "source": [
    "import math\n",
    "\n",
    "def calculate_3nt_periodicity_score(probabilities):\n",
    "    '''\n",
    "    Calculate the triplet periodicity score for a given probability of a read\n",
    "    being in frame. The score is the square root of the bits of information in\n",
    "    the triplet distribution.\n",
    "\n",
    "    Numerator is the Maximum Entropy of the triplet distribution minus the\n",
    "    entropy of the triplet distribution.\n",
    "    Denominator is the Maximum Entropy of the triplet distribution.\n",
    "\n",
    "    Inputs:\n",
    "        probability (float): The probability of a read being in frame.\n",
    "\n",
    "    Returns:\n",
    "        result (float): The triplet periodicity score.\n",
    "    '''\n",
    "    maximum_entropy = math.log2(3)\n",
    "    entropy = 0\n",
    "    for probability in probabilities:\n",
    "        entropy += -(probability * math.log2(probability))\n",
    "    result = math.sqrt((maximum_entropy - entropy) / maximum_entropy)\n",
    "    return result\n",
    "\n",
    "def read_frame_information_content(\n",
    "    read_frame_distribution: dict,\n",
    "        ) -> dict:\n",
    "    \"\"\"\n",
    "    Calculate the read frame distribution metric from the output of\n",
    "    the read_frame_distribution module.\n",
    "\n",
    "    This metric is the Shannon entropy of the read frame distribution\n",
    "\n",
    "    Inputs:\n",
    "        read_frame_distribution: Dictionary containing the output of the\n",
    "                read_frame_distribution module\n",
    "\n",
    "    Outputs:\n",
    "        frame_info_content_dict: Shannon entropy of the read frame\n",
    "                distribution where keys are read length and values are tuples\n",
    "                containing information content in bits and number of reads in\n",
    "                frame\n",
    "    \"\"\"\n",
    "    pseudocount = 1e-100\n",
    "    frame_info_content_dict = {}\n",
    "    for read_length in read_frame_distribution:\n",
    "        total_count = sum(read_frame_distribution[read_length].values())\n",
    "\n",
    "        probabilities = []\n",
    "        for frame, count in read_frame_distribution[read_length].items():\n",
    "            prob = (count + pseudocount) / (total_count + pseudocount)\n",
    "            probabilities.append(prob)\n",
    "        score = calculate_3nt_periodicity_score(probabilities)\n",
    "\n",
    "        frame_info_content_dict[read_length] = score, total_count\n",
    "\n",
    "    return frame_info_content_dict"
   ]
  },
  {
   "cell_type": "code",
   "execution_count": 4,
   "metadata": {},
   "outputs": [],
   "source": [
    "import plotly.graph_objects as go\n",
    "from plotly.subplots import make_subplots"
   ]
  },
  {
   "cell_type": "code",
   "execution_count": 57,
   "metadata": {},
   "outputs": [
    {
     "data": {
      "application/vnd.plotly.v1+json": {
       "config": {
        "plotlyServerURL": "https://plot.ly"
       },
       "data": [
        {
         "type": "bar",
         "x": [
          0,
          1,
          2,
          3,
          4,
          5,
          6,
          7,
          8,
          9,
          10,
          11,
          12,
          13,
          14,
          15,
          16,
          17,
          18,
          19,
          20,
          21,
          22,
          23,
          24,
          25,
          26,
          27,
          28,
          29
         ],
         "xaxis": "x",
         "y": [
          100,
          5,
          5,
          108,
          9,
          7,
          103,
          7,
          5,
          108,
          3,
          10,
          103,
          10,
          4,
          108,
          7,
          10,
          103,
          7,
          10,
          102,
          10,
          10,
          104,
          4,
          6,
          108,
          2,
          9
         ],
         "yaxis": "y"
        },
        {
         "type": "bar",
         "x": [
          0,
          1,
          2,
          3,
          4,
          5,
          6,
          7,
          8,
          9,
          10,
          11,
          12,
          13,
          14,
          15,
          16,
          17,
          18,
          19,
          20,
          21,
          22,
          23,
          24,
          25,
          26,
          27,
          28,
          29
         ],
         "xaxis": "x2",
         "y": [
          46,
          51,
          18,
          50,
          48,
          18,
          48,
          54,
          17,
          50,
          47,
          19,
          53,
          53,
          16,
          52,
          51,
          13,
          51,
          52,
          19,
          53,
          52,
          20,
          52,
          54,
          14,
          55,
          53,
          18
         ],
         "yaxis": "y2"
        },
        {
         "type": "bar",
         "x": [
          0,
          1,
          2,
          3,
          4,
          5,
          6,
          7,
          8,
          9,
          10,
          11,
          12,
          13,
          14,
          15,
          16,
          17,
          18,
          19,
          20,
          21,
          22,
          23,
          24,
          25,
          26,
          27,
          28,
          29
         ],
         "xaxis": "x3",
         "y": [
          51,
          112,
          91,
          86,
          101,
          50,
          53,
          99,
          97,
          58,
          87,
          109,
          39,
          102,
          83,
          49,
          46,
          44,
          65,
          106,
          95,
          95,
          54,
          96,
          106,
          80,
          54,
          79,
          77,
          55
         ],
         "yaxis": "y3"
        }
       ],
       "layout": {
        "annotations": [
         {
          "font": {
           "size": 16
          },
          "showarrow": false,
          "text": "Best",
          "x": 0.14444444444444446,
          "xanchor": "center",
          "xref": "paper",
          "y": 1,
          "yanchor": "bottom",
          "yref": "paper"
         },
         {
          "font": {
           "size": 16
          },
          "showarrow": false,
          "text": "Middle",
          "x": 0.5,
          "xanchor": "center",
          "xref": "paper",
          "y": 1,
          "yanchor": "bottom",
          "yref": "paper"
         },
         {
          "font": {
           "size": 16
          },
          "showarrow": false,
          "text": "Worst",
          "x": 0.8555555555555556,
          "xanchor": "center",
          "xref": "paper",
          "y": 1,
          "yanchor": "bottom",
          "yref": "paper"
         },
         {
          "text": "\n        Trips Score: 0.93\n        Fourier Score: 0.58\n        Info Score: 0.77\n        Dominance Score: 0.88\n        Autocorrelation Score: 0.9\n        ",
          "x": 0,
          "xanchor": "left",
          "xref": "x",
          "y": 2.2,
          "yanchor": "top",
          "yref": "y"
         },
         {
          "text": "\n        Trips Score: 0.01\n        Fourier Score: 0.14\n        Info Score: 0.29\n        Dominance Score: 0.43\n        Autocorrelation Score: 0.9\n        ",
          "x": 0,
          "xanchor": "left",
          "xref": "x2",
          "y": 3.3000000000000003,
          "yanchor": "top",
          "yref": "y2"
         },
         {
          "text": "\n        Trips Score: 0.1\n        Fourier Score: 0.08\n        Info Score: 0.07\n        Dominance Score: 0.37\n        Autocorrelation Score: 0.83\n        ",
          "x": 0,
          "xanchor": "left",
          "xref": "x3",
          "y": 4.4,
          "yanchor": "top",
          "yref": "y3"
         }
        ],
        "height": 600,
        "template": {
         "data": {
          "bar": [
           {
            "error_x": {
             "color": "#2a3f5f"
            },
            "error_y": {
             "color": "#2a3f5f"
            },
            "marker": {
             "line": {
              "color": "#E5ECF6",
              "width": 0.5
             },
             "pattern": {
              "fillmode": "overlay",
              "size": 10,
              "solidity": 0.2
             }
            },
            "type": "bar"
           }
          ],
          "barpolar": [
           {
            "marker": {
             "line": {
              "color": "#E5ECF6",
              "width": 0.5
             },
             "pattern": {
              "fillmode": "overlay",
              "size": 10,
              "solidity": 0.2
             }
            },
            "type": "barpolar"
           }
          ],
          "carpet": [
           {
            "aaxis": {
             "endlinecolor": "#2a3f5f",
             "gridcolor": "white",
             "linecolor": "white",
             "minorgridcolor": "white",
             "startlinecolor": "#2a3f5f"
            },
            "baxis": {
             "endlinecolor": "#2a3f5f",
             "gridcolor": "white",
             "linecolor": "white",
             "minorgridcolor": "white",
             "startlinecolor": "#2a3f5f"
            },
            "type": "carpet"
           }
          ],
          "choropleth": [
           {
            "colorbar": {
             "outlinewidth": 0,
             "ticks": ""
            },
            "type": "choropleth"
           }
          ],
          "contour": [
           {
            "colorbar": {
             "outlinewidth": 0,
             "ticks": ""
            },
            "colorscale": [
             [
              0,
              "#0d0887"
             ],
             [
              0.1111111111111111,
              "#46039f"
             ],
             [
              0.2222222222222222,
              "#7201a8"
             ],
             [
              0.3333333333333333,
              "#9c179e"
             ],
             [
              0.4444444444444444,
              "#bd3786"
             ],
             [
              0.5555555555555556,
              "#d8576b"
             ],
             [
              0.6666666666666666,
              "#ed7953"
             ],
             [
              0.7777777777777778,
              "#fb9f3a"
             ],
             [
              0.8888888888888888,
              "#fdca26"
             ],
             [
              1,
              "#f0f921"
             ]
            ],
            "type": "contour"
           }
          ],
          "contourcarpet": [
           {
            "colorbar": {
             "outlinewidth": 0,
             "ticks": ""
            },
            "type": "contourcarpet"
           }
          ],
          "heatmap": [
           {
            "colorbar": {
             "outlinewidth": 0,
             "ticks": ""
            },
            "colorscale": [
             [
              0,
              "#0d0887"
             ],
             [
              0.1111111111111111,
              "#46039f"
             ],
             [
              0.2222222222222222,
              "#7201a8"
             ],
             [
              0.3333333333333333,
              "#9c179e"
             ],
             [
              0.4444444444444444,
              "#bd3786"
             ],
             [
              0.5555555555555556,
              "#d8576b"
             ],
             [
              0.6666666666666666,
              "#ed7953"
             ],
             [
              0.7777777777777778,
              "#fb9f3a"
             ],
             [
              0.8888888888888888,
              "#fdca26"
             ],
             [
              1,
              "#f0f921"
             ]
            ],
            "type": "heatmap"
           }
          ],
          "heatmapgl": [
           {
            "colorbar": {
             "outlinewidth": 0,
             "ticks": ""
            },
            "colorscale": [
             [
              0,
              "#0d0887"
             ],
             [
              0.1111111111111111,
              "#46039f"
             ],
             [
              0.2222222222222222,
              "#7201a8"
             ],
             [
              0.3333333333333333,
              "#9c179e"
             ],
             [
              0.4444444444444444,
              "#bd3786"
             ],
             [
              0.5555555555555556,
              "#d8576b"
             ],
             [
              0.6666666666666666,
              "#ed7953"
             ],
             [
              0.7777777777777778,
              "#fb9f3a"
             ],
             [
              0.8888888888888888,
              "#fdca26"
             ],
             [
              1,
              "#f0f921"
             ]
            ],
            "type": "heatmapgl"
           }
          ],
          "histogram": [
           {
            "marker": {
             "pattern": {
              "fillmode": "overlay",
              "size": 10,
              "solidity": 0.2
             }
            },
            "type": "histogram"
           }
          ],
          "histogram2d": [
           {
            "colorbar": {
             "outlinewidth": 0,
             "ticks": ""
            },
            "colorscale": [
             [
              0,
              "#0d0887"
             ],
             [
              0.1111111111111111,
              "#46039f"
             ],
             [
              0.2222222222222222,
              "#7201a8"
             ],
             [
              0.3333333333333333,
              "#9c179e"
             ],
             [
              0.4444444444444444,
              "#bd3786"
             ],
             [
              0.5555555555555556,
              "#d8576b"
             ],
             [
              0.6666666666666666,
              "#ed7953"
             ],
             [
              0.7777777777777778,
              "#fb9f3a"
             ],
             [
              0.8888888888888888,
              "#fdca26"
             ],
             [
              1,
              "#f0f921"
             ]
            ],
            "type": "histogram2d"
           }
          ],
          "histogram2dcontour": [
           {
            "colorbar": {
             "outlinewidth": 0,
             "ticks": ""
            },
            "colorscale": [
             [
              0,
              "#0d0887"
             ],
             [
              0.1111111111111111,
              "#46039f"
             ],
             [
              0.2222222222222222,
              "#7201a8"
             ],
             [
              0.3333333333333333,
              "#9c179e"
             ],
             [
              0.4444444444444444,
              "#bd3786"
             ],
             [
              0.5555555555555556,
              "#d8576b"
             ],
             [
              0.6666666666666666,
              "#ed7953"
             ],
             [
              0.7777777777777778,
              "#fb9f3a"
             ],
             [
              0.8888888888888888,
              "#fdca26"
             ],
             [
              1,
              "#f0f921"
             ]
            ],
            "type": "histogram2dcontour"
           }
          ],
          "mesh3d": [
           {
            "colorbar": {
             "outlinewidth": 0,
             "ticks": ""
            },
            "type": "mesh3d"
           }
          ],
          "parcoords": [
           {
            "line": {
             "colorbar": {
              "outlinewidth": 0,
              "ticks": ""
             }
            },
            "type": "parcoords"
           }
          ],
          "pie": [
           {
            "automargin": true,
            "type": "pie"
           }
          ],
          "scatter": [
           {
            "fillpattern": {
             "fillmode": "overlay",
             "size": 10,
             "solidity": 0.2
            },
            "type": "scatter"
           }
          ],
          "scatter3d": [
           {
            "line": {
             "colorbar": {
              "outlinewidth": 0,
              "ticks": ""
             }
            },
            "marker": {
             "colorbar": {
              "outlinewidth": 0,
              "ticks": ""
             }
            },
            "type": "scatter3d"
           }
          ],
          "scattercarpet": [
           {
            "marker": {
             "colorbar": {
              "outlinewidth": 0,
              "ticks": ""
             }
            },
            "type": "scattercarpet"
           }
          ],
          "scattergeo": [
           {
            "marker": {
             "colorbar": {
              "outlinewidth": 0,
              "ticks": ""
             }
            },
            "type": "scattergeo"
           }
          ],
          "scattergl": [
           {
            "marker": {
             "colorbar": {
              "outlinewidth": 0,
              "ticks": ""
             }
            },
            "type": "scattergl"
           }
          ],
          "scattermapbox": [
           {
            "marker": {
             "colorbar": {
              "outlinewidth": 0,
              "ticks": ""
             }
            },
            "type": "scattermapbox"
           }
          ],
          "scatterpolar": [
           {
            "marker": {
             "colorbar": {
              "outlinewidth": 0,
              "ticks": ""
             }
            },
            "type": "scatterpolar"
           }
          ],
          "scatterpolargl": [
           {
            "marker": {
             "colorbar": {
              "outlinewidth": 0,
              "ticks": ""
             }
            },
            "type": "scatterpolargl"
           }
          ],
          "scatterternary": [
           {
            "marker": {
             "colorbar": {
              "outlinewidth": 0,
              "ticks": ""
             }
            },
            "type": "scatterternary"
           }
          ],
          "surface": [
           {
            "colorbar": {
             "outlinewidth": 0,
             "ticks": ""
            },
            "colorscale": [
             [
              0,
              "#0d0887"
             ],
             [
              0.1111111111111111,
              "#46039f"
             ],
             [
              0.2222222222222222,
              "#7201a8"
             ],
             [
              0.3333333333333333,
              "#9c179e"
             ],
             [
              0.4444444444444444,
              "#bd3786"
             ],
             [
              0.5555555555555556,
              "#d8576b"
             ],
             [
              0.6666666666666666,
              "#ed7953"
             ],
             [
              0.7777777777777778,
              "#fb9f3a"
             ],
             [
              0.8888888888888888,
              "#fdca26"
             ],
             [
              1,
              "#f0f921"
             ]
            ],
            "type": "surface"
           }
          ],
          "table": [
           {
            "cells": {
             "fill": {
              "color": "#EBF0F8"
             },
             "line": {
              "color": "white"
             }
            },
            "header": {
             "fill": {
              "color": "#C8D4E3"
             },
             "line": {
              "color": "white"
             }
            },
            "type": "table"
           }
          ]
         },
         "layout": {
          "annotationdefaults": {
           "arrowcolor": "#2a3f5f",
           "arrowhead": 0,
           "arrowwidth": 1
          },
          "autotypenumbers": "strict",
          "coloraxis": {
           "colorbar": {
            "outlinewidth": 0,
            "ticks": ""
           }
          },
          "colorscale": {
           "diverging": [
            [
             0,
             "#8e0152"
            ],
            [
             0.1,
             "#c51b7d"
            ],
            [
             0.2,
             "#de77ae"
            ],
            [
             0.3,
             "#f1b6da"
            ],
            [
             0.4,
             "#fde0ef"
            ],
            [
             0.5,
             "#f7f7f7"
            ],
            [
             0.6,
             "#e6f5d0"
            ],
            [
             0.7,
             "#b8e186"
            ],
            [
             0.8,
             "#7fbc41"
            ],
            [
             0.9,
             "#4d9221"
            ],
            [
             1,
             "#276419"
            ]
           ],
           "sequential": [
            [
             0,
             "#0d0887"
            ],
            [
             0.1111111111111111,
             "#46039f"
            ],
            [
             0.2222222222222222,
             "#7201a8"
            ],
            [
             0.3333333333333333,
             "#9c179e"
            ],
            [
             0.4444444444444444,
             "#bd3786"
            ],
            [
             0.5555555555555556,
             "#d8576b"
            ],
            [
             0.6666666666666666,
             "#ed7953"
            ],
            [
             0.7777777777777778,
             "#fb9f3a"
            ],
            [
             0.8888888888888888,
             "#fdca26"
            ],
            [
             1,
             "#f0f921"
            ]
           ],
           "sequentialminus": [
            [
             0,
             "#0d0887"
            ],
            [
             0.1111111111111111,
             "#46039f"
            ],
            [
             0.2222222222222222,
             "#7201a8"
            ],
            [
             0.3333333333333333,
             "#9c179e"
            ],
            [
             0.4444444444444444,
             "#bd3786"
            ],
            [
             0.5555555555555556,
             "#d8576b"
            ],
            [
             0.6666666666666666,
             "#ed7953"
            ],
            [
             0.7777777777777778,
             "#fb9f3a"
            ],
            [
             0.8888888888888888,
             "#fdca26"
            ],
            [
             1,
             "#f0f921"
            ]
           ]
          },
          "colorway": [
           "#636efa",
           "#EF553B",
           "#00cc96",
           "#ab63fa",
           "#FFA15A",
           "#19d3f3",
           "#FF6692",
           "#B6E880",
           "#FF97FF",
           "#FECB52"
          ],
          "font": {
           "color": "#2a3f5f"
          },
          "geo": {
           "bgcolor": "white",
           "lakecolor": "white",
           "landcolor": "#E5ECF6",
           "showlakes": true,
           "showland": true,
           "subunitcolor": "white"
          },
          "hoverlabel": {
           "align": "left"
          },
          "hovermode": "closest",
          "mapbox": {
           "style": "light"
          },
          "paper_bgcolor": "white",
          "plot_bgcolor": "#E5ECF6",
          "polar": {
           "angularaxis": {
            "gridcolor": "white",
            "linecolor": "white",
            "ticks": ""
           },
           "bgcolor": "#E5ECF6",
           "radialaxis": {
            "gridcolor": "white",
            "linecolor": "white",
            "ticks": ""
           }
          },
          "scene": {
           "xaxis": {
            "backgroundcolor": "#E5ECF6",
            "gridcolor": "white",
            "gridwidth": 2,
            "linecolor": "white",
            "showbackground": true,
            "ticks": "",
            "zerolinecolor": "white"
           },
           "yaxis": {
            "backgroundcolor": "#E5ECF6",
            "gridcolor": "white",
            "gridwidth": 2,
            "linecolor": "white",
            "showbackground": true,
            "ticks": "",
            "zerolinecolor": "white"
           },
           "zaxis": {
            "backgroundcolor": "#E5ECF6",
            "gridcolor": "white",
            "gridwidth": 2,
            "linecolor": "white",
            "showbackground": true,
            "ticks": "",
            "zerolinecolor": "white"
           }
          },
          "shapedefaults": {
           "line": {
            "color": "#2a3f5f"
           }
          },
          "ternary": {
           "aaxis": {
            "gridcolor": "white",
            "linecolor": "white",
            "ticks": ""
           },
           "baxis": {
            "gridcolor": "white",
            "linecolor": "white",
            "ticks": ""
           },
           "bgcolor": "#E5ECF6",
           "caxis": {
            "gridcolor": "white",
            "linecolor": "white",
            "ticks": ""
           }
          },
          "title": {
           "x": 0.05
          },
          "xaxis": {
           "automargin": true,
           "gridcolor": "white",
           "linecolor": "white",
           "ticks": "",
           "title": {
            "standoff": 15
           },
           "zerolinecolor": "white",
           "zerolinewidth": 2
          },
          "yaxis": {
           "automargin": true,
           "gridcolor": "white",
           "linecolor": "white",
           "ticks": "",
           "title": {
            "standoff": 15
           },
           "zerolinecolor": "white",
           "zerolinewidth": 2
          }
         }
        },
        "title": {
         "text": "Periodic Metagenes"
        },
        "xaxis": {
         "anchor": "y",
         "domain": [
          0,
          0.2888888888888889
         ],
         "title": {
          "text": "Position"
         }
        },
        "xaxis2": {
         "anchor": "y2",
         "domain": [
          0.35555555555555557,
          0.6444444444444445
         ],
         "title": {
          "text": "Position"
         }
        },
        "xaxis3": {
         "anchor": "y3",
         "domain": [
          0.7111111111111111,
          1
         ],
         "title": {
          "text": "Position"
         }
        },
        "yaxis": {
         "anchor": "x",
         "domain": [
          0,
          1
         ],
         "title": {
          "text": "Count"
         }
        },
        "yaxis2": {
         "anchor": "x2",
         "domain": [
          0,
          1
         ],
         "title": {
          "text": "Count"
         }
        },
        "yaxis3": {
         "anchor": "x3",
         "domain": [
          0,
          1
         ],
         "title": {
          "text": "Count"
         }
        }
       }
      }
     },
     "metadata": {},
     "output_type": "display_data"
    }
   ],
   "source": [
    "import plotly.graph_objects as go\n",
    "from plotly.subplots import make_subplots\n",
    "y = 1.1\n",
    "# Create a figure with three subplots\n",
    "fig = make_subplots(rows=1, cols=3, subplot_titles=('Best', 'Middle', 'Worst'), vertical_spacing=0.2)\n",
    "\n",
    "# Plot each metagene in a separate subplot\n",
    "for i, (metagene_name, metagene) in enumerate(example_metagenes.items(), start=1):\n",
    "    read_frame_dict = {0: 0, 1: 0, 2: 0}\n",
    "    for pos, count in metagene.items():\n",
    "        frame = pos % 3\n",
    "        read_frame_dict[frame] += count\n",
    "\n",
    "    positions = list(metagene.keys())\n",
    "    counts = list(metagene.values())\n",
    "    trips_score = round(read_frame_score_trips_viz({1: read_frame_dict})[1], 2)\n",
    "    fourier_score = round(fourier_transform({\"start\": {1: metagene}}, read_lengths=[1])[1], 2)\n",
    "    info_score = round(read_frame_information_content({1: read_frame_dict})[1][0], 2)\n",
    "    dominance_score = round(periodicity_dominance({1: read_frame_dict})[1], 2)\n",
    "    autocorelation_score = round(periodicity_autocorrelation({\"start\": {1: metagene}}, 3)[1], 2)\n",
    "\n",
    "    # rank scores \n",
    "\n",
    "    trace = go.Bar(x=positions, y=counts)\n",
    "    fig.add_trace(trace, row=1, col=i)\n",
    "    y += 1.1\n",
    "    # Add annotations for the scores\n",
    "    fig.add_annotation(\n",
    "        x=0, y=y, text=f\"\"\"\n",
    "        Trips Score: {trips_score}\n",
    "        Fourier Score: {fourier_score}\n",
    "        Info Score: {info_score}\n",
    "        Dominance Score: {dominance_score}\n",
    "        Autocorrelation Score: {autocorelation_score}\n",
    "        \"\"\", xref=\"paper\", yref=\"paper\", xanchor=\"left\", yanchor=\"top\", row=1, col=i\n",
    "    )\n",
    "\n",
    "\n",
    "# Set the axis labels\n",
    "fig.update_xaxes(title_text='Position')\n",
    "fig.update_yaxes(title_text='Count')\n",
    "\n",
    "# Set the overall title\n",
    "fig.update_layout(title='Periodic Metagenes', height=600)\n",
    "\n",
    "# Show the plot\n",
    "fig.show()"
   ]
  }
 ],
 "metadata": {
  "kernelspec": {
   "display_name": "Python 3",
   "language": "python",
   "name": "python3"
  },
  "language_info": {
   "codemirror_mode": {
    "name": "ipython",
    "version": 3
   },
   "file_extension": ".py",
   "mimetype": "text/x-python",
   "name": "python",
   "nbconvert_exporter": "python",
   "pygments_lexer": "ipython3",
   "version": "3.10.12"
  }
 },
 "nbformat": 4,
 "nbformat_minor": 2
}
