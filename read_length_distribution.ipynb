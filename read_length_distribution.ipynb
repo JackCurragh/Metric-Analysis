{
 "cells": [
  {
   "cell_type": "markdown",
   "metadata": {},
   "source": [
    "# Read Length Distribution"
   ]
  },
  {
   "cell_type": "code",
   "execution_count": null,
   "metadata": {},
   "outputs": [],
   "source": []
  },
  {
   "cell_type": "markdown",
   "metadata": {},
   "source": [
    "## Setup\n"
   ]
  },
  {
   "cell_type": "code",
   "execution_count": null,
   "metadata": {},
   "outputs": [],
   "source": [
    "\n",
    "import itertools\n",
    "import numpy as np\n"
   ]
  },
  {
   "cell_type": "markdown",
   "metadata": {},
   "source": [
    "## Simulated Inputs\n"
   ]
  },
  {
   "cell_type": "code",
   "execution_count": 10,
   "metadata": {},
   "outputs": [],
   "source": [
    "import numpy as np\n",
    "\n",
    "def simulate_read_lengths(n_samples, params, min_length=18, max_length=35):\n",
    "    \"\"\"\n",
    "    Simulate read length distributions using a mixture of normal distributions.\n",
    "\n",
    "    Args:\n",
    "        n_samples (int): Number of read lengths to simulate.\n",
    "        params (list): List of tuples (mean, std, weight) for each component distribution.\n",
    "        min_length (int): Minimum read length (inclusive).\n",
    "        max_length (int): Maximum read length (inclusive).\n",
    "\n",
    "    Returns:\n",
    "        np.ndarray: Array of simulated read lengths.\n",
    "    \"\"\"\n",
    "    probs = [compute_mixture_density(length, params) for length in range(min_length, max_length + 1)]\n",
    "    probs_sum = sum(probs)\n",
    "    probs = [p / probs_sum for p in probs]  # Normalize probabilities\n",
    "\n",
    "    read_lengths = np.random.choice(\n",
    "        np.arange(min_length, max_length + 1),\n",
    "        size=n_samples,\n",
    "        p=probs\n",
    "    )\n",
    "    return read_lengths\n",
    "\n",
    "def compute_mixture_density(x, params):\n",
    "    \"\"\"\n",
    "    Compute the density of a mixture of normal distributions at a given point x.\n",
    "\n",
    "    Args:\n",
    "        x (float): Point at which to compute the density.\n",
    "        params (list): List of tuples (mean, std, weight) for each component distribution.\n",
    "\n",
    "    Returns:\n",
    "        float: Density of the mixture distribution at x.\n",
    "    \"\"\"\n",
    "    density = 0\n",
    "    for mean, std, weight in params:\n",
    "        density += weight * np.exp(-(x - mean)**2 / (2 * std**2)) / (np.sqrt(2 * np.pi) * std)\n",
    "    return density\n",
    "\n",
    "# Example usage\n",
    "n_samples = 10000\n",
    "params = [\n",
    "    (22, 2, 0.3),   # Unimodal component\n",
    "    (26, 1, 0.4),   # Unimodal component\n",
    "    (30, 3, 0.3)    # Bimodal component\n",
    "]\n",
    "\n",
    "read_lengths = simulate_read_lengths(n_samples, params)"
   ]
  },
  {
   "cell_type": "code",
   "execution_count": 14,
   "metadata": {},
   "outputs": [],
   "source": [
    "import numpy as np\n",
    "\n",
    "def simulate_normal_distributions(n_samples, n_distributions, min_length=18, max_length=35):\n",
    "    \"\"\"\n",
    "    Simulate normally distributed read length distributions with varying standard deviations.\n",
    "\n",
    "    Args:\n",
    "        n_samples (int): Number of read lengths to simulate per distribution.\n",
    "        n_distributions (int): Number of distributions to simulate.\n",
    "        min_length (int): Minimum read length (inclusive).\n",
    "        max_length (int): Maximum read length (inclusive).\n",
    "\n",
    "    Returns:\n",
    "        list: List of arrays, each containing simulated read lengths for one distribution.\n",
    "    \"\"\"\n",
    "    distributions = []\n",
    "    for _ in range(n_distributions):\n",
    "        mean = np.random.randint(min_length, max_length)\n",
    "        std_dev = np.random.uniform(1, 5)\n",
    "        read_lengths = np.random.normal(loc=mean, scale=std_dev, size=n_samples)\n",
    "        read_lengths = np.clip(read_lengths, min_length, max_length).astype(int)\n",
    "        distributions.append(read_lengths)\n",
    "    return distributions\n",
    "\n",
    "# Example usage\n",
    "n_samples = 1000\n",
    "n_normal_distributions = 100\n",
    "normal_distributions = simulate_normal_distributions(n_samples, n_normal_distributions)\n"
   ]
  },
  {
   "cell_type": "code",
   "execution_count": 19,
   "metadata": {},
   "outputs": [
    {
     "data": {
      "application/vnd.plotly.v1+json": {
       "config": {
        "plotlyServerURL": "https://plot.ly"
       },
       "data": [
        {
         "histnorm": "probability",
         "type": "histogram",
         "x": [
          28,
          31,
          31,
          35,
          34,
          22,
          35,
          28,
          31,
          24,
          32,
          35,
          25,
          29,
          26,
          31,
          35,
          29,
          33,
          35,
          27,
          24,
          28,
          35,
          29,
          35,
          35,
          24,
          31,
          35,
          33,
          27,
          33,
          35,
          32,
          25,
          28,
          25,
          34,
          27,
          23,
          28,
          33,
          30,
          35,
          27,
          33,
          32,
          32,
          34,
          20,
          31,
          27,
          34,
          35,
          33,
          27,
          35,
          35,
          25,
          25,
          25,
          34,
          33,
          35,
          34,
          29,
          28,
          35,
          35,
          32,
          31,
          27,
          32,
          33,
          22,
          35,
          33,
          29,
          30,
          34,
          26,
          35,
          34,
          35,
          33,
          33,
          29,
          30,
          27,
          32,
          32,
          32,
          32,
          25,
          26,
          35,
          35,
          25,
          28,
          30,
          27,
          35,
          27,
          27,
          33,
          35,
          23,
          35,
          31,
          30,
          31,
          33,
          32,
          35,
          34,
          35,
          25,
          31,
          25,
          32,
          32,
          27,
          31,
          29,
          35,
          35,
          29,
          35,
          35,
          30,
          35,
          35,
          33,
          35,
          35,
          25,
          23,
          32,
          29,
          35,
          34,
          29,
          30,
          35,
          34,
          22,
          25,
          31,
          35,
          33,
          35,
          31,
          35,
          32,
          29,
          35,
          30,
          31,
          35,
          29,
          34,
          23,
          35,
          31,
          34,
          28,
          35,
          35,
          26,
          35,
          35,
          29,
          27,
          35,
          34,
          29,
          27,
          33,
          35,
          32,
          33,
          35,
          25,
          30,
          33,
          35,
          35,
          29,
          31,
          29,
          23,
          23,
          33,
          33,
          35,
          35,
          34,
          28,
          33,
          32,
          32,
          29,
          29,
          35,
          34,
          35,
          31,
          35,
          30,
          28,
          30,
          31,
          35,
          32,
          31,
          33,
          26,
          27,
          35,
          26,
          35,
          30,
          29,
          29,
          27,
          31,
          32,
          35,
          34,
          27,
          35,
          27,
          35,
          33,
          26,
          35,
          35,
          31,
          35,
          31,
          35,
          30,
          35,
          35,
          32,
          25,
          33,
          31,
          35,
          33,
          32,
          30,
          19,
          30,
          35,
          27,
          35,
          31,
          30,
          35,
          27,
          33,
          30,
          35,
          35,
          28,
          28,
          31,
          35,
          34,
          30,
          28,
          29,
          35,
          29,
          29,
          35,
          33,
          35,
          29,
          27,
          34,
          35,
          28,
          28,
          35,
          34,
          30,
          31,
          35,
          35,
          21,
          22,
          32,
          35,
          35,
          32,
          35,
          35,
          30,
          35,
          35,
          35,
          27,
          23,
          33,
          35,
          29,
          26,
          29,
          31,
          29,
          34,
          32,
          32,
          35,
          35,
          35,
          25,
          33,
          26,
          31,
          32,
          35,
          24,
          33,
          32,
          35,
          35,
          28,
          32,
          20,
          33,
          27,
          35,
          35,
          32,
          26,
          35,
          33,
          35,
          31,
          31,
          35,
          33,
          29,
          27,
          35,
          25,
          35,
          27,
          35,
          30,
          35,
          30,
          32,
          34,
          35,
          26,
          35,
          34,
          33,
          33,
          32,
          34,
          25,
          32,
          27,
          35,
          28,
          33,
          27,
          28,
          24,
          34,
          29,
          31,
          27,
          32,
          29,
          32,
          27,
          29,
          35,
          27,
          26,
          32,
          20,
          32,
          30,
          34,
          26,
          32,
          29,
          28,
          35,
          30,
          35,
          28,
          34,
          33,
          33,
          29,
          33,
          35,
          32,
          28,
          35,
          24,
          33,
          34,
          26,
          27,
          26,
          23,
          33,
          34,
          30,
          35,
          33,
          35,
          29,
          35,
          26,
          34,
          35,
          29,
          35,
          26,
          31,
          29,
          32,
          30,
          26,
          33,
          29,
          29,
          35,
          32,
          27,
          24,
          32,
          29,
          35,
          34,
          28,
          26,
          33,
          35,
          31,
          35,
          33,
          28,
          29,
          30,
          31,
          35,
          30,
          30,
          33,
          26,
          31,
          30,
          31,
          35,
          33,
          26,
          31,
          34,
          35,
          34,
          32,
          35,
          26,
          30,
          34,
          30,
          35,
          34,
          35,
          31,
          35,
          34,
          35,
          28,
          34,
          34,
          28,
          26,
          33,
          35,
          31,
          29,
          29,
          32,
          35,
          24,
          28,
          35,
          31,
          31,
          33,
          35,
          25,
          27,
          32,
          30,
          35,
          32,
          35,
          31,
          29,
          27,
          29,
          25,
          31,
          32,
          28,
          29,
          32,
          28,
          31,
          35,
          30,
          34,
          32,
          25,
          33,
          21,
          35,
          32,
          35,
          35,
          35,
          35,
          32,
          32,
          33,
          28,
          32,
          33,
          21,
          33,
          23,
          26,
          26,
          30,
          29,
          33,
          33,
          34,
          35,
          32,
          33,
          31,
          35,
          25,
          31,
          33,
          35,
          35,
          35,
          31,
          28,
          34,
          30,
          31,
          35,
          18,
          33,
          27,
          33,
          33,
          29,
          35,
          35,
          25,
          32,
          33,
          27,
          31,
          35,
          26,
          30,
          31,
          35,
          32,
          32,
          26,
          35,
          24,
          33,
          25,
          28,
          35,
          33,
          34,
          35,
          29,
          27,
          35,
          35,
          30,
          30,
          32,
          35,
          34,
          35,
          31,
          30,
          30,
          32,
          33,
          27,
          30,
          34,
          35,
          35,
          35,
          33,
          33,
          35,
          22,
          35,
          35,
          34,
          28,
          32,
          29,
          27,
          28,
          33,
          33,
          30,
          32,
          34,
          25,
          31,
          32,
          32,
          24,
          35,
          30,
          28,
          34,
          32,
          35,
          33,
          35,
          29,
          32,
          35,
          28,
          35,
          34,
          35,
          29,
          34,
          35,
          30,
          28,
          33,
          31,
          31,
          30,
          31,
          29,
          35,
          33,
          35,
          25,
          26,
          35,
          35,
          32,
          27,
          35,
          29,
          33,
          31,
          31,
          29,
          33,
          31,
          29,
          27,
          30,
          27,
          35,
          28,
          25,
          35,
          35,
          23,
          25,
          31,
          27,
          35,
          31,
          34,
          35,
          29,
          35,
          30,
          31,
          31,
          34,
          28,
          29,
          27,
          26,
          35,
          35,
          35,
          25,
          35,
          35,
          32,
          25,
          32,
          33,
          33,
          31,
          32,
          21,
          31,
          33,
          31,
          33,
          34,
          28,
          27,
          33,
          24,
          31,
          28,
          25,
          35,
          26,
          35,
          28,
          35,
          35,
          23,
          32,
          29,
          28,
          28,
          35,
          28,
          28,
          34,
          33,
          27,
          30,
          35,
          35,
          30,
          33,
          29,
          34,
          35,
          35,
          31,
          27,
          25,
          35,
          35,
          35,
          31,
          27,
          28,
          27,
          35,
          35,
          34,
          35,
          33,
          35,
          30,
          31,
          34,
          31,
          34,
          31,
          27,
          29,
          35,
          35,
          35,
          35,
          27,
          33,
          24,
          33,
          34,
          23,
          34,
          31,
          20,
          35,
          31,
          35,
          25,
          33,
          32,
          29,
          33,
          35,
          35,
          33,
          26,
          34,
          33,
          31,
          30,
          35,
          33,
          28,
          35,
          35,
          35,
          26,
          35,
          30,
          30,
          23,
          34,
          28,
          22,
          29,
          35,
          32,
          23,
          34,
          31,
          35,
          31,
          32,
          35,
          33,
          32,
          31,
          32,
          31,
          25,
          27,
          29,
          29,
          35,
          35,
          33,
          30,
          26,
          34,
          30,
          30,
          31,
          29,
          33,
          35,
          31,
          33,
          31,
          29,
          35,
          26,
          22,
          24,
          25,
          32,
          27,
          35,
          31,
          29,
          29,
          27,
          25,
          32,
          23,
          31,
          32,
          35,
          35,
          35,
          29,
          32,
          29,
          34,
          35,
          28,
          31,
          30,
          27,
          32,
          35,
          34,
          29,
          30,
          35,
          21,
          35,
          25,
          25,
          32,
          35,
          35,
          29,
          35,
          29,
          35,
          35,
          31,
          32,
          34,
          35,
          35,
          24,
          22,
          33,
          34,
          32,
          28,
          31,
          33,
          33,
          33,
          34,
          32,
          26,
          31,
          35,
          32,
          32,
          25,
          29,
          32,
          31,
          29,
          35,
          28,
          28,
          28,
          26,
          31,
          22,
          32,
          35,
          29,
          34,
          31,
          33,
          35,
          35,
          28,
          35,
          31,
          28,
          30,
          32,
          35,
          29,
          27,
          26,
          35,
          31,
          34,
          35,
          35,
          32,
          32,
          34,
          30,
          29,
          32,
          27,
          33,
          32,
          33,
          35,
          31,
          32,
          31,
          33,
          35,
          31,
          27,
          29,
          29,
          30,
          28,
          33,
          28,
          31,
          32,
          35,
          28,
          27,
          32
         ]
        }
       ],
       "layout": {
        "barmode": "overlay",
        "template": {
         "data": {
          "bar": [
           {
            "error_x": {
             "color": "#f2f5fa"
            },
            "error_y": {
             "color": "#f2f5fa"
            },
            "marker": {
             "line": {
              "color": "rgb(17,17,17)",
              "width": 0.5
             },
             "pattern": {
              "fillmode": "overlay",
              "size": 10,
              "solidity": 0.2
             }
            },
            "type": "bar"
           }
          ],
          "barpolar": [
           {
            "marker": {
             "line": {
              "color": "rgb(17,17,17)",
              "width": 0.5
             },
             "pattern": {
              "fillmode": "overlay",
              "size": 10,
              "solidity": 0.2
             }
            },
            "type": "barpolar"
           }
          ],
          "carpet": [
           {
            "aaxis": {
             "endlinecolor": "#A2B1C6",
             "gridcolor": "#506784",
             "linecolor": "#506784",
             "minorgridcolor": "#506784",
             "startlinecolor": "#A2B1C6"
            },
            "baxis": {
             "endlinecolor": "#A2B1C6",
             "gridcolor": "#506784",
             "linecolor": "#506784",
             "minorgridcolor": "#506784",
             "startlinecolor": "#A2B1C6"
            },
            "type": "carpet"
           }
          ],
          "choropleth": [
           {
            "colorbar": {
             "outlinewidth": 0,
             "ticks": ""
            },
            "type": "choropleth"
           }
          ],
          "contour": [
           {
            "colorbar": {
             "outlinewidth": 0,
             "ticks": ""
            },
            "colorscale": [
             [
              0,
              "#0d0887"
             ],
             [
              0.1111111111111111,
              "#46039f"
             ],
             [
              0.2222222222222222,
              "#7201a8"
             ],
             [
              0.3333333333333333,
              "#9c179e"
             ],
             [
              0.4444444444444444,
              "#bd3786"
             ],
             [
              0.5555555555555556,
              "#d8576b"
             ],
             [
              0.6666666666666666,
              "#ed7953"
             ],
             [
              0.7777777777777778,
              "#fb9f3a"
             ],
             [
              0.8888888888888888,
              "#fdca26"
             ],
             [
              1,
              "#f0f921"
             ]
            ],
            "type": "contour"
           }
          ],
          "contourcarpet": [
           {
            "colorbar": {
             "outlinewidth": 0,
             "ticks": ""
            },
            "type": "contourcarpet"
           }
          ],
          "heatmap": [
           {
            "colorbar": {
             "outlinewidth": 0,
             "ticks": ""
            },
            "colorscale": [
             [
              0,
              "#0d0887"
             ],
             [
              0.1111111111111111,
              "#46039f"
             ],
             [
              0.2222222222222222,
              "#7201a8"
             ],
             [
              0.3333333333333333,
              "#9c179e"
             ],
             [
              0.4444444444444444,
              "#bd3786"
             ],
             [
              0.5555555555555556,
              "#d8576b"
             ],
             [
              0.6666666666666666,
              "#ed7953"
             ],
             [
              0.7777777777777778,
              "#fb9f3a"
             ],
             [
              0.8888888888888888,
              "#fdca26"
             ],
             [
              1,
              "#f0f921"
             ]
            ],
            "type": "heatmap"
           }
          ],
          "heatmapgl": [
           {
            "colorbar": {
             "outlinewidth": 0,
             "ticks": ""
            },
            "colorscale": [
             [
              0,
              "#0d0887"
             ],
             [
              0.1111111111111111,
              "#46039f"
             ],
             [
              0.2222222222222222,
              "#7201a8"
             ],
             [
              0.3333333333333333,
              "#9c179e"
             ],
             [
              0.4444444444444444,
              "#bd3786"
             ],
             [
              0.5555555555555556,
              "#d8576b"
             ],
             [
              0.6666666666666666,
              "#ed7953"
             ],
             [
              0.7777777777777778,
              "#fb9f3a"
             ],
             [
              0.8888888888888888,
              "#fdca26"
             ],
             [
              1,
              "#f0f921"
             ]
            ],
            "type": "heatmapgl"
           }
          ],
          "histogram": [
           {
            "marker": {
             "pattern": {
              "fillmode": "overlay",
              "size": 10,
              "solidity": 0.2
             }
            },
            "type": "histogram"
           }
          ],
          "histogram2d": [
           {
            "colorbar": {
             "outlinewidth": 0,
             "ticks": ""
            },
            "colorscale": [
             [
              0,
              "#0d0887"
             ],
             [
              0.1111111111111111,
              "#46039f"
             ],
             [
              0.2222222222222222,
              "#7201a8"
             ],
             [
              0.3333333333333333,
              "#9c179e"
             ],
             [
              0.4444444444444444,
              "#bd3786"
             ],
             [
              0.5555555555555556,
              "#d8576b"
             ],
             [
              0.6666666666666666,
              "#ed7953"
             ],
             [
              0.7777777777777778,
              "#fb9f3a"
             ],
             [
              0.8888888888888888,
              "#fdca26"
             ],
             [
              1,
              "#f0f921"
             ]
            ],
            "type": "histogram2d"
           }
          ],
          "histogram2dcontour": [
           {
            "colorbar": {
             "outlinewidth": 0,
             "ticks": ""
            },
            "colorscale": [
             [
              0,
              "#0d0887"
             ],
             [
              0.1111111111111111,
              "#46039f"
             ],
             [
              0.2222222222222222,
              "#7201a8"
             ],
             [
              0.3333333333333333,
              "#9c179e"
             ],
             [
              0.4444444444444444,
              "#bd3786"
             ],
             [
              0.5555555555555556,
              "#d8576b"
             ],
             [
              0.6666666666666666,
              "#ed7953"
             ],
             [
              0.7777777777777778,
              "#fb9f3a"
             ],
             [
              0.8888888888888888,
              "#fdca26"
             ],
             [
              1,
              "#f0f921"
             ]
            ],
            "type": "histogram2dcontour"
           }
          ],
          "mesh3d": [
           {
            "colorbar": {
             "outlinewidth": 0,
             "ticks": ""
            },
            "type": "mesh3d"
           }
          ],
          "parcoords": [
           {
            "line": {
             "colorbar": {
              "outlinewidth": 0,
              "ticks": ""
             }
            },
            "type": "parcoords"
           }
          ],
          "pie": [
           {
            "automargin": true,
            "type": "pie"
           }
          ],
          "scatter": [
           {
            "marker": {
             "line": {
              "color": "#283442"
             }
            },
            "type": "scatter"
           }
          ],
          "scatter3d": [
           {
            "line": {
             "colorbar": {
              "outlinewidth": 0,
              "ticks": ""
             }
            },
            "marker": {
             "colorbar": {
              "outlinewidth": 0,
              "ticks": ""
             }
            },
            "type": "scatter3d"
           }
          ],
          "scattercarpet": [
           {
            "marker": {
             "colorbar": {
              "outlinewidth": 0,
              "ticks": ""
             }
            },
            "type": "scattercarpet"
           }
          ],
          "scattergeo": [
           {
            "marker": {
             "colorbar": {
              "outlinewidth": 0,
              "ticks": ""
             }
            },
            "type": "scattergeo"
           }
          ],
          "scattergl": [
           {
            "marker": {
             "line": {
              "color": "#283442"
             }
            },
            "type": "scattergl"
           }
          ],
          "scattermapbox": [
           {
            "marker": {
             "colorbar": {
              "outlinewidth": 0,
              "ticks": ""
             }
            },
            "type": "scattermapbox"
           }
          ],
          "scatterpolar": [
           {
            "marker": {
             "colorbar": {
              "outlinewidth": 0,
              "ticks": ""
             }
            },
            "type": "scatterpolar"
           }
          ],
          "scatterpolargl": [
           {
            "marker": {
             "colorbar": {
              "outlinewidth": 0,
              "ticks": ""
             }
            },
            "type": "scatterpolargl"
           }
          ],
          "scatterternary": [
           {
            "marker": {
             "colorbar": {
              "outlinewidth": 0,
              "ticks": ""
             }
            },
            "type": "scatterternary"
           }
          ],
          "surface": [
           {
            "colorbar": {
             "outlinewidth": 0,
             "ticks": ""
            },
            "colorscale": [
             [
              0,
              "#0d0887"
             ],
             [
              0.1111111111111111,
              "#46039f"
             ],
             [
              0.2222222222222222,
              "#7201a8"
             ],
             [
              0.3333333333333333,
              "#9c179e"
             ],
             [
              0.4444444444444444,
              "#bd3786"
             ],
             [
              0.5555555555555556,
              "#d8576b"
             ],
             [
              0.6666666666666666,
              "#ed7953"
             ],
             [
              0.7777777777777778,
              "#fb9f3a"
             ],
             [
              0.8888888888888888,
              "#fdca26"
             ],
             [
              1,
              "#f0f921"
             ]
            ],
            "type": "surface"
           }
          ],
          "table": [
           {
            "cells": {
             "fill": {
              "color": "#506784"
             },
             "line": {
              "color": "rgb(17,17,17)"
             }
            },
            "header": {
             "fill": {
              "color": "#2a3f5f"
             },
             "line": {
              "color": "rgb(17,17,17)"
             }
            },
            "type": "table"
           }
          ]
         },
         "layout": {
          "annotationdefaults": {
           "arrowcolor": "#f2f5fa",
           "arrowhead": 0,
           "arrowwidth": 1
          },
          "autotypenumbers": "strict",
          "coloraxis": {
           "colorbar": {
            "outlinewidth": 0,
            "ticks": ""
           }
          },
          "colorscale": {
           "diverging": [
            [
             0,
             "#8e0152"
            ],
            [
             0.1,
             "#c51b7d"
            ],
            [
             0.2,
             "#de77ae"
            ],
            [
             0.3,
             "#f1b6da"
            ],
            [
             0.4,
             "#fde0ef"
            ],
            [
             0.5,
             "#f7f7f7"
            ],
            [
             0.6,
             "#e6f5d0"
            ],
            [
             0.7,
             "#b8e186"
            ],
            [
             0.8,
             "#7fbc41"
            ],
            [
             0.9,
             "#4d9221"
            ],
            [
             1,
             "#276419"
            ]
           ],
           "sequential": [
            [
             0,
             "#0d0887"
            ],
            [
             0.1111111111111111,
             "#46039f"
            ],
            [
             0.2222222222222222,
             "#7201a8"
            ],
            [
             0.3333333333333333,
             "#9c179e"
            ],
            [
             0.4444444444444444,
             "#bd3786"
            ],
            [
             0.5555555555555556,
             "#d8576b"
            ],
            [
             0.6666666666666666,
             "#ed7953"
            ],
            [
             0.7777777777777778,
             "#fb9f3a"
            ],
            [
             0.8888888888888888,
             "#fdca26"
            ],
            [
             1,
             "#f0f921"
            ]
           ],
           "sequentialminus": [
            [
             0,
             "#0d0887"
            ],
            [
             0.1111111111111111,
             "#46039f"
            ],
            [
             0.2222222222222222,
             "#7201a8"
            ],
            [
             0.3333333333333333,
             "#9c179e"
            ],
            [
             0.4444444444444444,
             "#bd3786"
            ],
            [
             0.5555555555555556,
             "#d8576b"
            ],
            [
             0.6666666666666666,
             "#ed7953"
            ],
            [
             0.7777777777777778,
             "#fb9f3a"
            ],
            [
             0.8888888888888888,
             "#fdca26"
            ],
            [
             1,
             "#f0f921"
            ]
           ]
          },
          "colorway": [
           "#636efa",
           "#EF553B",
           "#00cc96",
           "#ab63fa",
           "#FFA15A",
           "#19d3f3",
           "#FF6692",
           "#B6E880",
           "#FF97FF",
           "#FECB52"
          ],
          "font": {
           "color": "#f2f5fa"
          },
          "geo": {
           "bgcolor": "rgb(17,17,17)",
           "lakecolor": "rgb(17,17,17)",
           "landcolor": "rgb(17,17,17)",
           "showlakes": true,
           "showland": true,
           "subunitcolor": "#506784"
          },
          "hoverlabel": {
           "align": "left"
          },
          "hovermode": "closest",
          "mapbox": {
           "style": "dark"
          },
          "paper_bgcolor": "rgb(17,17,17)",
          "plot_bgcolor": "rgb(17,17,17)",
          "polar": {
           "angularaxis": {
            "gridcolor": "#506784",
            "linecolor": "#506784",
            "ticks": ""
           },
           "bgcolor": "rgb(17,17,17)",
           "radialaxis": {
            "gridcolor": "#506784",
            "linecolor": "#506784",
            "ticks": ""
           }
          },
          "scene": {
           "xaxis": {
            "backgroundcolor": "rgb(17,17,17)",
            "gridcolor": "#506784",
            "gridwidth": 2,
            "linecolor": "#506784",
            "showbackground": true,
            "ticks": "",
            "zerolinecolor": "#C8D4E3"
           },
           "yaxis": {
            "backgroundcolor": "rgb(17,17,17)",
            "gridcolor": "#506784",
            "gridwidth": 2,
            "linecolor": "#506784",
            "showbackground": true,
            "ticks": "",
            "zerolinecolor": "#C8D4E3"
           },
           "zaxis": {
            "backgroundcolor": "rgb(17,17,17)",
            "gridcolor": "#506784",
            "gridwidth": 2,
            "linecolor": "#506784",
            "showbackground": true,
            "ticks": "",
            "zerolinecolor": "#C8D4E3"
           }
          },
          "shapedefaults": {
           "line": {
            "color": "#f2f5fa"
           }
          },
          "sliderdefaults": {
           "bgcolor": "#C8D4E3",
           "bordercolor": "rgb(17,17,17)",
           "borderwidth": 1,
           "tickwidth": 0
          },
          "ternary": {
           "aaxis": {
            "gridcolor": "#506784",
            "linecolor": "#506784",
            "ticks": ""
           },
           "baxis": {
            "gridcolor": "#506784",
            "linecolor": "#506784",
            "ticks": ""
           },
           "bgcolor": "rgb(17,17,17)",
           "caxis": {
            "gridcolor": "#506784",
            "linecolor": "#506784",
            "ticks": ""
           }
          },
          "title": {
           "x": 0.05
          },
          "updatemenudefaults": {
           "bgcolor": "#506784",
           "borderwidth": 0
          },
          "xaxis": {
           "automargin": true,
           "gridcolor": "#283442",
           "linecolor": "#506784",
           "ticks": "",
           "title": {
            "standoff": 15
           },
           "zerolinecolor": "#283442",
           "zerolinewidth": 2
          },
          "yaxis": {
           "automargin": true,
           "gridcolor": "#283442",
           "linecolor": "#506784",
           "ticks": "",
           "title": {
            "standoff": 15
           },
           "zerolinecolor": "#283442",
           "zerolinewidth": 2
          }
         }
        },
        "title": {
         "text": "Simulated Read Length Distributions"
        },
        "xaxis": {
         "title": {
          "text": "Read Length"
         }
        },
        "yaxis": {
         "title": {
          "text": "Density"
         }
        }
       }
      }
     },
     "metadata": {},
     "output_type": "display_data"
    },
    {
     "data": {
      "application/vnd.plotly.v1+json": {
       "config": {
        "plotlyServerURL": "https://plot.ly"
       },
       "data": [
        {
         "histnorm": "probability",
         "type": "histogram",
         "x": [
          25,
          29,
          26,
          28,
          27,
          26,
          25,
          27,
          28,
          26,
          26,
          25,
          27,
          26,
          23,
          24,
          26,
          25,
          24,
          25,
          25,
          28,
          27,
          23,
          26,
          29,
          26,
          23,
          24,
          30,
          24,
          30,
          29,
          25,
          24,
          26,
          29,
          26,
          22,
          23,
          26,
          21,
          26,
          20,
          22,
          31,
          23,
          25,
          25,
          26,
          26,
          25,
          25,
          28,
          28,
          26,
          24,
          23,
          26,
          28,
          28,
          26,
          27,
          23,
          28,
          18,
          23,
          25,
          33,
          29,
          28,
          24,
          27,
          25,
          22,
          25,
          23,
          24,
          29,
          22,
          26,
          30,
          26,
          26,
          30,
          30,
          24,
          29,
          25,
          32,
          26,
          22,
          27,
          23,
          26,
          27,
          26,
          22,
          28,
          24,
          22,
          25,
          26,
          26,
          29,
          25,
          26,
          22,
          26,
          22,
          25,
          28,
          25,
          28,
          25,
          26,
          23,
          27,
          26,
          26,
          26,
          24,
          23,
          26,
          23,
          27,
          22,
          25,
          28,
          25,
          27,
          29,
          29,
          23,
          31,
          21,
          27,
          26,
          26,
          27,
          25,
          24,
          24,
          24,
          26,
          27,
          28,
          25,
          25,
          27,
          24,
          30,
          28,
          22,
          27,
          27,
          28,
          30,
          22,
          28,
          22,
          30,
          20,
          26,
          27,
          24,
          25,
          27,
          26,
          21,
          23,
          24,
          23,
          24,
          24,
          25,
          27,
          25,
          19,
          29,
          24,
          27,
          25,
          26,
          29,
          26,
          26,
          28,
          27,
          25,
          28,
          26,
          29,
          25,
          30,
          26,
          26,
          26,
          27,
          22,
          25,
          24,
          26,
          24,
          26,
          25,
          27,
          27,
          26,
          26,
          25,
          24,
          28,
          24,
          25,
          25,
          25,
          29,
          26,
          24,
          26,
          25,
          21,
          32,
          26,
          23,
          24,
          28,
          25,
          23,
          22,
          24,
          24,
          21,
          23,
          25,
          26,
          28,
          29,
          26,
          25,
          23,
          22,
          23,
          26,
          25,
          22,
          29,
          28,
          24,
          27,
          27,
          25,
          26,
          30,
          28,
          25,
          25,
          26,
          25,
          22,
          27,
          26,
          24,
          29,
          27,
          27,
          23,
          23,
          27,
          23,
          24,
          28,
          25,
          25,
          26,
          23,
          23,
          23,
          24,
          24,
          25,
          25,
          25,
          30,
          27,
          28,
          29,
          20,
          28,
          24,
          26,
          26,
          27,
          26,
          26,
          27,
          26,
          26,
          26,
          25,
          28,
          24,
          26,
          26,
          23,
          20,
          27,
          24,
          25,
          22,
          24,
          24,
          25,
          26,
          26,
          23,
          25,
          28,
          26,
          25,
          29,
          28,
          24,
          26,
          28,
          28,
          20,
          22,
          32,
          25,
          26,
          25,
          23,
          26,
          25,
          31,
          22,
          29,
          29,
          27,
          29,
          27,
          27,
          25,
          21,
          29,
          20,
          24,
          25,
          27,
          25,
          25,
          22,
          26,
          30,
          28,
          29,
          29,
          26,
          18,
          18,
          20,
          28,
          26,
          26,
          26,
          25,
          28,
          24,
          28,
          25,
          22,
          29,
          27,
          21,
          27,
          32,
          24,
          24,
          26,
          24,
          28,
          29,
          31,
          24,
          28,
          23,
          23,
          25,
          26,
          25,
          26,
          25,
          28,
          27,
          28,
          21,
          25,
          24,
          28,
          28,
          24,
          25,
          21,
          26,
          28,
          21,
          26,
          25,
          23,
          26,
          25,
          26,
          26,
          29,
          27,
          24,
          27,
          28,
          26,
          24,
          26,
          22,
          20,
          26,
          21,
          26,
          24,
          20,
          25,
          28,
          28,
          24,
          25,
          24,
          28,
          25,
          23,
          27,
          26,
          21,
          23,
          33,
          24,
          27,
          31,
          26,
          20,
          26,
          28,
          25,
          29,
          20,
          27,
          28,
          24,
          28,
          25,
          27,
          28,
          23,
          26,
          26,
          27,
          25,
          24,
          25,
          22,
          26,
          23,
          25,
          25,
          23,
          25,
          25,
          27,
          24,
          24,
          30,
          27,
          29,
          25,
          29,
          25,
          25,
          24,
          30,
          26,
          26,
          30,
          27,
          26,
          25,
          26,
          22,
          25,
          28,
          27,
          23,
          25,
          21,
          21,
          26,
          22,
          28,
          27,
          28,
          23,
          25,
          28,
          26,
          25,
          24,
          25,
          30,
          24,
          27,
          24,
          25,
          27,
          26,
          22,
          23,
          26,
          25,
          22,
          29,
          25,
          25,
          25,
          20,
          25,
          24,
          28,
          26,
          26,
          24,
          27,
          26,
          23,
          21,
          24,
          22,
          26,
          24,
          24,
          23,
          25,
          24,
          24,
          24,
          23,
          24,
          24,
          23,
          25,
          24,
          25,
          28,
          23,
          29,
          25,
          24,
          25,
          24,
          21,
          26,
          27,
          26,
          28,
          25,
          22,
          27,
          27,
          24,
          23,
          29,
          23,
          24,
          26,
          29,
          30,
          28,
          22,
          32,
          28,
          24,
          23,
          23,
          27,
          27,
          20,
          26,
          25,
          25,
          23,
          27,
          29,
          30,
          26,
          27,
          26,
          23,
          30,
          24,
          24,
          23,
          21,
          26,
          27,
          25,
          28,
          27,
          30,
          25,
          23,
          29,
          30,
          27,
          28,
          24,
          25,
          28,
          27,
          24,
          22,
          27,
          27,
          30,
          27,
          27,
          27,
          27,
          25,
          29,
          28,
          29,
          26,
          25,
          25,
          28,
          29,
          27,
          27,
          25,
          26,
          25,
          25,
          24,
          27,
          24,
          24,
          20,
          28,
          22,
          23,
          25,
          24,
          26,
          22,
          28,
          23,
          27,
          30,
          28,
          25,
          28,
          23,
          30,
          25,
          22,
          23,
          24,
          25,
          27,
          25,
          26,
          29,
          27,
          27,
          24,
          23,
          22,
          27,
          27,
          26,
          24,
          25,
          28,
          25,
          19,
          29,
          25,
          27,
          20,
          30,
          23,
          28,
          29,
          24,
          26,
          26,
          25,
          22,
          25,
          29,
          27,
          20,
          25,
          25,
          22,
          24,
          24,
          23,
          24,
          27,
          24,
          23,
          27,
          26,
          24,
          24,
          26,
          26,
          24,
          25,
          28,
          25,
          24,
          25,
          26,
          27,
          24,
          27,
          24,
          25,
          23,
          25,
          28,
          28,
          24,
          26,
          25,
          24,
          25,
          29,
          25,
          27,
          27,
          24,
          26,
          23,
          24,
          24,
          27,
          24,
          25,
          26,
          27,
          28,
          23,
          23,
          23,
          27,
          26,
          28,
          24,
          22,
          27,
          23,
          30,
          24,
          22,
          26,
          25,
          26,
          27,
          26,
          23,
          26,
          25,
          26,
          28,
          26,
          28,
          24,
          24,
          29,
          19,
          25,
          25,
          27,
          21,
          26,
          30,
          22,
          22,
          26,
          23,
          27,
          30,
          26,
          31,
          23,
          25,
          23,
          26,
          28,
          26,
          29,
          29,
          26,
          23,
          26,
          26,
          22,
          21,
          18,
          25,
          22,
          29,
          25,
          30,
          22,
          22,
          28,
          26,
          25,
          20,
          27,
          29,
          25,
          22,
          25,
          25,
          27,
          24,
          27,
          26,
          23,
          29,
          26,
          23,
          29,
          26,
          26,
          22,
          26,
          22,
          24,
          25,
          24,
          29,
          28,
          24,
          23,
          26,
          26,
          25,
          27,
          23,
          26,
          22,
          27,
          21,
          27,
          25,
          22,
          20,
          26,
          26,
          23,
          25,
          26,
          27,
          29,
          27,
          27,
          28,
          29,
          27,
          23,
          26,
          26,
          25,
          26,
          23,
          24,
          31,
          27,
          29,
          25,
          26,
          27,
          25,
          26,
          25,
          21,
          27,
          28,
          27,
          29,
          25,
          25,
          24,
          29,
          26,
          26,
          29,
          30,
          26,
          27,
          25,
          20,
          22,
          26,
          28,
          25,
          26,
          24,
          23,
          23,
          24,
          24,
          27,
          28,
          27,
          22,
          24,
          25,
          25,
          24,
          30,
          27,
          27,
          23,
          26,
          25,
          28,
          23,
          24,
          23,
          28,
          23,
          31,
          26,
          22,
          27,
          28,
          26,
          25,
          22,
          25,
          29,
          25,
          26,
          26,
          26,
          23,
          26,
          29,
          26,
          24,
          24,
          26,
          22,
          26,
          21,
          26,
          31,
          26,
          24,
          28,
          22,
          28,
          24,
          27,
          23,
          27,
          27,
          27,
          27,
          24,
          27,
          29,
          28,
          30,
          23,
          23,
          27,
          24,
          23,
          31,
          21,
          30,
          21,
          27,
          22,
          25
         ]
        }
       ],
       "layout": {
        "barmode": "overlay",
        "template": {
         "data": {
          "bar": [
           {
            "error_x": {
             "color": "#f2f5fa"
            },
            "error_y": {
             "color": "#f2f5fa"
            },
            "marker": {
             "line": {
              "color": "rgb(17,17,17)",
              "width": 0.5
             },
             "pattern": {
              "fillmode": "overlay",
              "size": 10,
              "solidity": 0.2
             }
            },
            "type": "bar"
           }
          ],
          "barpolar": [
           {
            "marker": {
             "line": {
              "color": "rgb(17,17,17)",
              "width": 0.5
             },
             "pattern": {
              "fillmode": "overlay",
              "size": 10,
              "solidity": 0.2
             }
            },
            "type": "barpolar"
           }
          ],
          "carpet": [
           {
            "aaxis": {
             "endlinecolor": "#A2B1C6",
             "gridcolor": "#506784",
             "linecolor": "#506784",
             "minorgridcolor": "#506784",
             "startlinecolor": "#A2B1C6"
            },
            "baxis": {
             "endlinecolor": "#A2B1C6",
             "gridcolor": "#506784",
             "linecolor": "#506784",
             "minorgridcolor": "#506784",
             "startlinecolor": "#A2B1C6"
            },
            "type": "carpet"
           }
          ],
          "choropleth": [
           {
            "colorbar": {
             "outlinewidth": 0,
             "ticks": ""
            },
            "type": "choropleth"
           }
          ],
          "contour": [
           {
            "colorbar": {
             "outlinewidth": 0,
             "ticks": ""
            },
            "colorscale": [
             [
              0,
              "#0d0887"
             ],
             [
              0.1111111111111111,
              "#46039f"
             ],
             [
              0.2222222222222222,
              "#7201a8"
             ],
             [
              0.3333333333333333,
              "#9c179e"
             ],
             [
              0.4444444444444444,
              "#bd3786"
             ],
             [
              0.5555555555555556,
              "#d8576b"
             ],
             [
              0.6666666666666666,
              "#ed7953"
             ],
             [
              0.7777777777777778,
              "#fb9f3a"
             ],
             [
              0.8888888888888888,
              "#fdca26"
             ],
             [
              1,
              "#f0f921"
             ]
            ],
            "type": "contour"
           }
          ],
          "contourcarpet": [
           {
            "colorbar": {
             "outlinewidth": 0,
             "ticks": ""
            },
            "type": "contourcarpet"
           }
          ],
          "heatmap": [
           {
            "colorbar": {
             "outlinewidth": 0,
             "ticks": ""
            },
            "colorscale": [
             [
              0,
              "#0d0887"
             ],
             [
              0.1111111111111111,
              "#46039f"
             ],
             [
              0.2222222222222222,
              "#7201a8"
             ],
             [
              0.3333333333333333,
              "#9c179e"
             ],
             [
              0.4444444444444444,
              "#bd3786"
             ],
             [
              0.5555555555555556,
              "#d8576b"
             ],
             [
              0.6666666666666666,
              "#ed7953"
             ],
             [
              0.7777777777777778,
              "#fb9f3a"
             ],
             [
              0.8888888888888888,
              "#fdca26"
             ],
             [
              1,
              "#f0f921"
             ]
            ],
            "type": "heatmap"
           }
          ],
          "heatmapgl": [
           {
            "colorbar": {
             "outlinewidth": 0,
             "ticks": ""
            },
            "colorscale": [
             [
              0,
              "#0d0887"
             ],
             [
              0.1111111111111111,
              "#46039f"
             ],
             [
              0.2222222222222222,
              "#7201a8"
             ],
             [
              0.3333333333333333,
              "#9c179e"
             ],
             [
              0.4444444444444444,
              "#bd3786"
             ],
             [
              0.5555555555555556,
              "#d8576b"
             ],
             [
              0.6666666666666666,
              "#ed7953"
             ],
             [
              0.7777777777777778,
              "#fb9f3a"
             ],
             [
              0.8888888888888888,
              "#fdca26"
             ],
             [
              1,
              "#f0f921"
             ]
            ],
            "type": "heatmapgl"
           }
          ],
          "histogram": [
           {
            "marker": {
             "pattern": {
              "fillmode": "overlay",
              "size": 10,
              "solidity": 0.2
             }
            },
            "type": "histogram"
           }
          ],
          "histogram2d": [
           {
            "colorbar": {
             "outlinewidth": 0,
             "ticks": ""
            },
            "colorscale": [
             [
              0,
              "#0d0887"
             ],
             [
              0.1111111111111111,
              "#46039f"
             ],
             [
              0.2222222222222222,
              "#7201a8"
             ],
             [
              0.3333333333333333,
              "#9c179e"
             ],
             [
              0.4444444444444444,
              "#bd3786"
             ],
             [
              0.5555555555555556,
              "#d8576b"
             ],
             [
              0.6666666666666666,
              "#ed7953"
             ],
             [
              0.7777777777777778,
              "#fb9f3a"
             ],
             [
              0.8888888888888888,
              "#fdca26"
             ],
             [
              1,
              "#f0f921"
             ]
            ],
            "type": "histogram2d"
           }
          ],
          "histogram2dcontour": [
           {
            "colorbar": {
             "outlinewidth": 0,
             "ticks": ""
            },
            "colorscale": [
             [
              0,
              "#0d0887"
             ],
             [
              0.1111111111111111,
              "#46039f"
             ],
             [
              0.2222222222222222,
              "#7201a8"
             ],
             [
              0.3333333333333333,
              "#9c179e"
             ],
             [
              0.4444444444444444,
              "#bd3786"
             ],
             [
              0.5555555555555556,
              "#d8576b"
             ],
             [
              0.6666666666666666,
              "#ed7953"
             ],
             [
              0.7777777777777778,
              "#fb9f3a"
             ],
             [
              0.8888888888888888,
              "#fdca26"
             ],
             [
              1,
              "#f0f921"
             ]
            ],
            "type": "histogram2dcontour"
           }
          ],
          "mesh3d": [
           {
            "colorbar": {
             "outlinewidth": 0,
             "ticks": ""
            },
            "type": "mesh3d"
           }
          ],
          "parcoords": [
           {
            "line": {
             "colorbar": {
              "outlinewidth": 0,
              "ticks": ""
             }
            },
            "type": "parcoords"
           }
          ],
          "pie": [
           {
            "automargin": true,
            "type": "pie"
           }
          ],
          "scatter": [
           {
            "marker": {
             "line": {
              "color": "#283442"
             }
            },
            "type": "scatter"
           }
          ],
          "scatter3d": [
           {
            "line": {
             "colorbar": {
              "outlinewidth": 0,
              "ticks": ""
             }
            },
            "marker": {
             "colorbar": {
              "outlinewidth": 0,
              "ticks": ""
             }
            },
            "type": "scatter3d"
           }
          ],
          "scattercarpet": [
           {
            "marker": {
             "colorbar": {
              "outlinewidth": 0,
              "ticks": ""
             }
            },
            "type": "scattercarpet"
           }
          ],
          "scattergeo": [
           {
            "marker": {
             "colorbar": {
              "outlinewidth": 0,
              "ticks": ""
             }
            },
            "type": "scattergeo"
           }
          ],
          "scattergl": [
           {
            "marker": {
             "line": {
              "color": "#283442"
             }
            },
            "type": "scattergl"
           }
          ],
          "scattermapbox": [
           {
            "marker": {
             "colorbar": {
              "outlinewidth": 0,
              "ticks": ""
             }
            },
            "type": "scattermapbox"
           }
          ],
          "scatterpolar": [
           {
            "marker": {
             "colorbar": {
              "outlinewidth": 0,
              "ticks": ""
             }
            },
            "type": "scatterpolar"
           }
          ],
          "scatterpolargl": [
           {
            "marker": {
             "colorbar": {
              "outlinewidth": 0,
              "ticks": ""
             }
            },
            "type": "scatterpolargl"
           }
          ],
          "scatterternary": [
           {
            "marker": {
             "colorbar": {
              "outlinewidth": 0,
              "ticks": ""
             }
            },
            "type": "scatterternary"
           }
          ],
          "surface": [
           {
            "colorbar": {
             "outlinewidth": 0,
             "ticks": ""
            },
            "colorscale": [
             [
              0,
              "#0d0887"
             ],
             [
              0.1111111111111111,
              "#46039f"
             ],
             [
              0.2222222222222222,
              "#7201a8"
             ],
             [
              0.3333333333333333,
              "#9c179e"
             ],
             [
              0.4444444444444444,
              "#bd3786"
             ],
             [
              0.5555555555555556,
              "#d8576b"
             ],
             [
              0.6666666666666666,
              "#ed7953"
             ],
             [
              0.7777777777777778,
              "#fb9f3a"
             ],
             [
              0.8888888888888888,
              "#fdca26"
             ],
             [
              1,
              "#f0f921"
             ]
            ],
            "type": "surface"
           }
          ],
          "table": [
           {
            "cells": {
             "fill": {
              "color": "#506784"
             },
             "line": {
              "color": "rgb(17,17,17)"
             }
            },
            "header": {
             "fill": {
              "color": "#2a3f5f"
             },
             "line": {
              "color": "rgb(17,17,17)"
             }
            },
            "type": "table"
           }
          ]
         },
         "layout": {
          "annotationdefaults": {
           "arrowcolor": "#f2f5fa",
           "arrowhead": 0,
           "arrowwidth": 1
          },
          "autotypenumbers": "strict",
          "coloraxis": {
           "colorbar": {
            "outlinewidth": 0,
            "ticks": ""
           }
          },
          "colorscale": {
           "diverging": [
            [
             0,
             "#8e0152"
            ],
            [
             0.1,
             "#c51b7d"
            ],
            [
             0.2,
             "#de77ae"
            ],
            [
             0.3,
             "#f1b6da"
            ],
            [
             0.4,
             "#fde0ef"
            ],
            [
             0.5,
             "#f7f7f7"
            ],
            [
             0.6,
             "#e6f5d0"
            ],
            [
             0.7,
             "#b8e186"
            ],
            [
             0.8,
             "#7fbc41"
            ],
            [
             0.9,
             "#4d9221"
            ],
            [
             1,
             "#276419"
            ]
           ],
           "sequential": [
            [
             0,
             "#0d0887"
            ],
            [
             0.1111111111111111,
             "#46039f"
            ],
            [
             0.2222222222222222,
             "#7201a8"
            ],
            [
             0.3333333333333333,
             "#9c179e"
            ],
            [
             0.4444444444444444,
             "#bd3786"
            ],
            [
             0.5555555555555556,
             "#d8576b"
            ],
            [
             0.6666666666666666,
             "#ed7953"
            ],
            [
             0.7777777777777778,
             "#fb9f3a"
            ],
            [
             0.8888888888888888,
             "#fdca26"
            ],
            [
             1,
             "#f0f921"
            ]
           ],
           "sequentialminus": [
            [
             0,
             "#0d0887"
            ],
            [
             0.1111111111111111,
             "#46039f"
            ],
            [
             0.2222222222222222,
             "#7201a8"
            ],
            [
             0.3333333333333333,
             "#9c179e"
            ],
            [
             0.4444444444444444,
             "#bd3786"
            ],
            [
             0.5555555555555556,
             "#d8576b"
            ],
            [
             0.6666666666666666,
             "#ed7953"
            ],
            [
             0.7777777777777778,
             "#fb9f3a"
            ],
            [
             0.8888888888888888,
             "#fdca26"
            ],
            [
             1,
             "#f0f921"
            ]
           ]
          },
          "colorway": [
           "#636efa",
           "#EF553B",
           "#00cc96",
           "#ab63fa",
           "#FFA15A",
           "#19d3f3",
           "#FF6692",
           "#B6E880",
           "#FF97FF",
           "#FECB52"
          ],
          "font": {
           "color": "#f2f5fa"
          },
          "geo": {
           "bgcolor": "rgb(17,17,17)",
           "lakecolor": "rgb(17,17,17)",
           "landcolor": "rgb(17,17,17)",
           "showlakes": true,
           "showland": true,
           "subunitcolor": "#506784"
          },
          "hoverlabel": {
           "align": "left"
          },
          "hovermode": "closest",
          "mapbox": {
           "style": "dark"
          },
          "paper_bgcolor": "rgb(17,17,17)",
          "plot_bgcolor": "rgb(17,17,17)",
          "polar": {
           "angularaxis": {
            "gridcolor": "#506784",
            "linecolor": "#506784",
            "ticks": ""
           },
           "bgcolor": "rgb(17,17,17)",
           "radialaxis": {
            "gridcolor": "#506784",
            "linecolor": "#506784",
            "ticks": ""
           }
          },
          "scene": {
           "xaxis": {
            "backgroundcolor": "rgb(17,17,17)",
            "gridcolor": "#506784",
            "gridwidth": 2,
            "linecolor": "#506784",
            "showbackground": true,
            "ticks": "",
            "zerolinecolor": "#C8D4E3"
           },
           "yaxis": {
            "backgroundcolor": "rgb(17,17,17)",
            "gridcolor": "#506784",
            "gridwidth": 2,
            "linecolor": "#506784",
            "showbackground": true,
            "ticks": "",
            "zerolinecolor": "#C8D4E3"
           },
           "zaxis": {
            "backgroundcolor": "rgb(17,17,17)",
            "gridcolor": "#506784",
            "gridwidth": 2,
            "linecolor": "#506784",
            "showbackground": true,
            "ticks": "",
            "zerolinecolor": "#C8D4E3"
           }
          },
          "shapedefaults": {
           "line": {
            "color": "#f2f5fa"
           }
          },
          "sliderdefaults": {
           "bgcolor": "#C8D4E3",
           "bordercolor": "rgb(17,17,17)",
           "borderwidth": 1,
           "tickwidth": 0
          },
          "ternary": {
           "aaxis": {
            "gridcolor": "#506784",
            "linecolor": "#506784",
            "ticks": ""
           },
           "baxis": {
            "gridcolor": "#506784",
            "linecolor": "#506784",
            "ticks": ""
           },
           "bgcolor": "rgb(17,17,17)",
           "caxis": {
            "gridcolor": "#506784",
            "linecolor": "#506784",
            "ticks": ""
           }
          },
          "title": {
           "x": 0.05
          },
          "updatemenudefaults": {
           "bgcolor": "#506784",
           "borderwidth": 0
          },
          "xaxis": {
           "automargin": true,
           "gridcolor": "#283442",
           "linecolor": "#506784",
           "ticks": "",
           "title": {
            "standoff": 15
           },
           "zerolinecolor": "#283442",
           "zerolinewidth": 2
          },
          "yaxis": {
           "automargin": true,
           "gridcolor": "#283442",
           "linecolor": "#506784",
           "ticks": "",
           "title": {
            "standoff": 15
           },
           "zerolinecolor": "#283442",
           "zerolinewidth": 2
          }
         }
        },
        "title": {
         "text": "Simulated Read Length Distributions"
        },
        "xaxis": {
         "title": {
          "text": "Read Length"
         }
        },
        "yaxis": {
         "title": {
          "text": "Density"
         }
        }
       }
      }
     },
     "metadata": {},
     "output_type": "display_data"
    },
    {
     "data": {
      "application/vnd.plotly.v1+json": {
       "config": {
        "plotlyServerURL": "https://plot.ly"
       },
       "data": [
        {
         "histnorm": "probability",
         "type": "histogram",
         "x": [
          33,
          33,
          32,
          31,
          32,
          34,
          34,
          33,
          34,
          34,
          33,
          31,
          32,
          34,
          32,
          32,
          32,
          33,
          32,
          32,
          31,
          33,
          32,
          33,
          35,
          32,
          31,
          33,
          31,
          32,
          34,
          31,
          33,
          34,
          32,
          33,
          33,
          33,
          33,
          33,
          31,
          33,
          32,
          34,
          33,
          32,
          33,
          33,
          32,
          33,
          32,
          33,
          33,
          33,
          32,
          34,
          34,
          33,
          31,
          31,
          31,
          32,
          32,
          33,
          33,
          32,
          33,
          33,
          34,
          33,
          33,
          32,
          33,
          33,
          31,
          32,
          32,
          32,
          34,
          33,
          33,
          31,
          33,
          32,
          32,
          32,
          32,
          32,
          33,
          33,
          32,
          33,
          32,
          33,
          32,
          32,
          32,
          32,
          35,
          33,
          33,
          33,
          33,
          35,
          33,
          33,
          30,
          33,
          34,
          33,
          32,
          32,
          33,
          31,
          31,
          34,
          31,
          33,
          30,
          32,
          33,
          34,
          33,
          34,
          32,
          34,
          34,
          32,
          32,
          33,
          32,
          32,
          31,
          33,
          32,
          34,
          33,
          31,
          32,
          32,
          35,
          33,
          31,
          34,
          32,
          34,
          33,
          33,
          33,
          33,
          32,
          31,
          31,
          32,
          34,
          30,
          32,
          33,
          34,
          34,
          31,
          33,
          33,
          31,
          33,
          33,
          33,
          33,
          33,
          34,
          34,
          34,
          34,
          32,
          32,
          33,
          32,
          33,
          33,
          33,
          33,
          32,
          32,
          34,
          33,
          33,
          32,
          35,
          30,
          32,
          34,
          32,
          33,
          32,
          32,
          34,
          33,
          32,
          33,
          31,
          33,
          33,
          34,
          32,
          35,
          33,
          34,
          34,
          33,
          31,
          33,
          34,
          33,
          32,
          34,
          33,
          32,
          32,
          33,
          33,
          32,
          32,
          32,
          33,
          31,
          32,
          34,
          33,
          33,
          32,
          32,
          33,
          33,
          31,
          32,
          32,
          33,
          31,
          33,
          33,
          34,
          32,
          33,
          32,
          34,
          32,
          35,
          31,
          33,
          32,
          33,
          31,
          32,
          32,
          33,
          34,
          34,
          33,
          33,
          30,
          32,
          33,
          34,
          32,
          33,
          31,
          35,
          32,
          33,
          31,
          31,
          32,
          34,
          34,
          34,
          31,
          33,
          33,
          32,
          32,
          31,
          33,
          33,
          32,
          31,
          30,
          34,
          31,
          33,
          31,
          32,
          33,
          35,
          34,
          31,
          34,
          32,
          33,
          33,
          31,
          32,
          32,
          32,
          33,
          32,
          34,
          31,
          34,
          33,
          33,
          31,
          32,
          34,
          34,
          33,
          32,
          30,
          33,
          32,
          32,
          32,
          33,
          32,
          32,
          32,
          32,
          32,
          31,
          33,
          34,
          34,
          32,
          34,
          33,
          31,
          32,
          34,
          32,
          33,
          33,
          33,
          31,
          32,
          33,
          32,
          33,
          31,
          31,
          34,
          34,
          33,
          33,
          32,
          33,
          34,
          32,
          33,
          33,
          34,
          32,
          34,
          34,
          33,
          31,
          33,
          33,
          34,
          32,
          34,
          32,
          32,
          32,
          32,
          33,
          34,
          30,
          34,
          32,
          32,
          34,
          32,
          33,
          33,
          33,
          32,
          31,
          33,
          31,
          32,
          32,
          33,
          34,
          33,
          31,
          34,
          33,
          31,
          32,
          33,
          32,
          33,
          33,
          33,
          33,
          32,
          33,
          34,
          33,
          31,
          33,
          33,
          33,
          32,
          35,
          33,
          32,
          32,
          33,
          32,
          31,
          33,
          33,
          33,
          30,
          31,
          34,
          32,
          32,
          32,
          33,
          33,
          32,
          33,
          32,
          33,
          34,
          32,
          35,
          32,
          31,
          31,
          32,
          31,
          33,
          31,
          33,
          34,
          33,
          32,
          32,
          32,
          31,
          32,
          33,
          34,
          33,
          32,
          33,
          33,
          32,
          32,
          33,
          35,
          33,
          33,
          35,
          33,
          33,
          32,
          33,
          33,
          33,
          33,
          32,
          31,
          32,
          32,
          32,
          33,
          32,
          31,
          34,
          33,
          32,
          32,
          31,
          33,
          33,
          31,
          33,
          31,
          31,
          35,
          32,
          33,
          35,
          32,
          32,
          32,
          32,
          32,
          32,
          34,
          32,
          34,
          31,
          34,
          33,
          33,
          33,
          31,
          32,
          34,
          32,
          34,
          34,
          33,
          33,
          33,
          34,
          33,
          34,
          31,
          33,
          32,
          34,
          32,
          31,
          32,
          32,
          34,
          30,
          32,
          30,
          32,
          33,
          33,
          32,
          33,
          31,
          32,
          31,
          33,
          34,
          32,
          32,
          33,
          33,
          31,
          32,
          32,
          32,
          33,
          33,
          33,
          34,
          33,
          33,
          29,
          34,
          32,
          32,
          31,
          32,
          32,
          33,
          31,
          32,
          33,
          31,
          32,
          32,
          32,
          33,
          34,
          33,
          32,
          32,
          34,
          33,
          32,
          33,
          31,
          32,
          32,
          32,
          33,
          35,
          32,
          31,
          33,
          32,
          32,
          32,
          32,
          32,
          32,
          33,
          33,
          34,
          32,
          33,
          33,
          32,
          33,
          33,
          33,
          32,
          34,
          32,
          33,
          33,
          33,
          32,
          31,
          31,
          34,
          32,
          33,
          34,
          33,
          33,
          32,
          32,
          33,
          31,
          33,
          33,
          34,
          34,
          32,
          32,
          32,
          32,
          32,
          31,
          33,
          34,
          34,
          33,
          34,
          34,
          35,
          34,
          32,
          33,
          32,
          32,
          31,
          33,
          33,
          32,
          34,
          32,
          34,
          31,
          32,
          31,
          31,
          31,
          32,
          32,
          31,
          34,
          33,
          33,
          31,
          32,
          33,
          32,
          32,
          32,
          33,
          34,
          31,
          31,
          34,
          32,
          33,
          33,
          33,
          33,
          33,
          32,
          31,
          32,
          34,
          34,
          31,
          32,
          32,
          33,
          31,
          34,
          33,
          33,
          33,
          33,
          30,
          31,
          33,
          32,
          32,
          32,
          31,
          33,
          31,
          31,
          32,
          33,
          33,
          34,
          32,
          32,
          33,
          33,
          32,
          34,
          33,
          33,
          32,
          33,
          34,
          32,
          34,
          33,
          32,
          33,
          30,
          31,
          31,
          33,
          33,
          34,
          33,
          33,
          32,
          32,
          34,
          32,
          32,
          31,
          31,
          33,
          33,
          32,
          33,
          33,
          31,
          30,
          33,
          32,
          32,
          32,
          31,
          32,
          32,
          33,
          32,
          34,
          34,
          33,
          35,
          32,
          32,
          32,
          32,
          33,
          33,
          33,
          34,
          32,
          32,
          34,
          35,
          32,
          31,
          31,
          33,
          33,
          32,
          33,
          31,
          34,
          32,
          33,
          32,
          31,
          31,
          33,
          33,
          33,
          32,
          34,
          34,
          34,
          32,
          31,
          34,
          33,
          34,
          32,
          33,
          31,
          35,
          33,
          33,
          31,
          33,
          35,
          33,
          33,
          35,
          32,
          32,
          35,
          34,
          34,
          34,
          32,
          34,
          35,
          33,
          33,
          32,
          33,
          33,
          32,
          31,
          32,
          33,
          33,
          30,
          34,
          33,
          34,
          31,
          31,
          34,
          32,
          32,
          31,
          32,
          33,
          33,
          33,
          31,
          32,
          33,
          31,
          35,
          33,
          34,
          33,
          32,
          33,
          33,
          33,
          32,
          33,
          33,
          32,
          33,
          32,
          31,
          33,
          33,
          32,
          33,
          33,
          33,
          32,
          33,
          31,
          34,
          32,
          33,
          33,
          34,
          32,
          33,
          32,
          34,
          34,
          34,
          32,
          30,
          32,
          32,
          33,
          33,
          33,
          32,
          33,
          33,
          32,
          32,
          32,
          34,
          33,
          33,
          31,
          33,
          32,
          32,
          31,
          32,
          32,
          32,
          31,
          31,
          32,
          33,
          32,
          35,
          33,
          32,
          35,
          32,
          31,
          33,
          32,
          32,
          33,
          33,
          32,
          33,
          35,
          32,
          33,
          32,
          34,
          31,
          32,
          32,
          32,
          33,
          32,
          31,
          33,
          32,
          32,
          32,
          31,
          32,
          32,
          33,
          33,
          31,
          31,
          33,
          32,
          31,
          34,
          34,
          35,
          31,
          33,
          32,
          32,
          34,
          33,
          32,
          33,
          33,
          33,
          33,
          35,
          32,
          32,
          32,
          33,
          33,
          29,
          33,
          32,
          33,
          34,
          31,
          32,
          32,
          33,
          34,
          30,
          33,
          32,
          32,
          33,
          32,
          33,
          32,
          31,
          33,
          31,
          33,
          31,
          31,
          33,
          35,
          31
         ]
        }
       ],
       "layout": {
        "barmode": "overlay",
        "template": {
         "data": {
          "bar": [
           {
            "error_x": {
             "color": "#f2f5fa"
            },
            "error_y": {
             "color": "#f2f5fa"
            },
            "marker": {
             "line": {
              "color": "rgb(17,17,17)",
              "width": 0.5
             },
             "pattern": {
              "fillmode": "overlay",
              "size": 10,
              "solidity": 0.2
             }
            },
            "type": "bar"
           }
          ],
          "barpolar": [
           {
            "marker": {
             "line": {
              "color": "rgb(17,17,17)",
              "width": 0.5
             },
             "pattern": {
              "fillmode": "overlay",
              "size": 10,
              "solidity": 0.2
             }
            },
            "type": "barpolar"
           }
          ],
          "carpet": [
           {
            "aaxis": {
             "endlinecolor": "#A2B1C6",
             "gridcolor": "#506784",
             "linecolor": "#506784",
             "minorgridcolor": "#506784",
             "startlinecolor": "#A2B1C6"
            },
            "baxis": {
             "endlinecolor": "#A2B1C6",
             "gridcolor": "#506784",
             "linecolor": "#506784",
             "minorgridcolor": "#506784",
             "startlinecolor": "#A2B1C6"
            },
            "type": "carpet"
           }
          ],
          "choropleth": [
           {
            "colorbar": {
             "outlinewidth": 0,
             "ticks": ""
            },
            "type": "choropleth"
           }
          ],
          "contour": [
           {
            "colorbar": {
             "outlinewidth": 0,
             "ticks": ""
            },
            "colorscale": [
             [
              0,
              "#0d0887"
             ],
             [
              0.1111111111111111,
              "#46039f"
             ],
             [
              0.2222222222222222,
              "#7201a8"
             ],
             [
              0.3333333333333333,
              "#9c179e"
             ],
             [
              0.4444444444444444,
              "#bd3786"
             ],
             [
              0.5555555555555556,
              "#d8576b"
             ],
             [
              0.6666666666666666,
              "#ed7953"
             ],
             [
              0.7777777777777778,
              "#fb9f3a"
             ],
             [
              0.8888888888888888,
              "#fdca26"
             ],
             [
              1,
              "#f0f921"
             ]
            ],
            "type": "contour"
           }
          ],
          "contourcarpet": [
           {
            "colorbar": {
             "outlinewidth": 0,
             "ticks": ""
            },
            "type": "contourcarpet"
           }
          ],
          "heatmap": [
           {
            "colorbar": {
             "outlinewidth": 0,
             "ticks": ""
            },
            "colorscale": [
             [
              0,
              "#0d0887"
             ],
             [
              0.1111111111111111,
              "#46039f"
             ],
             [
              0.2222222222222222,
              "#7201a8"
             ],
             [
              0.3333333333333333,
              "#9c179e"
             ],
             [
              0.4444444444444444,
              "#bd3786"
             ],
             [
              0.5555555555555556,
              "#d8576b"
             ],
             [
              0.6666666666666666,
              "#ed7953"
             ],
             [
              0.7777777777777778,
              "#fb9f3a"
             ],
             [
              0.8888888888888888,
              "#fdca26"
             ],
             [
              1,
              "#f0f921"
             ]
            ],
            "type": "heatmap"
           }
          ],
          "heatmapgl": [
           {
            "colorbar": {
             "outlinewidth": 0,
             "ticks": ""
            },
            "colorscale": [
             [
              0,
              "#0d0887"
             ],
             [
              0.1111111111111111,
              "#46039f"
             ],
             [
              0.2222222222222222,
              "#7201a8"
             ],
             [
              0.3333333333333333,
              "#9c179e"
             ],
             [
              0.4444444444444444,
              "#bd3786"
             ],
             [
              0.5555555555555556,
              "#d8576b"
             ],
             [
              0.6666666666666666,
              "#ed7953"
             ],
             [
              0.7777777777777778,
              "#fb9f3a"
             ],
             [
              0.8888888888888888,
              "#fdca26"
             ],
             [
              1,
              "#f0f921"
             ]
            ],
            "type": "heatmapgl"
           }
          ],
          "histogram": [
           {
            "marker": {
             "pattern": {
              "fillmode": "overlay",
              "size": 10,
              "solidity": 0.2
             }
            },
            "type": "histogram"
           }
          ],
          "histogram2d": [
           {
            "colorbar": {
             "outlinewidth": 0,
             "ticks": ""
            },
            "colorscale": [
             [
              0,
              "#0d0887"
             ],
             [
              0.1111111111111111,
              "#46039f"
             ],
             [
              0.2222222222222222,
              "#7201a8"
             ],
             [
              0.3333333333333333,
              "#9c179e"
             ],
             [
              0.4444444444444444,
              "#bd3786"
             ],
             [
              0.5555555555555556,
              "#d8576b"
             ],
             [
              0.6666666666666666,
              "#ed7953"
             ],
             [
              0.7777777777777778,
              "#fb9f3a"
             ],
             [
              0.8888888888888888,
              "#fdca26"
             ],
             [
              1,
              "#f0f921"
             ]
            ],
            "type": "histogram2d"
           }
          ],
          "histogram2dcontour": [
           {
            "colorbar": {
             "outlinewidth": 0,
             "ticks": ""
            },
            "colorscale": [
             [
              0,
              "#0d0887"
             ],
             [
              0.1111111111111111,
              "#46039f"
             ],
             [
              0.2222222222222222,
              "#7201a8"
             ],
             [
              0.3333333333333333,
              "#9c179e"
             ],
             [
              0.4444444444444444,
              "#bd3786"
             ],
             [
              0.5555555555555556,
              "#d8576b"
             ],
             [
              0.6666666666666666,
              "#ed7953"
             ],
             [
              0.7777777777777778,
              "#fb9f3a"
             ],
             [
              0.8888888888888888,
              "#fdca26"
             ],
             [
              1,
              "#f0f921"
             ]
            ],
            "type": "histogram2dcontour"
           }
          ],
          "mesh3d": [
           {
            "colorbar": {
             "outlinewidth": 0,
             "ticks": ""
            },
            "type": "mesh3d"
           }
          ],
          "parcoords": [
           {
            "line": {
             "colorbar": {
              "outlinewidth": 0,
              "ticks": ""
             }
            },
            "type": "parcoords"
           }
          ],
          "pie": [
           {
            "automargin": true,
            "type": "pie"
           }
          ],
          "scatter": [
           {
            "marker": {
             "line": {
              "color": "#283442"
             }
            },
            "type": "scatter"
           }
          ],
          "scatter3d": [
           {
            "line": {
             "colorbar": {
              "outlinewidth": 0,
              "ticks": ""
             }
            },
            "marker": {
             "colorbar": {
              "outlinewidth": 0,
              "ticks": ""
             }
            },
            "type": "scatter3d"
           }
          ],
          "scattercarpet": [
           {
            "marker": {
             "colorbar": {
              "outlinewidth": 0,
              "ticks": ""
             }
            },
            "type": "scattercarpet"
           }
          ],
          "scattergeo": [
           {
            "marker": {
             "colorbar": {
              "outlinewidth": 0,
              "ticks": ""
             }
            },
            "type": "scattergeo"
           }
          ],
          "scattergl": [
           {
            "marker": {
             "line": {
              "color": "#283442"
             }
            },
            "type": "scattergl"
           }
          ],
          "scattermapbox": [
           {
            "marker": {
             "colorbar": {
              "outlinewidth": 0,
              "ticks": ""
             }
            },
            "type": "scattermapbox"
           }
          ],
          "scatterpolar": [
           {
            "marker": {
             "colorbar": {
              "outlinewidth": 0,
              "ticks": ""
             }
            },
            "type": "scatterpolar"
           }
          ],
          "scatterpolargl": [
           {
            "marker": {
             "colorbar": {
              "outlinewidth": 0,
              "ticks": ""
             }
            },
            "type": "scatterpolargl"
           }
          ],
          "scatterternary": [
           {
            "marker": {
             "colorbar": {
              "outlinewidth": 0,
              "ticks": ""
             }
            },
            "type": "scatterternary"
           }
          ],
          "surface": [
           {
            "colorbar": {
             "outlinewidth": 0,
             "ticks": ""
            },
            "colorscale": [
             [
              0,
              "#0d0887"
             ],
             [
              0.1111111111111111,
              "#46039f"
             ],
             [
              0.2222222222222222,
              "#7201a8"
             ],
             [
              0.3333333333333333,
              "#9c179e"
             ],
             [
              0.4444444444444444,
              "#bd3786"
             ],
             [
              0.5555555555555556,
              "#d8576b"
             ],
             [
              0.6666666666666666,
              "#ed7953"
             ],
             [
              0.7777777777777778,
              "#fb9f3a"
             ],
             [
              0.8888888888888888,
              "#fdca26"
             ],
             [
              1,
              "#f0f921"
             ]
            ],
            "type": "surface"
           }
          ],
          "table": [
           {
            "cells": {
             "fill": {
              "color": "#506784"
             },
             "line": {
              "color": "rgb(17,17,17)"
             }
            },
            "header": {
             "fill": {
              "color": "#2a3f5f"
             },
             "line": {
              "color": "rgb(17,17,17)"
             }
            },
            "type": "table"
           }
          ]
         },
         "layout": {
          "annotationdefaults": {
           "arrowcolor": "#f2f5fa",
           "arrowhead": 0,
           "arrowwidth": 1
          },
          "autotypenumbers": "strict",
          "coloraxis": {
           "colorbar": {
            "outlinewidth": 0,
            "ticks": ""
           }
          },
          "colorscale": {
           "diverging": [
            [
             0,
             "#8e0152"
            ],
            [
             0.1,
             "#c51b7d"
            ],
            [
             0.2,
             "#de77ae"
            ],
            [
             0.3,
             "#f1b6da"
            ],
            [
             0.4,
             "#fde0ef"
            ],
            [
             0.5,
             "#f7f7f7"
            ],
            [
             0.6,
             "#e6f5d0"
            ],
            [
             0.7,
             "#b8e186"
            ],
            [
             0.8,
             "#7fbc41"
            ],
            [
             0.9,
             "#4d9221"
            ],
            [
             1,
             "#276419"
            ]
           ],
           "sequential": [
            [
             0,
             "#0d0887"
            ],
            [
             0.1111111111111111,
             "#46039f"
            ],
            [
             0.2222222222222222,
             "#7201a8"
            ],
            [
             0.3333333333333333,
             "#9c179e"
            ],
            [
             0.4444444444444444,
             "#bd3786"
            ],
            [
             0.5555555555555556,
             "#d8576b"
            ],
            [
             0.6666666666666666,
             "#ed7953"
            ],
            [
             0.7777777777777778,
             "#fb9f3a"
            ],
            [
             0.8888888888888888,
             "#fdca26"
            ],
            [
             1,
             "#f0f921"
            ]
           ],
           "sequentialminus": [
            [
             0,
             "#0d0887"
            ],
            [
             0.1111111111111111,
             "#46039f"
            ],
            [
             0.2222222222222222,
             "#7201a8"
            ],
            [
             0.3333333333333333,
             "#9c179e"
            ],
            [
             0.4444444444444444,
             "#bd3786"
            ],
            [
             0.5555555555555556,
             "#d8576b"
            ],
            [
             0.6666666666666666,
             "#ed7953"
            ],
            [
             0.7777777777777778,
             "#fb9f3a"
            ],
            [
             0.8888888888888888,
             "#fdca26"
            ],
            [
             1,
             "#f0f921"
            ]
           ]
          },
          "colorway": [
           "#636efa",
           "#EF553B",
           "#00cc96",
           "#ab63fa",
           "#FFA15A",
           "#19d3f3",
           "#FF6692",
           "#B6E880",
           "#FF97FF",
           "#FECB52"
          ],
          "font": {
           "color": "#f2f5fa"
          },
          "geo": {
           "bgcolor": "rgb(17,17,17)",
           "lakecolor": "rgb(17,17,17)",
           "landcolor": "rgb(17,17,17)",
           "showlakes": true,
           "showland": true,
           "subunitcolor": "#506784"
          },
          "hoverlabel": {
           "align": "left"
          },
          "hovermode": "closest",
          "mapbox": {
           "style": "dark"
          },
          "paper_bgcolor": "rgb(17,17,17)",
          "plot_bgcolor": "rgb(17,17,17)",
          "polar": {
           "angularaxis": {
            "gridcolor": "#506784",
            "linecolor": "#506784",
            "ticks": ""
           },
           "bgcolor": "rgb(17,17,17)",
           "radialaxis": {
            "gridcolor": "#506784",
            "linecolor": "#506784",
            "ticks": ""
           }
          },
          "scene": {
           "xaxis": {
            "backgroundcolor": "rgb(17,17,17)",
            "gridcolor": "#506784",
            "gridwidth": 2,
            "linecolor": "#506784",
            "showbackground": true,
            "ticks": "",
            "zerolinecolor": "#C8D4E3"
           },
           "yaxis": {
            "backgroundcolor": "rgb(17,17,17)",
            "gridcolor": "#506784",
            "gridwidth": 2,
            "linecolor": "#506784",
            "showbackground": true,
            "ticks": "",
            "zerolinecolor": "#C8D4E3"
           },
           "zaxis": {
            "backgroundcolor": "rgb(17,17,17)",
            "gridcolor": "#506784",
            "gridwidth": 2,
            "linecolor": "#506784",
            "showbackground": true,
            "ticks": "",
            "zerolinecolor": "#C8D4E3"
           }
          },
          "shapedefaults": {
           "line": {
            "color": "#f2f5fa"
           }
          },
          "sliderdefaults": {
           "bgcolor": "#C8D4E3",
           "bordercolor": "rgb(17,17,17)",
           "borderwidth": 1,
           "tickwidth": 0
          },
          "ternary": {
           "aaxis": {
            "gridcolor": "#506784",
            "linecolor": "#506784",
            "ticks": ""
           },
           "baxis": {
            "gridcolor": "#506784",
            "linecolor": "#506784",
            "ticks": ""
           },
           "bgcolor": "rgb(17,17,17)",
           "caxis": {
            "gridcolor": "#506784",
            "linecolor": "#506784",
            "ticks": ""
           }
          },
          "title": {
           "x": 0.05
          },
          "updatemenudefaults": {
           "bgcolor": "#506784",
           "borderwidth": 0
          },
          "xaxis": {
           "automargin": true,
           "gridcolor": "#283442",
           "linecolor": "#506784",
           "ticks": "",
           "title": {
            "standoff": 15
           },
           "zerolinecolor": "#283442",
           "zerolinewidth": 2
          },
          "yaxis": {
           "automargin": true,
           "gridcolor": "#283442",
           "linecolor": "#506784",
           "ticks": "",
           "title": {
            "standoff": 15
           },
           "zerolinecolor": "#283442",
           "zerolinewidth": 2
          }
         }
        },
        "title": {
         "text": "Simulated Read Length Distributions"
        },
        "xaxis": {
         "title": {
          "text": "Read Length"
         }
        },
        "yaxis": {
         "title": {
          "text": "Density"
         }
        }
       }
      }
     },
     "metadata": {},
     "output_type": "display_data"
    },
    {
     "data": {
      "application/vnd.plotly.v1+json": {
       "config": {
        "plotlyServerURL": "https://plot.ly"
       },
       "data": [
        {
         "histnorm": "probability",
         "type": "histogram",
         "x": [
          25,
          21,
          32,
          18,
          19,
          18,
          26,
          20,
          18,
          18,
          23,
          18,
          21,
          21,
          18,
          26,
          18,
          18,
          18,
          21,
          25,
          22,
          23,
          25,
          31,
          18,
          18,
          22,
          25,
          18,
          29,
          23,
          18,
          24,
          21,
          18,
          24,
          22,
          25,
          19,
          23,
          18,
          30,
          20,
          19,
          19,
          18,
          19,
          18,
          24,
          18,
          24,
          20,
          24,
          19,
          18,
          19,
          18,
          18,
          21,
          20,
          20,
          19,
          30,
          19,
          18,
          21,
          20,
          23,
          22,
          19,
          26,
          25,
          18,
          18,
          19,
          19,
          18,
          18,
          18,
          24,
          19,
          28,
          22,
          21,
          24,
          18,
          26,
          18,
          22,
          20,
          18,
          18,
          18,
          19,
          18,
          18,
          18,
          22,
          28,
          20,
          18,
          24,
          23,
          23,
          18,
          24,
          20,
          18,
          26,
          19,
          27,
          20,
          21,
          20,
          18,
          25,
          26,
          20,
          26,
          26,
          19,
          24,
          20,
          18,
          19,
          18,
          18,
          18,
          18,
          18,
          22,
          20,
          22,
          19,
          18,
          20,
          20,
          18,
          23,
          25,
          18,
          25,
          26,
          18,
          29,
          19,
          19,
          24,
          20,
          21,
          25,
          18,
          23,
          22,
          21,
          29,
          19,
          21,
          18,
          21,
          26,
          21,
          18,
          18,
          18,
          25,
          18,
          23,
          18,
          18,
          24,
          27,
          18,
          23,
          18,
          21,
          18,
          24,
          23,
          22,
          18,
          22,
          25,
          24,
          18,
          22,
          19,
          18,
          21,
          18,
          18,
          23,
          31,
          31,
          18,
          20,
          29,
          24,
          18,
          29,
          29,
          26,
          23,
          27,
          18,
          22,
          28,
          28,
          27,
          20,
          24,
          26,
          18,
          18,
          18,
          18,
          23,
          20,
          21,
          22,
          28,
          18,
          23,
          18,
          24,
          19,
          25,
          21,
          23,
          18,
          19,
          23,
          27,
          24,
          23,
          31,
          20,
          18,
          18,
          23,
          24,
          20,
          18,
          22,
          24,
          19,
          20,
          18,
          22,
          21,
          19,
          20,
          18,
          18,
          18,
          20,
          26,
          18,
          18,
          18,
          25,
          22,
          20,
          18,
          23,
          27,
          24,
          24,
          35,
          19,
          18,
          20,
          18,
          18,
          18,
          20,
          18,
          24,
          22,
          21,
          18,
          18,
          24,
          18,
          20,
          18,
          25,
          26,
          24,
          22,
          19,
          22,
          19,
          23,
          24,
          23,
          20,
          18,
          23,
          18,
          18,
          23,
          24,
          18,
          18,
          21,
          23,
          19,
          23,
          24,
          22,
          18,
          28,
          21,
          18,
          20,
          18,
          26,
          18,
          22,
          26,
          18,
          18,
          19,
          22,
          23,
          21,
          23,
          18,
          18,
          21,
          23,
          18,
          18,
          20,
          29,
          18,
          27,
          20,
          28,
          18,
          23,
          18,
          19,
          23,
          21,
          19,
          29,
          23,
          18,
          20,
          23,
          22,
          22,
          18,
          20,
          19,
          25,
          18,
          32,
          26,
          30,
          23,
          25,
          22,
          24,
          25,
          25,
          21,
          31,
          18,
          19,
          18,
          18,
          35,
          25,
          26,
          21,
          18,
          22,
          21,
          19,
          19,
          18,
          26,
          18,
          23,
          18,
          22,
          18,
          19,
          20,
          28,
          25,
          19,
          18,
          19,
          19,
          22,
          28,
          23,
          23,
          24,
          27,
          18,
          21,
          20,
          24,
          19,
          27,
          25,
          23,
          22,
          18,
          21,
          18,
          18,
          18,
          18,
          18,
          23,
          23,
          24,
          18,
          28,
          20,
          18,
          22,
          18,
          18,
          18,
          21,
          22,
          18,
          23,
          18,
          20,
          23,
          18,
          18,
          19,
          18,
          22,
          21,
          23,
          26,
          29,
          21,
          18,
          22,
          26,
          18,
          23,
          21,
          18,
          18,
          21,
          18,
          24,
          19,
          32,
          25,
          18,
          20,
          18,
          18,
          18,
          18,
          19,
          18,
          18,
          20,
          27,
          19,
          20,
          18,
          23,
          27,
          18,
          18,
          18,
          22,
          24,
          23,
          21,
          18,
          21,
          18,
          18,
          26,
          18,
          18,
          22,
          18,
          19,
          18,
          19,
          19,
          18,
          23,
          23,
          32,
          24,
          18,
          22,
          18,
          18,
          26,
          18,
          28,
          18,
          20,
          18,
          18,
          18,
          22,
          18,
          24,
          20,
          21,
          19,
          18,
          21,
          21,
          21,
          23,
          21,
          18,
          24,
          28,
          20,
          21,
          25,
          19,
          21,
          18,
          22,
          18,
          22,
          19,
          20,
          23,
          18,
          26,
          25,
          22,
          23,
          19,
          18,
          19,
          29,
          24,
          25,
          18,
          29,
          18,
          22,
          25,
          20,
          22,
          22,
          35,
          27,
          21,
          18,
          18,
          21,
          18,
          32,
          27,
          21,
          18,
          21,
          25,
          19,
          23,
          18,
          21,
          23,
          20,
          18,
          18,
          18,
          25,
          30,
          18,
          29,
          25,
          19,
          20,
          21,
          18,
          23,
          19,
          18,
          29,
          18,
          18,
          22,
          20,
          19,
          27,
          24,
          22,
          18,
          31,
          18,
          20,
          18,
          18,
          18,
          23,
          21,
          28,
          23,
          18,
          21,
          23,
          20,
          21,
          25,
          18,
          22,
          18,
          24,
          18,
          22,
          27,
          19,
          25,
          18,
          18,
          23,
          20,
          18,
          18,
          19,
          25,
          18,
          21,
          18,
          24,
          21,
          22,
          18,
          25,
          18,
          18,
          19,
          19,
          18,
          24,
          22,
          18,
          28,
          18,
          18,
          19,
          26,
          18,
          18,
          28,
          25,
          23,
          19,
          25,
          18,
          18,
          32,
          19,
          18,
          25,
          18,
          18,
          18,
          18,
          18,
          18,
          22,
          27,
          27,
          18,
          18,
          20,
          18,
          21,
          18,
          20,
          18,
          26,
          18,
          21,
          31,
          18,
          23,
          32,
          25,
          18,
          18,
          18,
          22,
          25,
          27,
          19,
          22,
          24,
          29,
          19,
          18,
          20,
          30,
          26,
          18,
          18,
          24,
          25,
          21,
          18,
          26,
          33,
          28,
          20,
          31,
          22,
          18,
          18,
          25,
          18,
          23,
          20,
          28,
          23,
          18,
          18,
          22,
          22,
          32,
          27,
          29,
          34,
          29,
          19,
          18,
          18,
          18,
          29,
          18,
          30,
          19,
          25,
          18,
          25,
          18,
          18,
          28,
          18,
          18,
          18,
          18,
          18,
          19,
          29,
          22,
          18,
          19,
          18,
          20,
          24,
          24,
          19,
          30,
          21,
          21,
          20,
          23,
          19,
          18,
          25,
          18,
          18,
          24,
          20,
          19,
          24,
          18,
          21,
          21,
          19,
          22,
          26,
          20,
          18,
          24,
          18,
          18,
          20,
          32,
          18,
          19,
          19,
          20,
          31,
          18,
          21,
          18,
          19,
          25,
          28,
          23,
          18,
          18,
          18,
          25,
          25,
          27,
          23,
          22,
          18,
          19,
          22,
          21,
          19,
          21,
          26,
          31,
          18,
          26,
          25,
          24,
          20,
          18,
          21,
          18,
          27,
          18,
          18,
          18,
          26,
          28,
          25,
          18,
          18,
          27,
          23,
          26,
          18,
          18,
          21,
          23,
          22,
          27,
          28,
          27,
          30,
          20,
          18,
          21,
          20,
          21,
          24,
          24,
          28,
          25,
          19,
          27,
          18,
          18,
          22,
          21,
          27,
          20,
          21,
          18,
          31,
          18,
          18,
          32,
          22,
          24,
          25,
          25,
          19,
          18,
          21,
          22,
          22,
          22,
          18,
          29,
          27,
          21,
          18,
          28,
          22,
          19,
          27,
          18,
          21,
          21,
          18,
          18,
          18,
          18,
          18,
          21,
          23,
          26,
          25,
          18,
          24,
          23,
          20,
          18,
          18,
          18,
          21,
          20,
          18,
          18,
          35,
          18,
          18,
          19,
          18,
          18,
          22,
          18,
          23,
          19,
          24,
          24,
          18,
          18,
          21,
          26,
          27,
          29,
          20,
          23,
          21,
          31,
          20,
          21,
          31,
          21,
          19,
          22,
          20,
          25,
          25,
          25,
          18,
          18,
          18,
          23,
          29,
          18,
          22,
          18,
          20,
          18,
          25,
          19,
          19,
          19,
          18,
          20,
          26,
          18,
          28,
          18,
          18,
          29,
          19,
          18,
          20,
          18,
          20,
          24,
          21,
          19,
          28,
          24,
          24,
          19,
          19,
          18,
          18,
          18,
          18,
          18,
          18,
          18,
          25,
          18,
          24,
          18,
          18,
          24
         ]
        }
       ],
       "layout": {
        "barmode": "overlay",
        "template": {
         "data": {
          "bar": [
           {
            "error_x": {
             "color": "#f2f5fa"
            },
            "error_y": {
             "color": "#f2f5fa"
            },
            "marker": {
             "line": {
              "color": "rgb(17,17,17)",
              "width": 0.5
             },
             "pattern": {
              "fillmode": "overlay",
              "size": 10,
              "solidity": 0.2
             }
            },
            "type": "bar"
           }
          ],
          "barpolar": [
           {
            "marker": {
             "line": {
              "color": "rgb(17,17,17)",
              "width": 0.5
             },
             "pattern": {
              "fillmode": "overlay",
              "size": 10,
              "solidity": 0.2
             }
            },
            "type": "barpolar"
           }
          ],
          "carpet": [
           {
            "aaxis": {
             "endlinecolor": "#A2B1C6",
             "gridcolor": "#506784",
             "linecolor": "#506784",
             "minorgridcolor": "#506784",
             "startlinecolor": "#A2B1C6"
            },
            "baxis": {
             "endlinecolor": "#A2B1C6",
             "gridcolor": "#506784",
             "linecolor": "#506784",
             "minorgridcolor": "#506784",
             "startlinecolor": "#A2B1C6"
            },
            "type": "carpet"
           }
          ],
          "choropleth": [
           {
            "colorbar": {
             "outlinewidth": 0,
             "ticks": ""
            },
            "type": "choropleth"
           }
          ],
          "contour": [
           {
            "colorbar": {
             "outlinewidth": 0,
             "ticks": ""
            },
            "colorscale": [
             [
              0,
              "#0d0887"
             ],
             [
              0.1111111111111111,
              "#46039f"
             ],
             [
              0.2222222222222222,
              "#7201a8"
             ],
             [
              0.3333333333333333,
              "#9c179e"
             ],
             [
              0.4444444444444444,
              "#bd3786"
             ],
             [
              0.5555555555555556,
              "#d8576b"
             ],
             [
              0.6666666666666666,
              "#ed7953"
             ],
             [
              0.7777777777777778,
              "#fb9f3a"
             ],
             [
              0.8888888888888888,
              "#fdca26"
             ],
             [
              1,
              "#f0f921"
             ]
            ],
            "type": "contour"
           }
          ],
          "contourcarpet": [
           {
            "colorbar": {
             "outlinewidth": 0,
             "ticks": ""
            },
            "type": "contourcarpet"
           }
          ],
          "heatmap": [
           {
            "colorbar": {
             "outlinewidth": 0,
             "ticks": ""
            },
            "colorscale": [
             [
              0,
              "#0d0887"
             ],
             [
              0.1111111111111111,
              "#46039f"
             ],
             [
              0.2222222222222222,
              "#7201a8"
             ],
             [
              0.3333333333333333,
              "#9c179e"
             ],
             [
              0.4444444444444444,
              "#bd3786"
             ],
             [
              0.5555555555555556,
              "#d8576b"
             ],
             [
              0.6666666666666666,
              "#ed7953"
             ],
             [
              0.7777777777777778,
              "#fb9f3a"
             ],
             [
              0.8888888888888888,
              "#fdca26"
             ],
             [
              1,
              "#f0f921"
             ]
            ],
            "type": "heatmap"
           }
          ],
          "heatmapgl": [
           {
            "colorbar": {
             "outlinewidth": 0,
             "ticks": ""
            },
            "colorscale": [
             [
              0,
              "#0d0887"
             ],
             [
              0.1111111111111111,
              "#46039f"
             ],
             [
              0.2222222222222222,
              "#7201a8"
             ],
             [
              0.3333333333333333,
              "#9c179e"
             ],
             [
              0.4444444444444444,
              "#bd3786"
             ],
             [
              0.5555555555555556,
              "#d8576b"
             ],
             [
              0.6666666666666666,
              "#ed7953"
             ],
             [
              0.7777777777777778,
              "#fb9f3a"
             ],
             [
              0.8888888888888888,
              "#fdca26"
             ],
             [
              1,
              "#f0f921"
             ]
            ],
            "type": "heatmapgl"
           }
          ],
          "histogram": [
           {
            "marker": {
             "pattern": {
              "fillmode": "overlay",
              "size": 10,
              "solidity": 0.2
             }
            },
            "type": "histogram"
           }
          ],
          "histogram2d": [
           {
            "colorbar": {
             "outlinewidth": 0,
             "ticks": ""
            },
            "colorscale": [
             [
              0,
              "#0d0887"
             ],
             [
              0.1111111111111111,
              "#46039f"
             ],
             [
              0.2222222222222222,
              "#7201a8"
             ],
             [
              0.3333333333333333,
              "#9c179e"
             ],
             [
              0.4444444444444444,
              "#bd3786"
             ],
             [
              0.5555555555555556,
              "#d8576b"
             ],
             [
              0.6666666666666666,
              "#ed7953"
             ],
             [
              0.7777777777777778,
              "#fb9f3a"
             ],
             [
              0.8888888888888888,
              "#fdca26"
             ],
             [
              1,
              "#f0f921"
             ]
            ],
            "type": "histogram2d"
           }
          ],
          "histogram2dcontour": [
           {
            "colorbar": {
             "outlinewidth": 0,
             "ticks": ""
            },
            "colorscale": [
             [
              0,
              "#0d0887"
             ],
             [
              0.1111111111111111,
              "#46039f"
             ],
             [
              0.2222222222222222,
              "#7201a8"
             ],
             [
              0.3333333333333333,
              "#9c179e"
             ],
             [
              0.4444444444444444,
              "#bd3786"
             ],
             [
              0.5555555555555556,
              "#d8576b"
             ],
             [
              0.6666666666666666,
              "#ed7953"
             ],
             [
              0.7777777777777778,
              "#fb9f3a"
             ],
             [
              0.8888888888888888,
              "#fdca26"
             ],
             [
              1,
              "#f0f921"
             ]
            ],
            "type": "histogram2dcontour"
           }
          ],
          "mesh3d": [
           {
            "colorbar": {
             "outlinewidth": 0,
             "ticks": ""
            },
            "type": "mesh3d"
           }
          ],
          "parcoords": [
           {
            "line": {
             "colorbar": {
              "outlinewidth": 0,
              "ticks": ""
             }
            },
            "type": "parcoords"
           }
          ],
          "pie": [
           {
            "automargin": true,
            "type": "pie"
           }
          ],
          "scatter": [
           {
            "marker": {
             "line": {
              "color": "#283442"
             }
            },
            "type": "scatter"
           }
          ],
          "scatter3d": [
           {
            "line": {
             "colorbar": {
              "outlinewidth": 0,
              "ticks": ""
             }
            },
            "marker": {
             "colorbar": {
              "outlinewidth": 0,
              "ticks": ""
             }
            },
            "type": "scatter3d"
           }
          ],
          "scattercarpet": [
           {
            "marker": {
             "colorbar": {
              "outlinewidth": 0,
              "ticks": ""
             }
            },
            "type": "scattercarpet"
           }
          ],
          "scattergeo": [
           {
            "marker": {
             "colorbar": {
              "outlinewidth": 0,
              "ticks": ""
             }
            },
            "type": "scattergeo"
           }
          ],
          "scattergl": [
           {
            "marker": {
             "line": {
              "color": "#283442"
             }
            },
            "type": "scattergl"
           }
          ],
          "scattermapbox": [
           {
            "marker": {
             "colorbar": {
              "outlinewidth": 0,
              "ticks": ""
             }
            },
            "type": "scattermapbox"
           }
          ],
          "scatterpolar": [
           {
            "marker": {
             "colorbar": {
              "outlinewidth": 0,
              "ticks": ""
             }
            },
            "type": "scatterpolar"
           }
          ],
          "scatterpolargl": [
           {
            "marker": {
             "colorbar": {
              "outlinewidth": 0,
              "ticks": ""
             }
            },
            "type": "scatterpolargl"
           }
          ],
          "scatterternary": [
           {
            "marker": {
             "colorbar": {
              "outlinewidth": 0,
              "ticks": ""
             }
            },
            "type": "scatterternary"
           }
          ],
          "surface": [
           {
            "colorbar": {
             "outlinewidth": 0,
             "ticks": ""
            },
            "colorscale": [
             [
              0,
              "#0d0887"
             ],
             [
              0.1111111111111111,
              "#46039f"
             ],
             [
              0.2222222222222222,
              "#7201a8"
             ],
             [
              0.3333333333333333,
              "#9c179e"
             ],
             [
              0.4444444444444444,
              "#bd3786"
             ],
             [
              0.5555555555555556,
              "#d8576b"
             ],
             [
              0.6666666666666666,
              "#ed7953"
             ],
             [
              0.7777777777777778,
              "#fb9f3a"
             ],
             [
              0.8888888888888888,
              "#fdca26"
             ],
             [
              1,
              "#f0f921"
             ]
            ],
            "type": "surface"
           }
          ],
          "table": [
           {
            "cells": {
             "fill": {
              "color": "#506784"
             },
             "line": {
              "color": "rgb(17,17,17)"
             }
            },
            "header": {
             "fill": {
              "color": "#2a3f5f"
             },
             "line": {
              "color": "rgb(17,17,17)"
             }
            },
            "type": "table"
           }
          ]
         },
         "layout": {
          "annotationdefaults": {
           "arrowcolor": "#f2f5fa",
           "arrowhead": 0,
           "arrowwidth": 1
          },
          "autotypenumbers": "strict",
          "coloraxis": {
           "colorbar": {
            "outlinewidth": 0,
            "ticks": ""
           }
          },
          "colorscale": {
           "diverging": [
            [
             0,
             "#8e0152"
            ],
            [
             0.1,
             "#c51b7d"
            ],
            [
             0.2,
             "#de77ae"
            ],
            [
             0.3,
             "#f1b6da"
            ],
            [
             0.4,
             "#fde0ef"
            ],
            [
             0.5,
             "#f7f7f7"
            ],
            [
             0.6,
             "#e6f5d0"
            ],
            [
             0.7,
             "#b8e186"
            ],
            [
             0.8,
             "#7fbc41"
            ],
            [
             0.9,
             "#4d9221"
            ],
            [
             1,
             "#276419"
            ]
           ],
           "sequential": [
            [
             0,
             "#0d0887"
            ],
            [
             0.1111111111111111,
             "#46039f"
            ],
            [
             0.2222222222222222,
             "#7201a8"
            ],
            [
             0.3333333333333333,
             "#9c179e"
            ],
            [
             0.4444444444444444,
             "#bd3786"
            ],
            [
             0.5555555555555556,
             "#d8576b"
            ],
            [
             0.6666666666666666,
             "#ed7953"
            ],
            [
             0.7777777777777778,
             "#fb9f3a"
            ],
            [
             0.8888888888888888,
             "#fdca26"
            ],
            [
             1,
             "#f0f921"
            ]
           ],
           "sequentialminus": [
            [
             0,
             "#0d0887"
            ],
            [
             0.1111111111111111,
             "#46039f"
            ],
            [
             0.2222222222222222,
             "#7201a8"
            ],
            [
             0.3333333333333333,
             "#9c179e"
            ],
            [
             0.4444444444444444,
             "#bd3786"
            ],
            [
             0.5555555555555556,
             "#d8576b"
            ],
            [
             0.6666666666666666,
             "#ed7953"
            ],
            [
             0.7777777777777778,
             "#fb9f3a"
            ],
            [
             0.8888888888888888,
             "#fdca26"
            ],
            [
             1,
             "#f0f921"
            ]
           ]
          },
          "colorway": [
           "#636efa",
           "#EF553B",
           "#00cc96",
           "#ab63fa",
           "#FFA15A",
           "#19d3f3",
           "#FF6692",
           "#B6E880",
           "#FF97FF",
           "#FECB52"
          ],
          "font": {
           "color": "#f2f5fa"
          },
          "geo": {
           "bgcolor": "rgb(17,17,17)",
           "lakecolor": "rgb(17,17,17)",
           "landcolor": "rgb(17,17,17)",
           "showlakes": true,
           "showland": true,
           "subunitcolor": "#506784"
          },
          "hoverlabel": {
           "align": "left"
          },
          "hovermode": "closest",
          "mapbox": {
           "style": "dark"
          },
          "paper_bgcolor": "rgb(17,17,17)",
          "plot_bgcolor": "rgb(17,17,17)",
          "polar": {
           "angularaxis": {
            "gridcolor": "#506784",
            "linecolor": "#506784",
            "ticks": ""
           },
           "bgcolor": "rgb(17,17,17)",
           "radialaxis": {
            "gridcolor": "#506784",
            "linecolor": "#506784",
            "ticks": ""
           }
          },
          "scene": {
           "xaxis": {
            "backgroundcolor": "rgb(17,17,17)",
            "gridcolor": "#506784",
            "gridwidth": 2,
            "linecolor": "#506784",
            "showbackground": true,
            "ticks": "",
            "zerolinecolor": "#C8D4E3"
           },
           "yaxis": {
            "backgroundcolor": "rgb(17,17,17)",
            "gridcolor": "#506784",
            "gridwidth": 2,
            "linecolor": "#506784",
            "showbackground": true,
            "ticks": "",
            "zerolinecolor": "#C8D4E3"
           },
           "zaxis": {
            "backgroundcolor": "rgb(17,17,17)",
            "gridcolor": "#506784",
            "gridwidth": 2,
            "linecolor": "#506784",
            "showbackground": true,
            "ticks": "",
            "zerolinecolor": "#C8D4E3"
           }
          },
          "shapedefaults": {
           "line": {
            "color": "#f2f5fa"
           }
          },
          "sliderdefaults": {
           "bgcolor": "#C8D4E3",
           "bordercolor": "rgb(17,17,17)",
           "borderwidth": 1,
           "tickwidth": 0
          },
          "ternary": {
           "aaxis": {
            "gridcolor": "#506784",
            "linecolor": "#506784",
            "ticks": ""
           },
           "baxis": {
            "gridcolor": "#506784",
            "linecolor": "#506784",
            "ticks": ""
           },
           "bgcolor": "rgb(17,17,17)",
           "caxis": {
            "gridcolor": "#506784",
            "linecolor": "#506784",
            "ticks": ""
           }
          },
          "title": {
           "x": 0.05
          },
          "updatemenudefaults": {
           "bgcolor": "#506784",
           "borderwidth": 0
          },
          "xaxis": {
           "automargin": true,
           "gridcolor": "#283442",
           "linecolor": "#506784",
           "ticks": "",
           "title": {
            "standoff": 15
           },
           "zerolinecolor": "#283442",
           "zerolinewidth": 2
          },
          "yaxis": {
           "automargin": true,
           "gridcolor": "#283442",
           "linecolor": "#506784",
           "ticks": "",
           "title": {
            "standoff": 15
           },
           "zerolinecolor": "#283442",
           "zerolinewidth": 2
          }
         }
        },
        "title": {
         "text": "Simulated Read Length Distributions"
        },
        "xaxis": {
         "title": {
          "text": "Read Length"
         }
        },
        "yaxis": {
         "title": {
          "text": "Density"
         }
        }
       }
      }
     },
     "metadata": {},
     "output_type": "display_data"
    },
    {
     "data": {
      "application/vnd.plotly.v1+json": {
       "config": {
        "plotlyServerURL": "https://plot.ly"
       },
       "data": [
        {
         "histnorm": "probability",
         "type": "histogram",
         "x": [
          24,
          18,
          20,
          22,
          22,
          20,
          23,
          21,
          21,
          20,
          21,
          18,
          18,
          20,
          20,
          23,
          23,
          20,
          24,
          22,
          23,
          22,
          23,
          22,
          23,
          21,
          22,
          19,
          20,
          18,
          22,
          22,
          18,
          22,
          24,
          22,
          22,
          20,
          22,
          24,
          20,
          21,
          21,
          21,
          24,
          22,
          23,
          21,
          22,
          19,
          21,
          23,
          21,
          23,
          20,
          21,
          21,
          20,
          22,
          20,
          20,
          23,
          21,
          24,
          19,
          20,
          21,
          21,
          24,
          23,
          22,
          23,
          21,
          23,
          20,
          23,
          21,
          20,
          23,
          23,
          23,
          22,
          24,
          18,
          24,
          23,
          22,
          21,
          20,
          20,
          22,
          18,
          23,
          20,
          22,
          20,
          23,
          23,
          21,
          21,
          21,
          22,
          21,
          21,
          22,
          23,
          24,
          23,
          20,
          18,
          22,
          23,
          23,
          20,
          21,
          19,
          23,
          21,
          20,
          23,
          22,
          20,
          18,
          24,
          18,
          20,
          19,
          21,
          25,
          23,
          21,
          21,
          23,
          22,
          24,
          26,
          24,
          23,
          24,
          22,
          20,
          19,
          22,
          23,
          20,
          23,
          21,
          21,
          24,
          22,
          24,
          23,
          19,
          21,
          22,
          20,
          20,
          21,
          21,
          20,
          22,
          22,
          20,
          21,
          24,
          22,
          21,
          22,
          24,
          20,
          24,
          22,
          21,
          22,
          21,
          25,
          21,
          22,
          22,
          22,
          20,
          25,
          21,
          23,
          20,
          24,
          19,
          24,
          19,
          22,
          20,
          21,
          19,
          20,
          20,
          21,
          19,
          19,
          20,
          20,
          19,
          23,
          19,
          21,
          20,
          23,
          23,
          24,
          20,
          24,
          21,
          23,
          20,
          21,
          22,
          22,
          22,
          23,
          20,
          20,
          23,
          21,
          21,
          21,
          24,
          21,
          22,
          23,
          23,
          21,
          22,
          22,
          24,
          19,
          24,
          23,
          18,
          23,
          24,
          19,
          22,
          21,
          21,
          20,
          21,
          23,
          20,
          20,
          22,
          21,
          23,
          23,
          20,
          21,
          20,
          20,
          22,
          24,
          23,
          22,
          23,
          21,
          23,
          21,
          22,
          24,
          25,
          22,
          22,
          23,
          18,
          22,
          21,
          20,
          23,
          23,
          24,
          23,
          21,
          18,
          19,
          22,
          24,
          22,
          20,
          25,
          22,
          21,
          19,
          22,
          24,
          21,
          21,
          25,
          23,
          24,
          23,
          19,
          19,
          23,
          22,
          20,
          21,
          23,
          25,
          23,
          22,
          22,
          23,
          22,
          23,
          18,
          23,
          20,
          25,
          21,
          22,
          20,
          21,
          24,
          19,
          24,
          23,
          21,
          21,
          22,
          21,
          21,
          22,
          21,
          23,
          20,
          21,
          19,
          22,
          23,
          21,
          24,
          21,
          23,
          22,
          20,
          19,
          21,
          19,
          21,
          21,
          20,
          23,
          24,
          22,
          19,
          23,
          20,
          23,
          23,
          21,
          22,
          22,
          27,
          22,
          22,
          21,
          18,
          22,
          21,
          18,
          22,
          22,
          22,
          21,
          21,
          18,
          20,
          21,
          21,
          20,
          21,
          21,
          23,
          23,
          23,
          19,
          20,
          22,
          20,
          21,
          20,
          24,
          25,
          21,
          20,
          20,
          21,
          21,
          25,
          23,
          23,
          22,
          26,
          24,
          22,
          23,
          23,
          22,
          24,
          21,
          21,
          25,
          20,
          20,
          25,
          22,
          22,
          24,
          21,
          20,
          23,
          19,
          21,
          24,
          24,
          20,
          20,
          20,
          22,
          24,
          21,
          23,
          21,
          20,
          21,
          22,
          24,
          21,
          23,
          21,
          18,
          19,
          20,
          20,
          21,
          22,
          22,
          19,
          21,
          22,
          21,
          20,
          25,
          25,
          19,
          19,
          23,
          26,
          21,
          20,
          23,
          20,
          21,
          22,
          24,
          21,
          22,
          24,
          20,
          21,
          20,
          21,
          22,
          22,
          22,
          22,
          22,
          22,
          24,
          21,
          21,
          22,
          24,
          21,
          22,
          20,
          22,
          19,
          23,
          21,
          21,
          20,
          22,
          21,
          22,
          25,
          20,
          19,
          22,
          21,
          23,
          19,
          20,
          25,
          23,
          20,
          21,
          20,
          20,
          22,
          24,
          21,
          22,
          21,
          19,
          23,
          24,
          23,
          24,
          21,
          21,
          22,
          24,
          21,
          21,
          22,
          21,
          24,
          20,
          24,
          19,
          21,
          21,
          24,
          19,
          21,
          20,
          20,
          24,
          18,
          23,
          25,
          20,
          22,
          24,
          24,
          25,
          20,
          26,
          22,
          25,
          20,
          18,
          22,
          22,
          19,
          19,
          23,
          25,
          22,
          20,
          20,
          22,
          18,
          21,
          23,
          20,
          25,
          21,
          21,
          23,
          22,
          24,
          22,
          22,
          20,
          22,
          24,
          21,
          22,
          21,
          22,
          21,
          25,
          25,
          22,
          25,
          20,
          22,
          26,
          23,
          23,
          22,
          19,
          21,
          22,
          21,
          22,
          19,
          25,
          22,
          21,
          26,
          18,
          22,
          21,
          23,
          22,
          23,
          22,
          22,
          19,
          20,
          23,
          23,
          24,
          19,
          21,
          22,
          21,
          22,
          24,
          22,
          23,
          19,
          22,
          21,
          22,
          21,
          24,
          24,
          23,
          21,
          23,
          21,
          22,
          22,
          21,
          20,
          23,
          20,
          19,
          23,
          23,
          19,
          20,
          21,
          20,
          25,
          23,
          24,
          25,
          24,
          23,
          20,
          22,
          25,
          25,
          21,
          23,
          19,
          21,
          21,
          21,
          22,
          24,
          23,
          20,
          21,
          22,
          23,
          21,
          24,
          19,
          24,
          24,
          24,
          20,
          23,
          24,
          22,
          23,
          23,
          20,
          21,
          21,
          24,
          18,
          23,
          21,
          23,
          18,
          24,
          22,
          22,
          21,
          22,
          19,
          23,
          20,
          22,
          24,
          20,
          22,
          22,
          24,
          23,
          21,
          23,
          21,
          19,
          24,
          22,
          25,
          20,
          22,
          20,
          22,
          20,
          18,
          20,
          21,
          21,
          23,
          22,
          20,
          23,
          24,
          23,
          21,
          23,
          24,
          22,
          22,
          23,
          18,
          18,
          20,
          23,
          23,
          23,
          21,
          25,
          22,
          23,
          23,
          18,
          20,
          22,
          22,
          19,
          21,
          20,
          21,
          20,
          22,
          24,
          26,
          22,
          20,
          22,
          19,
          19,
          22,
          24,
          24,
          18,
          23,
          23,
          23,
          20,
          21,
          25,
          20,
          25,
          22,
          22,
          21,
          24,
          20,
          18,
          21,
          25,
          21,
          24,
          21,
          18,
          22,
          24,
          20,
          21,
          21,
          21,
          22,
          20,
          18,
          21,
          20,
          22,
          19,
          21,
          20,
          21,
          21,
          23,
          23,
          23,
          21,
          20,
          21,
          23,
          21,
          24,
          21,
          23,
          24,
          23,
          22,
          23,
          21,
          22,
          19,
          20,
          19,
          24,
          22,
          20,
          21,
          20,
          23,
          21,
          20,
          19,
          23,
          22,
          21,
          22,
          21,
          21,
          25,
          21,
          22,
          20,
          23,
          21,
          26,
          23,
          21,
          20,
          22,
          22,
          20,
          20,
          23,
          23,
          23,
          22,
          19,
          21,
          22,
          22,
          19,
          20,
          22,
          25,
          22,
          20,
          21,
          23,
          23,
          20,
          22,
          23,
          21,
          21,
          20,
          20,
          23,
          24,
          22,
          21,
          22,
          21,
          23,
          21,
          23,
          21,
          22,
          22,
          22,
          22,
          21,
          23,
          21,
          22,
          23,
          21,
          22,
          24,
          20,
          22,
          20,
          22,
          20,
          23,
          23,
          23,
          24,
          21,
          20,
          20,
          21,
          21,
          22,
          23,
          23,
          20,
          20,
          22,
          23,
          20,
          20,
          20,
          23,
          23,
          22,
          23,
          18,
          21,
          19,
          22,
          21,
          25,
          21,
          23,
          22,
          23,
          20,
          19,
          21,
          24,
          23,
          22,
          24,
          19,
          21,
          21,
          22,
          21,
          22,
          24,
          20,
          23,
          23,
          19,
          22,
          20,
          23,
          19,
          22,
          20,
          21,
          22,
          19,
          21,
          23,
          24,
          22,
          21,
          20,
          21,
          21,
          21,
          24,
          23,
          21,
          22,
          23,
          22,
          22,
          25,
          22,
          24,
          21,
          19,
          19,
          23,
          19,
          21,
          19,
          21,
          22,
          21,
          18,
          22,
          21,
          19,
          21,
          20,
          24,
          22,
          21,
          18
         ]
        }
       ],
       "layout": {
        "barmode": "overlay",
        "template": {
         "data": {
          "bar": [
           {
            "error_x": {
             "color": "#f2f5fa"
            },
            "error_y": {
             "color": "#f2f5fa"
            },
            "marker": {
             "line": {
              "color": "rgb(17,17,17)",
              "width": 0.5
             },
             "pattern": {
              "fillmode": "overlay",
              "size": 10,
              "solidity": 0.2
             }
            },
            "type": "bar"
           }
          ],
          "barpolar": [
           {
            "marker": {
             "line": {
              "color": "rgb(17,17,17)",
              "width": 0.5
             },
             "pattern": {
              "fillmode": "overlay",
              "size": 10,
              "solidity": 0.2
             }
            },
            "type": "barpolar"
           }
          ],
          "carpet": [
           {
            "aaxis": {
             "endlinecolor": "#A2B1C6",
             "gridcolor": "#506784",
             "linecolor": "#506784",
             "minorgridcolor": "#506784",
             "startlinecolor": "#A2B1C6"
            },
            "baxis": {
             "endlinecolor": "#A2B1C6",
             "gridcolor": "#506784",
             "linecolor": "#506784",
             "minorgridcolor": "#506784",
             "startlinecolor": "#A2B1C6"
            },
            "type": "carpet"
           }
          ],
          "choropleth": [
           {
            "colorbar": {
             "outlinewidth": 0,
             "ticks": ""
            },
            "type": "choropleth"
           }
          ],
          "contour": [
           {
            "colorbar": {
             "outlinewidth": 0,
             "ticks": ""
            },
            "colorscale": [
             [
              0,
              "#0d0887"
             ],
             [
              0.1111111111111111,
              "#46039f"
             ],
             [
              0.2222222222222222,
              "#7201a8"
             ],
             [
              0.3333333333333333,
              "#9c179e"
             ],
             [
              0.4444444444444444,
              "#bd3786"
             ],
             [
              0.5555555555555556,
              "#d8576b"
             ],
             [
              0.6666666666666666,
              "#ed7953"
             ],
             [
              0.7777777777777778,
              "#fb9f3a"
             ],
             [
              0.8888888888888888,
              "#fdca26"
             ],
             [
              1,
              "#f0f921"
             ]
            ],
            "type": "contour"
           }
          ],
          "contourcarpet": [
           {
            "colorbar": {
             "outlinewidth": 0,
             "ticks": ""
            },
            "type": "contourcarpet"
           }
          ],
          "heatmap": [
           {
            "colorbar": {
             "outlinewidth": 0,
             "ticks": ""
            },
            "colorscale": [
             [
              0,
              "#0d0887"
             ],
             [
              0.1111111111111111,
              "#46039f"
             ],
             [
              0.2222222222222222,
              "#7201a8"
             ],
             [
              0.3333333333333333,
              "#9c179e"
             ],
             [
              0.4444444444444444,
              "#bd3786"
             ],
             [
              0.5555555555555556,
              "#d8576b"
             ],
             [
              0.6666666666666666,
              "#ed7953"
             ],
             [
              0.7777777777777778,
              "#fb9f3a"
             ],
             [
              0.8888888888888888,
              "#fdca26"
             ],
             [
              1,
              "#f0f921"
             ]
            ],
            "type": "heatmap"
           }
          ],
          "heatmapgl": [
           {
            "colorbar": {
             "outlinewidth": 0,
             "ticks": ""
            },
            "colorscale": [
             [
              0,
              "#0d0887"
             ],
             [
              0.1111111111111111,
              "#46039f"
             ],
             [
              0.2222222222222222,
              "#7201a8"
             ],
             [
              0.3333333333333333,
              "#9c179e"
             ],
             [
              0.4444444444444444,
              "#bd3786"
             ],
             [
              0.5555555555555556,
              "#d8576b"
             ],
             [
              0.6666666666666666,
              "#ed7953"
             ],
             [
              0.7777777777777778,
              "#fb9f3a"
             ],
             [
              0.8888888888888888,
              "#fdca26"
             ],
             [
              1,
              "#f0f921"
             ]
            ],
            "type": "heatmapgl"
           }
          ],
          "histogram": [
           {
            "marker": {
             "pattern": {
              "fillmode": "overlay",
              "size": 10,
              "solidity": 0.2
             }
            },
            "type": "histogram"
           }
          ],
          "histogram2d": [
           {
            "colorbar": {
             "outlinewidth": 0,
             "ticks": ""
            },
            "colorscale": [
             [
              0,
              "#0d0887"
             ],
             [
              0.1111111111111111,
              "#46039f"
             ],
             [
              0.2222222222222222,
              "#7201a8"
             ],
             [
              0.3333333333333333,
              "#9c179e"
             ],
             [
              0.4444444444444444,
              "#bd3786"
             ],
             [
              0.5555555555555556,
              "#d8576b"
             ],
             [
              0.6666666666666666,
              "#ed7953"
             ],
             [
              0.7777777777777778,
              "#fb9f3a"
             ],
             [
              0.8888888888888888,
              "#fdca26"
             ],
             [
              1,
              "#f0f921"
             ]
            ],
            "type": "histogram2d"
           }
          ],
          "histogram2dcontour": [
           {
            "colorbar": {
             "outlinewidth": 0,
             "ticks": ""
            },
            "colorscale": [
             [
              0,
              "#0d0887"
             ],
             [
              0.1111111111111111,
              "#46039f"
             ],
             [
              0.2222222222222222,
              "#7201a8"
             ],
             [
              0.3333333333333333,
              "#9c179e"
             ],
             [
              0.4444444444444444,
              "#bd3786"
             ],
             [
              0.5555555555555556,
              "#d8576b"
             ],
             [
              0.6666666666666666,
              "#ed7953"
             ],
             [
              0.7777777777777778,
              "#fb9f3a"
             ],
             [
              0.8888888888888888,
              "#fdca26"
             ],
             [
              1,
              "#f0f921"
             ]
            ],
            "type": "histogram2dcontour"
           }
          ],
          "mesh3d": [
           {
            "colorbar": {
             "outlinewidth": 0,
             "ticks": ""
            },
            "type": "mesh3d"
           }
          ],
          "parcoords": [
           {
            "line": {
             "colorbar": {
              "outlinewidth": 0,
              "ticks": ""
             }
            },
            "type": "parcoords"
           }
          ],
          "pie": [
           {
            "automargin": true,
            "type": "pie"
           }
          ],
          "scatter": [
           {
            "marker": {
             "line": {
              "color": "#283442"
             }
            },
            "type": "scatter"
           }
          ],
          "scatter3d": [
           {
            "line": {
             "colorbar": {
              "outlinewidth": 0,
              "ticks": ""
             }
            },
            "marker": {
             "colorbar": {
              "outlinewidth": 0,
              "ticks": ""
             }
            },
            "type": "scatter3d"
           }
          ],
          "scattercarpet": [
           {
            "marker": {
             "colorbar": {
              "outlinewidth": 0,
              "ticks": ""
             }
            },
            "type": "scattercarpet"
           }
          ],
          "scattergeo": [
           {
            "marker": {
             "colorbar": {
              "outlinewidth": 0,
              "ticks": ""
             }
            },
            "type": "scattergeo"
           }
          ],
          "scattergl": [
           {
            "marker": {
             "line": {
              "color": "#283442"
             }
            },
            "type": "scattergl"
           }
          ],
          "scattermapbox": [
           {
            "marker": {
             "colorbar": {
              "outlinewidth": 0,
              "ticks": ""
             }
            },
            "type": "scattermapbox"
           }
          ],
          "scatterpolar": [
           {
            "marker": {
             "colorbar": {
              "outlinewidth": 0,
              "ticks": ""
             }
            },
            "type": "scatterpolar"
           }
          ],
          "scatterpolargl": [
           {
            "marker": {
             "colorbar": {
              "outlinewidth": 0,
              "ticks": ""
             }
            },
            "type": "scatterpolargl"
           }
          ],
          "scatterternary": [
           {
            "marker": {
             "colorbar": {
              "outlinewidth": 0,
              "ticks": ""
             }
            },
            "type": "scatterternary"
           }
          ],
          "surface": [
           {
            "colorbar": {
             "outlinewidth": 0,
             "ticks": ""
            },
            "colorscale": [
             [
              0,
              "#0d0887"
             ],
             [
              0.1111111111111111,
              "#46039f"
             ],
             [
              0.2222222222222222,
              "#7201a8"
             ],
             [
              0.3333333333333333,
              "#9c179e"
             ],
             [
              0.4444444444444444,
              "#bd3786"
             ],
             [
              0.5555555555555556,
              "#d8576b"
             ],
             [
              0.6666666666666666,
              "#ed7953"
             ],
             [
              0.7777777777777778,
              "#fb9f3a"
             ],
             [
              0.8888888888888888,
              "#fdca26"
             ],
             [
              1,
              "#f0f921"
             ]
            ],
            "type": "surface"
           }
          ],
          "table": [
           {
            "cells": {
             "fill": {
              "color": "#506784"
             },
             "line": {
              "color": "rgb(17,17,17)"
             }
            },
            "header": {
             "fill": {
              "color": "#2a3f5f"
             },
             "line": {
              "color": "rgb(17,17,17)"
             }
            },
            "type": "table"
           }
          ]
         },
         "layout": {
          "annotationdefaults": {
           "arrowcolor": "#f2f5fa",
           "arrowhead": 0,
           "arrowwidth": 1
          },
          "autotypenumbers": "strict",
          "coloraxis": {
           "colorbar": {
            "outlinewidth": 0,
            "ticks": ""
           }
          },
          "colorscale": {
           "diverging": [
            [
             0,
             "#8e0152"
            ],
            [
             0.1,
             "#c51b7d"
            ],
            [
             0.2,
             "#de77ae"
            ],
            [
             0.3,
             "#f1b6da"
            ],
            [
             0.4,
             "#fde0ef"
            ],
            [
             0.5,
             "#f7f7f7"
            ],
            [
             0.6,
             "#e6f5d0"
            ],
            [
             0.7,
             "#b8e186"
            ],
            [
             0.8,
             "#7fbc41"
            ],
            [
             0.9,
             "#4d9221"
            ],
            [
             1,
             "#276419"
            ]
           ],
           "sequential": [
            [
             0,
             "#0d0887"
            ],
            [
             0.1111111111111111,
             "#46039f"
            ],
            [
             0.2222222222222222,
             "#7201a8"
            ],
            [
             0.3333333333333333,
             "#9c179e"
            ],
            [
             0.4444444444444444,
             "#bd3786"
            ],
            [
             0.5555555555555556,
             "#d8576b"
            ],
            [
             0.6666666666666666,
             "#ed7953"
            ],
            [
             0.7777777777777778,
             "#fb9f3a"
            ],
            [
             0.8888888888888888,
             "#fdca26"
            ],
            [
             1,
             "#f0f921"
            ]
           ],
           "sequentialminus": [
            [
             0,
             "#0d0887"
            ],
            [
             0.1111111111111111,
             "#46039f"
            ],
            [
             0.2222222222222222,
             "#7201a8"
            ],
            [
             0.3333333333333333,
             "#9c179e"
            ],
            [
             0.4444444444444444,
             "#bd3786"
            ],
            [
             0.5555555555555556,
             "#d8576b"
            ],
            [
             0.6666666666666666,
             "#ed7953"
            ],
            [
             0.7777777777777778,
             "#fb9f3a"
            ],
            [
             0.8888888888888888,
             "#fdca26"
            ],
            [
             1,
             "#f0f921"
            ]
           ]
          },
          "colorway": [
           "#636efa",
           "#EF553B",
           "#00cc96",
           "#ab63fa",
           "#FFA15A",
           "#19d3f3",
           "#FF6692",
           "#B6E880",
           "#FF97FF",
           "#FECB52"
          ],
          "font": {
           "color": "#f2f5fa"
          },
          "geo": {
           "bgcolor": "rgb(17,17,17)",
           "lakecolor": "rgb(17,17,17)",
           "landcolor": "rgb(17,17,17)",
           "showlakes": true,
           "showland": true,
           "subunitcolor": "#506784"
          },
          "hoverlabel": {
           "align": "left"
          },
          "hovermode": "closest",
          "mapbox": {
           "style": "dark"
          },
          "paper_bgcolor": "rgb(17,17,17)",
          "plot_bgcolor": "rgb(17,17,17)",
          "polar": {
           "angularaxis": {
            "gridcolor": "#506784",
            "linecolor": "#506784",
            "ticks": ""
           },
           "bgcolor": "rgb(17,17,17)",
           "radialaxis": {
            "gridcolor": "#506784",
            "linecolor": "#506784",
            "ticks": ""
           }
          },
          "scene": {
           "xaxis": {
            "backgroundcolor": "rgb(17,17,17)",
            "gridcolor": "#506784",
            "gridwidth": 2,
            "linecolor": "#506784",
            "showbackground": true,
            "ticks": "",
            "zerolinecolor": "#C8D4E3"
           },
           "yaxis": {
            "backgroundcolor": "rgb(17,17,17)",
            "gridcolor": "#506784",
            "gridwidth": 2,
            "linecolor": "#506784",
            "showbackground": true,
            "ticks": "",
            "zerolinecolor": "#C8D4E3"
           },
           "zaxis": {
            "backgroundcolor": "rgb(17,17,17)",
            "gridcolor": "#506784",
            "gridwidth": 2,
            "linecolor": "#506784",
            "showbackground": true,
            "ticks": "",
            "zerolinecolor": "#C8D4E3"
           }
          },
          "shapedefaults": {
           "line": {
            "color": "#f2f5fa"
           }
          },
          "sliderdefaults": {
           "bgcolor": "#C8D4E3",
           "bordercolor": "rgb(17,17,17)",
           "borderwidth": 1,
           "tickwidth": 0
          },
          "ternary": {
           "aaxis": {
            "gridcolor": "#506784",
            "linecolor": "#506784",
            "ticks": ""
           },
           "baxis": {
            "gridcolor": "#506784",
            "linecolor": "#506784",
            "ticks": ""
           },
           "bgcolor": "rgb(17,17,17)",
           "caxis": {
            "gridcolor": "#506784",
            "linecolor": "#506784",
            "ticks": ""
           }
          },
          "title": {
           "x": 0.05
          },
          "updatemenudefaults": {
           "bgcolor": "#506784",
           "borderwidth": 0
          },
          "xaxis": {
           "automargin": true,
           "gridcolor": "#283442",
           "linecolor": "#506784",
           "ticks": "",
           "title": {
            "standoff": 15
           },
           "zerolinecolor": "#283442",
           "zerolinewidth": 2
          },
          "yaxis": {
           "automargin": true,
           "gridcolor": "#283442",
           "linecolor": "#506784",
           "ticks": "",
           "title": {
            "standoff": 15
           },
           "zerolinecolor": "#283442",
           "zerolinewidth": 2
          }
         }
        },
        "title": {
         "text": "Simulated Read Length Distributions"
        },
        "xaxis": {
         "title": {
          "text": "Read Length"
         }
        },
        "yaxis": {
         "title": {
          "text": "Density"
         }
        }
       }
      }
     },
     "metadata": {},
     "output_type": "display_data"
    },
    {
     "data": {
      "application/vnd.plotly.v1+json": {
       "config": {
        "plotlyServerURL": "https://plot.ly"
       },
       "data": [
        {
         "histnorm": "probability",
         "type": "histogram",
         "x": [
          28,
          31,
          24,
          24,
          20,
          22,
          29,
          19,
          25,
          21,
          18,
          26,
          29,
          19,
          26,
          34,
          31,
          25,
          26,
          18,
          26,
          22,
          20,
          35,
          26,
          29,
          27,
          25,
          29,
          31,
          25,
          25,
          18,
          24,
          19,
          23,
          22,
          29,
          25,
          21,
          27,
          26,
          32,
          28,
          24,
          25,
          33,
          31,
          26,
          29,
          25,
          24,
          25,
          29,
          22,
          23,
          28,
          22,
          32,
          29,
          28,
          32,
          27,
          28,
          26,
          30,
          32,
          24,
          32,
          28,
          22,
          28,
          20,
          26,
          24,
          32,
          32,
          33,
          23,
          27,
          26,
          22,
          25,
          20,
          30,
          26,
          27,
          31,
          33,
          28,
          24,
          22,
          19,
          26,
          21,
          26,
          29,
          31,
          21,
          31,
          33,
          20,
          32,
          24,
          27,
          28,
          23,
          29,
          22,
          20,
          28,
          28,
          19,
          27,
          28,
          21,
          21,
          24,
          26,
          24,
          31,
          23,
          34,
          23,
          30,
          24,
          24,
          27,
          26,
          27,
          27,
          29,
          26,
          27,
          22,
          24,
          31,
          30,
          30,
          20,
          31,
          23,
          28,
          28,
          21,
          28,
          34,
          28,
          34,
          22,
          30,
          23,
          23,
          35,
          25,
          30,
          26,
          32,
          31,
          27,
          19,
          22,
          21,
          35,
          25,
          22,
          21,
          29,
          20,
          26,
          26,
          34,
          24,
          25,
          20,
          25,
          25,
          21,
          27,
          25,
          23,
          22,
          26,
          24,
          24,
          25,
          26,
          22,
          20,
          23,
          18,
          22,
          29,
          20,
          30,
          29,
          20,
          25,
          32,
          31,
          31,
          24,
          29,
          32,
          32,
          28,
          19,
          31,
          32,
          22,
          35,
          35,
          26,
          29,
          29,
          26,
          20,
          22,
          25,
          20,
          20,
          29,
          29,
          26,
          21,
          30,
          28,
          18,
          19,
          23,
          22,
          26,
          30,
          18,
          29,
          30,
          30,
          23,
          25,
          24,
          25,
          25,
          22,
          29,
          30,
          21,
          30,
          22,
          25,
          29,
          26,
          27,
          32,
          31,
          21,
          22,
          28,
          30,
          22,
          27,
          21,
          24,
          26,
          28,
          26,
          28,
          26,
          21,
          24,
          30,
          35,
          25,
          20,
          24,
          26,
          25,
          27,
          21,
          20,
          26,
          23,
          28,
          32,
          24,
          24,
          26,
          31,
          26,
          18,
          25,
          27,
          35,
          22,
          26,
          23,
          30,
          32,
          28,
          32,
          25,
          22,
          18,
          27,
          25,
          26,
          23,
          21,
          22,
          24,
          27,
          25,
          32,
          25,
          25,
          32,
          19,
          18,
          29,
          27,
          28,
          23,
          19,
          26,
          34,
          28,
          26,
          18,
          22,
          24,
          24,
          25,
          29,
          24,
          27,
          25,
          29,
          20,
          28,
          24,
          35,
          22,
          21,
          24,
          21,
          26,
          18,
          35,
          25,
          25,
          35,
          27,
          30,
          27,
          32,
          26,
          28,
          29,
          18,
          25,
          27,
          24,
          22,
          23,
          27,
          30,
          29,
          29,
          27,
          26,
          25,
          20,
          30,
          29,
          30,
          27,
          24,
          24,
          23,
          25,
          28,
          21,
          22,
          20,
          22,
          27,
          25,
          18,
          25,
          28,
          27,
          33,
          29,
          30,
          32,
          20,
          28,
          28,
          26,
          30,
          25,
          20,
          18,
          25,
          26,
          25,
          29,
          25,
          28,
          23,
          18,
          25,
          29,
          31,
          22,
          28,
          29,
          18,
          21,
          33,
          18,
          25,
          21,
          35,
          30,
          31,
          29,
          30,
          23,
          25,
          28,
          28,
          24,
          28,
          28,
          20,
          24,
          33,
          27,
          22,
          32,
          20,
          29,
          29,
          24,
          32,
          25,
          27,
          21,
          25,
          20,
          23,
          29,
          31,
          19,
          21,
          22,
          26,
          26,
          29,
          19,
          23,
          27,
          21,
          18,
          29,
          35,
          26,
          27,
          18,
          23,
          28,
          24,
          33,
          23,
          33,
          32,
          23,
          23,
          27,
          22,
          31,
          18,
          25,
          19,
          29,
          31,
          19,
          22,
          27,
          29,
          18,
          20,
          22,
          24,
          24,
          30,
          23,
          19,
          24,
          28,
          21,
          20,
          27,
          24,
          23,
          27,
          22,
          20,
          21,
          28,
          24,
          19,
          24,
          32,
          33,
          21,
          23,
          20,
          21,
          23,
          29,
          24,
          22,
          21,
          28,
          29,
          26,
          21,
          26,
          23,
          28,
          23,
          29,
          26,
          26,
          34,
          26,
          22,
          33,
          28,
          30,
          26,
          20,
          24,
          27,
          24,
          25,
          30,
          19,
          20,
          21,
          27,
          32,
          20,
          30,
          30,
          21,
          22,
          27,
          28,
          31,
          29,
          21,
          29,
          35,
          29,
          25,
          24,
          25,
          18,
          31,
          23,
          28,
          21,
          35,
          18,
          32,
          24,
          33,
          26,
          29,
          33,
          33,
          25,
          20,
          25,
          29,
          19,
          25,
          32,
          29,
          33,
          23,
          27,
          26,
          19,
          29,
          20,
          23,
          25,
          24,
          30,
          31,
          26,
          28,
          32,
          21,
          31,
          21,
          27,
          20,
          20,
          21,
          21,
          24,
          23,
          28,
          18,
          21,
          27,
          24,
          24,
          26,
          24,
          27,
          23,
          33,
          20,
          24,
          22,
          20,
          29,
          25,
          22,
          22,
          29,
          18,
          19,
          28,
          25,
          29,
          20,
          22,
          22,
          35,
          30,
          27,
          19,
          24,
          31,
          34,
          33,
          21,
          25,
          33,
          25,
          18,
          26,
          25,
          22,
          18,
          31,
          30,
          22,
          27,
          27,
          31,
          22,
          28,
          25,
          18,
          29,
          28,
          27,
          26,
          31,
          26,
          18,
          30,
          31,
          28,
          30,
          32,
          28,
          19,
          28,
          30,
          18,
          25,
          32,
          23,
          25,
          19,
          18,
          24,
          23,
          23,
          31,
          25,
          18,
          28,
          25,
          26,
          20,
          22,
          24,
          18,
          18,
          24,
          35,
          31,
          28,
          22,
          26,
          21,
          32,
          26,
          21,
          32,
          22,
          21,
          27,
          31,
          25,
          31,
          28,
          23,
          27,
          24,
          22,
          23,
          23,
          25,
          24,
          22,
          18,
          24,
          33,
          30,
          18,
          23,
          23,
          20,
          22,
          24,
          35,
          26,
          21,
          18,
          25,
          21,
          23,
          18,
          32,
          21,
          24,
          29,
          25,
          29,
          24,
          28,
          22,
          27,
          22,
          20,
          35,
          26,
          19,
          28,
          26,
          26,
          26,
          28,
          20,
          22,
          34,
          27,
          29,
          29,
          25,
          27,
          27,
          18,
          25,
          22,
          27,
          26,
          29,
          26,
          18,
          26,
          23,
          21,
          28,
          27,
          20,
          18,
          31,
          28,
          22,
          26,
          22,
          27,
          24,
          21,
          18,
          30,
          29,
          25,
          30,
          26,
          33,
          27,
          32,
          24,
          23,
          33,
          24,
          26,
          21,
          24,
          25,
          32,
          26,
          28,
          21,
          25,
          26,
          26,
          26,
          23,
          21,
          24,
          26,
          25,
          30,
          23,
          22,
          18,
          28,
          22,
          30,
          26,
          23,
          24,
          19,
          27,
          21,
          21,
          29,
          24,
          23,
          29,
          28,
          30,
          33,
          24,
          22,
          18,
          24,
          25,
          31,
          24,
          19,
          18,
          27,
          18,
          21,
          26,
          24,
          24,
          29,
          26,
          20,
          31,
          21,
          31,
          29,
          27,
          21,
          22,
          24,
          18,
          19,
          24,
          22,
          26,
          28,
          28,
          32,
          23,
          23,
          20,
          23,
          27,
          30,
          33,
          18,
          30,
          22,
          24,
          29,
          25,
          22,
          29,
          27,
          30,
          30,
          24,
          35,
          27,
          25,
          29,
          34,
          29,
          24,
          27,
          20,
          34,
          24,
          30,
          23,
          28,
          23,
          29,
          21,
          32,
          25,
          29,
          27,
          20,
          27,
          32,
          25,
          25,
          31,
          32,
          25,
          19,
          25,
          22,
          22,
          22,
          28,
          28,
          23,
          27,
          23,
          26,
          18,
          29,
          23,
          27,
          27,
          20,
          22,
          26,
          27,
          25,
          23,
          22,
          20,
          24,
          33,
          32,
          26,
          20,
          21,
          35,
          33,
          25,
          24,
          24,
          29,
          28,
          22,
          26,
          26,
          28,
          28,
          34,
          21,
          26,
          24,
          29,
          32,
          27,
          22,
          31,
          26,
          25,
          23,
          22,
          18,
          26,
          30,
          28,
          20,
          26,
          23
         ]
        }
       ],
       "layout": {
        "barmode": "overlay",
        "template": {
         "data": {
          "bar": [
           {
            "error_x": {
             "color": "#f2f5fa"
            },
            "error_y": {
             "color": "#f2f5fa"
            },
            "marker": {
             "line": {
              "color": "rgb(17,17,17)",
              "width": 0.5
             },
             "pattern": {
              "fillmode": "overlay",
              "size": 10,
              "solidity": 0.2
             }
            },
            "type": "bar"
           }
          ],
          "barpolar": [
           {
            "marker": {
             "line": {
              "color": "rgb(17,17,17)",
              "width": 0.5
             },
             "pattern": {
              "fillmode": "overlay",
              "size": 10,
              "solidity": 0.2
             }
            },
            "type": "barpolar"
           }
          ],
          "carpet": [
           {
            "aaxis": {
             "endlinecolor": "#A2B1C6",
             "gridcolor": "#506784",
             "linecolor": "#506784",
             "minorgridcolor": "#506784",
             "startlinecolor": "#A2B1C6"
            },
            "baxis": {
             "endlinecolor": "#A2B1C6",
             "gridcolor": "#506784",
             "linecolor": "#506784",
             "minorgridcolor": "#506784",
             "startlinecolor": "#A2B1C6"
            },
            "type": "carpet"
           }
          ],
          "choropleth": [
           {
            "colorbar": {
             "outlinewidth": 0,
             "ticks": ""
            },
            "type": "choropleth"
           }
          ],
          "contour": [
           {
            "colorbar": {
             "outlinewidth": 0,
             "ticks": ""
            },
            "colorscale": [
             [
              0,
              "#0d0887"
             ],
             [
              0.1111111111111111,
              "#46039f"
             ],
             [
              0.2222222222222222,
              "#7201a8"
             ],
             [
              0.3333333333333333,
              "#9c179e"
             ],
             [
              0.4444444444444444,
              "#bd3786"
             ],
             [
              0.5555555555555556,
              "#d8576b"
             ],
             [
              0.6666666666666666,
              "#ed7953"
             ],
             [
              0.7777777777777778,
              "#fb9f3a"
             ],
             [
              0.8888888888888888,
              "#fdca26"
             ],
             [
              1,
              "#f0f921"
             ]
            ],
            "type": "contour"
           }
          ],
          "contourcarpet": [
           {
            "colorbar": {
             "outlinewidth": 0,
             "ticks": ""
            },
            "type": "contourcarpet"
           }
          ],
          "heatmap": [
           {
            "colorbar": {
             "outlinewidth": 0,
             "ticks": ""
            },
            "colorscale": [
             [
              0,
              "#0d0887"
             ],
             [
              0.1111111111111111,
              "#46039f"
             ],
             [
              0.2222222222222222,
              "#7201a8"
             ],
             [
              0.3333333333333333,
              "#9c179e"
             ],
             [
              0.4444444444444444,
              "#bd3786"
             ],
             [
              0.5555555555555556,
              "#d8576b"
             ],
             [
              0.6666666666666666,
              "#ed7953"
             ],
             [
              0.7777777777777778,
              "#fb9f3a"
             ],
             [
              0.8888888888888888,
              "#fdca26"
             ],
             [
              1,
              "#f0f921"
             ]
            ],
            "type": "heatmap"
           }
          ],
          "heatmapgl": [
           {
            "colorbar": {
             "outlinewidth": 0,
             "ticks": ""
            },
            "colorscale": [
             [
              0,
              "#0d0887"
             ],
             [
              0.1111111111111111,
              "#46039f"
             ],
             [
              0.2222222222222222,
              "#7201a8"
             ],
             [
              0.3333333333333333,
              "#9c179e"
             ],
             [
              0.4444444444444444,
              "#bd3786"
             ],
             [
              0.5555555555555556,
              "#d8576b"
             ],
             [
              0.6666666666666666,
              "#ed7953"
             ],
             [
              0.7777777777777778,
              "#fb9f3a"
             ],
             [
              0.8888888888888888,
              "#fdca26"
             ],
             [
              1,
              "#f0f921"
             ]
            ],
            "type": "heatmapgl"
           }
          ],
          "histogram": [
           {
            "marker": {
             "pattern": {
              "fillmode": "overlay",
              "size": 10,
              "solidity": 0.2
             }
            },
            "type": "histogram"
           }
          ],
          "histogram2d": [
           {
            "colorbar": {
             "outlinewidth": 0,
             "ticks": ""
            },
            "colorscale": [
             [
              0,
              "#0d0887"
             ],
             [
              0.1111111111111111,
              "#46039f"
             ],
             [
              0.2222222222222222,
              "#7201a8"
             ],
             [
              0.3333333333333333,
              "#9c179e"
             ],
             [
              0.4444444444444444,
              "#bd3786"
             ],
             [
              0.5555555555555556,
              "#d8576b"
             ],
             [
              0.6666666666666666,
              "#ed7953"
             ],
             [
              0.7777777777777778,
              "#fb9f3a"
             ],
             [
              0.8888888888888888,
              "#fdca26"
             ],
             [
              1,
              "#f0f921"
             ]
            ],
            "type": "histogram2d"
           }
          ],
          "histogram2dcontour": [
           {
            "colorbar": {
             "outlinewidth": 0,
             "ticks": ""
            },
            "colorscale": [
             [
              0,
              "#0d0887"
             ],
             [
              0.1111111111111111,
              "#46039f"
             ],
             [
              0.2222222222222222,
              "#7201a8"
             ],
             [
              0.3333333333333333,
              "#9c179e"
             ],
             [
              0.4444444444444444,
              "#bd3786"
             ],
             [
              0.5555555555555556,
              "#d8576b"
             ],
             [
              0.6666666666666666,
              "#ed7953"
             ],
             [
              0.7777777777777778,
              "#fb9f3a"
             ],
             [
              0.8888888888888888,
              "#fdca26"
             ],
             [
              1,
              "#f0f921"
             ]
            ],
            "type": "histogram2dcontour"
           }
          ],
          "mesh3d": [
           {
            "colorbar": {
             "outlinewidth": 0,
             "ticks": ""
            },
            "type": "mesh3d"
           }
          ],
          "parcoords": [
           {
            "line": {
             "colorbar": {
              "outlinewidth": 0,
              "ticks": ""
             }
            },
            "type": "parcoords"
           }
          ],
          "pie": [
           {
            "automargin": true,
            "type": "pie"
           }
          ],
          "scatter": [
           {
            "marker": {
             "line": {
              "color": "#283442"
             }
            },
            "type": "scatter"
           }
          ],
          "scatter3d": [
           {
            "line": {
             "colorbar": {
              "outlinewidth": 0,
              "ticks": ""
             }
            },
            "marker": {
             "colorbar": {
              "outlinewidth": 0,
              "ticks": ""
             }
            },
            "type": "scatter3d"
           }
          ],
          "scattercarpet": [
           {
            "marker": {
             "colorbar": {
              "outlinewidth": 0,
              "ticks": ""
             }
            },
            "type": "scattercarpet"
           }
          ],
          "scattergeo": [
           {
            "marker": {
             "colorbar": {
              "outlinewidth": 0,
              "ticks": ""
             }
            },
            "type": "scattergeo"
           }
          ],
          "scattergl": [
           {
            "marker": {
             "line": {
              "color": "#283442"
             }
            },
            "type": "scattergl"
           }
          ],
          "scattermapbox": [
           {
            "marker": {
             "colorbar": {
              "outlinewidth": 0,
              "ticks": ""
             }
            },
            "type": "scattermapbox"
           }
          ],
          "scatterpolar": [
           {
            "marker": {
             "colorbar": {
              "outlinewidth": 0,
              "ticks": ""
             }
            },
            "type": "scatterpolar"
           }
          ],
          "scatterpolargl": [
           {
            "marker": {
             "colorbar": {
              "outlinewidth": 0,
              "ticks": ""
             }
            },
            "type": "scatterpolargl"
           }
          ],
          "scatterternary": [
           {
            "marker": {
             "colorbar": {
              "outlinewidth": 0,
              "ticks": ""
             }
            },
            "type": "scatterternary"
           }
          ],
          "surface": [
           {
            "colorbar": {
             "outlinewidth": 0,
             "ticks": ""
            },
            "colorscale": [
             [
              0,
              "#0d0887"
             ],
             [
              0.1111111111111111,
              "#46039f"
             ],
             [
              0.2222222222222222,
              "#7201a8"
             ],
             [
              0.3333333333333333,
              "#9c179e"
             ],
             [
              0.4444444444444444,
              "#bd3786"
             ],
             [
              0.5555555555555556,
              "#d8576b"
             ],
             [
              0.6666666666666666,
              "#ed7953"
             ],
             [
              0.7777777777777778,
              "#fb9f3a"
             ],
             [
              0.8888888888888888,
              "#fdca26"
             ],
             [
              1,
              "#f0f921"
             ]
            ],
            "type": "surface"
           }
          ],
          "table": [
           {
            "cells": {
             "fill": {
              "color": "#506784"
             },
             "line": {
              "color": "rgb(17,17,17)"
             }
            },
            "header": {
             "fill": {
              "color": "#2a3f5f"
             },
             "line": {
              "color": "rgb(17,17,17)"
             }
            },
            "type": "table"
           }
          ]
         },
         "layout": {
          "annotationdefaults": {
           "arrowcolor": "#f2f5fa",
           "arrowhead": 0,
           "arrowwidth": 1
          },
          "autotypenumbers": "strict",
          "coloraxis": {
           "colorbar": {
            "outlinewidth": 0,
            "ticks": ""
           }
          },
          "colorscale": {
           "diverging": [
            [
             0,
             "#8e0152"
            ],
            [
             0.1,
             "#c51b7d"
            ],
            [
             0.2,
             "#de77ae"
            ],
            [
             0.3,
             "#f1b6da"
            ],
            [
             0.4,
             "#fde0ef"
            ],
            [
             0.5,
             "#f7f7f7"
            ],
            [
             0.6,
             "#e6f5d0"
            ],
            [
             0.7,
             "#b8e186"
            ],
            [
             0.8,
             "#7fbc41"
            ],
            [
             0.9,
             "#4d9221"
            ],
            [
             1,
             "#276419"
            ]
           ],
           "sequential": [
            [
             0,
             "#0d0887"
            ],
            [
             0.1111111111111111,
             "#46039f"
            ],
            [
             0.2222222222222222,
             "#7201a8"
            ],
            [
             0.3333333333333333,
             "#9c179e"
            ],
            [
             0.4444444444444444,
             "#bd3786"
            ],
            [
             0.5555555555555556,
             "#d8576b"
            ],
            [
             0.6666666666666666,
             "#ed7953"
            ],
            [
             0.7777777777777778,
             "#fb9f3a"
            ],
            [
             0.8888888888888888,
             "#fdca26"
            ],
            [
             1,
             "#f0f921"
            ]
           ],
           "sequentialminus": [
            [
             0,
             "#0d0887"
            ],
            [
             0.1111111111111111,
             "#46039f"
            ],
            [
             0.2222222222222222,
             "#7201a8"
            ],
            [
             0.3333333333333333,
             "#9c179e"
            ],
            [
             0.4444444444444444,
             "#bd3786"
            ],
            [
             0.5555555555555556,
             "#d8576b"
            ],
            [
             0.6666666666666666,
             "#ed7953"
            ],
            [
             0.7777777777777778,
             "#fb9f3a"
            ],
            [
             0.8888888888888888,
             "#fdca26"
            ],
            [
             1,
             "#f0f921"
            ]
           ]
          },
          "colorway": [
           "#636efa",
           "#EF553B",
           "#00cc96",
           "#ab63fa",
           "#FFA15A",
           "#19d3f3",
           "#FF6692",
           "#B6E880",
           "#FF97FF",
           "#FECB52"
          ],
          "font": {
           "color": "#f2f5fa"
          },
          "geo": {
           "bgcolor": "rgb(17,17,17)",
           "lakecolor": "rgb(17,17,17)",
           "landcolor": "rgb(17,17,17)",
           "showlakes": true,
           "showland": true,
           "subunitcolor": "#506784"
          },
          "hoverlabel": {
           "align": "left"
          },
          "hovermode": "closest",
          "mapbox": {
           "style": "dark"
          },
          "paper_bgcolor": "rgb(17,17,17)",
          "plot_bgcolor": "rgb(17,17,17)",
          "polar": {
           "angularaxis": {
            "gridcolor": "#506784",
            "linecolor": "#506784",
            "ticks": ""
           },
           "bgcolor": "rgb(17,17,17)",
           "radialaxis": {
            "gridcolor": "#506784",
            "linecolor": "#506784",
            "ticks": ""
           }
          },
          "scene": {
           "xaxis": {
            "backgroundcolor": "rgb(17,17,17)",
            "gridcolor": "#506784",
            "gridwidth": 2,
            "linecolor": "#506784",
            "showbackground": true,
            "ticks": "",
            "zerolinecolor": "#C8D4E3"
           },
           "yaxis": {
            "backgroundcolor": "rgb(17,17,17)",
            "gridcolor": "#506784",
            "gridwidth": 2,
            "linecolor": "#506784",
            "showbackground": true,
            "ticks": "",
            "zerolinecolor": "#C8D4E3"
           },
           "zaxis": {
            "backgroundcolor": "rgb(17,17,17)",
            "gridcolor": "#506784",
            "gridwidth": 2,
            "linecolor": "#506784",
            "showbackground": true,
            "ticks": "",
            "zerolinecolor": "#C8D4E3"
           }
          },
          "shapedefaults": {
           "line": {
            "color": "#f2f5fa"
           }
          },
          "sliderdefaults": {
           "bgcolor": "#C8D4E3",
           "bordercolor": "rgb(17,17,17)",
           "borderwidth": 1,
           "tickwidth": 0
          },
          "ternary": {
           "aaxis": {
            "gridcolor": "#506784",
            "linecolor": "#506784",
            "ticks": ""
           },
           "baxis": {
            "gridcolor": "#506784",
            "linecolor": "#506784",
            "ticks": ""
           },
           "bgcolor": "rgb(17,17,17)",
           "caxis": {
            "gridcolor": "#506784",
            "linecolor": "#506784",
            "ticks": ""
           }
          },
          "title": {
           "x": 0.05
          },
          "updatemenudefaults": {
           "bgcolor": "#506784",
           "borderwidth": 0
          },
          "xaxis": {
           "automargin": true,
           "gridcolor": "#283442",
           "linecolor": "#506784",
           "ticks": "",
           "title": {
            "standoff": 15
           },
           "zerolinecolor": "#283442",
           "zerolinewidth": 2
          },
          "yaxis": {
           "automargin": true,
           "gridcolor": "#283442",
           "linecolor": "#506784",
           "ticks": "",
           "title": {
            "standoff": 15
           },
           "zerolinecolor": "#283442",
           "zerolinewidth": 2
          }
         }
        },
        "title": {
         "text": "Simulated Read Length Distributions"
        },
        "xaxis": {
         "title": {
          "text": "Read Length"
         }
        },
        "yaxis": {
         "title": {
          "text": "Density"
         }
        }
       }
      }
     },
     "metadata": {},
     "output_type": "display_data"
    },
    {
     "data": {
      "application/vnd.plotly.v1+json": {
       "config": {
        "plotlyServerURL": "https://plot.ly"
       },
       "data": [
        {
         "histnorm": "probability",
         "type": "histogram",
         "x": [
          35,
          35,
          35,
          32,
          32,
          35,
          30,
          32,
          34,
          32,
          35,
          35,
          33,
          35,
          34,
          29,
          30,
          32,
          35,
          34,
          31,
          35,
          35,
          29,
          35,
          31,
          33,
          31,
          34,
          35,
          30,
          35,
          35,
          33,
          33,
          32,
          32,
          35,
          32,
          35,
          30,
          35,
          32,
          35,
          35,
          32,
          34,
          35,
          35,
          31,
          30,
          32,
          33,
          35,
          29,
          32,
          35,
          35,
          35,
          33,
          35,
          33,
          35,
          34,
          31,
          33,
          30,
          35,
          35,
          29,
          35,
          34,
          28,
          33,
          32,
          32,
          35,
          34,
          35,
          35,
          31,
          34,
          32,
          35,
          33,
          28,
          35,
          35,
          33,
          32,
          32,
          31,
          35,
          32,
          35,
          33,
          31,
          34,
          33,
          33,
          35,
          34,
          33,
          35,
          35,
          32,
          35,
          29,
          35,
          32,
          35,
          34,
          35,
          33,
          34,
          30,
          33,
          33,
          35,
          34,
          32,
          28,
          24,
          34,
          33,
          32,
          29,
          35,
          35,
          31,
          33,
          31,
          33,
          35,
          34,
          35,
          31,
          31,
          35,
          32,
          30,
          28,
          34,
          35,
          31,
          31,
          30,
          33,
          34,
          35,
          34,
          33,
          35,
          34,
          32,
          35,
          35,
          28,
          31,
          34,
          35,
          33,
          33,
          32,
          32,
          29,
          32,
          34,
          26,
          31,
          35,
          30,
          35,
          34,
          35,
          32,
          31,
          33,
          34,
          33,
          35,
          35,
          32,
          34,
          33,
          32,
          35,
          35,
          34,
          35,
          28,
          34,
          32,
          34,
          29,
          31,
          35,
          35,
          33,
          31,
          34,
          30,
          32,
          35,
          35,
          32,
          33,
          35,
          30,
          28,
          31,
          33,
          35,
          33,
          32,
          35,
          35,
          30,
          31,
          33,
          35,
          33,
          35,
          32,
          30,
          34,
          29,
          33,
          35,
          32,
          30,
          31,
          33,
          33,
          35,
          32,
          35,
          35,
          33,
          32,
          35,
          33,
          34,
          31,
          35,
          34,
          34,
          33,
          33,
          33,
          34,
          35,
          35,
          33,
          35,
          34,
          33,
          35,
          35,
          35,
          35,
          35,
          31,
          33,
          32,
          35,
          35,
          31,
          35,
          33,
          31,
          32,
          32,
          29,
          32,
          34,
          30,
          35,
          33,
          33,
          31,
          33,
          33,
          33,
          33,
          35,
          35,
          31,
          35,
          34,
          32,
          34,
          35,
          32,
          33,
          35,
          34,
          35,
          34,
          30,
          35,
          31,
          33,
          32,
          32,
          35,
          31,
          35,
          34,
          33,
          29,
          31,
          34,
          34,
          32,
          34,
          34,
          28,
          31,
          30,
          32,
          32,
          35,
          35,
          33,
          34,
          29,
          34,
          33,
          34,
          31,
          34,
          35,
          32,
          34,
          35,
          32,
          31,
          34,
          31,
          33,
          29,
          29,
          33,
          33,
          33,
          35,
          33,
          35,
          30,
          34,
          35,
          33,
          32,
          32,
          29,
          33,
          35,
          35,
          26,
          35,
          29,
          35,
          30,
          35,
          35,
          32,
          35,
          35,
          35,
          33,
          34,
          31,
          33,
          33,
          35,
          32,
          32,
          34,
          33,
          35,
          35,
          32,
          31,
          34,
          35,
          35,
          34,
          32,
          32,
          35,
          33,
          33,
          35,
          31,
          34,
          32,
          31,
          35,
          30,
          30,
          30,
          30,
          32,
          33,
          35,
          32,
          35,
          30,
          35,
          34,
          33,
          33,
          35,
          33,
          33,
          35,
          32,
          34,
          35,
          33,
          34,
          28,
          35,
          31,
          32,
          35,
          31,
          32,
          35,
          32,
          31,
          33,
          29,
          35,
          31,
          34,
          33,
          35,
          34,
          33,
          35,
          30,
          35,
          35,
          31,
          35,
          32,
          35,
          30,
          35,
          35,
          35,
          35,
          35,
          35,
          35,
          31,
          35,
          29,
          33,
          30,
          34,
          31,
          32,
          30,
          33,
          34,
          35,
          35,
          35,
          35,
          35,
          33,
          33,
          34,
          34,
          35,
          35,
          35,
          35,
          32,
          35,
          35,
          32,
          33,
          35,
          33,
          33,
          29,
          29,
          29,
          35,
          34,
          31,
          33,
          32,
          33,
          35,
          29,
          35,
          35,
          27,
          34,
          32,
          34,
          34,
          34,
          35,
          31,
          32,
          32,
          33,
          34,
          34,
          32,
          34,
          35,
          35,
          35,
          31,
          33,
          33,
          34,
          31,
          31,
          31,
          35,
          35,
          35,
          29,
          35,
          34,
          32,
          35,
          30,
          32,
          35,
          33,
          32,
          29,
          34,
          35,
          33,
          34,
          33,
          35,
          33,
          31,
          29,
          32,
          33,
          35,
          35,
          32,
          34,
          32,
          33,
          33,
          29,
          33,
          31,
          31,
          35,
          28,
          32,
          35,
          34,
          35,
          34,
          35,
          35,
          32,
          35,
          35,
          35,
          35,
          35,
          33,
          29,
          31,
          30,
          35,
          35,
          35,
          35,
          35,
          35,
          32,
          35,
          34,
          34,
          34,
          35,
          33,
          33,
          35,
          29,
          31,
          35,
          34,
          32,
          34,
          34,
          32,
          35,
          34,
          35,
          31,
          31,
          33,
          34,
          35,
          35,
          35,
          32,
          31,
          35,
          35,
          33,
          34,
          34,
          33,
          34,
          31,
          34,
          35,
          30,
          30,
          30,
          35,
          35,
          31,
          34,
          33,
          32,
          33,
          32,
          32,
          35,
          32,
          35,
          34,
          35,
          29,
          34,
          28,
          32,
          32,
          35,
          33,
          32,
          34,
          35,
          33,
          32,
          32,
          31,
          35,
          34,
          32,
          33,
          30,
          30,
          28,
          35,
          35,
          32,
          31,
          32,
          35,
          34,
          33,
          35,
          31,
          32,
          35,
          35,
          35,
          31,
          35,
          34,
          33,
          30,
          35,
          32,
          34,
          34,
          30,
          35,
          32,
          31,
          35,
          33,
          33,
          34,
          30,
          35,
          32,
          30,
          27,
          31,
          35,
          35,
          32,
          33,
          33,
          35,
          30,
          35,
          35,
          35,
          33,
          35,
          34,
          35,
          32,
          35,
          35,
          35,
          31,
          32,
          30,
          35,
          32,
          35,
          33,
          33,
          30,
          35,
          29,
          34,
          33,
          29,
          35,
          30,
          34,
          35,
          35,
          33,
          32,
          33,
          26,
          35,
          33,
          30,
          34,
          35,
          33,
          33,
          30,
          33,
          31,
          34,
          33,
          32,
          30,
          33,
          32,
          35,
          34,
          34,
          35,
          33,
          35,
          33,
          33,
          30,
          35,
          30,
          32,
          35,
          33,
          31,
          33,
          30,
          28,
          31,
          34,
          35,
          35,
          35,
          35,
          32,
          33,
          35,
          31,
          34,
          33,
          32,
          29,
          34,
          32,
          35,
          34,
          29,
          32,
          35,
          30,
          31,
          34,
          33,
          31,
          35,
          32,
          35,
          29,
          31,
          34,
          35,
          35,
          35,
          33,
          35,
          34,
          35,
          35,
          34,
          35,
          29,
          35,
          35,
          31,
          35,
          35,
          30,
          34,
          31,
          30,
          35,
          33,
          32,
          35,
          32,
          32,
          30,
          29,
          35,
          31,
          35,
          33,
          33,
          31,
          35,
          31,
          33,
          33,
          34,
          31,
          33,
          35,
          35,
          34,
          35,
          31,
          32,
          35,
          35,
          31,
          35,
          31,
          35,
          34,
          35,
          35,
          33,
          34,
          29,
          35,
          33,
          35,
          29,
          34,
          30,
          35,
          35,
          35,
          32,
          31,
          35,
          32,
          35,
          35,
          35,
          35,
          34,
          33,
          35,
          35,
          29,
          33,
          35,
          35,
          33,
          31,
          33,
          33,
          32,
          35,
          33,
          27,
          35,
          35,
          35,
          35,
          34,
          28,
          28,
          35,
          31,
          32,
          30,
          35,
          35,
          30,
          31,
          35,
          35,
          30,
          34,
          35,
          28,
          33,
          33,
          31,
          30,
          35,
          32,
          34,
          33,
          34,
          35,
          33,
          33,
          35,
          33,
          32,
          35,
          35,
          35,
          35,
          34,
          31,
          35,
          31,
          30,
          35,
          35,
          31,
          34,
          31,
          31,
          28,
          35,
          35,
          35,
          35,
          35,
          31,
          35,
          34,
          35,
          35,
          32,
          34,
          35,
          32,
          35,
          35,
          33,
          35,
          34,
          35,
          34,
          34,
          34,
          34,
          35,
          34,
          32,
          34,
          32,
          31,
          31,
          31,
          35,
          33,
          34,
          35,
          32,
          32,
          32,
          33,
          35,
          33,
          30,
          35,
          35,
          32,
          30
         ]
        }
       ],
       "layout": {
        "barmode": "overlay",
        "template": {
         "data": {
          "bar": [
           {
            "error_x": {
             "color": "#f2f5fa"
            },
            "error_y": {
             "color": "#f2f5fa"
            },
            "marker": {
             "line": {
              "color": "rgb(17,17,17)",
              "width": 0.5
             },
             "pattern": {
              "fillmode": "overlay",
              "size": 10,
              "solidity": 0.2
             }
            },
            "type": "bar"
           }
          ],
          "barpolar": [
           {
            "marker": {
             "line": {
              "color": "rgb(17,17,17)",
              "width": 0.5
             },
             "pattern": {
              "fillmode": "overlay",
              "size": 10,
              "solidity": 0.2
             }
            },
            "type": "barpolar"
           }
          ],
          "carpet": [
           {
            "aaxis": {
             "endlinecolor": "#A2B1C6",
             "gridcolor": "#506784",
             "linecolor": "#506784",
             "minorgridcolor": "#506784",
             "startlinecolor": "#A2B1C6"
            },
            "baxis": {
             "endlinecolor": "#A2B1C6",
             "gridcolor": "#506784",
             "linecolor": "#506784",
             "minorgridcolor": "#506784",
             "startlinecolor": "#A2B1C6"
            },
            "type": "carpet"
           }
          ],
          "choropleth": [
           {
            "colorbar": {
             "outlinewidth": 0,
             "ticks": ""
            },
            "type": "choropleth"
           }
          ],
          "contour": [
           {
            "colorbar": {
             "outlinewidth": 0,
             "ticks": ""
            },
            "colorscale": [
             [
              0,
              "#0d0887"
             ],
             [
              0.1111111111111111,
              "#46039f"
             ],
             [
              0.2222222222222222,
              "#7201a8"
             ],
             [
              0.3333333333333333,
              "#9c179e"
             ],
             [
              0.4444444444444444,
              "#bd3786"
             ],
             [
              0.5555555555555556,
              "#d8576b"
             ],
             [
              0.6666666666666666,
              "#ed7953"
             ],
             [
              0.7777777777777778,
              "#fb9f3a"
             ],
             [
              0.8888888888888888,
              "#fdca26"
             ],
             [
              1,
              "#f0f921"
             ]
            ],
            "type": "contour"
           }
          ],
          "contourcarpet": [
           {
            "colorbar": {
             "outlinewidth": 0,
             "ticks": ""
            },
            "type": "contourcarpet"
           }
          ],
          "heatmap": [
           {
            "colorbar": {
             "outlinewidth": 0,
             "ticks": ""
            },
            "colorscale": [
             [
              0,
              "#0d0887"
             ],
             [
              0.1111111111111111,
              "#46039f"
             ],
             [
              0.2222222222222222,
              "#7201a8"
             ],
             [
              0.3333333333333333,
              "#9c179e"
             ],
             [
              0.4444444444444444,
              "#bd3786"
             ],
             [
              0.5555555555555556,
              "#d8576b"
             ],
             [
              0.6666666666666666,
              "#ed7953"
             ],
             [
              0.7777777777777778,
              "#fb9f3a"
             ],
             [
              0.8888888888888888,
              "#fdca26"
             ],
             [
              1,
              "#f0f921"
             ]
            ],
            "type": "heatmap"
           }
          ],
          "heatmapgl": [
           {
            "colorbar": {
             "outlinewidth": 0,
             "ticks": ""
            },
            "colorscale": [
             [
              0,
              "#0d0887"
             ],
             [
              0.1111111111111111,
              "#46039f"
             ],
             [
              0.2222222222222222,
              "#7201a8"
             ],
             [
              0.3333333333333333,
              "#9c179e"
             ],
             [
              0.4444444444444444,
              "#bd3786"
             ],
             [
              0.5555555555555556,
              "#d8576b"
             ],
             [
              0.6666666666666666,
              "#ed7953"
             ],
             [
              0.7777777777777778,
              "#fb9f3a"
             ],
             [
              0.8888888888888888,
              "#fdca26"
             ],
             [
              1,
              "#f0f921"
             ]
            ],
            "type": "heatmapgl"
           }
          ],
          "histogram": [
           {
            "marker": {
             "pattern": {
              "fillmode": "overlay",
              "size": 10,
              "solidity": 0.2
             }
            },
            "type": "histogram"
           }
          ],
          "histogram2d": [
           {
            "colorbar": {
             "outlinewidth": 0,
             "ticks": ""
            },
            "colorscale": [
             [
              0,
              "#0d0887"
             ],
             [
              0.1111111111111111,
              "#46039f"
             ],
             [
              0.2222222222222222,
              "#7201a8"
             ],
             [
              0.3333333333333333,
              "#9c179e"
             ],
             [
              0.4444444444444444,
              "#bd3786"
             ],
             [
              0.5555555555555556,
              "#d8576b"
             ],
             [
              0.6666666666666666,
              "#ed7953"
             ],
             [
              0.7777777777777778,
              "#fb9f3a"
             ],
             [
              0.8888888888888888,
              "#fdca26"
             ],
             [
              1,
              "#f0f921"
             ]
            ],
            "type": "histogram2d"
           }
          ],
          "histogram2dcontour": [
           {
            "colorbar": {
             "outlinewidth": 0,
             "ticks": ""
            },
            "colorscale": [
             [
              0,
              "#0d0887"
             ],
             [
              0.1111111111111111,
              "#46039f"
             ],
             [
              0.2222222222222222,
              "#7201a8"
             ],
             [
              0.3333333333333333,
              "#9c179e"
             ],
             [
              0.4444444444444444,
              "#bd3786"
             ],
             [
              0.5555555555555556,
              "#d8576b"
             ],
             [
              0.6666666666666666,
              "#ed7953"
             ],
             [
              0.7777777777777778,
              "#fb9f3a"
             ],
             [
              0.8888888888888888,
              "#fdca26"
             ],
             [
              1,
              "#f0f921"
             ]
            ],
            "type": "histogram2dcontour"
           }
          ],
          "mesh3d": [
           {
            "colorbar": {
             "outlinewidth": 0,
             "ticks": ""
            },
            "type": "mesh3d"
           }
          ],
          "parcoords": [
           {
            "line": {
             "colorbar": {
              "outlinewidth": 0,
              "ticks": ""
             }
            },
            "type": "parcoords"
           }
          ],
          "pie": [
           {
            "automargin": true,
            "type": "pie"
           }
          ],
          "scatter": [
           {
            "marker": {
             "line": {
              "color": "#283442"
             }
            },
            "type": "scatter"
           }
          ],
          "scatter3d": [
           {
            "line": {
             "colorbar": {
              "outlinewidth": 0,
              "ticks": ""
             }
            },
            "marker": {
             "colorbar": {
              "outlinewidth": 0,
              "ticks": ""
             }
            },
            "type": "scatter3d"
           }
          ],
          "scattercarpet": [
           {
            "marker": {
             "colorbar": {
              "outlinewidth": 0,
              "ticks": ""
             }
            },
            "type": "scattercarpet"
           }
          ],
          "scattergeo": [
           {
            "marker": {
             "colorbar": {
              "outlinewidth": 0,
              "ticks": ""
             }
            },
            "type": "scattergeo"
           }
          ],
          "scattergl": [
           {
            "marker": {
             "line": {
              "color": "#283442"
             }
            },
            "type": "scattergl"
           }
          ],
          "scattermapbox": [
           {
            "marker": {
             "colorbar": {
              "outlinewidth": 0,
              "ticks": ""
             }
            },
            "type": "scattermapbox"
           }
          ],
          "scatterpolar": [
           {
            "marker": {
             "colorbar": {
              "outlinewidth": 0,
              "ticks": ""
             }
            },
            "type": "scatterpolar"
           }
          ],
          "scatterpolargl": [
           {
            "marker": {
             "colorbar": {
              "outlinewidth": 0,
              "ticks": ""
             }
            },
            "type": "scatterpolargl"
           }
          ],
          "scatterternary": [
           {
            "marker": {
             "colorbar": {
              "outlinewidth": 0,
              "ticks": ""
             }
            },
            "type": "scatterternary"
           }
          ],
          "surface": [
           {
            "colorbar": {
             "outlinewidth": 0,
             "ticks": ""
            },
            "colorscale": [
             [
              0,
              "#0d0887"
             ],
             [
              0.1111111111111111,
              "#46039f"
             ],
             [
              0.2222222222222222,
              "#7201a8"
             ],
             [
              0.3333333333333333,
              "#9c179e"
             ],
             [
              0.4444444444444444,
              "#bd3786"
             ],
             [
              0.5555555555555556,
              "#d8576b"
             ],
             [
              0.6666666666666666,
              "#ed7953"
             ],
             [
              0.7777777777777778,
              "#fb9f3a"
             ],
             [
              0.8888888888888888,
              "#fdca26"
             ],
             [
              1,
              "#f0f921"
             ]
            ],
            "type": "surface"
           }
          ],
          "table": [
           {
            "cells": {
             "fill": {
              "color": "#506784"
             },
             "line": {
              "color": "rgb(17,17,17)"
             }
            },
            "header": {
             "fill": {
              "color": "#2a3f5f"
             },
             "line": {
              "color": "rgb(17,17,17)"
             }
            },
            "type": "table"
           }
          ]
         },
         "layout": {
          "annotationdefaults": {
           "arrowcolor": "#f2f5fa",
           "arrowhead": 0,
           "arrowwidth": 1
          },
          "autotypenumbers": "strict",
          "coloraxis": {
           "colorbar": {
            "outlinewidth": 0,
            "ticks": ""
           }
          },
          "colorscale": {
           "diverging": [
            [
             0,
             "#8e0152"
            ],
            [
             0.1,
             "#c51b7d"
            ],
            [
             0.2,
             "#de77ae"
            ],
            [
             0.3,
             "#f1b6da"
            ],
            [
             0.4,
             "#fde0ef"
            ],
            [
             0.5,
             "#f7f7f7"
            ],
            [
             0.6,
             "#e6f5d0"
            ],
            [
             0.7,
             "#b8e186"
            ],
            [
             0.8,
             "#7fbc41"
            ],
            [
             0.9,
             "#4d9221"
            ],
            [
             1,
             "#276419"
            ]
           ],
           "sequential": [
            [
             0,
             "#0d0887"
            ],
            [
             0.1111111111111111,
             "#46039f"
            ],
            [
             0.2222222222222222,
             "#7201a8"
            ],
            [
             0.3333333333333333,
             "#9c179e"
            ],
            [
             0.4444444444444444,
             "#bd3786"
            ],
            [
             0.5555555555555556,
             "#d8576b"
            ],
            [
             0.6666666666666666,
             "#ed7953"
            ],
            [
             0.7777777777777778,
             "#fb9f3a"
            ],
            [
             0.8888888888888888,
             "#fdca26"
            ],
            [
             1,
             "#f0f921"
            ]
           ],
           "sequentialminus": [
            [
             0,
             "#0d0887"
            ],
            [
             0.1111111111111111,
             "#46039f"
            ],
            [
             0.2222222222222222,
             "#7201a8"
            ],
            [
             0.3333333333333333,
             "#9c179e"
            ],
            [
             0.4444444444444444,
             "#bd3786"
            ],
            [
             0.5555555555555556,
             "#d8576b"
            ],
            [
             0.6666666666666666,
             "#ed7953"
            ],
            [
             0.7777777777777778,
             "#fb9f3a"
            ],
            [
             0.8888888888888888,
             "#fdca26"
            ],
            [
             1,
             "#f0f921"
            ]
           ]
          },
          "colorway": [
           "#636efa",
           "#EF553B",
           "#00cc96",
           "#ab63fa",
           "#FFA15A",
           "#19d3f3",
           "#FF6692",
           "#B6E880",
           "#FF97FF",
           "#FECB52"
          ],
          "font": {
           "color": "#f2f5fa"
          },
          "geo": {
           "bgcolor": "rgb(17,17,17)",
           "lakecolor": "rgb(17,17,17)",
           "landcolor": "rgb(17,17,17)",
           "showlakes": true,
           "showland": true,
           "subunitcolor": "#506784"
          },
          "hoverlabel": {
           "align": "left"
          },
          "hovermode": "closest",
          "mapbox": {
           "style": "dark"
          },
          "paper_bgcolor": "rgb(17,17,17)",
          "plot_bgcolor": "rgb(17,17,17)",
          "polar": {
           "angularaxis": {
            "gridcolor": "#506784",
            "linecolor": "#506784",
            "ticks": ""
           },
           "bgcolor": "rgb(17,17,17)",
           "radialaxis": {
            "gridcolor": "#506784",
            "linecolor": "#506784",
            "ticks": ""
           }
          },
          "scene": {
           "xaxis": {
            "backgroundcolor": "rgb(17,17,17)",
            "gridcolor": "#506784",
            "gridwidth": 2,
            "linecolor": "#506784",
            "showbackground": true,
            "ticks": "",
            "zerolinecolor": "#C8D4E3"
           },
           "yaxis": {
            "backgroundcolor": "rgb(17,17,17)",
            "gridcolor": "#506784",
            "gridwidth": 2,
            "linecolor": "#506784",
            "showbackground": true,
            "ticks": "",
            "zerolinecolor": "#C8D4E3"
           },
           "zaxis": {
            "backgroundcolor": "rgb(17,17,17)",
            "gridcolor": "#506784",
            "gridwidth": 2,
            "linecolor": "#506784",
            "showbackground": true,
            "ticks": "",
            "zerolinecolor": "#C8D4E3"
           }
          },
          "shapedefaults": {
           "line": {
            "color": "#f2f5fa"
           }
          },
          "sliderdefaults": {
           "bgcolor": "#C8D4E3",
           "bordercolor": "rgb(17,17,17)",
           "borderwidth": 1,
           "tickwidth": 0
          },
          "ternary": {
           "aaxis": {
            "gridcolor": "#506784",
            "linecolor": "#506784",
            "ticks": ""
           },
           "baxis": {
            "gridcolor": "#506784",
            "linecolor": "#506784",
            "ticks": ""
           },
           "bgcolor": "rgb(17,17,17)",
           "caxis": {
            "gridcolor": "#506784",
            "linecolor": "#506784",
            "ticks": ""
           }
          },
          "title": {
           "x": 0.05
          },
          "updatemenudefaults": {
           "bgcolor": "#506784",
           "borderwidth": 0
          },
          "xaxis": {
           "automargin": true,
           "gridcolor": "#283442",
           "linecolor": "#506784",
           "ticks": "",
           "title": {
            "standoff": 15
           },
           "zerolinecolor": "#283442",
           "zerolinewidth": 2
          },
          "yaxis": {
           "automargin": true,
           "gridcolor": "#283442",
           "linecolor": "#506784",
           "ticks": "",
           "title": {
            "standoff": 15
           },
           "zerolinecolor": "#283442",
           "zerolinewidth": 2
          }
         }
        },
        "title": {
         "text": "Simulated Read Length Distributions"
        },
        "xaxis": {
         "title": {
          "text": "Read Length"
         }
        },
        "yaxis": {
         "title": {
          "text": "Density"
         }
        }
       }
      }
     },
     "metadata": {},
     "output_type": "display_data"
    },
    {
     "data": {
      "application/vnd.plotly.v1+json": {
       "config": {
        "plotlyServerURL": "https://plot.ly"
       },
       "data": [
        {
         "histnorm": "probability",
         "type": "histogram",
         "x": [
          26,
          28,
          25,
          26,
          26,
          25,
          26,
          27,
          26,
          25,
          24,
          25,
          22,
          24,
          27,
          25,
          27,
          27,
          24,
          24,
          25,
          27,
          23,
          26,
          23,
          27,
          25,
          25,
          24,
          25,
          25,
          24,
          27,
          26,
          27,
          28,
          26,
          24,
          23,
          26,
          24,
          24,
          25,
          26,
          25,
          26,
          23,
          25,
          25,
          25,
          24,
          27,
          26,
          25,
          25,
          26,
          25,
          28,
          26,
          24,
          25,
          26,
          24,
          25,
          23,
          28,
          26,
          24,
          27,
          26,
          24,
          27,
          27,
          25,
          24,
          24,
          24,
          24,
          25,
          25,
          25,
          23,
          25,
          27,
          26,
          24,
          25,
          24,
          27,
          26,
          24,
          26,
          24,
          24,
          27,
          26,
          25,
          27,
          25,
          25,
          25,
          25,
          26,
          26,
          25,
          25,
          25,
          27,
          28,
          25,
          25,
          26,
          26,
          22,
          24,
          25,
          24,
          26,
          27,
          24,
          24,
          25,
          24,
          26,
          25,
          24,
          27,
          24,
          26,
          25,
          26,
          25,
          26,
          25,
          23,
          27,
          26,
          26,
          25,
          26,
          25,
          27,
          27,
          28,
          26,
          28,
          24,
          26,
          25,
          26,
          24,
          26,
          24,
          26,
          25,
          26,
          27,
          25,
          25,
          25,
          25,
          24,
          25,
          23,
          25,
          28,
          25,
          26,
          26,
          28,
          25,
          26,
          27,
          26,
          25,
          24,
          26,
          27,
          26,
          26,
          24,
          27,
          28,
          24,
          23,
          25,
          26,
          26,
          25,
          24,
          26,
          25,
          27,
          27,
          26,
          28,
          26,
          25,
          23,
          25,
          25,
          24,
          25,
          25,
          26,
          24,
          24,
          26,
          23,
          25,
          24,
          25,
          25,
          26,
          27,
          24,
          27,
          26,
          27,
          25,
          28,
          27,
          24,
          24,
          27,
          26,
          24,
          27,
          25,
          25,
          24,
          27,
          26,
          25,
          27,
          28,
          26,
          25,
          28,
          25,
          26,
          25,
          26,
          26,
          26,
          25,
          27,
          26,
          25,
          22,
          25,
          25,
          26,
          25,
          25,
          27,
          25,
          26,
          25,
          25,
          26,
          26,
          26,
          25,
          24,
          24,
          26,
          23,
          25,
          25,
          26,
          28,
          24,
          26,
          26,
          27,
          26,
          24,
          25,
          25,
          26,
          26,
          25,
          28,
          26,
          25,
          25,
          27,
          24,
          26,
          24,
          25,
          26,
          23,
          25,
          27,
          27,
          26,
          25,
          24,
          24,
          25,
          26,
          25,
          24,
          27,
          28,
          23,
          25,
          25,
          24,
          25,
          26,
          25,
          24,
          24,
          27,
          27,
          26,
          26,
          25,
          26,
          26,
          24,
          27,
          26,
          24,
          26,
          27,
          26,
          26,
          27,
          27,
          25,
          25,
          27,
          26,
          25,
          23,
          26,
          27,
          27,
          27,
          25,
          24,
          22,
          24,
          27,
          28,
          25,
          25,
          25,
          25,
          25,
          25,
          24,
          25,
          27,
          26,
          23,
          24,
          27,
          26,
          26,
          26,
          24,
          24,
          25,
          24,
          26,
          23,
          25,
          26,
          26,
          22,
          26,
          25,
          27,
          27,
          25,
          24,
          24,
          28,
          25,
          25,
          24,
          25,
          27,
          24,
          25,
          25,
          25,
          26,
          25,
          26,
          27,
          25,
          27,
          26,
          26,
          24,
          25,
          25,
          26,
          24,
          27,
          26,
          25,
          27,
          26,
          25,
          25,
          25,
          26,
          24,
          26,
          26,
          26,
          25,
          25,
          27,
          28,
          26,
          25,
          25,
          25,
          26,
          26,
          26,
          26,
          25,
          25,
          25,
          25,
          26,
          27,
          27,
          25,
          27,
          24,
          25,
          23,
          24,
          26,
          26,
          23,
          24,
          27,
          24,
          24,
          26,
          25,
          27,
          25,
          26,
          25,
          24,
          26,
          26,
          27,
          25,
          25,
          25,
          24,
          24,
          25,
          25,
          26,
          26,
          25,
          27,
          25,
          23,
          27,
          28,
          26,
          27,
          26,
          25,
          25,
          25,
          27,
          27,
          26,
          24,
          26,
          25,
          25,
          25,
          25,
          24,
          26,
          27,
          27,
          24,
          26,
          26,
          28,
          26,
          28,
          28,
          23,
          25,
          26,
          26,
          25,
          26,
          24,
          25,
          25,
          24,
          26,
          27,
          25,
          23,
          26,
          25,
          26,
          27,
          25,
          26,
          25,
          24,
          26,
          26,
          26,
          27,
          27,
          25,
          25,
          25,
          25,
          27,
          25,
          23,
          26,
          25,
          25,
          25,
          27,
          26,
          24,
          27,
          25,
          27,
          25,
          25,
          25,
          26,
          24,
          25,
          25,
          26,
          27,
          23,
          25,
          26,
          24,
          27,
          27,
          25,
          25,
          26,
          26,
          27,
          27,
          25,
          25,
          26,
          24,
          26,
          23,
          26,
          25,
          25,
          24,
          26,
          27,
          27,
          25,
          28,
          26,
          25,
          26,
          25,
          25,
          26,
          23,
          26,
          25,
          27,
          25,
          27,
          26,
          25,
          26,
          25,
          28,
          25,
          25,
          26,
          25,
          25,
          26,
          25,
          26,
          25,
          28,
          25,
          25,
          26,
          26,
          27,
          25,
          27,
          25,
          25,
          26,
          27,
          25,
          26,
          25,
          25,
          26,
          24,
          24,
          23,
          25,
          25,
          25,
          26,
          28,
          25,
          25,
          23,
          25,
          25,
          26,
          26,
          27,
          25,
          27,
          24,
          26,
          26,
          27,
          26,
          28,
          27,
          27,
          27,
          28,
          27,
          24,
          24,
          26,
          25,
          25,
          26,
          25,
          23,
          25,
          27,
          27,
          24,
          27,
          24,
          27,
          26,
          25,
          27,
          25,
          27,
          25,
          24,
          24,
          24,
          25,
          28,
          25,
          27,
          25,
          26,
          25,
          28,
          26,
          25,
          25,
          25,
          26,
          24,
          25,
          26,
          25,
          25,
          26,
          26,
          26,
          25,
          25,
          25,
          27,
          24,
          26,
          25,
          25,
          25,
          24,
          26,
          27,
          24,
          27,
          26,
          25,
          26,
          27,
          24,
          27,
          26,
          27,
          23,
          26,
          24,
          26,
          26,
          26,
          26,
          23,
          26,
          24,
          24,
          25,
          25,
          25,
          24,
          22,
          25,
          26,
          26,
          23,
          24,
          25,
          27,
          26,
          26,
          26,
          25,
          27,
          26,
          24,
          26,
          26,
          23,
          26,
          28,
          26,
          26,
          27,
          23,
          27,
          26,
          26,
          28,
          24,
          25,
          24,
          26,
          25,
          26,
          25,
          25,
          25,
          24,
          24,
          24,
          24,
          28,
          26,
          26,
          26,
          26,
          27,
          26,
          25,
          27,
          27,
          27,
          24,
          26,
          26,
          25,
          25,
          25,
          25,
          25,
          24,
          24,
          24,
          26,
          26,
          26,
          24,
          26,
          26,
          28,
          23,
          26,
          26,
          25,
          25,
          25,
          27,
          25,
          27,
          25,
          24,
          26,
          25,
          26,
          26,
          24,
          24,
          23,
          24,
          24,
          26,
          24,
          25,
          26,
          25,
          27,
          27,
          26,
          25,
          27,
          25,
          23,
          27,
          26,
          24,
          23,
          24,
          26,
          26,
          23,
          27,
          27,
          25,
          25,
          25,
          25,
          25,
          26,
          26,
          24,
          27,
          26,
          26,
          25,
          25,
          25,
          26,
          27,
          25,
          24,
          25,
          26,
          28,
          26,
          25,
          24,
          29,
          25,
          24,
          27,
          26,
          26,
          25,
          28,
          26,
          26,
          25,
          27,
          26,
          26,
          28,
          26,
          28,
          28,
          26,
          25,
          25,
          26,
          26,
          26,
          27,
          27,
          26,
          28,
          27,
          25,
          26,
          27,
          25,
          26,
          27,
          25,
          27,
          23,
          26,
          26,
          24,
          26,
          24,
          22,
          25,
          25,
          24,
          25,
          25,
          28,
          25,
          25,
          26,
          27,
          25,
          22,
          26,
          25,
          22,
          25,
          27,
          25,
          26,
          25,
          25,
          26,
          24,
          24,
          27,
          24,
          26,
          25,
          25,
          26,
          26,
          26,
          24,
          27,
          26,
          27,
          26,
          26,
          25,
          27,
          25,
          25,
          27,
          25,
          26,
          24,
          25,
          25,
          25,
          26,
          26,
          26,
          25,
          27,
          24,
          26,
          25,
          26,
          24,
          25,
          27,
          24,
          24,
          24,
          26,
          25,
          24,
          25,
          23,
          25,
          26,
          26,
          24,
          26,
          27,
          26,
          25,
          26,
          29,
          25,
          26,
          24,
          26,
          26,
          26
         ]
        }
       ],
       "layout": {
        "barmode": "overlay",
        "template": {
         "data": {
          "bar": [
           {
            "error_x": {
             "color": "#f2f5fa"
            },
            "error_y": {
             "color": "#f2f5fa"
            },
            "marker": {
             "line": {
              "color": "rgb(17,17,17)",
              "width": 0.5
             },
             "pattern": {
              "fillmode": "overlay",
              "size": 10,
              "solidity": 0.2
             }
            },
            "type": "bar"
           }
          ],
          "barpolar": [
           {
            "marker": {
             "line": {
              "color": "rgb(17,17,17)",
              "width": 0.5
             },
             "pattern": {
              "fillmode": "overlay",
              "size": 10,
              "solidity": 0.2
             }
            },
            "type": "barpolar"
           }
          ],
          "carpet": [
           {
            "aaxis": {
             "endlinecolor": "#A2B1C6",
             "gridcolor": "#506784",
             "linecolor": "#506784",
             "minorgridcolor": "#506784",
             "startlinecolor": "#A2B1C6"
            },
            "baxis": {
             "endlinecolor": "#A2B1C6",
             "gridcolor": "#506784",
             "linecolor": "#506784",
             "minorgridcolor": "#506784",
             "startlinecolor": "#A2B1C6"
            },
            "type": "carpet"
           }
          ],
          "choropleth": [
           {
            "colorbar": {
             "outlinewidth": 0,
             "ticks": ""
            },
            "type": "choropleth"
           }
          ],
          "contour": [
           {
            "colorbar": {
             "outlinewidth": 0,
             "ticks": ""
            },
            "colorscale": [
             [
              0,
              "#0d0887"
             ],
             [
              0.1111111111111111,
              "#46039f"
             ],
             [
              0.2222222222222222,
              "#7201a8"
             ],
             [
              0.3333333333333333,
              "#9c179e"
             ],
             [
              0.4444444444444444,
              "#bd3786"
             ],
             [
              0.5555555555555556,
              "#d8576b"
             ],
             [
              0.6666666666666666,
              "#ed7953"
             ],
             [
              0.7777777777777778,
              "#fb9f3a"
             ],
             [
              0.8888888888888888,
              "#fdca26"
             ],
             [
              1,
              "#f0f921"
             ]
            ],
            "type": "contour"
           }
          ],
          "contourcarpet": [
           {
            "colorbar": {
             "outlinewidth": 0,
             "ticks": ""
            },
            "type": "contourcarpet"
           }
          ],
          "heatmap": [
           {
            "colorbar": {
             "outlinewidth": 0,
             "ticks": ""
            },
            "colorscale": [
             [
              0,
              "#0d0887"
             ],
             [
              0.1111111111111111,
              "#46039f"
             ],
             [
              0.2222222222222222,
              "#7201a8"
             ],
             [
              0.3333333333333333,
              "#9c179e"
             ],
             [
              0.4444444444444444,
              "#bd3786"
             ],
             [
              0.5555555555555556,
              "#d8576b"
             ],
             [
              0.6666666666666666,
              "#ed7953"
             ],
             [
              0.7777777777777778,
              "#fb9f3a"
             ],
             [
              0.8888888888888888,
              "#fdca26"
             ],
             [
              1,
              "#f0f921"
             ]
            ],
            "type": "heatmap"
           }
          ],
          "heatmapgl": [
           {
            "colorbar": {
             "outlinewidth": 0,
             "ticks": ""
            },
            "colorscale": [
             [
              0,
              "#0d0887"
             ],
             [
              0.1111111111111111,
              "#46039f"
             ],
             [
              0.2222222222222222,
              "#7201a8"
             ],
             [
              0.3333333333333333,
              "#9c179e"
             ],
             [
              0.4444444444444444,
              "#bd3786"
             ],
             [
              0.5555555555555556,
              "#d8576b"
             ],
             [
              0.6666666666666666,
              "#ed7953"
             ],
             [
              0.7777777777777778,
              "#fb9f3a"
             ],
             [
              0.8888888888888888,
              "#fdca26"
             ],
             [
              1,
              "#f0f921"
             ]
            ],
            "type": "heatmapgl"
           }
          ],
          "histogram": [
           {
            "marker": {
             "pattern": {
              "fillmode": "overlay",
              "size": 10,
              "solidity": 0.2
             }
            },
            "type": "histogram"
           }
          ],
          "histogram2d": [
           {
            "colorbar": {
             "outlinewidth": 0,
             "ticks": ""
            },
            "colorscale": [
             [
              0,
              "#0d0887"
             ],
             [
              0.1111111111111111,
              "#46039f"
             ],
             [
              0.2222222222222222,
              "#7201a8"
             ],
             [
              0.3333333333333333,
              "#9c179e"
             ],
             [
              0.4444444444444444,
              "#bd3786"
             ],
             [
              0.5555555555555556,
              "#d8576b"
             ],
             [
              0.6666666666666666,
              "#ed7953"
             ],
             [
              0.7777777777777778,
              "#fb9f3a"
             ],
             [
              0.8888888888888888,
              "#fdca26"
             ],
             [
              1,
              "#f0f921"
             ]
            ],
            "type": "histogram2d"
           }
          ],
          "histogram2dcontour": [
           {
            "colorbar": {
             "outlinewidth": 0,
             "ticks": ""
            },
            "colorscale": [
             [
              0,
              "#0d0887"
             ],
             [
              0.1111111111111111,
              "#46039f"
             ],
             [
              0.2222222222222222,
              "#7201a8"
             ],
             [
              0.3333333333333333,
              "#9c179e"
             ],
             [
              0.4444444444444444,
              "#bd3786"
             ],
             [
              0.5555555555555556,
              "#d8576b"
             ],
             [
              0.6666666666666666,
              "#ed7953"
             ],
             [
              0.7777777777777778,
              "#fb9f3a"
             ],
             [
              0.8888888888888888,
              "#fdca26"
             ],
             [
              1,
              "#f0f921"
             ]
            ],
            "type": "histogram2dcontour"
           }
          ],
          "mesh3d": [
           {
            "colorbar": {
             "outlinewidth": 0,
             "ticks": ""
            },
            "type": "mesh3d"
           }
          ],
          "parcoords": [
           {
            "line": {
             "colorbar": {
              "outlinewidth": 0,
              "ticks": ""
             }
            },
            "type": "parcoords"
           }
          ],
          "pie": [
           {
            "automargin": true,
            "type": "pie"
           }
          ],
          "scatter": [
           {
            "marker": {
             "line": {
              "color": "#283442"
             }
            },
            "type": "scatter"
           }
          ],
          "scatter3d": [
           {
            "line": {
             "colorbar": {
              "outlinewidth": 0,
              "ticks": ""
             }
            },
            "marker": {
             "colorbar": {
              "outlinewidth": 0,
              "ticks": ""
             }
            },
            "type": "scatter3d"
           }
          ],
          "scattercarpet": [
           {
            "marker": {
             "colorbar": {
              "outlinewidth": 0,
              "ticks": ""
             }
            },
            "type": "scattercarpet"
           }
          ],
          "scattergeo": [
           {
            "marker": {
             "colorbar": {
              "outlinewidth": 0,
              "ticks": ""
             }
            },
            "type": "scattergeo"
           }
          ],
          "scattergl": [
           {
            "marker": {
             "line": {
              "color": "#283442"
             }
            },
            "type": "scattergl"
           }
          ],
          "scattermapbox": [
           {
            "marker": {
             "colorbar": {
              "outlinewidth": 0,
              "ticks": ""
             }
            },
            "type": "scattermapbox"
           }
          ],
          "scatterpolar": [
           {
            "marker": {
             "colorbar": {
              "outlinewidth": 0,
              "ticks": ""
             }
            },
            "type": "scatterpolar"
           }
          ],
          "scatterpolargl": [
           {
            "marker": {
             "colorbar": {
              "outlinewidth": 0,
              "ticks": ""
             }
            },
            "type": "scatterpolargl"
           }
          ],
          "scatterternary": [
           {
            "marker": {
             "colorbar": {
              "outlinewidth": 0,
              "ticks": ""
             }
            },
            "type": "scatterternary"
           }
          ],
          "surface": [
           {
            "colorbar": {
             "outlinewidth": 0,
             "ticks": ""
            },
            "colorscale": [
             [
              0,
              "#0d0887"
             ],
             [
              0.1111111111111111,
              "#46039f"
             ],
             [
              0.2222222222222222,
              "#7201a8"
             ],
             [
              0.3333333333333333,
              "#9c179e"
             ],
             [
              0.4444444444444444,
              "#bd3786"
             ],
             [
              0.5555555555555556,
              "#d8576b"
             ],
             [
              0.6666666666666666,
              "#ed7953"
             ],
             [
              0.7777777777777778,
              "#fb9f3a"
             ],
             [
              0.8888888888888888,
              "#fdca26"
             ],
             [
              1,
              "#f0f921"
             ]
            ],
            "type": "surface"
           }
          ],
          "table": [
           {
            "cells": {
             "fill": {
              "color": "#506784"
             },
             "line": {
              "color": "rgb(17,17,17)"
             }
            },
            "header": {
             "fill": {
              "color": "#2a3f5f"
             },
             "line": {
              "color": "rgb(17,17,17)"
             }
            },
            "type": "table"
           }
          ]
         },
         "layout": {
          "annotationdefaults": {
           "arrowcolor": "#f2f5fa",
           "arrowhead": 0,
           "arrowwidth": 1
          },
          "autotypenumbers": "strict",
          "coloraxis": {
           "colorbar": {
            "outlinewidth": 0,
            "ticks": ""
           }
          },
          "colorscale": {
           "diverging": [
            [
             0,
             "#8e0152"
            ],
            [
             0.1,
             "#c51b7d"
            ],
            [
             0.2,
             "#de77ae"
            ],
            [
             0.3,
             "#f1b6da"
            ],
            [
             0.4,
             "#fde0ef"
            ],
            [
             0.5,
             "#f7f7f7"
            ],
            [
             0.6,
             "#e6f5d0"
            ],
            [
             0.7,
             "#b8e186"
            ],
            [
             0.8,
             "#7fbc41"
            ],
            [
             0.9,
             "#4d9221"
            ],
            [
             1,
             "#276419"
            ]
           ],
           "sequential": [
            [
             0,
             "#0d0887"
            ],
            [
             0.1111111111111111,
             "#46039f"
            ],
            [
             0.2222222222222222,
             "#7201a8"
            ],
            [
             0.3333333333333333,
             "#9c179e"
            ],
            [
             0.4444444444444444,
             "#bd3786"
            ],
            [
             0.5555555555555556,
             "#d8576b"
            ],
            [
             0.6666666666666666,
             "#ed7953"
            ],
            [
             0.7777777777777778,
             "#fb9f3a"
            ],
            [
             0.8888888888888888,
             "#fdca26"
            ],
            [
             1,
             "#f0f921"
            ]
           ],
           "sequentialminus": [
            [
             0,
             "#0d0887"
            ],
            [
             0.1111111111111111,
             "#46039f"
            ],
            [
             0.2222222222222222,
             "#7201a8"
            ],
            [
             0.3333333333333333,
             "#9c179e"
            ],
            [
             0.4444444444444444,
             "#bd3786"
            ],
            [
             0.5555555555555556,
             "#d8576b"
            ],
            [
             0.6666666666666666,
             "#ed7953"
            ],
            [
             0.7777777777777778,
             "#fb9f3a"
            ],
            [
             0.8888888888888888,
             "#fdca26"
            ],
            [
             1,
             "#f0f921"
            ]
           ]
          },
          "colorway": [
           "#636efa",
           "#EF553B",
           "#00cc96",
           "#ab63fa",
           "#FFA15A",
           "#19d3f3",
           "#FF6692",
           "#B6E880",
           "#FF97FF",
           "#FECB52"
          ],
          "font": {
           "color": "#f2f5fa"
          },
          "geo": {
           "bgcolor": "rgb(17,17,17)",
           "lakecolor": "rgb(17,17,17)",
           "landcolor": "rgb(17,17,17)",
           "showlakes": true,
           "showland": true,
           "subunitcolor": "#506784"
          },
          "hoverlabel": {
           "align": "left"
          },
          "hovermode": "closest",
          "mapbox": {
           "style": "dark"
          },
          "paper_bgcolor": "rgb(17,17,17)",
          "plot_bgcolor": "rgb(17,17,17)",
          "polar": {
           "angularaxis": {
            "gridcolor": "#506784",
            "linecolor": "#506784",
            "ticks": ""
           },
           "bgcolor": "rgb(17,17,17)",
           "radialaxis": {
            "gridcolor": "#506784",
            "linecolor": "#506784",
            "ticks": ""
           }
          },
          "scene": {
           "xaxis": {
            "backgroundcolor": "rgb(17,17,17)",
            "gridcolor": "#506784",
            "gridwidth": 2,
            "linecolor": "#506784",
            "showbackground": true,
            "ticks": "",
            "zerolinecolor": "#C8D4E3"
           },
           "yaxis": {
            "backgroundcolor": "rgb(17,17,17)",
            "gridcolor": "#506784",
            "gridwidth": 2,
            "linecolor": "#506784",
            "showbackground": true,
            "ticks": "",
            "zerolinecolor": "#C8D4E3"
           },
           "zaxis": {
            "backgroundcolor": "rgb(17,17,17)",
            "gridcolor": "#506784",
            "gridwidth": 2,
            "linecolor": "#506784",
            "showbackground": true,
            "ticks": "",
            "zerolinecolor": "#C8D4E3"
           }
          },
          "shapedefaults": {
           "line": {
            "color": "#f2f5fa"
           }
          },
          "sliderdefaults": {
           "bgcolor": "#C8D4E3",
           "bordercolor": "rgb(17,17,17)",
           "borderwidth": 1,
           "tickwidth": 0
          },
          "ternary": {
           "aaxis": {
            "gridcolor": "#506784",
            "linecolor": "#506784",
            "ticks": ""
           },
           "baxis": {
            "gridcolor": "#506784",
            "linecolor": "#506784",
            "ticks": ""
           },
           "bgcolor": "rgb(17,17,17)",
           "caxis": {
            "gridcolor": "#506784",
            "linecolor": "#506784",
            "ticks": ""
           }
          },
          "title": {
           "x": 0.05
          },
          "updatemenudefaults": {
           "bgcolor": "#506784",
           "borderwidth": 0
          },
          "xaxis": {
           "automargin": true,
           "gridcolor": "#283442",
           "linecolor": "#506784",
           "ticks": "",
           "title": {
            "standoff": 15
           },
           "zerolinecolor": "#283442",
           "zerolinewidth": 2
          },
          "yaxis": {
           "automargin": true,
           "gridcolor": "#283442",
           "linecolor": "#506784",
           "ticks": "",
           "title": {
            "standoff": 15
           },
           "zerolinecolor": "#283442",
           "zerolinewidth": 2
          }
         }
        },
        "title": {
         "text": "Simulated Read Length Distributions"
        },
        "xaxis": {
         "title": {
          "text": "Read Length"
         }
        },
        "yaxis": {
         "title": {
          "text": "Density"
         }
        }
       }
      }
     },
     "metadata": {},
     "output_type": "display_data"
    },
    {
     "data": {
      "application/vnd.plotly.v1+json": {
       "config": {
        "plotlyServerURL": "https://plot.ly"
       },
       "data": [
        {
         "histnorm": "probability",
         "type": "histogram",
         "x": [
          18,
          18,
          19,
          18,
          19,
          18,
          20,
          20,
          18,
          18,
          19,
          18,
          19,
          19,
          18,
          20,
          18,
          18,
          18,
          18,
          18,
          19,
          18,
          18,
          18,
          18,
          18,
          18,
          18,
          18,
          18,
          18,
          18,
          18,
          18,
          18,
          18,
          18,
          18,
          18,
          18,
          18,
          19,
          18,
          18,
          18,
          18,
          20,
          18,
          18,
          19,
          18,
          18,
          18,
          18,
          19,
          18,
          19,
          18,
          19,
          18,
          19,
          18,
          18,
          18,
          18,
          20,
          18,
          19,
          19,
          18,
          18,
          18,
          19,
          19,
          19,
          18,
          18,
          18,
          20,
          18,
          19,
          18,
          18,
          18,
          18,
          18,
          18,
          18,
          19,
          18,
          18,
          18,
          19,
          19,
          18,
          18,
          19,
          18,
          18,
          20,
          18,
          19,
          19,
          18,
          18,
          18,
          19,
          19,
          18,
          18,
          18,
          19,
          18,
          18,
          18,
          18,
          18,
          18,
          18,
          18,
          18,
          18,
          18,
          18,
          18,
          18,
          18,
          19,
          18,
          18,
          18,
          18,
          18,
          18,
          18,
          18,
          18,
          19,
          18,
          18,
          19,
          18,
          18,
          19,
          18,
          18,
          19,
          18,
          18,
          18,
          18,
          18,
          18,
          18,
          18,
          18,
          18,
          18,
          19,
          18,
          18,
          19,
          18,
          20,
          18,
          18,
          18,
          20,
          18,
          19,
          18,
          18,
          18,
          19,
          18,
          18,
          18,
          18,
          18,
          20,
          18,
          18,
          18,
          18,
          18,
          18,
          18,
          19,
          19,
          18,
          18,
          18,
          19,
          18,
          18,
          18,
          18,
          18,
          19,
          18,
          18,
          18,
          19,
          18,
          18,
          19,
          18,
          19,
          19,
          18,
          18,
          18,
          19,
          18,
          18,
          18,
          18,
          18,
          18,
          18,
          18,
          18,
          18,
          18,
          19,
          19,
          18,
          18,
          18,
          18,
          18,
          18,
          19,
          18,
          18,
          20,
          18,
          18,
          19,
          18,
          18,
          19,
          18,
          18,
          19,
          18,
          18,
          18,
          18,
          18,
          18,
          18,
          18,
          18,
          18,
          18,
          18,
          18,
          18,
          18,
          18,
          19,
          19,
          18,
          21,
          18,
          18,
          18,
          18,
          19,
          18,
          18,
          18,
          18,
          18,
          18,
          18,
          18,
          18,
          18,
          18,
          18,
          18,
          18,
          18,
          18,
          18,
          18,
          18,
          18,
          18,
          18,
          18,
          18,
          18,
          18,
          18,
          18,
          18,
          18,
          18,
          18,
          18,
          18,
          18,
          18,
          18,
          18,
          18,
          18,
          18,
          18,
          18,
          18,
          18,
          19,
          18,
          18,
          18,
          18,
          18,
          18,
          18,
          18,
          18,
          18,
          18,
          20,
          18,
          18,
          18,
          18,
          18,
          18,
          18,
          19,
          18,
          18,
          18,
          18,
          19,
          18,
          18,
          18,
          18,
          18,
          18,
          18,
          20,
          19,
          18,
          18,
          18,
          18,
          18,
          20,
          18,
          19,
          18,
          18,
          18,
          19,
          18,
          18,
          18,
          18,
          18,
          18,
          18,
          20,
          18,
          18,
          18,
          18,
          19,
          18,
          19,
          18,
          18,
          18,
          18,
          18,
          18,
          18,
          19,
          19,
          18,
          18,
          18,
          18,
          18,
          19,
          18,
          18,
          18,
          18,
          18,
          19,
          18,
          19,
          21,
          18,
          18,
          19,
          18,
          18,
          18,
          18,
          19,
          18,
          18,
          18,
          18,
          18,
          19,
          18,
          18,
          19,
          20,
          19,
          18,
          18,
          19,
          18,
          19,
          20,
          18,
          18,
          19,
          18,
          18,
          18,
          18,
          18,
          18,
          18,
          18,
          18,
          18,
          18,
          18,
          18,
          19,
          18,
          19,
          18,
          18,
          18,
          18,
          19,
          18,
          18,
          20,
          18,
          18,
          19,
          18,
          18,
          18,
          19,
          19,
          18,
          18,
          19,
          18,
          18,
          18,
          18,
          19,
          18,
          19,
          19,
          18,
          18,
          18,
          18,
          19,
          20,
          18,
          19,
          19,
          20,
          20,
          18,
          18,
          19,
          18,
          18,
          18,
          18,
          18,
          18,
          18,
          18,
          18,
          18,
          18,
          19,
          18,
          18,
          18,
          18,
          18,
          18,
          18,
          18,
          19,
          18,
          18,
          18,
          18,
          18,
          19,
          18,
          18,
          18,
          20,
          18,
          18,
          18,
          18,
          19,
          18,
          18,
          18,
          19,
          18,
          19,
          18,
          18,
          18,
          18,
          18,
          18,
          18,
          18,
          18,
          18,
          18,
          18,
          18,
          18,
          18,
          18,
          18,
          18,
          18,
          19,
          18,
          18,
          18,
          18,
          18,
          19,
          18,
          20,
          18,
          18,
          18,
          18,
          18,
          18,
          18,
          18,
          18,
          20,
          19,
          18,
          18,
          18,
          19,
          19,
          18,
          18,
          19,
          18,
          18,
          18,
          19,
          18,
          18,
          18,
          18,
          18,
          19,
          18,
          18,
          18,
          18,
          19,
          18,
          18,
          18,
          20,
          18,
          18,
          18,
          18,
          18,
          18,
          18,
          18,
          18,
          18,
          18,
          18,
          18,
          19,
          18,
          18,
          18,
          18,
          18,
          18,
          19,
          18,
          18,
          18,
          18,
          19,
          20,
          18,
          18,
          18,
          18,
          19,
          18,
          19,
          18,
          18,
          18,
          18,
          18,
          18,
          18,
          18,
          18,
          18,
          18,
          18,
          19,
          18,
          20,
          18,
          18,
          19,
          18,
          20,
          19,
          18,
          18,
          19,
          19,
          18,
          18,
          18,
          18,
          18,
          19,
          18,
          18,
          18,
          18,
          18,
          18,
          18,
          18,
          18,
          18,
          19,
          18,
          19,
          18,
          19,
          18,
          19,
          18,
          18,
          19,
          18,
          18,
          18,
          18,
          18,
          18,
          18,
          18,
          18,
          18,
          18,
          20,
          19,
          18,
          18,
          19,
          18,
          18,
          18,
          19,
          18,
          18,
          18,
          18,
          18,
          18,
          18,
          19,
          18,
          18,
          19,
          18,
          20,
          18,
          18,
          18,
          18,
          18,
          18,
          18,
          18,
          18,
          18,
          18,
          19,
          18,
          18,
          18,
          18,
          18,
          18,
          18,
          18,
          18,
          18,
          18,
          18,
          18,
          18,
          18,
          18,
          19,
          18,
          18,
          18,
          18,
          18,
          18,
          19,
          18,
          18,
          18,
          18,
          18,
          18,
          18,
          18,
          18,
          18,
          19,
          18,
          18,
          18,
          18,
          18,
          18,
          18,
          18,
          18,
          18,
          19,
          19,
          20,
          18,
          18,
          18,
          18,
          20,
          18,
          18,
          18,
          18,
          18,
          18,
          19,
          18,
          18,
          19,
          18,
          18,
          18,
          19,
          18,
          18,
          18,
          19,
          19,
          18,
          18,
          18,
          18,
          19,
          18,
          18,
          18,
          19,
          19,
          19,
          18,
          19,
          18,
          18,
          18,
          19,
          19,
          18,
          18,
          18,
          18,
          18,
          18,
          18,
          18,
          18,
          18,
          20,
          18,
          19,
          18,
          18,
          18,
          19,
          18,
          18,
          18,
          19,
          18,
          18,
          20,
          18,
          18,
          19,
          18,
          18,
          18,
          18,
          19,
          18,
          18,
          18,
          18,
          18,
          18,
          18,
          18,
          18,
          18,
          18,
          18,
          18,
          18,
          19,
          18,
          18,
          19,
          18,
          18,
          18,
          19,
          18,
          18,
          18,
          18,
          19,
          18,
          19,
          18,
          19,
          18,
          18,
          18,
          18,
          18,
          18,
          19,
          18,
          19,
          18,
          18,
          18,
          18,
          18,
          19,
          18,
          19,
          18,
          18,
          18,
          18,
          20,
          18,
          18,
          19,
          18,
          18,
          18,
          18,
          18,
          18,
          18,
          20,
          18,
          19,
          18,
          18,
          18,
          19,
          18,
          18,
          18,
          18,
          18,
          18,
          18,
          18,
          18,
          18,
          18,
          18,
          18,
          19,
          18,
          18,
          18,
          18,
          18,
          18,
          19,
          18,
          18,
          18,
          18,
          18,
          18,
          18,
          18,
          18,
          18,
          18,
          18,
          18,
          18,
          19,
          18,
          18,
          18,
          19,
          18,
          18,
          19,
          18,
          18,
          18,
          18,
          18,
          18,
          19,
          18,
          18,
          18,
          18,
          18,
          18,
          18,
          18,
          18,
          18,
          19,
          19,
          18,
          19,
          18,
          19,
          18,
          18,
          18,
          18,
          18,
          18,
          18,
          18,
          19,
          18,
          18,
          18,
          18,
          18,
          18,
          18,
          18
         ]
        }
       ],
       "layout": {
        "barmode": "overlay",
        "template": {
         "data": {
          "bar": [
           {
            "error_x": {
             "color": "#f2f5fa"
            },
            "error_y": {
             "color": "#f2f5fa"
            },
            "marker": {
             "line": {
              "color": "rgb(17,17,17)",
              "width": 0.5
             },
             "pattern": {
              "fillmode": "overlay",
              "size": 10,
              "solidity": 0.2
             }
            },
            "type": "bar"
           }
          ],
          "barpolar": [
           {
            "marker": {
             "line": {
              "color": "rgb(17,17,17)",
              "width": 0.5
             },
             "pattern": {
              "fillmode": "overlay",
              "size": 10,
              "solidity": 0.2
             }
            },
            "type": "barpolar"
           }
          ],
          "carpet": [
           {
            "aaxis": {
             "endlinecolor": "#A2B1C6",
             "gridcolor": "#506784",
             "linecolor": "#506784",
             "minorgridcolor": "#506784",
             "startlinecolor": "#A2B1C6"
            },
            "baxis": {
             "endlinecolor": "#A2B1C6",
             "gridcolor": "#506784",
             "linecolor": "#506784",
             "minorgridcolor": "#506784",
             "startlinecolor": "#A2B1C6"
            },
            "type": "carpet"
           }
          ],
          "choropleth": [
           {
            "colorbar": {
             "outlinewidth": 0,
             "ticks": ""
            },
            "type": "choropleth"
           }
          ],
          "contour": [
           {
            "colorbar": {
             "outlinewidth": 0,
             "ticks": ""
            },
            "colorscale": [
             [
              0,
              "#0d0887"
             ],
             [
              0.1111111111111111,
              "#46039f"
             ],
             [
              0.2222222222222222,
              "#7201a8"
             ],
             [
              0.3333333333333333,
              "#9c179e"
             ],
             [
              0.4444444444444444,
              "#bd3786"
             ],
             [
              0.5555555555555556,
              "#d8576b"
             ],
             [
              0.6666666666666666,
              "#ed7953"
             ],
             [
              0.7777777777777778,
              "#fb9f3a"
             ],
             [
              0.8888888888888888,
              "#fdca26"
             ],
             [
              1,
              "#f0f921"
             ]
            ],
            "type": "contour"
           }
          ],
          "contourcarpet": [
           {
            "colorbar": {
             "outlinewidth": 0,
             "ticks": ""
            },
            "type": "contourcarpet"
           }
          ],
          "heatmap": [
           {
            "colorbar": {
             "outlinewidth": 0,
             "ticks": ""
            },
            "colorscale": [
             [
              0,
              "#0d0887"
             ],
             [
              0.1111111111111111,
              "#46039f"
             ],
             [
              0.2222222222222222,
              "#7201a8"
             ],
             [
              0.3333333333333333,
              "#9c179e"
             ],
             [
              0.4444444444444444,
              "#bd3786"
             ],
             [
              0.5555555555555556,
              "#d8576b"
             ],
             [
              0.6666666666666666,
              "#ed7953"
             ],
             [
              0.7777777777777778,
              "#fb9f3a"
             ],
             [
              0.8888888888888888,
              "#fdca26"
             ],
             [
              1,
              "#f0f921"
             ]
            ],
            "type": "heatmap"
           }
          ],
          "heatmapgl": [
           {
            "colorbar": {
             "outlinewidth": 0,
             "ticks": ""
            },
            "colorscale": [
             [
              0,
              "#0d0887"
             ],
             [
              0.1111111111111111,
              "#46039f"
             ],
             [
              0.2222222222222222,
              "#7201a8"
             ],
             [
              0.3333333333333333,
              "#9c179e"
             ],
             [
              0.4444444444444444,
              "#bd3786"
             ],
             [
              0.5555555555555556,
              "#d8576b"
             ],
             [
              0.6666666666666666,
              "#ed7953"
             ],
             [
              0.7777777777777778,
              "#fb9f3a"
             ],
             [
              0.8888888888888888,
              "#fdca26"
             ],
             [
              1,
              "#f0f921"
             ]
            ],
            "type": "heatmapgl"
           }
          ],
          "histogram": [
           {
            "marker": {
             "pattern": {
              "fillmode": "overlay",
              "size": 10,
              "solidity": 0.2
             }
            },
            "type": "histogram"
           }
          ],
          "histogram2d": [
           {
            "colorbar": {
             "outlinewidth": 0,
             "ticks": ""
            },
            "colorscale": [
             [
              0,
              "#0d0887"
             ],
             [
              0.1111111111111111,
              "#46039f"
             ],
             [
              0.2222222222222222,
              "#7201a8"
             ],
             [
              0.3333333333333333,
              "#9c179e"
             ],
             [
              0.4444444444444444,
              "#bd3786"
             ],
             [
              0.5555555555555556,
              "#d8576b"
             ],
             [
              0.6666666666666666,
              "#ed7953"
             ],
             [
              0.7777777777777778,
              "#fb9f3a"
             ],
             [
              0.8888888888888888,
              "#fdca26"
             ],
             [
              1,
              "#f0f921"
             ]
            ],
            "type": "histogram2d"
           }
          ],
          "histogram2dcontour": [
           {
            "colorbar": {
             "outlinewidth": 0,
             "ticks": ""
            },
            "colorscale": [
             [
              0,
              "#0d0887"
             ],
             [
              0.1111111111111111,
              "#46039f"
             ],
             [
              0.2222222222222222,
              "#7201a8"
             ],
             [
              0.3333333333333333,
              "#9c179e"
             ],
             [
              0.4444444444444444,
              "#bd3786"
             ],
             [
              0.5555555555555556,
              "#d8576b"
             ],
             [
              0.6666666666666666,
              "#ed7953"
             ],
             [
              0.7777777777777778,
              "#fb9f3a"
             ],
             [
              0.8888888888888888,
              "#fdca26"
             ],
             [
              1,
              "#f0f921"
             ]
            ],
            "type": "histogram2dcontour"
           }
          ],
          "mesh3d": [
           {
            "colorbar": {
             "outlinewidth": 0,
             "ticks": ""
            },
            "type": "mesh3d"
           }
          ],
          "parcoords": [
           {
            "line": {
             "colorbar": {
              "outlinewidth": 0,
              "ticks": ""
             }
            },
            "type": "parcoords"
           }
          ],
          "pie": [
           {
            "automargin": true,
            "type": "pie"
           }
          ],
          "scatter": [
           {
            "marker": {
             "line": {
              "color": "#283442"
             }
            },
            "type": "scatter"
           }
          ],
          "scatter3d": [
           {
            "line": {
             "colorbar": {
              "outlinewidth": 0,
              "ticks": ""
             }
            },
            "marker": {
             "colorbar": {
              "outlinewidth": 0,
              "ticks": ""
             }
            },
            "type": "scatter3d"
           }
          ],
          "scattercarpet": [
           {
            "marker": {
             "colorbar": {
              "outlinewidth": 0,
              "ticks": ""
             }
            },
            "type": "scattercarpet"
           }
          ],
          "scattergeo": [
           {
            "marker": {
             "colorbar": {
              "outlinewidth": 0,
              "ticks": ""
             }
            },
            "type": "scattergeo"
           }
          ],
          "scattergl": [
           {
            "marker": {
             "line": {
              "color": "#283442"
             }
            },
            "type": "scattergl"
           }
          ],
          "scattermapbox": [
           {
            "marker": {
             "colorbar": {
              "outlinewidth": 0,
              "ticks": ""
             }
            },
            "type": "scattermapbox"
           }
          ],
          "scatterpolar": [
           {
            "marker": {
             "colorbar": {
              "outlinewidth": 0,
              "ticks": ""
             }
            },
            "type": "scatterpolar"
           }
          ],
          "scatterpolargl": [
           {
            "marker": {
             "colorbar": {
              "outlinewidth": 0,
              "ticks": ""
             }
            },
            "type": "scatterpolargl"
           }
          ],
          "scatterternary": [
           {
            "marker": {
             "colorbar": {
              "outlinewidth": 0,
              "ticks": ""
             }
            },
            "type": "scatterternary"
           }
          ],
          "surface": [
           {
            "colorbar": {
             "outlinewidth": 0,
             "ticks": ""
            },
            "colorscale": [
             [
              0,
              "#0d0887"
             ],
             [
              0.1111111111111111,
              "#46039f"
             ],
             [
              0.2222222222222222,
              "#7201a8"
             ],
             [
              0.3333333333333333,
              "#9c179e"
             ],
             [
              0.4444444444444444,
              "#bd3786"
             ],
             [
              0.5555555555555556,
              "#d8576b"
             ],
             [
              0.6666666666666666,
              "#ed7953"
             ],
             [
              0.7777777777777778,
              "#fb9f3a"
             ],
             [
              0.8888888888888888,
              "#fdca26"
             ],
             [
              1,
              "#f0f921"
             ]
            ],
            "type": "surface"
           }
          ],
          "table": [
           {
            "cells": {
             "fill": {
              "color": "#506784"
             },
             "line": {
              "color": "rgb(17,17,17)"
             }
            },
            "header": {
             "fill": {
              "color": "#2a3f5f"
             },
             "line": {
              "color": "rgb(17,17,17)"
             }
            },
            "type": "table"
           }
          ]
         },
         "layout": {
          "annotationdefaults": {
           "arrowcolor": "#f2f5fa",
           "arrowhead": 0,
           "arrowwidth": 1
          },
          "autotypenumbers": "strict",
          "coloraxis": {
           "colorbar": {
            "outlinewidth": 0,
            "ticks": ""
           }
          },
          "colorscale": {
           "diverging": [
            [
             0,
             "#8e0152"
            ],
            [
             0.1,
             "#c51b7d"
            ],
            [
             0.2,
             "#de77ae"
            ],
            [
             0.3,
             "#f1b6da"
            ],
            [
             0.4,
             "#fde0ef"
            ],
            [
             0.5,
             "#f7f7f7"
            ],
            [
             0.6,
             "#e6f5d0"
            ],
            [
             0.7,
             "#b8e186"
            ],
            [
             0.8,
             "#7fbc41"
            ],
            [
             0.9,
             "#4d9221"
            ],
            [
             1,
             "#276419"
            ]
           ],
           "sequential": [
            [
             0,
             "#0d0887"
            ],
            [
             0.1111111111111111,
             "#46039f"
            ],
            [
             0.2222222222222222,
             "#7201a8"
            ],
            [
             0.3333333333333333,
             "#9c179e"
            ],
            [
             0.4444444444444444,
             "#bd3786"
            ],
            [
             0.5555555555555556,
             "#d8576b"
            ],
            [
             0.6666666666666666,
             "#ed7953"
            ],
            [
             0.7777777777777778,
             "#fb9f3a"
            ],
            [
             0.8888888888888888,
             "#fdca26"
            ],
            [
             1,
             "#f0f921"
            ]
           ],
           "sequentialminus": [
            [
             0,
             "#0d0887"
            ],
            [
             0.1111111111111111,
             "#46039f"
            ],
            [
             0.2222222222222222,
             "#7201a8"
            ],
            [
             0.3333333333333333,
             "#9c179e"
            ],
            [
             0.4444444444444444,
             "#bd3786"
            ],
            [
             0.5555555555555556,
             "#d8576b"
            ],
            [
             0.6666666666666666,
             "#ed7953"
            ],
            [
             0.7777777777777778,
             "#fb9f3a"
            ],
            [
             0.8888888888888888,
             "#fdca26"
            ],
            [
             1,
             "#f0f921"
            ]
           ]
          },
          "colorway": [
           "#636efa",
           "#EF553B",
           "#00cc96",
           "#ab63fa",
           "#FFA15A",
           "#19d3f3",
           "#FF6692",
           "#B6E880",
           "#FF97FF",
           "#FECB52"
          ],
          "font": {
           "color": "#f2f5fa"
          },
          "geo": {
           "bgcolor": "rgb(17,17,17)",
           "lakecolor": "rgb(17,17,17)",
           "landcolor": "rgb(17,17,17)",
           "showlakes": true,
           "showland": true,
           "subunitcolor": "#506784"
          },
          "hoverlabel": {
           "align": "left"
          },
          "hovermode": "closest",
          "mapbox": {
           "style": "dark"
          },
          "paper_bgcolor": "rgb(17,17,17)",
          "plot_bgcolor": "rgb(17,17,17)",
          "polar": {
           "angularaxis": {
            "gridcolor": "#506784",
            "linecolor": "#506784",
            "ticks": ""
           },
           "bgcolor": "rgb(17,17,17)",
           "radialaxis": {
            "gridcolor": "#506784",
            "linecolor": "#506784",
            "ticks": ""
           }
          },
          "scene": {
           "xaxis": {
            "backgroundcolor": "rgb(17,17,17)",
            "gridcolor": "#506784",
            "gridwidth": 2,
            "linecolor": "#506784",
            "showbackground": true,
            "ticks": "",
            "zerolinecolor": "#C8D4E3"
           },
           "yaxis": {
            "backgroundcolor": "rgb(17,17,17)",
            "gridcolor": "#506784",
            "gridwidth": 2,
            "linecolor": "#506784",
            "showbackground": true,
            "ticks": "",
            "zerolinecolor": "#C8D4E3"
           },
           "zaxis": {
            "backgroundcolor": "rgb(17,17,17)",
            "gridcolor": "#506784",
            "gridwidth": 2,
            "linecolor": "#506784",
            "showbackground": true,
            "ticks": "",
            "zerolinecolor": "#C8D4E3"
           }
          },
          "shapedefaults": {
           "line": {
            "color": "#f2f5fa"
           }
          },
          "sliderdefaults": {
           "bgcolor": "#C8D4E3",
           "bordercolor": "rgb(17,17,17)",
           "borderwidth": 1,
           "tickwidth": 0
          },
          "ternary": {
           "aaxis": {
            "gridcolor": "#506784",
            "linecolor": "#506784",
            "ticks": ""
           },
           "baxis": {
            "gridcolor": "#506784",
            "linecolor": "#506784",
            "ticks": ""
           },
           "bgcolor": "rgb(17,17,17)",
           "caxis": {
            "gridcolor": "#506784",
            "linecolor": "#506784",
            "ticks": ""
           }
          },
          "title": {
           "x": 0.05
          },
          "updatemenudefaults": {
           "bgcolor": "#506784",
           "borderwidth": 0
          },
          "xaxis": {
           "automargin": true,
           "gridcolor": "#283442",
           "linecolor": "#506784",
           "ticks": "",
           "title": {
            "standoff": 15
           },
           "zerolinecolor": "#283442",
           "zerolinewidth": 2
          },
          "yaxis": {
           "automargin": true,
           "gridcolor": "#283442",
           "linecolor": "#506784",
           "ticks": "",
           "title": {
            "standoff": 15
           },
           "zerolinecolor": "#283442",
           "zerolinewidth": 2
          }
         }
        },
        "title": {
         "text": "Simulated Read Length Distributions"
        },
        "xaxis": {
         "title": {
          "text": "Read Length"
         }
        },
        "yaxis": {
         "title": {
          "text": "Density"
         }
        }
       }
      }
     },
     "metadata": {},
     "output_type": "display_data"
    }
   ],
   "source": [
    "import plotly.graph_objects as go\n",
    "\n",
    "# make multifigure sub plot of 4 random distributions\n",
    "\n",
    "for i in range(9):\n",
    "    fig = go.Figure()\n",
    "\n",
    "    fig.add_trace(go.Histogram(x=normal_distributions[i], histnorm='probability'))\n",
    "\n",
    "    fig.update_layout(\n",
    "        title='Simulated Read Length Distributions',\n",
    "        xaxis_title='Read Length',\n",
    "        yaxis_title='Density',\n",
    "        template='plotly_dark',\n",
    "        barmode='overlay'\n",
    "    )\n",
    "\n",
    "    fig.show()\n"
   ]
  }
 ],
 "metadata": {
  "kernelspec": {
   "display_name": "Python 3",
   "language": "python",
   "name": "python3"
  },
  "language_info": {
   "codemirror_mode": {
    "name": "ipython",
    "version": 3
   },
   "file_extension": ".py",
   "mimetype": "text/x-python",
   "name": "python",
   "nbconvert_exporter": "python",
   "pygments_lexer": "ipython3",
   "version": "3.10.12"
  }
 },
 "nbformat": 4,
 "nbformat_minor": 2
}
