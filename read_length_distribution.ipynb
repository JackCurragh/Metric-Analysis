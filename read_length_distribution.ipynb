{
 "cells": [
  {
   "cell_type": "markdown",
   "metadata": {},
   "source": [
    "# Read Length Distribution"
   ]
  },
  {
   "cell_type": "code",
   "execution_count": null,
   "metadata": {},
   "outputs": [],
   "source": []
  },
  {
   "cell_type": "markdown",
   "metadata": {},
   "source": [
    "## Setup\n"
   ]
  },
  {
   "cell_type": "code",
   "execution_count": null,
   "metadata": {},
   "outputs": [],
   "source": [
    "\n",
    "import itertools\n",
    "import numpy as np\n"
   ]
  },
  {
   "cell_type": "markdown",
   "metadata": {},
   "source": [
    "## Simulated Inputs\n"
   ]
  },
  {
   "cell_type": "code",
   "execution_count": 10,
   "metadata": {},
   "outputs": [],
   "source": [
    "import numpy as np\n",
    "\n",
    "def simulate_read_lengths(n_samples, params, min_length=18, max_length=35):\n",
    "    \"\"\"\n",
    "    Simulate read length distributions using a mixture of normal distributions.\n",
    "\n",
    "    Args:\n",
    "        n_samples (int): Number of read lengths to simulate.\n",
    "        params (list): List of tuples (mean, std, weight) for each component distribution.\n",
    "        min_length (int): Minimum read length (inclusive).\n",
    "        max_length (int): Maximum read length (inclusive).\n",
    "\n",
    "    Returns:\n",
    "        np.ndarray: Array of simulated read lengths.\n",
    "    \"\"\"\n",
    "    probs = [compute_mixture_density(length, params) for length in range(min_length, max_length + 1)]\n",
    "    probs_sum = sum(probs)\n",
    "    probs = [p / probs_sum for p in probs]  # Normalize probabilities\n",
    "\n",
    "    read_lengths = np.random.choice(\n",
    "        np.arange(min_length, max_length + 1),\n",
    "        size=n_samples,\n",
    "        p=probs\n",
    "    )\n",
    "    return read_lengths\n",
    "\n",
    "def compute_mixture_density(x, params):\n",
    "    \"\"\"\n",
    "    Compute the density of a mixture of normal distributions at a given point x.\n",
    "\n",
    "    Args:\n",
    "        x (float): Point at which to compute the density.\n",
    "        params (list): List of tuples (mean, std, weight) for each component distribution.\n",
    "\n",
    "    Returns:\n",
    "        float: Density of the mixture distribution at x.\n",
    "    \"\"\"\n",
    "    density = 0\n",
    "    for mean, std, weight in params:\n",
    "        density += weight * np.exp(-(x - mean)**2 / (2 * std**2)) / (np.sqrt(2 * np.pi) * std)\n",
    "    return density\n",
    "\n",
    "# Example usage\n",
    "n_samples = 10000\n",
    "params = [\n",
    "    (22, 2, 0.3),   # Unimodal component\n",
    "    (26, 1, 0.4),   # Unimodal component\n",
    "    (30, 3, 0.3)    # Bimodal component\n",
    "]\n",
    "\n",
    "read_lengths = simulate_read_lengths(n_samples, params)"
   ]
  },
  {
   "cell_type": "code",
   "execution_count": 2,
   "metadata": {},
   "outputs": [],
   "source": [
    "import numpy as np\n",
    "\n",
    "def simulate_normal_distributions(n_samples, n_distributions, min_length=18, max_length=35):\n",
    "    \"\"\"\n",
    "    Simulate normally distributed read length distributions with varying standard deviations.\n",
    "\n",
    "    Args:\n",
    "        n_samples (int): Number of read lengths to simulate per distribution.\n",
    "        n_distributions (int): Number of distributions to simulate.\n",
    "        min_length (int): Minimum read length (inclusive).\n",
    "        max_length (int): Maximum read length (inclusive).\n",
    "\n",
    "    Returns:\n",
    "        list: List of arrays, each containing simulated read lengths for one distribution.\n",
    "    \"\"\"\n",
    "    distributions = []\n",
    "    for _ in range(n_distributions):\n",
    "        mean = np.random.randint(min_length, max_length)\n",
    "        std_dev = np.random.uniform(1, 5)\n",
    "        read_lengths = np.random.normal(loc=mean, scale=std_dev, size=n_samples)\n",
    "        read_lengths = np.clip(read_lengths, min_length, max_length).astype(int)\n",
    "        distributions.append(read_lengths)\n",
    "    return distributions\n",
    "\n",
    "# Example usage\n",
    "n_samples = 1000\n",
    "n_normal_distributions = 100\n",
    "normal_distributions = simulate_normal_distributions(n_samples, n_normal_distributions)\n"
   ]
  },
  {
   "cell_type": "code",
   "execution_count": 3,
   "metadata": {},
   "outputs": [
    {
     "data": {
      "application/vnd.plotly.v1+json": {
       "config": {
        "plotlyServerURL": "https://plot.ly"
       },
       "data": [
        {
         "histnorm": "probability",
         "type": "histogram",
         "x": [
          26,
          32,
          31,
          32,
          33,
          23,
          29,
          30,
          32,
          32,
          27,
          28,
          31,
          32,
          30,
          27,
          30,
          24,
          35,
          26,
          31,
          34,
          30,
          29,
          34,
          31,
          31,
          30,
          28,
          28,
          31,
          24,
          32,
          31,
          30,
          29,
          27,
          29,
          29,
          22,
          24,
          31,
          24,
          22,
          23,
          25,
          23,
          28,
          25,
          25,
          27,
          27,
          22,
          31,
          26,
          25,
          31,
          30,
          27,
          32,
          29,
          26,
          33,
          25,
          30,
          29,
          29,
          31,
          26,
          30,
          26,
          35,
          34,
          26,
          28,
          35,
          30,
          27,
          27,
          24,
          27,
          31,
          28,
          26,
          26,
          31,
          26,
          27,
          24,
          24,
          26,
          25,
          26,
          29,
          32,
          35,
          26,
          28,
          19,
          29,
          29,
          23,
          24,
          23,
          30,
          23,
          29,
          22,
          21,
          22,
          30,
          32,
          28,
          28,
          34,
          33,
          24,
          25,
          23,
          34,
          27,
          25,
          29,
          21,
          31,
          30,
          28,
          27,
          31,
          24,
          28,
          26,
          35,
          29,
          26,
          27,
          26,
          30,
          32,
          23,
          22,
          30,
          26,
          29,
          25,
          30,
          30,
          28,
          24,
          29,
          28,
          32,
          26,
          28,
          30,
          23,
          25,
          26,
          27,
          23,
          30,
          27,
          25,
          26,
          29,
          24,
          31,
          31,
          23,
          35,
          23,
          32,
          23,
          26,
          24,
          24,
          27,
          22,
          34,
          26,
          31,
          31,
          25,
          28,
          28,
          29,
          23,
          27,
          30,
          25,
          29,
          29,
          32,
          32,
          20,
          28,
          29,
          32,
          31,
          21,
          24,
          26,
          30,
          28,
          28,
          27,
          30,
          28,
          25,
          27,
          26,
          32,
          25,
          28,
          27,
          29,
          30,
          25,
          28,
          25,
          29,
          27,
          24,
          20,
          30,
          25,
          26,
          21,
          26,
          29,
          31,
          26,
          28,
          27,
          31,
          26,
          30,
          30,
          23,
          30,
          30,
          24,
          30,
          30,
          27,
          26,
          27,
          31,
          26,
          26,
          25,
          27,
          23,
          25,
          23,
          33,
          31,
          25,
          28,
          23,
          25,
          28,
          28,
          31,
          31,
          23,
          31,
          31,
          24,
          29,
          24,
          27,
          31,
          32,
          22,
          24,
          29,
          26,
          23,
          34,
          31,
          24,
          27,
          25,
          29,
          26,
          28,
          24,
          23,
          30,
          28,
          26,
          25,
          33,
          23,
          23,
          35,
          31,
          32,
          26,
          24,
          31,
          31,
          25,
          23,
          30,
          29,
          26,
          27,
          30,
          30,
          28,
          29,
          22,
          25,
          28,
          31,
          31,
          24,
          23,
          26,
          28,
          32,
          25,
          27,
          33,
          28,
          33,
          27,
          28,
          26,
          20,
          25,
          31,
          30,
          26,
          22,
          28,
          22,
          28,
          31,
          25,
          27,
          26,
          21,
          24,
          31,
          33,
          21,
          26,
          26,
          35,
          27,
          28,
          29,
          27,
          28,
          28,
          23,
          32,
          29,
          25,
          28,
          29,
          28,
          29,
          27,
          27,
          27,
          22,
          26,
          30,
          28,
          26,
          27,
          25,
          27,
          24,
          28,
          28,
          27,
          30,
          24,
          30,
          23,
          26,
          26,
          27,
          22,
          27,
          28,
          25,
          23,
          28,
          29,
          25,
          23,
          29,
          20,
          29,
          35,
          28,
          24,
          29,
          27,
          29,
          29,
          29,
          30,
          26,
          28,
          28,
          27,
          29,
          29,
          26,
          35,
          29,
          25,
          27,
          31,
          30,
          29,
          27,
          23,
          28,
          30,
          30,
          26,
          29,
          27,
          24,
          31,
          22,
          32,
          33,
          26,
          31,
          29,
          32,
          24,
          24,
          31,
          28,
          28,
          28,
          28,
          22,
          18,
          29,
          29,
          25,
          32,
          29,
          34,
          25,
          35,
          22,
          26,
          30,
          28,
          23,
          28,
          24,
          24,
          25,
          27,
          25,
          31,
          34,
          30,
          21,
          24,
          28,
          29,
          20,
          27,
          31,
          31,
          27,
          31,
          32,
          33,
          23,
          27,
          29,
          24,
          29,
          29,
          31,
          23,
          24,
          31,
          31,
          27,
          27,
          28,
          28,
          24,
          28,
          29,
          34,
          28,
          31,
          28,
          31,
          27,
          26,
          28,
          33,
          28,
          28,
          29,
          31,
          27,
          24,
          28,
          32,
          23,
          29,
          24,
          29,
          25,
          25,
          25,
          34,
          27,
          29,
          22,
          31,
          30,
          23,
          31,
          32,
          28,
          27,
          20,
          29,
          26,
          28,
          26,
          31,
          28,
          21,
          31,
          35,
          29,
          29,
          30,
          28,
          24,
          23,
          26,
          33,
          26,
          23,
          26,
          28,
          25,
          28,
          26,
          26,
          18,
          27,
          28,
          30,
          28,
          24,
          28,
          25,
          26,
          25,
          25,
          25,
          25,
          31,
          29,
          29,
          31,
          24,
          30,
          31,
          29,
          33,
          28,
          34,
          26,
          25,
          23,
          25,
          29,
          30,
          23,
          28,
          28,
          33,
          22,
          25,
          25,
          28,
          24,
          20,
          28,
          23,
          32,
          33,
          30,
          27,
          22,
          24,
          30,
          30,
          28,
          30,
          29,
          26,
          28,
          28,
          28,
          29,
          27,
          32,
          28,
          22,
          29,
          24,
          28,
          25,
          27,
          27,
          28,
          30,
          27,
          35,
          32,
          34,
          27,
          30,
          35,
          25,
          26,
          33,
          27,
          26,
          26,
          28,
          27,
          27,
          28,
          29,
          31,
          30,
          26,
          22,
          30,
          33,
          26,
          27,
          31,
          29,
          34,
          27,
          29,
          30,
          29,
          25,
          30,
          30,
          33,
          29,
          28,
          32,
          23,
          26,
          31,
          25,
          27,
          30,
          30,
          31,
          29,
          25,
          26,
          27,
          33,
          23,
          27,
          26,
          22,
          26,
          29,
          35,
          30,
          32,
          25,
          33,
          33,
          23,
          30,
          24,
          32,
          25,
          30,
          24,
          28,
          27,
          26,
          23,
          30,
          27,
          21,
          30,
          24,
          26,
          24,
          27,
          27,
          29,
          28,
          31,
          25,
          27,
          30,
          23,
          28,
          26,
          23,
          26,
          25,
          34,
          25,
          30,
          26,
          25,
          29,
          32,
          32,
          30,
          24,
          26,
          31,
          23,
          23,
          26,
          26,
          25,
          26,
          31,
          26,
          28,
          30,
          22,
          28,
          30,
          31,
          20,
          29,
          32,
          31,
          29,
          31,
          29,
          22,
          24,
          24,
          30,
          28,
          27,
          25,
          26,
          25,
          26,
          28,
          29,
          20,
          18,
          28,
          29,
          28,
          28,
          29,
          24,
          24,
          30,
          26,
          23,
          27,
          28,
          32,
          26,
          28,
          26,
          26,
          28,
          22,
          28,
          27,
          31,
          32,
          34,
          30,
          31,
          28,
          25,
          31,
          30,
          25,
          28,
          26,
          31,
          29,
          30,
          32,
          24,
          28,
          33,
          25,
          28,
          31,
          25,
          27,
          29,
          28,
          31,
          35,
          23,
          27,
          25,
          23,
          32,
          24,
          29,
          22,
          29,
          31,
          28,
          27,
          26,
          30,
          33,
          22,
          30,
          24,
          30,
          22,
          29,
          31,
          28,
          31,
          32,
          27,
          23,
          28,
          27,
          26,
          26,
          30,
          26,
          25,
          32,
          29,
          30,
          27,
          24,
          27,
          28,
          29,
          28,
          26,
          29,
          28,
          23,
          29,
          29,
          26,
          28,
          31,
          27,
          32,
          25,
          29,
          30,
          27,
          27,
          27,
          28,
          27,
          26,
          30,
          25,
          25,
          26,
          26,
          28,
          32,
          32,
          28,
          25,
          33,
          22,
          23,
          22,
          33,
          30,
          32,
          31,
          32,
          24,
          21,
          25,
          26,
          31,
          22,
          18,
          29,
          27,
          27,
          33,
          29,
          26,
          25,
          29,
          29,
          35,
          25,
          31,
          24,
          22,
          29,
          23,
          30,
          24,
          33,
          31,
          30,
          23,
          24,
          27,
          26,
          28,
          29,
          28,
          31,
          25,
          28,
          24,
          29,
          25,
          30,
          27,
          26,
          26,
          23,
          31,
          28,
          26,
          26,
          32,
          24,
          20,
          33,
          24,
          26,
          30,
          30,
          34,
          18,
          29,
          27,
          29,
          30,
          27,
          27,
          20,
          33,
          26,
          31,
          35,
          23,
          27,
          29,
          26,
          29,
          30,
          29,
          23,
          34,
          20,
          34,
          28,
          33,
          30,
          30,
          27,
          30,
          29,
          28,
          25,
          27,
          31
         ]
        }
       ],
       "layout": {
        "barmode": "overlay",
        "template": {
         "data": {
          "bar": [
           {
            "error_x": {
             "color": "#2a3f5f"
            },
            "error_y": {
             "color": "#2a3f5f"
            },
            "marker": {
             "line": {
              "color": "#E5ECF6",
              "width": 0.5
             },
             "pattern": {
              "fillmode": "overlay",
              "size": 10,
              "solidity": 0.2
             }
            },
            "type": "bar"
           }
          ],
          "barpolar": [
           {
            "marker": {
             "line": {
              "color": "#E5ECF6",
              "width": 0.5
             },
             "pattern": {
              "fillmode": "overlay",
              "size": 10,
              "solidity": 0.2
             }
            },
            "type": "barpolar"
           }
          ],
          "carpet": [
           {
            "aaxis": {
             "endlinecolor": "#2a3f5f",
             "gridcolor": "white",
             "linecolor": "white",
             "minorgridcolor": "white",
             "startlinecolor": "#2a3f5f"
            },
            "baxis": {
             "endlinecolor": "#2a3f5f",
             "gridcolor": "white",
             "linecolor": "white",
             "minorgridcolor": "white",
             "startlinecolor": "#2a3f5f"
            },
            "type": "carpet"
           }
          ],
          "choropleth": [
           {
            "colorbar": {
             "outlinewidth": 0,
             "ticks": ""
            },
            "type": "choropleth"
           }
          ],
          "contour": [
           {
            "colorbar": {
             "outlinewidth": 0,
             "ticks": ""
            },
            "colorscale": [
             [
              0,
              "#0d0887"
             ],
             [
              0.1111111111111111,
              "#46039f"
             ],
             [
              0.2222222222222222,
              "#7201a8"
             ],
             [
              0.3333333333333333,
              "#9c179e"
             ],
             [
              0.4444444444444444,
              "#bd3786"
             ],
             [
              0.5555555555555556,
              "#d8576b"
             ],
             [
              0.6666666666666666,
              "#ed7953"
             ],
             [
              0.7777777777777778,
              "#fb9f3a"
             ],
             [
              0.8888888888888888,
              "#fdca26"
             ],
             [
              1,
              "#f0f921"
             ]
            ],
            "type": "contour"
           }
          ],
          "contourcarpet": [
           {
            "colorbar": {
             "outlinewidth": 0,
             "ticks": ""
            },
            "type": "contourcarpet"
           }
          ],
          "heatmap": [
           {
            "colorbar": {
             "outlinewidth": 0,
             "ticks": ""
            },
            "colorscale": [
             [
              0,
              "#0d0887"
             ],
             [
              0.1111111111111111,
              "#46039f"
             ],
             [
              0.2222222222222222,
              "#7201a8"
             ],
             [
              0.3333333333333333,
              "#9c179e"
             ],
             [
              0.4444444444444444,
              "#bd3786"
             ],
             [
              0.5555555555555556,
              "#d8576b"
             ],
             [
              0.6666666666666666,
              "#ed7953"
             ],
             [
              0.7777777777777778,
              "#fb9f3a"
             ],
             [
              0.8888888888888888,
              "#fdca26"
             ],
             [
              1,
              "#f0f921"
             ]
            ],
            "type": "heatmap"
           }
          ],
          "heatmapgl": [
           {
            "colorbar": {
             "outlinewidth": 0,
             "ticks": ""
            },
            "colorscale": [
             [
              0,
              "#0d0887"
             ],
             [
              0.1111111111111111,
              "#46039f"
             ],
             [
              0.2222222222222222,
              "#7201a8"
             ],
             [
              0.3333333333333333,
              "#9c179e"
             ],
             [
              0.4444444444444444,
              "#bd3786"
             ],
             [
              0.5555555555555556,
              "#d8576b"
             ],
             [
              0.6666666666666666,
              "#ed7953"
             ],
             [
              0.7777777777777778,
              "#fb9f3a"
             ],
             [
              0.8888888888888888,
              "#fdca26"
             ],
             [
              1,
              "#f0f921"
             ]
            ],
            "type": "heatmapgl"
           }
          ],
          "histogram": [
           {
            "marker": {
             "pattern": {
              "fillmode": "overlay",
              "size": 10,
              "solidity": 0.2
             }
            },
            "type": "histogram"
           }
          ],
          "histogram2d": [
           {
            "colorbar": {
             "outlinewidth": 0,
             "ticks": ""
            },
            "colorscale": [
             [
              0,
              "#0d0887"
             ],
             [
              0.1111111111111111,
              "#46039f"
             ],
             [
              0.2222222222222222,
              "#7201a8"
             ],
             [
              0.3333333333333333,
              "#9c179e"
             ],
             [
              0.4444444444444444,
              "#bd3786"
             ],
             [
              0.5555555555555556,
              "#d8576b"
             ],
             [
              0.6666666666666666,
              "#ed7953"
             ],
             [
              0.7777777777777778,
              "#fb9f3a"
             ],
             [
              0.8888888888888888,
              "#fdca26"
             ],
             [
              1,
              "#f0f921"
             ]
            ],
            "type": "histogram2d"
           }
          ],
          "histogram2dcontour": [
           {
            "colorbar": {
             "outlinewidth": 0,
             "ticks": ""
            },
            "colorscale": [
             [
              0,
              "#0d0887"
             ],
             [
              0.1111111111111111,
              "#46039f"
             ],
             [
              0.2222222222222222,
              "#7201a8"
             ],
             [
              0.3333333333333333,
              "#9c179e"
             ],
             [
              0.4444444444444444,
              "#bd3786"
             ],
             [
              0.5555555555555556,
              "#d8576b"
             ],
             [
              0.6666666666666666,
              "#ed7953"
             ],
             [
              0.7777777777777778,
              "#fb9f3a"
             ],
             [
              0.8888888888888888,
              "#fdca26"
             ],
             [
              1,
              "#f0f921"
             ]
            ],
            "type": "histogram2dcontour"
           }
          ],
          "mesh3d": [
           {
            "colorbar": {
             "outlinewidth": 0,
             "ticks": ""
            },
            "type": "mesh3d"
           }
          ],
          "parcoords": [
           {
            "line": {
             "colorbar": {
              "outlinewidth": 0,
              "ticks": ""
             }
            },
            "type": "parcoords"
           }
          ],
          "pie": [
           {
            "automargin": true,
            "type": "pie"
           }
          ],
          "scatter": [
           {
            "fillpattern": {
             "fillmode": "overlay",
             "size": 10,
             "solidity": 0.2
            },
            "type": "scatter"
           }
          ],
          "scatter3d": [
           {
            "line": {
             "colorbar": {
              "outlinewidth": 0,
              "ticks": ""
             }
            },
            "marker": {
             "colorbar": {
              "outlinewidth": 0,
              "ticks": ""
             }
            },
            "type": "scatter3d"
           }
          ],
          "scattercarpet": [
           {
            "marker": {
             "colorbar": {
              "outlinewidth": 0,
              "ticks": ""
             }
            },
            "type": "scattercarpet"
           }
          ],
          "scattergeo": [
           {
            "marker": {
             "colorbar": {
              "outlinewidth": 0,
              "ticks": ""
             }
            },
            "type": "scattergeo"
           }
          ],
          "scattergl": [
           {
            "marker": {
             "colorbar": {
              "outlinewidth": 0,
              "ticks": ""
             }
            },
            "type": "scattergl"
           }
          ],
          "scattermapbox": [
           {
            "marker": {
             "colorbar": {
              "outlinewidth": 0,
              "ticks": ""
             }
            },
            "type": "scattermapbox"
           }
          ],
          "scatterpolar": [
           {
            "marker": {
             "colorbar": {
              "outlinewidth": 0,
              "ticks": ""
             }
            },
            "type": "scatterpolar"
           }
          ],
          "scatterpolargl": [
           {
            "marker": {
             "colorbar": {
              "outlinewidth": 0,
              "ticks": ""
             }
            },
            "type": "scatterpolargl"
           }
          ],
          "scatterternary": [
           {
            "marker": {
             "colorbar": {
              "outlinewidth": 0,
              "ticks": ""
             }
            },
            "type": "scatterternary"
           }
          ],
          "surface": [
           {
            "colorbar": {
             "outlinewidth": 0,
             "ticks": ""
            },
            "colorscale": [
             [
              0,
              "#0d0887"
             ],
             [
              0.1111111111111111,
              "#46039f"
             ],
             [
              0.2222222222222222,
              "#7201a8"
             ],
             [
              0.3333333333333333,
              "#9c179e"
             ],
             [
              0.4444444444444444,
              "#bd3786"
             ],
             [
              0.5555555555555556,
              "#d8576b"
             ],
             [
              0.6666666666666666,
              "#ed7953"
             ],
             [
              0.7777777777777778,
              "#fb9f3a"
             ],
             [
              0.8888888888888888,
              "#fdca26"
             ],
             [
              1,
              "#f0f921"
             ]
            ],
            "type": "surface"
           }
          ],
          "table": [
           {
            "cells": {
             "fill": {
              "color": "#EBF0F8"
             },
             "line": {
              "color": "white"
             }
            },
            "header": {
             "fill": {
              "color": "#C8D4E3"
             },
             "line": {
              "color": "white"
             }
            },
            "type": "table"
           }
          ]
         },
         "layout": {
          "annotationdefaults": {
           "arrowcolor": "#2a3f5f",
           "arrowhead": 0,
           "arrowwidth": 1
          },
          "autotypenumbers": "strict",
          "coloraxis": {
           "colorbar": {
            "outlinewidth": 0,
            "ticks": ""
           }
          },
          "colorscale": {
           "diverging": [
            [
             0,
             "#8e0152"
            ],
            [
             0.1,
             "#c51b7d"
            ],
            [
             0.2,
             "#de77ae"
            ],
            [
             0.3,
             "#f1b6da"
            ],
            [
             0.4,
             "#fde0ef"
            ],
            [
             0.5,
             "#f7f7f7"
            ],
            [
             0.6,
             "#e6f5d0"
            ],
            [
             0.7,
             "#b8e186"
            ],
            [
             0.8,
             "#7fbc41"
            ],
            [
             0.9,
             "#4d9221"
            ],
            [
             1,
             "#276419"
            ]
           ],
           "sequential": [
            [
             0,
             "#0d0887"
            ],
            [
             0.1111111111111111,
             "#46039f"
            ],
            [
             0.2222222222222222,
             "#7201a8"
            ],
            [
             0.3333333333333333,
             "#9c179e"
            ],
            [
             0.4444444444444444,
             "#bd3786"
            ],
            [
             0.5555555555555556,
             "#d8576b"
            ],
            [
             0.6666666666666666,
             "#ed7953"
            ],
            [
             0.7777777777777778,
             "#fb9f3a"
            ],
            [
             0.8888888888888888,
             "#fdca26"
            ],
            [
             1,
             "#f0f921"
            ]
           ],
           "sequentialminus": [
            [
             0,
             "#0d0887"
            ],
            [
             0.1111111111111111,
             "#46039f"
            ],
            [
             0.2222222222222222,
             "#7201a8"
            ],
            [
             0.3333333333333333,
             "#9c179e"
            ],
            [
             0.4444444444444444,
             "#bd3786"
            ],
            [
             0.5555555555555556,
             "#d8576b"
            ],
            [
             0.6666666666666666,
             "#ed7953"
            ],
            [
             0.7777777777777778,
             "#fb9f3a"
            ],
            [
             0.8888888888888888,
             "#fdca26"
            ],
            [
             1,
             "#f0f921"
            ]
           ]
          },
          "colorway": [
           "#636efa",
           "#EF553B",
           "#00cc96",
           "#ab63fa",
           "#FFA15A",
           "#19d3f3",
           "#FF6692",
           "#B6E880",
           "#FF97FF",
           "#FECB52"
          ],
          "font": {
           "color": "#2a3f5f"
          },
          "geo": {
           "bgcolor": "white",
           "lakecolor": "white",
           "landcolor": "#E5ECF6",
           "showlakes": true,
           "showland": true,
           "subunitcolor": "white"
          },
          "hoverlabel": {
           "align": "left"
          },
          "hovermode": "closest",
          "mapbox": {
           "style": "light"
          },
          "paper_bgcolor": "white",
          "plot_bgcolor": "#E5ECF6",
          "polar": {
           "angularaxis": {
            "gridcolor": "white",
            "linecolor": "white",
            "ticks": ""
           },
           "bgcolor": "#E5ECF6",
           "radialaxis": {
            "gridcolor": "white",
            "linecolor": "white",
            "ticks": ""
           }
          },
          "scene": {
           "xaxis": {
            "backgroundcolor": "#E5ECF6",
            "gridcolor": "white",
            "gridwidth": 2,
            "linecolor": "white",
            "showbackground": true,
            "ticks": "",
            "zerolinecolor": "white"
           },
           "yaxis": {
            "backgroundcolor": "#E5ECF6",
            "gridcolor": "white",
            "gridwidth": 2,
            "linecolor": "white",
            "showbackground": true,
            "ticks": "",
            "zerolinecolor": "white"
           },
           "zaxis": {
            "backgroundcolor": "#E5ECF6",
            "gridcolor": "white",
            "gridwidth": 2,
            "linecolor": "white",
            "showbackground": true,
            "ticks": "",
            "zerolinecolor": "white"
           }
          },
          "shapedefaults": {
           "line": {
            "color": "#2a3f5f"
           }
          },
          "ternary": {
           "aaxis": {
            "gridcolor": "white",
            "linecolor": "white",
            "ticks": ""
           },
           "baxis": {
            "gridcolor": "white",
            "linecolor": "white",
            "ticks": ""
           },
           "bgcolor": "#E5ECF6",
           "caxis": {
            "gridcolor": "white",
            "linecolor": "white",
            "ticks": ""
           }
          },
          "title": {
           "x": 0.05
          },
          "xaxis": {
           "automargin": true,
           "gridcolor": "white",
           "linecolor": "white",
           "ticks": "",
           "title": {
            "standoff": 15
           },
           "zerolinecolor": "white",
           "zerolinewidth": 2
          },
          "yaxis": {
           "automargin": true,
           "gridcolor": "white",
           "linecolor": "white",
           "ticks": "",
           "title": {
            "standoff": 15
           },
           "zerolinecolor": "white",
           "zerolinewidth": 2
          }
         }
        },
        "title": {
         "text": "Simulated Read Length Distributions"
        },
        "xaxis": {
         "title": {
          "text": "Read Length"
         }
        },
        "yaxis": {
         "title": {
          "text": "Density"
         }
        }
       }
      }
     },
     "metadata": {},
     "output_type": "display_data"
    },
    {
     "data": {
      "application/vnd.plotly.v1+json": {
       "config": {
        "plotlyServerURL": "https://plot.ly"
       },
       "data": [
        {
         "histnorm": "probability",
         "type": "histogram",
         "x": [
          28,
          27,
          27,
          27,
          24,
          25,
          28,
          24,
          24,
          24,
          24,
          26,
          24,
          26,
          25,
          25,
          27,
          27,
          27,
          25,
          24,
          26,
          24,
          24,
          24,
          25,
          25,
          26,
          27,
          27,
          25,
          26,
          27,
          23,
          25,
          22,
          25,
          25,
          27,
          26,
          25,
          26,
          27,
          26,
          26,
          24,
          27,
          24,
          28,
          26,
          27,
          27,
          25,
          24,
          25,
          27,
          26,
          26,
          25,
          25,
          28,
          26,
          26,
          24,
          29,
          24,
          25,
          27,
          25,
          26,
          25,
          24,
          27,
          25,
          27,
          24,
          24,
          28,
          22,
          27,
          28,
          25,
          25,
          26,
          24,
          26,
          25,
          25,
          27,
          25,
          23,
          25,
          27,
          27,
          24,
          26,
          27,
          26,
          24,
          24,
          26,
          26,
          24,
          27,
          27,
          25,
          23,
          26,
          27,
          25,
          24,
          25,
          27,
          25,
          23,
          25,
          25,
          25,
          24,
          24,
          25,
          26,
          23,
          25,
          27,
          25,
          25,
          25,
          24,
          26,
          25,
          24,
          21,
          27,
          26,
          26,
          27,
          25,
          27,
          26,
          24,
          23,
          26,
          23,
          25,
          25,
          24,
          26,
          26,
          25,
          25,
          26,
          25,
          28,
          25,
          25,
          24,
          26,
          27,
          25,
          26,
          25,
          27,
          24,
          25,
          25,
          27,
          24,
          27,
          23,
          26,
          28,
          24,
          26,
          28,
          25,
          25,
          26,
          28,
          26,
          25,
          27,
          29,
          26,
          24,
          26,
          26,
          26,
          27,
          26,
          25,
          25,
          28,
          26,
          24,
          25,
          27,
          26,
          24,
          24,
          26,
          27,
          27,
          25,
          26,
          29,
          24,
          24,
          25,
          24,
          25,
          26,
          26,
          26,
          26,
          27,
          26,
          27,
          26,
          25,
          26,
          24,
          26,
          24,
          27,
          25,
          25,
          23,
          23,
          28,
          25,
          27,
          26,
          27,
          27,
          26,
          27,
          22,
          24,
          26,
          25,
          26,
          25,
          24,
          26,
          26,
          26,
          25,
          26,
          26,
          26,
          25,
          27,
          24,
          27,
          25,
          29,
          25,
          25,
          29,
          23,
          25,
          25,
          26,
          26,
          27,
          26,
          26,
          27,
          25,
          25,
          27,
          26,
          25,
          24,
          25,
          25,
          26,
          26,
          24,
          26,
          25,
          25,
          26,
          27,
          25,
          26,
          24,
          25,
          28,
          26,
          26,
          24,
          28,
          28,
          24,
          28,
          27,
          25,
          25,
          28,
          26,
          26,
          24,
          25,
          26,
          24,
          25,
          22,
          25,
          27,
          26,
          26,
          25,
          26,
          26,
          25,
          26,
          26,
          26,
          28,
          28,
          29,
          24,
          27,
          24,
          25,
          26,
          23,
          27,
          24,
          25,
          25,
          25,
          29,
          26,
          24,
          25,
          25,
          25,
          28,
          26,
          26,
          25,
          25,
          24,
          25,
          25,
          26,
          28,
          27,
          25,
          25,
          24,
          24,
          25,
          24,
          26,
          27,
          27,
          28,
          25,
          25,
          25,
          25,
          25,
          25,
          26,
          27,
          24,
          25,
          24,
          28,
          26,
          26,
          23,
          25,
          25,
          22,
          27,
          26,
          25,
          25,
          28,
          25,
          26,
          23,
          25,
          28,
          25,
          25,
          23,
          25,
          25,
          28,
          26,
          25,
          25,
          28,
          26,
          23,
          26,
          22,
          20,
          25,
          25,
          25,
          24,
          26,
          24,
          24,
          27,
          23,
          24,
          25,
          25,
          23,
          27,
          26,
          26,
          26,
          26,
          25,
          25,
          25,
          26,
          25,
          24,
          23,
          25,
          25,
          23,
          25,
          29,
          23,
          25,
          25,
          25,
          25,
          24,
          25,
          26,
          27,
          26,
          25,
          24,
          26,
          25,
          27,
          25,
          26,
          26,
          25,
          23,
          27,
          26,
          27,
          27,
          28,
          24,
          27,
          28,
          27,
          26,
          25,
          25,
          25,
          26,
          26,
          25,
          27,
          28,
          26,
          27,
          26,
          24,
          27,
          27,
          24,
          23,
          22,
          25,
          28,
          29,
          25,
          25,
          23,
          24,
          25,
          28,
          25,
          25,
          25,
          28,
          27,
          25,
          25,
          27,
          28,
          28,
          26,
          26,
          28,
          25,
          27,
          23,
          25,
          24,
          25,
          26,
          26,
          26,
          27,
          25,
          25,
          25,
          25,
          26,
          27,
          27,
          26,
          26,
          26,
          24,
          27,
          27,
          26,
          24,
          25,
          25,
          25,
          27,
          26,
          24,
          25,
          26,
          29,
          26,
          25,
          28,
          26,
          28,
          25,
          25,
          26,
          25,
          27,
          25,
          26,
          26,
          24,
          24,
          26,
          24,
          28,
          26,
          24,
          26,
          25,
          27,
          26,
          23,
          25,
          23,
          24,
          25,
          25,
          26,
          26,
          25,
          25,
          27,
          24,
          24,
          23,
          25,
          25,
          25,
          24,
          23,
          25,
          27,
          24,
          26,
          28,
          27,
          26,
          27,
          28,
          26,
          25,
          26,
          24,
          22,
          24,
          25,
          24,
          26,
          28,
          23,
          23,
          23,
          24,
          28,
          26,
          26,
          25,
          25,
          27,
          25,
          24,
          24,
          26,
          27,
          27,
          27,
          25,
          26,
          27,
          27,
          25,
          24,
          26,
          23,
          23,
          25,
          28,
          23,
          26,
          27,
          26,
          26,
          23,
          24,
          27,
          25,
          26,
          26,
          24,
          26,
          27,
          26,
          24,
          25,
          26,
          24,
          25,
          27,
          25,
          24,
          23,
          24,
          25,
          26,
          25,
          24,
          25,
          23,
          24,
          26,
          27,
          27,
          26,
          25,
          26,
          22,
          27,
          22,
          24,
          24,
          26,
          27,
          26,
          23,
          24,
          25,
          25,
          26,
          24,
          25,
          27,
          25,
          25,
          27,
          25,
          25,
          27,
          25,
          26,
          25,
          28,
          22,
          26,
          24,
          25,
          28,
          26,
          23,
          26,
          25,
          24,
          28,
          28,
          27,
          24,
          24,
          27,
          27,
          25,
          30,
          24,
          25,
          25,
          28,
          27,
          26,
          26,
          25,
          25,
          27,
          25,
          26,
          26,
          25,
          25,
          25,
          27,
          26,
          26,
          26,
          26,
          27,
          24,
          26,
          26,
          26,
          25,
          25,
          24,
          25,
          28,
          26,
          27,
          26,
          22,
          27,
          25,
          27,
          25,
          27,
          27,
          26,
          26,
          26,
          26,
          25,
          28,
          23,
          24,
          27,
          27,
          25,
          28,
          27,
          26,
          26,
          27,
          28,
          26,
          26,
          26,
          25,
          24,
          23,
          25,
          26,
          24,
          27,
          25,
          27,
          24,
          24,
          25,
          26,
          29,
          26,
          26,
          26,
          26,
          26,
          24,
          28,
          25,
          28,
          28,
          27,
          23,
          24,
          25,
          25,
          25,
          25,
          24,
          26,
          24,
          25,
          26,
          25,
          26,
          23,
          26,
          27,
          26,
          25,
          26,
          24,
          24,
          28,
          27,
          26,
          24,
          26,
          27,
          25,
          27,
          28,
          24,
          23,
          26,
          26,
          26,
          26,
          25,
          24,
          22,
          27,
          25,
          28,
          23,
          26,
          26,
          26,
          26,
          26,
          25,
          26,
          25,
          26,
          24,
          25,
          26,
          25,
          26,
          27,
          26,
          26,
          26,
          26,
          24,
          25,
          24,
          29,
          28,
          25,
          25,
          23,
          28,
          27,
          22,
          26,
          25,
          26,
          25,
          23,
          25,
          27,
          23,
          25,
          27,
          24,
          27,
          24,
          26,
          24,
          27,
          26,
          25,
          27,
          27,
          25,
          24,
          25,
          25,
          25,
          24,
          26,
          26,
          27,
          25,
          26,
          23,
          24,
          28,
          27,
          24,
          24,
          24,
          26,
          24,
          27,
          24,
          26,
          26,
          26,
          27,
          26,
          25,
          28,
          27,
          23,
          26,
          25,
          26,
          26,
          27,
          27,
          25,
          24,
          25,
          27,
          28,
          25,
          26,
          25,
          25,
          26,
          27,
          23,
          26,
          25,
          27,
          25,
          27,
          25,
          24,
          26,
          26,
          26,
          26,
          27,
          24,
          27,
          26,
          24,
          24,
          27,
          25,
          26,
          26,
          25,
          26,
          24,
          26,
          24,
          26,
          28,
          26,
          24,
          22,
          26,
          25,
          24,
          23,
          25,
          24,
          25,
          24,
          26,
          27,
          26,
          25,
          29,
          27,
          29,
          26,
          26,
          25,
          25,
          27,
          24,
          26,
          27,
          27,
          26,
          25,
          26,
          24,
          23,
          26,
          26
         ]
        }
       ],
       "layout": {
        "barmode": "overlay",
        "template": {
         "data": {
          "bar": [
           {
            "error_x": {
             "color": "#2a3f5f"
            },
            "error_y": {
             "color": "#2a3f5f"
            },
            "marker": {
             "line": {
              "color": "#E5ECF6",
              "width": 0.5
             },
             "pattern": {
              "fillmode": "overlay",
              "size": 10,
              "solidity": 0.2
             }
            },
            "type": "bar"
           }
          ],
          "barpolar": [
           {
            "marker": {
             "line": {
              "color": "#E5ECF6",
              "width": 0.5
             },
             "pattern": {
              "fillmode": "overlay",
              "size": 10,
              "solidity": 0.2
             }
            },
            "type": "barpolar"
           }
          ],
          "carpet": [
           {
            "aaxis": {
             "endlinecolor": "#2a3f5f",
             "gridcolor": "white",
             "linecolor": "white",
             "minorgridcolor": "white",
             "startlinecolor": "#2a3f5f"
            },
            "baxis": {
             "endlinecolor": "#2a3f5f",
             "gridcolor": "white",
             "linecolor": "white",
             "minorgridcolor": "white",
             "startlinecolor": "#2a3f5f"
            },
            "type": "carpet"
           }
          ],
          "choropleth": [
           {
            "colorbar": {
             "outlinewidth": 0,
             "ticks": ""
            },
            "type": "choropleth"
           }
          ],
          "contour": [
           {
            "colorbar": {
             "outlinewidth": 0,
             "ticks": ""
            },
            "colorscale": [
             [
              0,
              "#0d0887"
             ],
             [
              0.1111111111111111,
              "#46039f"
             ],
             [
              0.2222222222222222,
              "#7201a8"
             ],
             [
              0.3333333333333333,
              "#9c179e"
             ],
             [
              0.4444444444444444,
              "#bd3786"
             ],
             [
              0.5555555555555556,
              "#d8576b"
             ],
             [
              0.6666666666666666,
              "#ed7953"
             ],
             [
              0.7777777777777778,
              "#fb9f3a"
             ],
             [
              0.8888888888888888,
              "#fdca26"
             ],
             [
              1,
              "#f0f921"
             ]
            ],
            "type": "contour"
           }
          ],
          "contourcarpet": [
           {
            "colorbar": {
             "outlinewidth": 0,
             "ticks": ""
            },
            "type": "contourcarpet"
           }
          ],
          "heatmap": [
           {
            "colorbar": {
             "outlinewidth": 0,
             "ticks": ""
            },
            "colorscale": [
             [
              0,
              "#0d0887"
             ],
             [
              0.1111111111111111,
              "#46039f"
             ],
             [
              0.2222222222222222,
              "#7201a8"
             ],
             [
              0.3333333333333333,
              "#9c179e"
             ],
             [
              0.4444444444444444,
              "#bd3786"
             ],
             [
              0.5555555555555556,
              "#d8576b"
             ],
             [
              0.6666666666666666,
              "#ed7953"
             ],
             [
              0.7777777777777778,
              "#fb9f3a"
             ],
             [
              0.8888888888888888,
              "#fdca26"
             ],
             [
              1,
              "#f0f921"
             ]
            ],
            "type": "heatmap"
           }
          ],
          "heatmapgl": [
           {
            "colorbar": {
             "outlinewidth": 0,
             "ticks": ""
            },
            "colorscale": [
             [
              0,
              "#0d0887"
             ],
             [
              0.1111111111111111,
              "#46039f"
             ],
             [
              0.2222222222222222,
              "#7201a8"
             ],
             [
              0.3333333333333333,
              "#9c179e"
             ],
             [
              0.4444444444444444,
              "#bd3786"
             ],
             [
              0.5555555555555556,
              "#d8576b"
             ],
             [
              0.6666666666666666,
              "#ed7953"
             ],
             [
              0.7777777777777778,
              "#fb9f3a"
             ],
             [
              0.8888888888888888,
              "#fdca26"
             ],
             [
              1,
              "#f0f921"
             ]
            ],
            "type": "heatmapgl"
           }
          ],
          "histogram": [
           {
            "marker": {
             "pattern": {
              "fillmode": "overlay",
              "size": 10,
              "solidity": 0.2
             }
            },
            "type": "histogram"
           }
          ],
          "histogram2d": [
           {
            "colorbar": {
             "outlinewidth": 0,
             "ticks": ""
            },
            "colorscale": [
             [
              0,
              "#0d0887"
             ],
             [
              0.1111111111111111,
              "#46039f"
             ],
             [
              0.2222222222222222,
              "#7201a8"
             ],
             [
              0.3333333333333333,
              "#9c179e"
             ],
             [
              0.4444444444444444,
              "#bd3786"
             ],
             [
              0.5555555555555556,
              "#d8576b"
             ],
             [
              0.6666666666666666,
              "#ed7953"
             ],
             [
              0.7777777777777778,
              "#fb9f3a"
             ],
             [
              0.8888888888888888,
              "#fdca26"
             ],
             [
              1,
              "#f0f921"
             ]
            ],
            "type": "histogram2d"
           }
          ],
          "histogram2dcontour": [
           {
            "colorbar": {
             "outlinewidth": 0,
             "ticks": ""
            },
            "colorscale": [
             [
              0,
              "#0d0887"
             ],
             [
              0.1111111111111111,
              "#46039f"
             ],
             [
              0.2222222222222222,
              "#7201a8"
             ],
             [
              0.3333333333333333,
              "#9c179e"
             ],
             [
              0.4444444444444444,
              "#bd3786"
             ],
             [
              0.5555555555555556,
              "#d8576b"
             ],
             [
              0.6666666666666666,
              "#ed7953"
             ],
             [
              0.7777777777777778,
              "#fb9f3a"
             ],
             [
              0.8888888888888888,
              "#fdca26"
             ],
             [
              1,
              "#f0f921"
             ]
            ],
            "type": "histogram2dcontour"
           }
          ],
          "mesh3d": [
           {
            "colorbar": {
             "outlinewidth": 0,
             "ticks": ""
            },
            "type": "mesh3d"
           }
          ],
          "parcoords": [
           {
            "line": {
             "colorbar": {
              "outlinewidth": 0,
              "ticks": ""
             }
            },
            "type": "parcoords"
           }
          ],
          "pie": [
           {
            "automargin": true,
            "type": "pie"
           }
          ],
          "scatter": [
           {
            "fillpattern": {
             "fillmode": "overlay",
             "size": 10,
             "solidity": 0.2
            },
            "type": "scatter"
           }
          ],
          "scatter3d": [
           {
            "line": {
             "colorbar": {
              "outlinewidth": 0,
              "ticks": ""
             }
            },
            "marker": {
             "colorbar": {
              "outlinewidth": 0,
              "ticks": ""
             }
            },
            "type": "scatter3d"
           }
          ],
          "scattercarpet": [
           {
            "marker": {
             "colorbar": {
              "outlinewidth": 0,
              "ticks": ""
             }
            },
            "type": "scattercarpet"
           }
          ],
          "scattergeo": [
           {
            "marker": {
             "colorbar": {
              "outlinewidth": 0,
              "ticks": ""
             }
            },
            "type": "scattergeo"
           }
          ],
          "scattergl": [
           {
            "marker": {
             "colorbar": {
              "outlinewidth": 0,
              "ticks": ""
             }
            },
            "type": "scattergl"
           }
          ],
          "scattermapbox": [
           {
            "marker": {
             "colorbar": {
              "outlinewidth": 0,
              "ticks": ""
             }
            },
            "type": "scattermapbox"
           }
          ],
          "scatterpolar": [
           {
            "marker": {
             "colorbar": {
              "outlinewidth": 0,
              "ticks": ""
             }
            },
            "type": "scatterpolar"
           }
          ],
          "scatterpolargl": [
           {
            "marker": {
             "colorbar": {
              "outlinewidth": 0,
              "ticks": ""
             }
            },
            "type": "scatterpolargl"
           }
          ],
          "scatterternary": [
           {
            "marker": {
             "colorbar": {
              "outlinewidth": 0,
              "ticks": ""
             }
            },
            "type": "scatterternary"
           }
          ],
          "surface": [
           {
            "colorbar": {
             "outlinewidth": 0,
             "ticks": ""
            },
            "colorscale": [
             [
              0,
              "#0d0887"
             ],
             [
              0.1111111111111111,
              "#46039f"
             ],
             [
              0.2222222222222222,
              "#7201a8"
             ],
             [
              0.3333333333333333,
              "#9c179e"
             ],
             [
              0.4444444444444444,
              "#bd3786"
             ],
             [
              0.5555555555555556,
              "#d8576b"
             ],
             [
              0.6666666666666666,
              "#ed7953"
             ],
             [
              0.7777777777777778,
              "#fb9f3a"
             ],
             [
              0.8888888888888888,
              "#fdca26"
             ],
             [
              1,
              "#f0f921"
             ]
            ],
            "type": "surface"
           }
          ],
          "table": [
           {
            "cells": {
             "fill": {
              "color": "#EBF0F8"
             },
             "line": {
              "color": "white"
             }
            },
            "header": {
             "fill": {
              "color": "#C8D4E3"
             },
             "line": {
              "color": "white"
             }
            },
            "type": "table"
           }
          ]
         },
         "layout": {
          "annotationdefaults": {
           "arrowcolor": "#2a3f5f",
           "arrowhead": 0,
           "arrowwidth": 1
          },
          "autotypenumbers": "strict",
          "coloraxis": {
           "colorbar": {
            "outlinewidth": 0,
            "ticks": ""
           }
          },
          "colorscale": {
           "diverging": [
            [
             0,
             "#8e0152"
            ],
            [
             0.1,
             "#c51b7d"
            ],
            [
             0.2,
             "#de77ae"
            ],
            [
             0.3,
             "#f1b6da"
            ],
            [
             0.4,
             "#fde0ef"
            ],
            [
             0.5,
             "#f7f7f7"
            ],
            [
             0.6,
             "#e6f5d0"
            ],
            [
             0.7,
             "#b8e186"
            ],
            [
             0.8,
             "#7fbc41"
            ],
            [
             0.9,
             "#4d9221"
            ],
            [
             1,
             "#276419"
            ]
           ],
           "sequential": [
            [
             0,
             "#0d0887"
            ],
            [
             0.1111111111111111,
             "#46039f"
            ],
            [
             0.2222222222222222,
             "#7201a8"
            ],
            [
             0.3333333333333333,
             "#9c179e"
            ],
            [
             0.4444444444444444,
             "#bd3786"
            ],
            [
             0.5555555555555556,
             "#d8576b"
            ],
            [
             0.6666666666666666,
             "#ed7953"
            ],
            [
             0.7777777777777778,
             "#fb9f3a"
            ],
            [
             0.8888888888888888,
             "#fdca26"
            ],
            [
             1,
             "#f0f921"
            ]
           ],
           "sequentialminus": [
            [
             0,
             "#0d0887"
            ],
            [
             0.1111111111111111,
             "#46039f"
            ],
            [
             0.2222222222222222,
             "#7201a8"
            ],
            [
             0.3333333333333333,
             "#9c179e"
            ],
            [
             0.4444444444444444,
             "#bd3786"
            ],
            [
             0.5555555555555556,
             "#d8576b"
            ],
            [
             0.6666666666666666,
             "#ed7953"
            ],
            [
             0.7777777777777778,
             "#fb9f3a"
            ],
            [
             0.8888888888888888,
             "#fdca26"
            ],
            [
             1,
             "#f0f921"
            ]
           ]
          },
          "colorway": [
           "#636efa",
           "#EF553B",
           "#00cc96",
           "#ab63fa",
           "#FFA15A",
           "#19d3f3",
           "#FF6692",
           "#B6E880",
           "#FF97FF",
           "#FECB52"
          ],
          "font": {
           "color": "#2a3f5f"
          },
          "geo": {
           "bgcolor": "white",
           "lakecolor": "white",
           "landcolor": "#E5ECF6",
           "showlakes": true,
           "showland": true,
           "subunitcolor": "white"
          },
          "hoverlabel": {
           "align": "left"
          },
          "hovermode": "closest",
          "mapbox": {
           "style": "light"
          },
          "paper_bgcolor": "white",
          "plot_bgcolor": "#E5ECF6",
          "polar": {
           "angularaxis": {
            "gridcolor": "white",
            "linecolor": "white",
            "ticks": ""
           },
           "bgcolor": "#E5ECF6",
           "radialaxis": {
            "gridcolor": "white",
            "linecolor": "white",
            "ticks": ""
           }
          },
          "scene": {
           "xaxis": {
            "backgroundcolor": "#E5ECF6",
            "gridcolor": "white",
            "gridwidth": 2,
            "linecolor": "white",
            "showbackground": true,
            "ticks": "",
            "zerolinecolor": "white"
           },
           "yaxis": {
            "backgroundcolor": "#E5ECF6",
            "gridcolor": "white",
            "gridwidth": 2,
            "linecolor": "white",
            "showbackground": true,
            "ticks": "",
            "zerolinecolor": "white"
           },
           "zaxis": {
            "backgroundcolor": "#E5ECF6",
            "gridcolor": "white",
            "gridwidth": 2,
            "linecolor": "white",
            "showbackground": true,
            "ticks": "",
            "zerolinecolor": "white"
           }
          },
          "shapedefaults": {
           "line": {
            "color": "#2a3f5f"
           }
          },
          "ternary": {
           "aaxis": {
            "gridcolor": "white",
            "linecolor": "white",
            "ticks": ""
           },
           "baxis": {
            "gridcolor": "white",
            "linecolor": "white",
            "ticks": ""
           },
           "bgcolor": "#E5ECF6",
           "caxis": {
            "gridcolor": "white",
            "linecolor": "white",
            "ticks": ""
           }
          },
          "title": {
           "x": 0.05
          },
          "xaxis": {
           "automargin": true,
           "gridcolor": "white",
           "linecolor": "white",
           "ticks": "",
           "title": {
            "standoff": 15
           },
           "zerolinecolor": "white",
           "zerolinewidth": 2
          },
          "yaxis": {
           "automargin": true,
           "gridcolor": "white",
           "linecolor": "white",
           "ticks": "",
           "title": {
            "standoff": 15
           },
           "zerolinecolor": "white",
           "zerolinewidth": 2
          }
         }
        },
        "title": {
         "text": "Simulated Read Length Distributions"
        },
        "xaxis": {
         "title": {
          "text": "Read Length"
         }
        },
        "yaxis": {
         "title": {
          "text": "Density"
         }
        }
       }
      }
     },
     "metadata": {},
     "output_type": "display_data"
    },
    {
     "data": {
      "application/vnd.plotly.v1+json": {
       "config": {
        "plotlyServerURL": "https://plot.ly"
       },
       "data": [
        {
         "histnorm": "probability",
         "type": "histogram",
         "x": [
          29,
          31,
          31,
          32,
          30,
          34,
          32,
          34,
          34,
          34,
          33,
          33,
          31,
          31,
          34,
          31,
          31,
          29,
          32,
          31,
          33,
          31,
          31,
          31,
          32,
          27,
          33,
          29,
          32,
          35,
          32,
          31,
          33,
          35,
          33,
          29,
          35,
          31,
          30,
          30,
          30,
          30,
          33,
          29,
          35,
          32,
          33,
          33,
          29,
          30,
          31,
          32,
          33,
          31,
          34,
          30,
          32,
          33,
          32,
          31,
          35,
          32,
          28,
          31,
          32,
          29,
          31,
          30,
          31,
          31,
          32,
          30,
          31,
          29,
          35,
          34,
          33,
          30,
          30,
          31,
          31,
          31,
          33,
          30,
          34,
          28,
          31,
          31,
          33,
          32,
          31,
          28,
          33,
          33,
          34,
          31,
          31,
          34,
          35,
          32,
          34,
          30,
          33,
          32,
          31,
          32,
          31,
          32,
          30,
          31,
          33,
          33,
          31,
          29,
          29,
          32,
          31,
          33,
          32,
          32,
          32,
          29,
          32,
          30,
          29,
          31,
          31,
          32,
          31,
          33,
          32,
          31,
          33,
          29,
          33,
          33,
          33,
          29,
          32,
          27,
          33,
          33,
          30,
          30,
          32,
          32,
          32,
          34,
          34,
          30,
          30,
          30,
          30,
          31,
          30,
          33,
          32,
          30,
          31,
          31,
          33,
          31,
          33,
          33,
          31,
          31,
          28,
          32,
          29,
          27,
          32,
          30,
          33,
          32,
          34,
          35,
          35,
          34,
          32,
          35,
          27,
          31,
          31,
          32,
          29,
          29,
          31,
          30,
          31,
          34,
          32,
          30,
          33,
          29,
          34,
          32,
          30,
          32,
          28,
          30,
          29,
          31,
          31,
          29,
          31,
          34,
          29,
          29,
          31,
          31,
          30,
          31,
          34,
          32,
          32,
          32,
          32,
          31,
          32,
          31,
          30,
          32,
          29,
          28,
          32,
          32,
          33,
          31,
          32,
          31,
          33,
          32,
          33,
          33,
          31,
          31,
          34,
          33,
          30,
          30,
          35,
          30,
          32,
          32,
          31,
          33,
          30,
          32,
          32,
          31,
          31,
          30,
          31,
          31,
          35,
          33,
          34,
          32,
          31,
          33,
          33,
          32,
          32,
          30,
          33,
          34,
          33,
          33,
          31,
          33,
          33,
          30,
          32,
          31,
          28,
          32,
          32,
          31,
          29,
          31,
          29,
          30,
          32,
          31,
          33,
          31,
          31,
          31,
          31,
          32,
          30,
          35,
          33,
          31,
          29,
          32,
          34,
          32,
          32,
          33,
          33,
          35,
          32,
          29,
          34,
          31,
          32,
          30,
          28,
          32,
          33,
          33,
          31,
          33,
          31,
          32,
          34,
          32,
          31,
          34,
          30,
          33,
          30,
          30,
          30,
          31,
          32,
          28,
          30,
          33,
          30,
          31,
          32,
          32,
          30,
          31,
          32,
          30,
          34,
          34,
          31,
          31,
          30,
          31,
          31,
          29,
          30,
          32,
          35,
          28,
          33,
          29,
          32,
          33,
          33,
          33,
          33,
          33,
          33,
          30,
          30,
          30,
          32,
          31,
          30,
          34,
          32,
          29,
          31,
          33,
          30,
          34,
          31,
          32,
          32,
          32,
          32,
          31,
          28,
          32,
          29,
          33,
          33,
          33,
          32,
          31,
          28,
          31,
          32,
          31,
          32,
          29,
          32,
          30,
          33,
          32,
          34,
          33,
          35,
          32,
          32,
          32,
          31,
          29,
          31,
          35,
          32,
          33,
          32,
          31,
          30,
          32,
          32,
          34,
          29,
          29,
          28,
          28,
          31,
          30,
          33,
          31,
          32,
          30,
          33,
          30,
          33,
          30,
          31,
          30,
          32,
          34,
          31,
          29,
          31,
          33,
          28,
          31,
          31,
          33,
          31,
          29,
          31,
          31,
          32,
          27,
          33,
          29,
          31,
          33,
          31,
          32,
          33,
          30,
          32,
          33,
          31,
          28,
          33,
          33,
          32,
          33,
          31,
          31,
          29,
          30,
          32,
          31,
          29,
          29,
          30,
          34,
          28,
          33,
          31,
          32,
          32,
          32,
          32,
          33,
          31,
          30,
          30,
          31,
          29,
          32,
          33,
          31,
          30,
          32,
          34,
          31,
          31,
          32,
          33,
          33,
          33,
          33,
          31,
          33,
          32,
          29,
          33,
          29,
          31,
          31,
          31,
          30,
          27,
          30,
          33,
          32,
          32,
          31,
          30,
          34,
          32,
          28,
          30,
          31,
          29,
          30,
          32,
          32,
          32,
          29,
          33,
          33,
          31,
          35,
          30,
          30,
          28,
          33,
          31,
          34,
          29,
          28,
          28,
          29,
          32,
          33,
          32,
          29,
          33,
          33,
          34,
          29,
          31,
          31,
          33,
          30,
          33,
          30,
          31,
          30,
          30,
          32,
          29,
          30,
          33,
          29,
          32,
          31,
          33,
          30,
          30,
          30,
          31,
          32,
          32,
          33,
          34,
          34,
          32,
          32,
          32,
          33,
          30,
          32,
          31,
          30,
          33,
          31,
          32,
          30,
          31,
          34,
          30,
          32,
          33,
          33,
          35,
          29,
          31,
          30,
          30,
          33,
          29,
          31,
          34,
          34,
          31,
          30,
          30,
          28,
          31,
          32,
          31,
          29,
          30,
          27,
          32,
          30,
          30,
          31,
          32,
          31,
          31,
          30,
          35,
          33,
          30,
          33,
          30,
          31,
          31,
          35,
          31,
          31,
          33,
          31,
          31,
          32,
          31,
          31,
          31,
          32,
          35,
          29,
          29,
          30,
          33,
          33,
          31,
          32,
          34,
          32,
          32,
          33,
          33,
          33,
          35,
          33,
          30,
          31,
          34,
          30,
          29,
          32,
          35,
          32,
          28,
          33,
          31,
          30,
          30,
          29,
          30,
          29,
          32,
          33,
          33,
          28,
          32,
          33,
          31,
          30,
          31,
          34,
          32,
          30,
          29,
          30,
          34,
          29,
          30,
          31,
          34,
          31,
          34,
          30,
          29,
          32,
          32,
          29,
          33,
          30,
          32,
          35,
          29,
          34,
          32,
          34,
          33,
          34,
          31,
          30,
          29,
          34,
          31,
          34,
          32,
          31,
          27,
          31,
          32,
          34,
          33,
          34,
          31,
          30,
          32,
          32,
          34,
          35,
          31,
          34,
          31,
          29,
          31,
          32,
          30,
          32,
          35,
          31,
          30,
          35,
          32,
          31,
          31,
          34,
          32,
          32,
          35,
          31,
          32,
          32,
          28,
          31,
          32,
          30,
          31,
          31,
          33,
          29,
          34,
          33,
          30,
          35,
          33,
          34,
          33,
          32,
          32,
          33,
          30,
          30,
          29,
          31,
          34,
          33,
          34,
          34,
          30,
          32,
          29,
          33,
          32,
          30,
          30,
          33,
          32,
          32,
          31,
          32,
          32,
          32,
          33,
          33,
          35,
          31,
          34,
          31,
          34,
          31,
          30,
          29,
          31,
          32,
          35,
          31,
          31,
          30,
          34,
          33,
          32,
          32,
          33,
          31,
          32,
          33,
          30,
          27,
          29,
          33,
          30,
          31,
          28,
          33,
          33,
          31,
          31,
          35,
          30,
          32,
          32,
          30,
          30,
          34,
          30,
          29,
          28,
          31,
          31,
          35,
          31,
          29,
          33,
          29,
          32,
          28,
          31,
          32,
          30,
          35,
          33,
          30,
          34,
          32,
          30,
          33,
          31,
          31,
          33,
          30,
          33,
          31,
          33,
          30,
          29,
          32,
          33,
          30,
          34,
          31,
          32,
          31,
          32,
          30,
          33,
          31,
          33,
          30,
          34,
          29,
          33,
          33,
          30,
          34,
          32,
          33,
          35,
          30,
          32,
          33,
          32,
          32,
          33,
          31,
          30,
          32,
          34,
          32,
          32,
          30,
          30,
          31,
          32,
          31,
          30,
          33,
          34,
          32,
          31,
          32,
          28,
          33,
          29,
          33,
          32,
          34,
          33,
          33,
          28,
          31,
          34,
          29,
          33,
          33,
          34,
          32,
          33,
          30,
          32,
          31,
          30,
          31,
          32,
          34,
          34,
          32,
          31,
          30,
          35,
          30,
          34,
          32,
          30,
          32,
          31,
          33,
          33,
          30,
          32,
          32,
          31,
          33,
          31,
          32,
          35,
          31,
          29,
          28,
          29,
          30,
          30,
          33,
          34,
          33,
          30,
          32,
          30,
          31,
          34,
          32,
          29,
          33,
          30,
          31,
          33,
          30,
          32,
          30,
          31,
          30,
          32,
          30,
          32,
          29,
          29,
          31,
          31,
          31,
          29,
          31,
          32,
          29,
          32,
          32,
          33,
          30,
          33,
          33,
          28,
          30,
          30,
          33,
          31,
          32
         ]
        }
       ],
       "layout": {
        "barmode": "overlay",
        "template": {
         "data": {
          "bar": [
           {
            "error_x": {
             "color": "#2a3f5f"
            },
            "error_y": {
             "color": "#2a3f5f"
            },
            "marker": {
             "line": {
              "color": "#E5ECF6",
              "width": 0.5
             },
             "pattern": {
              "fillmode": "overlay",
              "size": 10,
              "solidity": 0.2
             }
            },
            "type": "bar"
           }
          ],
          "barpolar": [
           {
            "marker": {
             "line": {
              "color": "#E5ECF6",
              "width": 0.5
             },
             "pattern": {
              "fillmode": "overlay",
              "size": 10,
              "solidity": 0.2
             }
            },
            "type": "barpolar"
           }
          ],
          "carpet": [
           {
            "aaxis": {
             "endlinecolor": "#2a3f5f",
             "gridcolor": "white",
             "linecolor": "white",
             "minorgridcolor": "white",
             "startlinecolor": "#2a3f5f"
            },
            "baxis": {
             "endlinecolor": "#2a3f5f",
             "gridcolor": "white",
             "linecolor": "white",
             "minorgridcolor": "white",
             "startlinecolor": "#2a3f5f"
            },
            "type": "carpet"
           }
          ],
          "choropleth": [
           {
            "colorbar": {
             "outlinewidth": 0,
             "ticks": ""
            },
            "type": "choropleth"
           }
          ],
          "contour": [
           {
            "colorbar": {
             "outlinewidth": 0,
             "ticks": ""
            },
            "colorscale": [
             [
              0,
              "#0d0887"
             ],
             [
              0.1111111111111111,
              "#46039f"
             ],
             [
              0.2222222222222222,
              "#7201a8"
             ],
             [
              0.3333333333333333,
              "#9c179e"
             ],
             [
              0.4444444444444444,
              "#bd3786"
             ],
             [
              0.5555555555555556,
              "#d8576b"
             ],
             [
              0.6666666666666666,
              "#ed7953"
             ],
             [
              0.7777777777777778,
              "#fb9f3a"
             ],
             [
              0.8888888888888888,
              "#fdca26"
             ],
             [
              1,
              "#f0f921"
             ]
            ],
            "type": "contour"
           }
          ],
          "contourcarpet": [
           {
            "colorbar": {
             "outlinewidth": 0,
             "ticks": ""
            },
            "type": "contourcarpet"
           }
          ],
          "heatmap": [
           {
            "colorbar": {
             "outlinewidth": 0,
             "ticks": ""
            },
            "colorscale": [
             [
              0,
              "#0d0887"
             ],
             [
              0.1111111111111111,
              "#46039f"
             ],
             [
              0.2222222222222222,
              "#7201a8"
             ],
             [
              0.3333333333333333,
              "#9c179e"
             ],
             [
              0.4444444444444444,
              "#bd3786"
             ],
             [
              0.5555555555555556,
              "#d8576b"
             ],
             [
              0.6666666666666666,
              "#ed7953"
             ],
             [
              0.7777777777777778,
              "#fb9f3a"
             ],
             [
              0.8888888888888888,
              "#fdca26"
             ],
             [
              1,
              "#f0f921"
             ]
            ],
            "type": "heatmap"
           }
          ],
          "heatmapgl": [
           {
            "colorbar": {
             "outlinewidth": 0,
             "ticks": ""
            },
            "colorscale": [
             [
              0,
              "#0d0887"
             ],
             [
              0.1111111111111111,
              "#46039f"
             ],
             [
              0.2222222222222222,
              "#7201a8"
             ],
             [
              0.3333333333333333,
              "#9c179e"
             ],
             [
              0.4444444444444444,
              "#bd3786"
             ],
             [
              0.5555555555555556,
              "#d8576b"
             ],
             [
              0.6666666666666666,
              "#ed7953"
             ],
             [
              0.7777777777777778,
              "#fb9f3a"
             ],
             [
              0.8888888888888888,
              "#fdca26"
             ],
             [
              1,
              "#f0f921"
             ]
            ],
            "type": "heatmapgl"
           }
          ],
          "histogram": [
           {
            "marker": {
             "pattern": {
              "fillmode": "overlay",
              "size": 10,
              "solidity": 0.2
             }
            },
            "type": "histogram"
           }
          ],
          "histogram2d": [
           {
            "colorbar": {
             "outlinewidth": 0,
             "ticks": ""
            },
            "colorscale": [
             [
              0,
              "#0d0887"
             ],
             [
              0.1111111111111111,
              "#46039f"
             ],
             [
              0.2222222222222222,
              "#7201a8"
             ],
             [
              0.3333333333333333,
              "#9c179e"
             ],
             [
              0.4444444444444444,
              "#bd3786"
             ],
             [
              0.5555555555555556,
              "#d8576b"
             ],
             [
              0.6666666666666666,
              "#ed7953"
             ],
             [
              0.7777777777777778,
              "#fb9f3a"
             ],
             [
              0.8888888888888888,
              "#fdca26"
             ],
             [
              1,
              "#f0f921"
             ]
            ],
            "type": "histogram2d"
           }
          ],
          "histogram2dcontour": [
           {
            "colorbar": {
             "outlinewidth": 0,
             "ticks": ""
            },
            "colorscale": [
             [
              0,
              "#0d0887"
             ],
             [
              0.1111111111111111,
              "#46039f"
             ],
             [
              0.2222222222222222,
              "#7201a8"
             ],
             [
              0.3333333333333333,
              "#9c179e"
             ],
             [
              0.4444444444444444,
              "#bd3786"
             ],
             [
              0.5555555555555556,
              "#d8576b"
             ],
             [
              0.6666666666666666,
              "#ed7953"
             ],
             [
              0.7777777777777778,
              "#fb9f3a"
             ],
             [
              0.8888888888888888,
              "#fdca26"
             ],
             [
              1,
              "#f0f921"
             ]
            ],
            "type": "histogram2dcontour"
           }
          ],
          "mesh3d": [
           {
            "colorbar": {
             "outlinewidth": 0,
             "ticks": ""
            },
            "type": "mesh3d"
           }
          ],
          "parcoords": [
           {
            "line": {
             "colorbar": {
              "outlinewidth": 0,
              "ticks": ""
             }
            },
            "type": "parcoords"
           }
          ],
          "pie": [
           {
            "automargin": true,
            "type": "pie"
           }
          ],
          "scatter": [
           {
            "fillpattern": {
             "fillmode": "overlay",
             "size": 10,
             "solidity": 0.2
            },
            "type": "scatter"
           }
          ],
          "scatter3d": [
           {
            "line": {
             "colorbar": {
              "outlinewidth": 0,
              "ticks": ""
             }
            },
            "marker": {
             "colorbar": {
              "outlinewidth": 0,
              "ticks": ""
             }
            },
            "type": "scatter3d"
           }
          ],
          "scattercarpet": [
           {
            "marker": {
             "colorbar": {
              "outlinewidth": 0,
              "ticks": ""
             }
            },
            "type": "scattercarpet"
           }
          ],
          "scattergeo": [
           {
            "marker": {
             "colorbar": {
              "outlinewidth": 0,
              "ticks": ""
             }
            },
            "type": "scattergeo"
           }
          ],
          "scattergl": [
           {
            "marker": {
             "colorbar": {
              "outlinewidth": 0,
              "ticks": ""
             }
            },
            "type": "scattergl"
           }
          ],
          "scattermapbox": [
           {
            "marker": {
             "colorbar": {
              "outlinewidth": 0,
              "ticks": ""
             }
            },
            "type": "scattermapbox"
           }
          ],
          "scatterpolar": [
           {
            "marker": {
             "colorbar": {
              "outlinewidth": 0,
              "ticks": ""
             }
            },
            "type": "scatterpolar"
           }
          ],
          "scatterpolargl": [
           {
            "marker": {
             "colorbar": {
              "outlinewidth": 0,
              "ticks": ""
             }
            },
            "type": "scatterpolargl"
           }
          ],
          "scatterternary": [
           {
            "marker": {
             "colorbar": {
              "outlinewidth": 0,
              "ticks": ""
             }
            },
            "type": "scatterternary"
           }
          ],
          "surface": [
           {
            "colorbar": {
             "outlinewidth": 0,
             "ticks": ""
            },
            "colorscale": [
             [
              0,
              "#0d0887"
             ],
             [
              0.1111111111111111,
              "#46039f"
             ],
             [
              0.2222222222222222,
              "#7201a8"
             ],
             [
              0.3333333333333333,
              "#9c179e"
             ],
             [
              0.4444444444444444,
              "#bd3786"
             ],
             [
              0.5555555555555556,
              "#d8576b"
             ],
             [
              0.6666666666666666,
              "#ed7953"
             ],
             [
              0.7777777777777778,
              "#fb9f3a"
             ],
             [
              0.8888888888888888,
              "#fdca26"
             ],
             [
              1,
              "#f0f921"
             ]
            ],
            "type": "surface"
           }
          ],
          "table": [
           {
            "cells": {
             "fill": {
              "color": "#EBF0F8"
             },
             "line": {
              "color": "white"
             }
            },
            "header": {
             "fill": {
              "color": "#C8D4E3"
             },
             "line": {
              "color": "white"
             }
            },
            "type": "table"
           }
          ]
         },
         "layout": {
          "annotationdefaults": {
           "arrowcolor": "#2a3f5f",
           "arrowhead": 0,
           "arrowwidth": 1
          },
          "autotypenumbers": "strict",
          "coloraxis": {
           "colorbar": {
            "outlinewidth": 0,
            "ticks": ""
           }
          },
          "colorscale": {
           "diverging": [
            [
             0,
             "#8e0152"
            ],
            [
             0.1,
             "#c51b7d"
            ],
            [
             0.2,
             "#de77ae"
            ],
            [
             0.3,
             "#f1b6da"
            ],
            [
             0.4,
             "#fde0ef"
            ],
            [
             0.5,
             "#f7f7f7"
            ],
            [
             0.6,
             "#e6f5d0"
            ],
            [
             0.7,
             "#b8e186"
            ],
            [
             0.8,
             "#7fbc41"
            ],
            [
             0.9,
             "#4d9221"
            ],
            [
             1,
             "#276419"
            ]
           ],
           "sequential": [
            [
             0,
             "#0d0887"
            ],
            [
             0.1111111111111111,
             "#46039f"
            ],
            [
             0.2222222222222222,
             "#7201a8"
            ],
            [
             0.3333333333333333,
             "#9c179e"
            ],
            [
             0.4444444444444444,
             "#bd3786"
            ],
            [
             0.5555555555555556,
             "#d8576b"
            ],
            [
             0.6666666666666666,
             "#ed7953"
            ],
            [
             0.7777777777777778,
             "#fb9f3a"
            ],
            [
             0.8888888888888888,
             "#fdca26"
            ],
            [
             1,
             "#f0f921"
            ]
           ],
           "sequentialminus": [
            [
             0,
             "#0d0887"
            ],
            [
             0.1111111111111111,
             "#46039f"
            ],
            [
             0.2222222222222222,
             "#7201a8"
            ],
            [
             0.3333333333333333,
             "#9c179e"
            ],
            [
             0.4444444444444444,
             "#bd3786"
            ],
            [
             0.5555555555555556,
             "#d8576b"
            ],
            [
             0.6666666666666666,
             "#ed7953"
            ],
            [
             0.7777777777777778,
             "#fb9f3a"
            ],
            [
             0.8888888888888888,
             "#fdca26"
            ],
            [
             1,
             "#f0f921"
            ]
           ]
          },
          "colorway": [
           "#636efa",
           "#EF553B",
           "#00cc96",
           "#ab63fa",
           "#FFA15A",
           "#19d3f3",
           "#FF6692",
           "#B6E880",
           "#FF97FF",
           "#FECB52"
          ],
          "font": {
           "color": "#2a3f5f"
          },
          "geo": {
           "bgcolor": "white",
           "lakecolor": "white",
           "landcolor": "#E5ECF6",
           "showlakes": true,
           "showland": true,
           "subunitcolor": "white"
          },
          "hoverlabel": {
           "align": "left"
          },
          "hovermode": "closest",
          "mapbox": {
           "style": "light"
          },
          "paper_bgcolor": "white",
          "plot_bgcolor": "#E5ECF6",
          "polar": {
           "angularaxis": {
            "gridcolor": "white",
            "linecolor": "white",
            "ticks": ""
           },
           "bgcolor": "#E5ECF6",
           "radialaxis": {
            "gridcolor": "white",
            "linecolor": "white",
            "ticks": ""
           }
          },
          "scene": {
           "xaxis": {
            "backgroundcolor": "#E5ECF6",
            "gridcolor": "white",
            "gridwidth": 2,
            "linecolor": "white",
            "showbackground": true,
            "ticks": "",
            "zerolinecolor": "white"
           },
           "yaxis": {
            "backgroundcolor": "#E5ECF6",
            "gridcolor": "white",
            "gridwidth": 2,
            "linecolor": "white",
            "showbackground": true,
            "ticks": "",
            "zerolinecolor": "white"
           },
           "zaxis": {
            "backgroundcolor": "#E5ECF6",
            "gridcolor": "white",
            "gridwidth": 2,
            "linecolor": "white",
            "showbackground": true,
            "ticks": "",
            "zerolinecolor": "white"
           }
          },
          "shapedefaults": {
           "line": {
            "color": "#2a3f5f"
           }
          },
          "ternary": {
           "aaxis": {
            "gridcolor": "white",
            "linecolor": "white",
            "ticks": ""
           },
           "baxis": {
            "gridcolor": "white",
            "linecolor": "white",
            "ticks": ""
           },
           "bgcolor": "#E5ECF6",
           "caxis": {
            "gridcolor": "white",
            "linecolor": "white",
            "ticks": ""
           }
          },
          "title": {
           "x": 0.05
          },
          "xaxis": {
           "automargin": true,
           "gridcolor": "white",
           "linecolor": "white",
           "ticks": "",
           "title": {
            "standoff": 15
           },
           "zerolinecolor": "white",
           "zerolinewidth": 2
          },
          "yaxis": {
           "automargin": true,
           "gridcolor": "white",
           "linecolor": "white",
           "ticks": "",
           "title": {
            "standoff": 15
           },
           "zerolinecolor": "white",
           "zerolinewidth": 2
          }
         }
        },
        "title": {
         "text": "Simulated Read Length Distributions"
        },
        "xaxis": {
         "title": {
          "text": "Read Length"
         }
        },
        "yaxis": {
         "title": {
          "text": "Density"
         }
        }
       }
      }
     },
     "metadata": {},
     "output_type": "display_data"
    },
    {
     "data": {
      "application/vnd.plotly.v1+json": {
       "config": {
        "plotlyServerURL": "https://plot.ly"
       },
       "data": [
        {
         "histnorm": "probability",
         "type": "histogram",
         "x": [
          35,
          25,
          32,
          34,
          34,
          33,
          32,
          31,
          26,
          29,
          29,
          28,
          30,
          23,
          31,
          33,
          26,
          32,
          31,
          31,
          30,
          35,
          25,
          26,
          33,
          24,
          32,
          29,
          35,
          29,
          30,
          33,
          30,
          30,
          30,
          30,
          35,
          28,
          25,
          31,
          26,
          25,
          25,
          34,
          30,
          26,
          29,
          33,
          31,
          30,
          35,
          27,
          33,
          30,
          33,
          26,
          25,
          32,
          27,
          30,
          31,
          35,
          26,
          27,
          27,
          28,
          35,
          31,
          30,
          28,
          32,
          34,
          26,
          34,
          25,
          34,
          32,
          29,
          29,
          23,
          28,
          28,
          29,
          30,
          30,
          29,
          31,
          31,
          35,
          28,
          35,
          32,
          29,
          30,
          23,
          34,
          33,
          31,
          26,
          33,
          33,
          31,
          29,
          31,
          30,
          26,
          29,
          25,
          28,
          29,
          35,
          26,
          29,
          33,
          28,
          31,
          26,
          22,
          31,
          29,
          30,
          24,
          31,
          34,
          31,
          29,
          25,
          35,
          29,
          32,
          33,
          28,
          32,
          35,
          29,
          25,
          28,
          25,
          27,
          29,
          27,
          33,
          25,
          32,
          26,
          27,
          30,
          26,
          33,
          33,
          28,
          30,
          34,
          28,
          26,
          25,
          30,
          25,
          35,
          25,
          35,
          33,
          32,
          34,
          28,
          35,
          28,
          32,
          28,
          34,
          29,
          32,
          33,
          31,
          28,
          26,
          29,
          35,
          35,
          25,
          21,
          30,
          30,
          29,
          23,
          28,
          30,
          30,
          25,
          30,
          33,
          30,
          30,
          27,
          28,
          31,
          24,
          34,
          35,
          26,
          27,
          30,
          26,
          27,
          29,
          29,
          29,
          35,
          28,
          29,
          22,
          18,
          31,
          28,
          26,
          28,
          30,
          33,
          28,
          35,
          28,
          28,
          30,
          35,
          22,
          26,
          28,
          26,
          27,
          27,
          32,
          30,
          23,
          34,
          31,
          35,
          28,
          27,
          34,
          30,
          29,
          34,
          25,
          35,
          29,
          25,
          31,
          34,
          31,
          31,
          25,
          29,
          28,
          31,
          27,
          30,
          29,
          27,
          28,
          31,
          30,
          28,
          31,
          25,
          28,
          34,
          30,
          31,
          26,
          27,
          25,
          28,
          26,
          23,
          26,
          27,
          34,
          33,
          31,
          28,
          31,
          27,
          32,
          24,
          28,
          28,
          27,
          27,
          25,
          29,
          28,
          29,
          32,
          30,
          20,
          34,
          28,
          28,
          29,
          33,
          29,
          32,
          29,
          31,
          31,
          27,
          27,
          33,
          25,
          28,
          35,
          31,
          32,
          28,
          28,
          30,
          29,
          28,
          32,
          35,
          31,
          31,
          27,
          27,
          30,
          35,
          33,
          35,
          33,
          33,
          30,
          28,
          35,
          24,
          30,
          27,
          34,
          25,
          28,
          34,
          30,
          23,
          25,
          28,
          31,
          31,
          28,
          34,
          26,
          24,
          26,
          29,
          32,
          21,
          32,
          30,
          35,
          29,
          29,
          31,
          25,
          28,
          33,
          31,
          31,
          33,
          28,
          32,
          35,
          35,
          30,
          28,
          32,
          29,
          31,
          35,
          27,
          25,
          33,
          25,
          25,
          24,
          31,
          31,
          33,
          34,
          23,
          29,
          35,
          30,
          25,
          26,
          32,
          24,
          29,
          34,
          35,
          27,
          29,
          28,
          34,
          31,
          25,
          32,
          35,
          25,
          31,
          31,
          34,
          26,
          23,
          31,
          35,
          32,
          30,
          30,
          35,
          26,
          29,
          26,
          35,
          31,
          30,
          34,
          28,
          30,
          33,
          32,
          30,
          35,
          24,
          26,
          31,
          25,
          28,
          32,
          30,
          32,
          31,
          31,
          33,
          26,
          27,
          32,
          27,
          32,
          25,
          34,
          22,
          32,
          31,
          35,
          30,
          21,
          35,
          27,
          24,
          28,
          31,
          25,
          33,
          25,
          32,
          32,
          35,
          25,
          34,
          21,
          27,
          25,
          25,
          34,
          35,
          24,
          26,
          33,
          31,
          33,
          23,
          32,
          31,
          32,
          31,
          27,
          30,
          23,
          33,
          29,
          26,
          29,
          26,
          33,
          27,
          33,
          32,
          27,
          34,
          26,
          33,
          28,
          27,
          33,
          21,
          22,
          31,
          35,
          31,
          34,
          27,
          31,
          29,
          28,
          32,
          28,
          35,
          26,
          30,
          33,
          30,
          24,
          33,
          26,
          32,
          30,
          29,
          27,
          30,
          23,
          31,
          29,
          32,
          23,
          32,
          33,
          29,
          34,
          24,
          27,
          18,
          31,
          26,
          34,
          29,
          27,
          28,
          34,
          29,
          32,
          30,
          25,
          31,
          26,
          30,
          24,
          32,
          35,
          33,
          32,
          26,
          31,
          21,
          19,
          34,
          31,
          27,
          28,
          29,
          35,
          27,
          35,
          30,
          28,
          27,
          27,
          26,
          29,
          35,
          27,
          33,
          26,
          28,
          27,
          35,
          28,
          33,
          31,
          28,
          33,
          23,
          30,
          34,
          28,
          26,
          30,
          30,
          25,
          31,
          26,
          26,
          31,
          31,
          27,
          29,
          27,
          32,
          29,
          32,
          24,
          27,
          33,
          27,
          30,
          25,
          28,
          29,
          32,
          27,
          33,
          28,
          31,
          20,
          30,
          29,
          28,
          32,
          35,
          29,
          34,
          29,
          28,
          27,
          31,
          35,
          29,
          22,
          28,
          35,
          30,
          28,
          34,
          32,
          21,
          29,
          34,
          27,
          28,
          33,
          28,
          35,
          32,
          27,
          28,
          27,
          28,
          28,
          34,
          34,
          28,
          30,
          32,
          29,
          30,
          32,
          23,
          29,
          30,
          29,
          35,
          32,
          30,
          30,
          32,
          32,
          27,
          35,
          31,
          27,
          27,
          35,
          33,
          29,
          27,
          30,
          22,
          35,
          26,
          30,
          28,
          26,
          32,
          29,
          31,
          33,
          31,
          35,
          27,
          27,
          31,
          22,
          33,
          30,
          25,
          24,
          27,
          33,
          27,
          34,
          35,
          31,
          28,
          26,
          30,
          30,
          29,
          27,
          35,
          32,
          32,
          26,
          30,
          25,
          28,
          35,
          25,
          27,
          25,
          30,
          31,
          31,
          24,
          32,
          28,
          31,
          25,
          28,
          28,
          28,
          27,
          30,
          30,
          29,
          24,
          26,
          31,
          35,
          25,
          31,
          28,
          28,
          33,
          35,
          31,
          30,
          30,
          24,
          27,
          32,
          29,
          25,
          31,
          33,
          27,
          31,
          24,
          32,
          34,
          33,
          27,
          29,
          33,
          32,
          31,
          30,
          29,
          26,
          26,
          18,
          31,
          26,
          30,
          34,
          28,
          28,
          31,
          26,
          28,
          35,
          21,
          23,
          29,
          32,
          30,
          29,
          26,
          25,
          29,
          31,
          29,
          26,
          31,
          27,
          24,
          23,
          26,
          29,
          33,
          23,
          26,
          26,
          28,
          29,
          27,
          29,
          31,
          26,
          27,
          27,
          35,
          31,
          27,
          24,
          35,
          33,
          31,
          33,
          35,
          24,
          26,
          28,
          35,
          30,
          30,
          29,
          24,
          35,
          32,
          29,
          33,
          34,
          26,
          27,
          32,
          32,
          35,
          33,
          29,
          32,
          32,
          30,
          23,
          33,
          30,
          31,
          28,
          26,
          35,
          23,
          25,
          28,
          25,
          31,
          28,
          31,
          35,
          30,
          35,
          32,
          35,
          27,
          29,
          31,
          33,
          27,
          27,
          31,
          33,
          32,
          31,
          33,
          27,
          31,
          25,
          30,
          29,
          31,
          29,
          35,
          35,
          27,
          28,
          33,
          30,
          35,
          30,
          35,
          28,
          29,
          35,
          34,
          30,
          30,
          28,
          29,
          24,
          35,
          25,
          28,
          26,
          24,
          32,
          35,
          26,
          31,
          27,
          29,
          31,
          26,
          32,
          32,
          29,
          31,
          29,
          24,
          26,
          27,
          31,
          25,
          24,
          34,
          34,
          29,
          25,
          34,
          33,
          31,
          31,
          27,
          28,
          35,
          30,
          35,
          24,
          24,
          31,
          32,
          35,
          33,
          31,
          25,
          35,
          23,
          25,
          30,
          31,
          29,
          25,
          23,
          32,
          27,
          27,
          26,
          34,
          25,
          33,
          29,
          29,
          28,
          28,
          30,
          24,
          31,
          28,
          35,
          30,
          23,
          30,
          31,
          33,
          30,
          28,
          25,
          33,
          29,
          31,
          31,
          34,
          27,
          34,
          29,
          34,
          35,
          35,
          35,
          34,
          27,
          27,
          32,
          30,
          30,
          28
         ]
        }
       ],
       "layout": {
        "barmode": "overlay",
        "template": {
         "data": {
          "bar": [
           {
            "error_x": {
             "color": "#2a3f5f"
            },
            "error_y": {
             "color": "#2a3f5f"
            },
            "marker": {
             "line": {
              "color": "#E5ECF6",
              "width": 0.5
             },
             "pattern": {
              "fillmode": "overlay",
              "size": 10,
              "solidity": 0.2
             }
            },
            "type": "bar"
           }
          ],
          "barpolar": [
           {
            "marker": {
             "line": {
              "color": "#E5ECF6",
              "width": 0.5
             },
             "pattern": {
              "fillmode": "overlay",
              "size": 10,
              "solidity": 0.2
             }
            },
            "type": "barpolar"
           }
          ],
          "carpet": [
           {
            "aaxis": {
             "endlinecolor": "#2a3f5f",
             "gridcolor": "white",
             "linecolor": "white",
             "minorgridcolor": "white",
             "startlinecolor": "#2a3f5f"
            },
            "baxis": {
             "endlinecolor": "#2a3f5f",
             "gridcolor": "white",
             "linecolor": "white",
             "minorgridcolor": "white",
             "startlinecolor": "#2a3f5f"
            },
            "type": "carpet"
           }
          ],
          "choropleth": [
           {
            "colorbar": {
             "outlinewidth": 0,
             "ticks": ""
            },
            "type": "choropleth"
           }
          ],
          "contour": [
           {
            "colorbar": {
             "outlinewidth": 0,
             "ticks": ""
            },
            "colorscale": [
             [
              0,
              "#0d0887"
             ],
             [
              0.1111111111111111,
              "#46039f"
             ],
             [
              0.2222222222222222,
              "#7201a8"
             ],
             [
              0.3333333333333333,
              "#9c179e"
             ],
             [
              0.4444444444444444,
              "#bd3786"
             ],
             [
              0.5555555555555556,
              "#d8576b"
             ],
             [
              0.6666666666666666,
              "#ed7953"
             ],
             [
              0.7777777777777778,
              "#fb9f3a"
             ],
             [
              0.8888888888888888,
              "#fdca26"
             ],
             [
              1,
              "#f0f921"
             ]
            ],
            "type": "contour"
           }
          ],
          "contourcarpet": [
           {
            "colorbar": {
             "outlinewidth": 0,
             "ticks": ""
            },
            "type": "contourcarpet"
           }
          ],
          "heatmap": [
           {
            "colorbar": {
             "outlinewidth": 0,
             "ticks": ""
            },
            "colorscale": [
             [
              0,
              "#0d0887"
             ],
             [
              0.1111111111111111,
              "#46039f"
             ],
             [
              0.2222222222222222,
              "#7201a8"
             ],
             [
              0.3333333333333333,
              "#9c179e"
             ],
             [
              0.4444444444444444,
              "#bd3786"
             ],
             [
              0.5555555555555556,
              "#d8576b"
             ],
             [
              0.6666666666666666,
              "#ed7953"
             ],
             [
              0.7777777777777778,
              "#fb9f3a"
             ],
             [
              0.8888888888888888,
              "#fdca26"
             ],
             [
              1,
              "#f0f921"
             ]
            ],
            "type": "heatmap"
           }
          ],
          "heatmapgl": [
           {
            "colorbar": {
             "outlinewidth": 0,
             "ticks": ""
            },
            "colorscale": [
             [
              0,
              "#0d0887"
             ],
             [
              0.1111111111111111,
              "#46039f"
             ],
             [
              0.2222222222222222,
              "#7201a8"
             ],
             [
              0.3333333333333333,
              "#9c179e"
             ],
             [
              0.4444444444444444,
              "#bd3786"
             ],
             [
              0.5555555555555556,
              "#d8576b"
             ],
             [
              0.6666666666666666,
              "#ed7953"
             ],
             [
              0.7777777777777778,
              "#fb9f3a"
             ],
             [
              0.8888888888888888,
              "#fdca26"
             ],
             [
              1,
              "#f0f921"
             ]
            ],
            "type": "heatmapgl"
           }
          ],
          "histogram": [
           {
            "marker": {
             "pattern": {
              "fillmode": "overlay",
              "size": 10,
              "solidity": 0.2
             }
            },
            "type": "histogram"
           }
          ],
          "histogram2d": [
           {
            "colorbar": {
             "outlinewidth": 0,
             "ticks": ""
            },
            "colorscale": [
             [
              0,
              "#0d0887"
             ],
             [
              0.1111111111111111,
              "#46039f"
             ],
             [
              0.2222222222222222,
              "#7201a8"
             ],
             [
              0.3333333333333333,
              "#9c179e"
             ],
             [
              0.4444444444444444,
              "#bd3786"
             ],
             [
              0.5555555555555556,
              "#d8576b"
             ],
             [
              0.6666666666666666,
              "#ed7953"
             ],
             [
              0.7777777777777778,
              "#fb9f3a"
             ],
             [
              0.8888888888888888,
              "#fdca26"
             ],
             [
              1,
              "#f0f921"
             ]
            ],
            "type": "histogram2d"
           }
          ],
          "histogram2dcontour": [
           {
            "colorbar": {
             "outlinewidth": 0,
             "ticks": ""
            },
            "colorscale": [
             [
              0,
              "#0d0887"
             ],
             [
              0.1111111111111111,
              "#46039f"
             ],
             [
              0.2222222222222222,
              "#7201a8"
             ],
             [
              0.3333333333333333,
              "#9c179e"
             ],
             [
              0.4444444444444444,
              "#bd3786"
             ],
             [
              0.5555555555555556,
              "#d8576b"
             ],
             [
              0.6666666666666666,
              "#ed7953"
             ],
             [
              0.7777777777777778,
              "#fb9f3a"
             ],
             [
              0.8888888888888888,
              "#fdca26"
             ],
             [
              1,
              "#f0f921"
             ]
            ],
            "type": "histogram2dcontour"
           }
          ],
          "mesh3d": [
           {
            "colorbar": {
             "outlinewidth": 0,
             "ticks": ""
            },
            "type": "mesh3d"
           }
          ],
          "parcoords": [
           {
            "line": {
             "colorbar": {
              "outlinewidth": 0,
              "ticks": ""
             }
            },
            "type": "parcoords"
           }
          ],
          "pie": [
           {
            "automargin": true,
            "type": "pie"
           }
          ],
          "scatter": [
           {
            "fillpattern": {
             "fillmode": "overlay",
             "size": 10,
             "solidity": 0.2
            },
            "type": "scatter"
           }
          ],
          "scatter3d": [
           {
            "line": {
             "colorbar": {
              "outlinewidth": 0,
              "ticks": ""
             }
            },
            "marker": {
             "colorbar": {
              "outlinewidth": 0,
              "ticks": ""
             }
            },
            "type": "scatter3d"
           }
          ],
          "scattercarpet": [
           {
            "marker": {
             "colorbar": {
              "outlinewidth": 0,
              "ticks": ""
             }
            },
            "type": "scattercarpet"
           }
          ],
          "scattergeo": [
           {
            "marker": {
             "colorbar": {
              "outlinewidth": 0,
              "ticks": ""
             }
            },
            "type": "scattergeo"
           }
          ],
          "scattergl": [
           {
            "marker": {
             "colorbar": {
              "outlinewidth": 0,
              "ticks": ""
             }
            },
            "type": "scattergl"
           }
          ],
          "scattermapbox": [
           {
            "marker": {
             "colorbar": {
              "outlinewidth": 0,
              "ticks": ""
             }
            },
            "type": "scattermapbox"
           }
          ],
          "scatterpolar": [
           {
            "marker": {
             "colorbar": {
              "outlinewidth": 0,
              "ticks": ""
             }
            },
            "type": "scatterpolar"
           }
          ],
          "scatterpolargl": [
           {
            "marker": {
             "colorbar": {
              "outlinewidth": 0,
              "ticks": ""
             }
            },
            "type": "scatterpolargl"
           }
          ],
          "scatterternary": [
           {
            "marker": {
             "colorbar": {
              "outlinewidth": 0,
              "ticks": ""
             }
            },
            "type": "scatterternary"
           }
          ],
          "surface": [
           {
            "colorbar": {
             "outlinewidth": 0,
             "ticks": ""
            },
            "colorscale": [
             [
              0,
              "#0d0887"
             ],
             [
              0.1111111111111111,
              "#46039f"
             ],
             [
              0.2222222222222222,
              "#7201a8"
             ],
             [
              0.3333333333333333,
              "#9c179e"
             ],
             [
              0.4444444444444444,
              "#bd3786"
             ],
             [
              0.5555555555555556,
              "#d8576b"
             ],
             [
              0.6666666666666666,
              "#ed7953"
             ],
             [
              0.7777777777777778,
              "#fb9f3a"
             ],
             [
              0.8888888888888888,
              "#fdca26"
             ],
             [
              1,
              "#f0f921"
             ]
            ],
            "type": "surface"
           }
          ],
          "table": [
           {
            "cells": {
             "fill": {
              "color": "#EBF0F8"
             },
             "line": {
              "color": "white"
             }
            },
            "header": {
             "fill": {
              "color": "#C8D4E3"
             },
             "line": {
              "color": "white"
             }
            },
            "type": "table"
           }
          ]
         },
         "layout": {
          "annotationdefaults": {
           "arrowcolor": "#2a3f5f",
           "arrowhead": 0,
           "arrowwidth": 1
          },
          "autotypenumbers": "strict",
          "coloraxis": {
           "colorbar": {
            "outlinewidth": 0,
            "ticks": ""
           }
          },
          "colorscale": {
           "diverging": [
            [
             0,
             "#8e0152"
            ],
            [
             0.1,
             "#c51b7d"
            ],
            [
             0.2,
             "#de77ae"
            ],
            [
             0.3,
             "#f1b6da"
            ],
            [
             0.4,
             "#fde0ef"
            ],
            [
             0.5,
             "#f7f7f7"
            ],
            [
             0.6,
             "#e6f5d0"
            ],
            [
             0.7,
             "#b8e186"
            ],
            [
             0.8,
             "#7fbc41"
            ],
            [
             0.9,
             "#4d9221"
            ],
            [
             1,
             "#276419"
            ]
           ],
           "sequential": [
            [
             0,
             "#0d0887"
            ],
            [
             0.1111111111111111,
             "#46039f"
            ],
            [
             0.2222222222222222,
             "#7201a8"
            ],
            [
             0.3333333333333333,
             "#9c179e"
            ],
            [
             0.4444444444444444,
             "#bd3786"
            ],
            [
             0.5555555555555556,
             "#d8576b"
            ],
            [
             0.6666666666666666,
             "#ed7953"
            ],
            [
             0.7777777777777778,
             "#fb9f3a"
            ],
            [
             0.8888888888888888,
             "#fdca26"
            ],
            [
             1,
             "#f0f921"
            ]
           ],
           "sequentialminus": [
            [
             0,
             "#0d0887"
            ],
            [
             0.1111111111111111,
             "#46039f"
            ],
            [
             0.2222222222222222,
             "#7201a8"
            ],
            [
             0.3333333333333333,
             "#9c179e"
            ],
            [
             0.4444444444444444,
             "#bd3786"
            ],
            [
             0.5555555555555556,
             "#d8576b"
            ],
            [
             0.6666666666666666,
             "#ed7953"
            ],
            [
             0.7777777777777778,
             "#fb9f3a"
            ],
            [
             0.8888888888888888,
             "#fdca26"
            ],
            [
             1,
             "#f0f921"
            ]
           ]
          },
          "colorway": [
           "#636efa",
           "#EF553B",
           "#00cc96",
           "#ab63fa",
           "#FFA15A",
           "#19d3f3",
           "#FF6692",
           "#B6E880",
           "#FF97FF",
           "#FECB52"
          ],
          "font": {
           "color": "#2a3f5f"
          },
          "geo": {
           "bgcolor": "white",
           "lakecolor": "white",
           "landcolor": "#E5ECF6",
           "showlakes": true,
           "showland": true,
           "subunitcolor": "white"
          },
          "hoverlabel": {
           "align": "left"
          },
          "hovermode": "closest",
          "mapbox": {
           "style": "light"
          },
          "paper_bgcolor": "white",
          "plot_bgcolor": "#E5ECF6",
          "polar": {
           "angularaxis": {
            "gridcolor": "white",
            "linecolor": "white",
            "ticks": ""
           },
           "bgcolor": "#E5ECF6",
           "radialaxis": {
            "gridcolor": "white",
            "linecolor": "white",
            "ticks": ""
           }
          },
          "scene": {
           "xaxis": {
            "backgroundcolor": "#E5ECF6",
            "gridcolor": "white",
            "gridwidth": 2,
            "linecolor": "white",
            "showbackground": true,
            "ticks": "",
            "zerolinecolor": "white"
           },
           "yaxis": {
            "backgroundcolor": "#E5ECF6",
            "gridcolor": "white",
            "gridwidth": 2,
            "linecolor": "white",
            "showbackground": true,
            "ticks": "",
            "zerolinecolor": "white"
           },
           "zaxis": {
            "backgroundcolor": "#E5ECF6",
            "gridcolor": "white",
            "gridwidth": 2,
            "linecolor": "white",
            "showbackground": true,
            "ticks": "",
            "zerolinecolor": "white"
           }
          },
          "shapedefaults": {
           "line": {
            "color": "#2a3f5f"
           }
          },
          "ternary": {
           "aaxis": {
            "gridcolor": "white",
            "linecolor": "white",
            "ticks": ""
           },
           "baxis": {
            "gridcolor": "white",
            "linecolor": "white",
            "ticks": ""
           },
           "bgcolor": "#E5ECF6",
           "caxis": {
            "gridcolor": "white",
            "linecolor": "white",
            "ticks": ""
           }
          },
          "title": {
           "x": 0.05
          },
          "xaxis": {
           "automargin": true,
           "gridcolor": "white",
           "linecolor": "white",
           "ticks": "",
           "title": {
            "standoff": 15
           },
           "zerolinecolor": "white",
           "zerolinewidth": 2
          },
          "yaxis": {
           "automargin": true,
           "gridcolor": "white",
           "linecolor": "white",
           "ticks": "",
           "title": {
            "standoff": 15
           },
           "zerolinecolor": "white",
           "zerolinewidth": 2
          }
         }
        },
        "title": {
         "text": "Simulated Read Length Distributions"
        },
        "xaxis": {
         "title": {
          "text": "Read Length"
         }
        },
        "yaxis": {
         "title": {
          "text": "Density"
         }
        }
       }
      }
     },
     "metadata": {},
     "output_type": "display_data"
    },
    {
     "data": {
      "application/vnd.plotly.v1+json": {
       "config": {
        "plotlyServerURL": "https://plot.ly"
       },
       "data": [
        {
         "histnorm": "probability",
         "type": "histogram",
         "x": [
          30,
          30,
          31,
          28,
          29,
          31,
          29,
          31,
          29,
          32,
          33,
          31,
          34,
          29,
          31,
          28,
          31,
          29,
          30,
          31,
          33,
          31,
          31,
          34,
          30,
          32,
          31,
          31,
          30,
          29,
          31,
          34,
          34,
          30,
          31,
          29,
          31,
          30,
          32,
          30,
          30,
          34,
          29,
          29,
          32,
          32,
          33,
          28,
          35,
          29,
          33,
          31,
          33,
          32,
          31,
          29,
          32,
          33,
          30,
          33,
          31,
          30,
          29,
          28,
          30,
          31,
          32,
          30,
          33,
          31,
          28,
          28,
          34,
          31,
          35,
          33,
          35,
          29,
          32,
          28,
          30,
          29,
          32,
          31,
          32,
          31,
          32,
          31,
          35,
          26,
          32,
          26,
          33,
          30,
          34,
          31,
          31,
          31,
          33,
          29,
          30,
          33,
          29,
          33,
          31,
          34,
          29,
          29,
          30,
          30,
          31,
          31,
          28,
          31,
          33,
          32,
          31,
          30,
          31,
          34,
          29,
          31,
          32,
          31,
          35,
          31,
          30,
          30,
          35,
          32,
          29,
          34,
          31,
          32,
          33,
          27,
          28,
          28,
          34,
          35,
          30,
          31,
          27,
          30,
          28,
          32,
          28,
          27,
          30,
          34,
          31,
          32,
          32,
          25,
          31,
          32,
          33,
          31,
          28,
          28,
          27,
          28,
          31,
          33,
          32,
          29,
          32,
          33,
          31,
          28,
          30,
          31,
          32,
          33,
          27,
          30,
          30,
          30,
          31,
          34,
          32,
          28,
          32,
          25,
          30,
          33,
          32,
          29,
          35,
          29,
          33,
          29,
          33,
          32,
          28,
          30,
          33,
          32,
          28,
          29,
          31,
          31,
          31,
          33,
          30,
          28,
          29,
          33,
          31,
          27,
          32,
          28,
          31,
          27,
          30,
          31,
          33,
          34,
          31,
          27,
          28,
          32,
          27,
          28,
          30,
          32,
          32,
          30,
          31,
          35,
          26,
          34,
          27,
          24,
          29,
          27,
          35,
          31,
          26,
          30,
          32,
          31,
          32,
          30,
          35,
          31,
          30,
          29,
          31,
          31,
          30,
          29,
          31,
          28,
          27,
          26,
          29,
          31,
          35,
          31,
          28,
          33,
          30,
          29,
          32,
          29,
          33,
          34,
          30,
          33,
          31,
          32,
          32,
          33,
          32,
          32,
          30,
          33,
          30,
          29,
          30,
          32,
          30,
          31,
          31,
          28,
          35,
          31,
          34,
          27,
          35,
          29,
          30,
          31,
          28,
          35,
          29,
          32,
          30,
          26,
          28,
          30,
          33,
          30,
          30,
          30,
          32,
          30,
          28,
          32,
          29,
          27,
          29,
          31,
          30,
          34,
          27,
          35,
          30,
          27,
          29,
          31,
          30,
          34,
          31,
          30,
          30,
          33,
          30,
          35,
          32,
          30,
          33,
          30,
          29,
          30,
          33,
          30,
          30,
          33,
          32,
          33,
          28,
          30,
          26,
          32,
          31,
          30,
          34,
          31,
          29,
          32,
          34,
          28,
          33,
          34,
          31,
          34,
          27,
          35,
          32,
          30,
          35,
          32,
          32,
          29,
          31,
          31,
          28,
          30,
          27,
          34,
          32,
          34,
          30,
          31,
          31,
          32,
          29,
          30,
          31,
          28,
          31,
          31,
          31,
          31,
          32,
          31,
          32,
          30,
          30,
          29,
          32,
          31,
          33,
          28,
          29,
          28,
          35,
          28,
          33,
          31,
          28,
          32,
          29,
          32,
          29,
          30,
          26,
          32,
          32,
          28,
          28,
          30,
          29,
          32,
          32,
          27,
          33,
          29,
          27,
          28,
          31,
          27,
          28,
          31,
          30,
          29,
          33,
          33,
          32,
          29,
          30,
          31,
          29,
          30,
          28,
          32,
          32,
          30,
          28,
          30,
          30,
          30,
          31,
          33,
          32,
          30,
          32,
          28,
          31,
          29,
          28,
          27,
          27,
          29,
          31,
          28,
          26,
          32,
          34,
          32,
          32,
          29,
          32,
          28,
          32,
          29,
          29,
          29,
          32,
          31,
          31,
          28,
          30,
          32,
          29,
          35,
          30,
          30,
          32,
          31,
          27,
          30,
          32,
          33,
          30,
          31,
          34,
          33,
          33,
          30,
          34,
          35,
          32,
          29,
          32,
          31,
          29,
          29,
          28,
          34,
          31,
          31,
          31,
          32,
          31,
          34,
          30,
          31,
          34,
          30,
          32,
          28,
          32,
          32,
          33,
          28,
          27,
          32,
          30,
          30,
          33,
          30,
          30,
          31,
          31,
          31,
          29,
          27,
          35,
          31,
          33,
          35,
          33,
          29,
          30,
          29,
          35,
          30,
          35,
          30,
          29,
          28,
          29,
          30,
          33,
          31,
          32,
          31,
          32,
          35,
          33,
          29,
          28,
          30,
          31,
          30,
          29,
          29,
          29,
          31,
          31,
          28,
          33,
          29,
          31,
          30,
          29,
          33,
          31,
          33,
          33,
          32,
          31,
          30,
          27,
          32,
          32,
          31,
          31,
          32,
          30,
          31,
          30,
          31,
          31,
          29,
          31,
          32,
          32,
          30,
          30,
          31,
          34,
          30,
          32,
          28,
          30,
          29,
          30,
          34,
          28,
          31,
          27,
          31,
          30,
          31,
          28,
          30,
          30,
          34,
          29,
          31,
          32,
          30,
          27,
          32,
          28,
          32,
          35,
          30,
          30,
          33,
          30,
          30,
          30,
          30,
          35,
          32,
          30,
          33,
          29,
          30,
          29,
          29,
          31,
          32,
          35,
          31,
          27,
          32,
          30,
          31,
          33,
          33,
          34,
          29,
          33,
          30,
          32,
          34,
          34,
          30,
          30,
          33,
          31,
          29,
          33,
          29,
          25,
          32,
          28,
          31,
          32,
          32,
          32,
          30,
          29,
          31,
          28,
          29,
          31,
          27,
          33,
          31,
          30,
          27,
          34,
          32,
          33,
          30,
          28,
          31,
          29,
          31,
          31,
          29,
          31,
          28,
          29,
          24,
          31,
          31,
          30,
          32,
          31,
          30,
          32,
          34,
          31,
          30,
          30,
          29,
          30,
          32,
          33,
          30,
          29,
          29,
          33,
          34,
          31,
          28,
          31,
          27,
          30,
          31,
          29,
          29,
          31,
          30,
          28,
          30,
          33,
          31,
          28,
          30,
          32,
          31,
          32,
          32,
          26,
          28,
          30,
          34,
          35,
          28,
          29,
          29,
          30,
          27,
          33,
          28,
          30,
          33,
          26,
          31,
          27,
          31,
          29,
          29,
          27,
          31,
          31,
          29,
          28,
          30,
          27,
          29,
          28,
          31,
          31,
          33,
          26,
          33,
          31,
          29,
          30,
          31,
          30,
          33,
          28,
          29,
          29,
          29,
          30,
          29,
          33,
          26,
          28,
          30,
          32,
          35,
          31,
          33,
          30,
          27,
          29,
          30,
          31,
          32,
          31,
          27,
          31,
          31,
          29,
          29,
          32,
          32,
          32,
          29,
          24,
          30,
          33,
          32,
          32,
          29,
          31,
          28,
          32,
          30,
          30,
          32,
          28,
          33,
          27,
          32,
          27,
          29,
          29,
          31,
          29,
          29,
          34,
          30,
          30,
          29,
          32,
          29,
          29,
          27,
          34,
          27,
          30,
          31,
          33,
          30,
          31,
          30,
          28,
          34,
          30,
          32,
          33,
          29,
          29,
          31,
          29,
          29,
          32,
          30,
          28,
          30,
          28,
          30,
          31,
          33,
          33,
          29,
          31,
          30,
          30,
          31,
          33,
          28,
          33,
          30,
          35,
          32,
          32,
          28,
          32,
          29,
          33,
          27,
          29,
          31,
          29,
          32,
          29,
          29,
          32,
          29,
          31,
          34,
          29,
          28,
          32,
          29,
          30,
          32,
          28,
          33,
          28,
          32,
          29,
          27,
          29,
          33,
          28,
          34,
          34,
          30,
          29,
          30,
          29,
          29,
          32,
          31,
          30,
          31,
          29,
          31,
          30,
          29,
          29,
          30,
          30,
          31,
          29,
          33,
          31,
          34,
          31,
          29,
          30,
          30,
          29,
          27,
          31,
          29,
          29,
          29,
          35,
          29,
          31,
          31,
          29,
          27,
          30,
          28,
          31,
          33,
          30,
          31,
          28,
          28,
          27,
          30,
          29,
          28,
          31,
          30,
          32,
          33,
          33,
          28,
          31,
          34,
          31,
          28,
          33,
          31,
          25,
          27,
          29,
          31,
          32,
          30,
          31,
          33,
          29,
          30,
          34,
          31,
          25,
          31,
          32,
          27,
          31,
          31,
          33,
          32,
          29,
          32,
          32,
          29,
          30,
          28,
          29,
          28,
          33,
          27,
          33,
          32,
          31,
          29,
          29,
          30
         ]
        }
       ],
       "layout": {
        "barmode": "overlay",
        "template": {
         "data": {
          "bar": [
           {
            "error_x": {
             "color": "#2a3f5f"
            },
            "error_y": {
             "color": "#2a3f5f"
            },
            "marker": {
             "line": {
              "color": "#E5ECF6",
              "width": 0.5
             },
             "pattern": {
              "fillmode": "overlay",
              "size": 10,
              "solidity": 0.2
             }
            },
            "type": "bar"
           }
          ],
          "barpolar": [
           {
            "marker": {
             "line": {
              "color": "#E5ECF6",
              "width": 0.5
             },
             "pattern": {
              "fillmode": "overlay",
              "size": 10,
              "solidity": 0.2
             }
            },
            "type": "barpolar"
           }
          ],
          "carpet": [
           {
            "aaxis": {
             "endlinecolor": "#2a3f5f",
             "gridcolor": "white",
             "linecolor": "white",
             "minorgridcolor": "white",
             "startlinecolor": "#2a3f5f"
            },
            "baxis": {
             "endlinecolor": "#2a3f5f",
             "gridcolor": "white",
             "linecolor": "white",
             "minorgridcolor": "white",
             "startlinecolor": "#2a3f5f"
            },
            "type": "carpet"
           }
          ],
          "choropleth": [
           {
            "colorbar": {
             "outlinewidth": 0,
             "ticks": ""
            },
            "type": "choropleth"
           }
          ],
          "contour": [
           {
            "colorbar": {
             "outlinewidth": 0,
             "ticks": ""
            },
            "colorscale": [
             [
              0,
              "#0d0887"
             ],
             [
              0.1111111111111111,
              "#46039f"
             ],
             [
              0.2222222222222222,
              "#7201a8"
             ],
             [
              0.3333333333333333,
              "#9c179e"
             ],
             [
              0.4444444444444444,
              "#bd3786"
             ],
             [
              0.5555555555555556,
              "#d8576b"
             ],
             [
              0.6666666666666666,
              "#ed7953"
             ],
             [
              0.7777777777777778,
              "#fb9f3a"
             ],
             [
              0.8888888888888888,
              "#fdca26"
             ],
             [
              1,
              "#f0f921"
             ]
            ],
            "type": "contour"
           }
          ],
          "contourcarpet": [
           {
            "colorbar": {
             "outlinewidth": 0,
             "ticks": ""
            },
            "type": "contourcarpet"
           }
          ],
          "heatmap": [
           {
            "colorbar": {
             "outlinewidth": 0,
             "ticks": ""
            },
            "colorscale": [
             [
              0,
              "#0d0887"
             ],
             [
              0.1111111111111111,
              "#46039f"
             ],
             [
              0.2222222222222222,
              "#7201a8"
             ],
             [
              0.3333333333333333,
              "#9c179e"
             ],
             [
              0.4444444444444444,
              "#bd3786"
             ],
             [
              0.5555555555555556,
              "#d8576b"
             ],
             [
              0.6666666666666666,
              "#ed7953"
             ],
             [
              0.7777777777777778,
              "#fb9f3a"
             ],
             [
              0.8888888888888888,
              "#fdca26"
             ],
             [
              1,
              "#f0f921"
             ]
            ],
            "type": "heatmap"
           }
          ],
          "heatmapgl": [
           {
            "colorbar": {
             "outlinewidth": 0,
             "ticks": ""
            },
            "colorscale": [
             [
              0,
              "#0d0887"
             ],
             [
              0.1111111111111111,
              "#46039f"
             ],
             [
              0.2222222222222222,
              "#7201a8"
             ],
             [
              0.3333333333333333,
              "#9c179e"
             ],
             [
              0.4444444444444444,
              "#bd3786"
             ],
             [
              0.5555555555555556,
              "#d8576b"
             ],
             [
              0.6666666666666666,
              "#ed7953"
             ],
             [
              0.7777777777777778,
              "#fb9f3a"
             ],
             [
              0.8888888888888888,
              "#fdca26"
             ],
             [
              1,
              "#f0f921"
             ]
            ],
            "type": "heatmapgl"
           }
          ],
          "histogram": [
           {
            "marker": {
             "pattern": {
              "fillmode": "overlay",
              "size": 10,
              "solidity": 0.2
             }
            },
            "type": "histogram"
           }
          ],
          "histogram2d": [
           {
            "colorbar": {
             "outlinewidth": 0,
             "ticks": ""
            },
            "colorscale": [
             [
              0,
              "#0d0887"
             ],
             [
              0.1111111111111111,
              "#46039f"
             ],
             [
              0.2222222222222222,
              "#7201a8"
             ],
             [
              0.3333333333333333,
              "#9c179e"
             ],
             [
              0.4444444444444444,
              "#bd3786"
             ],
             [
              0.5555555555555556,
              "#d8576b"
             ],
             [
              0.6666666666666666,
              "#ed7953"
             ],
             [
              0.7777777777777778,
              "#fb9f3a"
             ],
             [
              0.8888888888888888,
              "#fdca26"
             ],
             [
              1,
              "#f0f921"
             ]
            ],
            "type": "histogram2d"
           }
          ],
          "histogram2dcontour": [
           {
            "colorbar": {
             "outlinewidth": 0,
             "ticks": ""
            },
            "colorscale": [
             [
              0,
              "#0d0887"
             ],
             [
              0.1111111111111111,
              "#46039f"
             ],
             [
              0.2222222222222222,
              "#7201a8"
             ],
             [
              0.3333333333333333,
              "#9c179e"
             ],
             [
              0.4444444444444444,
              "#bd3786"
             ],
             [
              0.5555555555555556,
              "#d8576b"
             ],
             [
              0.6666666666666666,
              "#ed7953"
             ],
             [
              0.7777777777777778,
              "#fb9f3a"
             ],
             [
              0.8888888888888888,
              "#fdca26"
             ],
             [
              1,
              "#f0f921"
             ]
            ],
            "type": "histogram2dcontour"
           }
          ],
          "mesh3d": [
           {
            "colorbar": {
             "outlinewidth": 0,
             "ticks": ""
            },
            "type": "mesh3d"
           }
          ],
          "parcoords": [
           {
            "line": {
             "colorbar": {
              "outlinewidth": 0,
              "ticks": ""
             }
            },
            "type": "parcoords"
           }
          ],
          "pie": [
           {
            "automargin": true,
            "type": "pie"
           }
          ],
          "scatter": [
           {
            "fillpattern": {
             "fillmode": "overlay",
             "size": 10,
             "solidity": 0.2
            },
            "type": "scatter"
           }
          ],
          "scatter3d": [
           {
            "line": {
             "colorbar": {
              "outlinewidth": 0,
              "ticks": ""
             }
            },
            "marker": {
             "colorbar": {
              "outlinewidth": 0,
              "ticks": ""
             }
            },
            "type": "scatter3d"
           }
          ],
          "scattercarpet": [
           {
            "marker": {
             "colorbar": {
              "outlinewidth": 0,
              "ticks": ""
             }
            },
            "type": "scattercarpet"
           }
          ],
          "scattergeo": [
           {
            "marker": {
             "colorbar": {
              "outlinewidth": 0,
              "ticks": ""
             }
            },
            "type": "scattergeo"
           }
          ],
          "scattergl": [
           {
            "marker": {
             "colorbar": {
              "outlinewidth": 0,
              "ticks": ""
             }
            },
            "type": "scattergl"
           }
          ],
          "scattermapbox": [
           {
            "marker": {
             "colorbar": {
              "outlinewidth": 0,
              "ticks": ""
             }
            },
            "type": "scattermapbox"
           }
          ],
          "scatterpolar": [
           {
            "marker": {
             "colorbar": {
              "outlinewidth": 0,
              "ticks": ""
             }
            },
            "type": "scatterpolar"
           }
          ],
          "scatterpolargl": [
           {
            "marker": {
             "colorbar": {
              "outlinewidth": 0,
              "ticks": ""
             }
            },
            "type": "scatterpolargl"
           }
          ],
          "scatterternary": [
           {
            "marker": {
             "colorbar": {
              "outlinewidth": 0,
              "ticks": ""
             }
            },
            "type": "scatterternary"
           }
          ],
          "surface": [
           {
            "colorbar": {
             "outlinewidth": 0,
             "ticks": ""
            },
            "colorscale": [
             [
              0,
              "#0d0887"
             ],
             [
              0.1111111111111111,
              "#46039f"
             ],
             [
              0.2222222222222222,
              "#7201a8"
             ],
             [
              0.3333333333333333,
              "#9c179e"
             ],
             [
              0.4444444444444444,
              "#bd3786"
             ],
             [
              0.5555555555555556,
              "#d8576b"
             ],
             [
              0.6666666666666666,
              "#ed7953"
             ],
             [
              0.7777777777777778,
              "#fb9f3a"
             ],
             [
              0.8888888888888888,
              "#fdca26"
             ],
             [
              1,
              "#f0f921"
             ]
            ],
            "type": "surface"
           }
          ],
          "table": [
           {
            "cells": {
             "fill": {
              "color": "#EBF0F8"
             },
             "line": {
              "color": "white"
             }
            },
            "header": {
             "fill": {
              "color": "#C8D4E3"
             },
             "line": {
              "color": "white"
             }
            },
            "type": "table"
           }
          ]
         },
         "layout": {
          "annotationdefaults": {
           "arrowcolor": "#2a3f5f",
           "arrowhead": 0,
           "arrowwidth": 1
          },
          "autotypenumbers": "strict",
          "coloraxis": {
           "colorbar": {
            "outlinewidth": 0,
            "ticks": ""
           }
          },
          "colorscale": {
           "diverging": [
            [
             0,
             "#8e0152"
            ],
            [
             0.1,
             "#c51b7d"
            ],
            [
             0.2,
             "#de77ae"
            ],
            [
             0.3,
             "#f1b6da"
            ],
            [
             0.4,
             "#fde0ef"
            ],
            [
             0.5,
             "#f7f7f7"
            ],
            [
             0.6,
             "#e6f5d0"
            ],
            [
             0.7,
             "#b8e186"
            ],
            [
             0.8,
             "#7fbc41"
            ],
            [
             0.9,
             "#4d9221"
            ],
            [
             1,
             "#276419"
            ]
           ],
           "sequential": [
            [
             0,
             "#0d0887"
            ],
            [
             0.1111111111111111,
             "#46039f"
            ],
            [
             0.2222222222222222,
             "#7201a8"
            ],
            [
             0.3333333333333333,
             "#9c179e"
            ],
            [
             0.4444444444444444,
             "#bd3786"
            ],
            [
             0.5555555555555556,
             "#d8576b"
            ],
            [
             0.6666666666666666,
             "#ed7953"
            ],
            [
             0.7777777777777778,
             "#fb9f3a"
            ],
            [
             0.8888888888888888,
             "#fdca26"
            ],
            [
             1,
             "#f0f921"
            ]
           ],
           "sequentialminus": [
            [
             0,
             "#0d0887"
            ],
            [
             0.1111111111111111,
             "#46039f"
            ],
            [
             0.2222222222222222,
             "#7201a8"
            ],
            [
             0.3333333333333333,
             "#9c179e"
            ],
            [
             0.4444444444444444,
             "#bd3786"
            ],
            [
             0.5555555555555556,
             "#d8576b"
            ],
            [
             0.6666666666666666,
             "#ed7953"
            ],
            [
             0.7777777777777778,
             "#fb9f3a"
            ],
            [
             0.8888888888888888,
             "#fdca26"
            ],
            [
             1,
             "#f0f921"
            ]
           ]
          },
          "colorway": [
           "#636efa",
           "#EF553B",
           "#00cc96",
           "#ab63fa",
           "#FFA15A",
           "#19d3f3",
           "#FF6692",
           "#B6E880",
           "#FF97FF",
           "#FECB52"
          ],
          "font": {
           "color": "#2a3f5f"
          },
          "geo": {
           "bgcolor": "white",
           "lakecolor": "white",
           "landcolor": "#E5ECF6",
           "showlakes": true,
           "showland": true,
           "subunitcolor": "white"
          },
          "hoverlabel": {
           "align": "left"
          },
          "hovermode": "closest",
          "mapbox": {
           "style": "light"
          },
          "paper_bgcolor": "white",
          "plot_bgcolor": "#E5ECF6",
          "polar": {
           "angularaxis": {
            "gridcolor": "white",
            "linecolor": "white",
            "ticks": ""
           },
           "bgcolor": "#E5ECF6",
           "radialaxis": {
            "gridcolor": "white",
            "linecolor": "white",
            "ticks": ""
           }
          },
          "scene": {
           "xaxis": {
            "backgroundcolor": "#E5ECF6",
            "gridcolor": "white",
            "gridwidth": 2,
            "linecolor": "white",
            "showbackground": true,
            "ticks": "",
            "zerolinecolor": "white"
           },
           "yaxis": {
            "backgroundcolor": "#E5ECF6",
            "gridcolor": "white",
            "gridwidth": 2,
            "linecolor": "white",
            "showbackground": true,
            "ticks": "",
            "zerolinecolor": "white"
           },
           "zaxis": {
            "backgroundcolor": "#E5ECF6",
            "gridcolor": "white",
            "gridwidth": 2,
            "linecolor": "white",
            "showbackground": true,
            "ticks": "",
            "zerolinecolor": "white"
           }
          },
          "shapedefaults": {
           "line": {
            "color": "#2a3f5f"
           }
          },
          "ternary": {
           "aaxis": {
            "gridcolor": "white",
            "linecolor": "white",
            "ticks": ""
           },
           "baxis": {
            "gridcolor": "white",
            "linecolor": "white",
            "ticks": ""
           },
           "bgcolor": "#E5ECF6",
           "caxis": {
            "gridcolor": "white",
            "linecolor": "white",
            "ticks": ""
           }
          },
          "title": {
           "x": 0.05
          },
          "xaxis": {
           "automargin": true,
           "gridcolor": "white",
           "linecolor": "white",
           "ticks": "",
           "title": {
            "standoff": 15
           },
           "zerolinecolor": "white",
           "zerolinewidth": 2
          },
          "yaxis": {
           "automargin": true,
           "gridcolor": "white",
           "linecolor": "white",
           "ticks": "",
           "title": {
            "standoff": 15
           },
           "zerolinecolor": "white",
           "zerolinewidth": 2
          }
         }
        },
        "title": {
         "text": "Simulated Read Length Distributions"
        },
        "xaxis": {
         "title": {
          "text": "Read Length"
         }
        },
        "yaxis": {
         "title": {
          "text": "Density"
         }
        }
       }
      }
     },
     "metadata": {},
     "output_type": "display_data"
    },
    {
     "data": {
      "application/vnd.plotly.v1+json": {
       "config": {
        "plotlyServerURL": "https://plot.ly"
       },
       "data": [
        {
         "histnorm": "probability",
         "type": "histogram",
         "x": [
          18,
          18,
          18,
          19,
          19,
          18,
          19,
          20,
          18,
          19,
          18,
          20,
          18,
          21,
          19,
          20,
          18,
          18,
          18,
          21,
          19,
          18,
          18,
          18,
          21,
          20,
          18,
          19,
          19,
          19,
          19,
          20,
          18,
          21,
          18,
          19,
          18,
          18,
          21,
          21,
          18,
          18,
          20,
          18,
          18,
          18,
          18,
          18,
          20,
          18,
          19,
          18,
          18,
          18,
          20,
          18,
          19,
          18,
          21,
          19,
          21,
          20,
          20,
          18,
          18,
          21,
          21,
          18,
          18,
          19,
          18,
          19,
          18,
          18,
          20,
          18,
          19,
          19,
          18,
          18,
          18,
          18,
          18,
          19,
          18,
          18,
          18,
          18,
          21,
          21,
          22,
          20,
          18,
          19,
          18,
          18,
          19,
          20,
          21,
          18,
          18,
          18,
          19,
          19,
          18,
          19,
          18,
          18,
          18,
          19,
          21,
          18,
          18,
          18,
          21,
          18,
          20,
          18,
          18,
          20,
          18,
          20,
          18,
          19,
          18,
          18,
          18,
          18,
          18,
          18,
          18,
          21,
          18,
          18,
          18,
          18,
          18,
          18,
          18,
          18,
          19,
          19,
          18,
          18,
          18,
          18,
          22,
          18,
          19,
          21,
          18,
          19,
          18,
          21,
          19,
          18,
          19,
          19,
          20,
          18,
          21,
          19,
          19,
          19,
          20,
          18,
          18,
          18,
          18,
          18,
          19,
          18,
          19,
          18,
          22,
          18,
          19,
          19,
          19,
          19,
          20,
          20,
          19,
          18,
          18,
          18,
          18,
          20,
          18,
          19,
          19,
          19,
          18,
          19,
          18,
          18,
          18,
          19,
          18,
          18,
          20,
          19,
          18,
          19,
          19,
          19,
          19,
          18,
          20,
          19,
          20,
          18,
          18,
          19,
          19,
          18,
          18,
          19,
          18,
          19,
          18,
          18,
          20,
          18,
          21,
          18,
          18,
          19,
          18,
          21,
          21,
          19,
          18,
          18,
          18,
          18,
          20,
          20,
          21,
          21,
          18,
          20,
          18,
          21,
          19,
          18,
          18,
          21,
          20,
          21,
          18,
          19,
          19,
          18,
          20,
          18,
          21,
          18,
          18,
          20,
          18,
          19,
          19,
          20,
          18,
          19,
          21,
          18,
          18,
          19,
          18,
          18,
          18,
          18,
          20,
          20,
          18,
          22,
          18,
          18,
          18,
          19,
          18,
          20,
          19,
          18,
          19,
          19,
          20,
          20,
          20,
          19,
          18,
          18,
          18,
          20,
          21,
          18,
          18,
          20,
          18,
          19,
          18,
          18,
          18,
          18,
          18,
          18,
          18,
          19,
          19,
          21,
          20,
          20,
          18,
          18,
          19,
          19,
          18,
          19,
          19,
          18,
          18,
          19,
          21,
          18,
          18,
          18,
          19,
          19,
          19,
          20,
          19,
          18,
          21,
          18,
          19,
          20,
          18,
          21,
          22,
          18,
          18,
          18,
          19,
          20,
          18,
          20,
          18,
          19,
          18,
          18,
          19,
          20,
          18,
          19,
          18,
          19,
          20,
          21,
          20,
          18,
          18,
          18,
          18,
          21,
          20,
          21,
          21,
          18,
          21,
          21,
          20,
          19,
          19,
          20,
          19,
          18,
          18,
          21,
          20,
          18,
          19,
          18,
          19,
          18,
          18,
          18,
          18,
          18,
          18,
          19,
          19,
          21,
          20,
          19,
          20,
          18,
          19,
          21,
          19,
          18,
          18,
          20,
          18,
          21,
          21,
          18,
          22,
          18,
          19,
          18,
          19,
          18,
          18,
          19,
          19,
          18,
          18,
          18,
          18,
          18,
          18,
          18,
          18,
          20,
          19,
          19,
          18,
          18,
          18,
          20,
          20,
          21,
          19,
          20,
          19,
          18,
          18,
          18,
          18,
          19,
          18,
          18,
          18,
          19,
          18,
          21,
          18,
          20,
          21,
          18,
          19,
          18,
          20,
          18,
          21,
          18,
          18,
          20,
          20,
          20,
          19,
          19,
          20,
          20,
          18,
          21,
          18,
          20,
          18,
          18,
          18,
          18,
          18,
          18,
          18,
          18,
          18,
          19,
          19,
          18,
          18,
          20,
          21,
          20,
          18,
          18,
          19,
          18,
          18,
          21,
          18,
          18,
          21,
          22,
          20,
          19,
          22,
          19,
          19,
          19,
          18,
          20,
          18,
          18,
          19,
          19,
          18,
          18,
          18,
          20,
          20,
          18,
          18,
          18,
          18,
          18,
          20,
          20,
          18,
          19,
          21,
          19,
          19,
          19,
          20,
          18,
          20,
          19,
          18,
          18,
          19,
          20,
          18,
          18,
          19,
          18,
          18,
          19,
          18,
          18,
          19,
          18,
          18,
          19,
          20,
          19,
          19,
          18,
          22,
          19,
          19,
          18,
          19,
          19,
          21,
          18,
          18,
          19,
          18,
          18,
          19,
          18,
          21,
          18,
          19,
          19,
          20,
          18,
          19,
          19,
          19,
          18,
          18,
          18,
          19,
          18,
          18,
          19,
          18,
          19,
          19,
          18,
          18,
          19,
          18,
          22,
          19,
          18,
          19,
          20,
          19,
          20,
          18,
          21,
          19,
          20,
          18,
          18,
          19,
          19,
          18,
          18,
          19,
          19,
          19,
          18,
          19,
          18,
          18,
          18,
          20,
          18,
          20,
          18,
          18,
          18,
          18,
          20,
          20,
          18,
          19,
          19,
          20,
          18,
          18,
          18,
          20,
          20,
          18,
          18,
          18,
          18,
          19,
          18,
          20,
          19,
          19,
          18,
          21,
          18,
          19,
          19,
          18,
          18,
          18,
          18,
          19,
          19,
          18,
          18,
          18,
          18,
          18,
          19,
          18,
          18,
          19,
          18,
          18,
          18,
          18,
          18,
          20,
          18,
          18,
          18,
          18,
          18,
          20,
          22,
          18,
          18,
          19,
          18,
          19,
          18,
          18,
          19,
          19,
          21,
          18,
          18,
          19,
          20,
          18,
          18,
          18,
          21,
          18,
          18,
          18,
          18,
          20,
          20,
          19,
          19,
          18,
          22,
          18,
          20,
          18,
          20,
          18,
          20,
          18,
          18,
          18,
          18,
          18,
          18,
          18,
          18,
          18,
          18,
          19,
          19,
          19,
          21,
          18,
          18,
          20,
          20,
          21,
          18,
          18,
          18,
          21,
          18,
          19,
          18,
          22,
          20,
          19,
          18,
          19,
          18,
          18,
          20,
          18,
          18,
          21,
          19,
          18,
          18,
          18,
          18,
          18,
          18,
          20,
          19,
          19,
          20,
          20,
          18,
          18,
          18,
          20,
          20,
          18,
          18,
          18,
          20,
          18,
          19,
          19,
          18,
          19,
          18,
          19,
          19,
          19,
          18,
          18,
          18,
          20,
          19,
          18,
          20,
          18,
          18,
          20,
          19,
          21,
          20,
          18,
          18,
          21,
          18,
          18,
          18,
          19,
          18,
          18,
          19,
          18,
          20,
          18,
          18,
          19,
          19,
          20,
          19,
          21,
          20,
          19,
          18,
          20,
          19,
          19,
          18,
          18,
          18,
          18,
          19,
          18,
          20,
          18,
          18,
          21,
          19,
          19,
          19,
          20,
          18,
          18,
          19,
          18,
          20,
          18,
          19,
          19,
          22,
          18,
          18,
          19,
          18,
          20,
          18,
          20,
          20,
          18,
          18,
          19,
          21,
          18,
          18,
          18,
          18,
          20,
          18,
          18,
          18,
          18,
          18,
          20,
          19,
          19,
          18,
          18,
          18,
          21,
          18,
          20,
          18,
          18,
          18,
          19,
          18,
          18,
          18,
          20,
          18,
          19,
          18,
          18,
          19,
          19,
          18,
          18,
          18,
          19,
          18,
          19,
          18,
          18,
          18,
          20,
          18,
          19,
          19,
          19,
          18,
          18,
          20,
          21,
          18,
          18,
          20,
          20,
          20,
          18,
          18,
          18,
          24,
          19,
          20,
          18,
          20,
          21,
          18,
          18,
          18,
          18,
          21,
          18,
          20,
          20,
          19,
          19,
          18,
          18,
          18,
          18,
          19,
          18,
          21,
          22,
          18,
          18,
          20,
          18,
          18,
          20,
          18,
          18,
          19,
          18,
          18,
          19,
          20,
          18,
          19,
          19,
          18,
          18,
          18,
          18,
          18,
          18,
          18,
          22,
          21,
          18,
          20,
          20,
          18,
          18,
          20,
          19,
          18,
          21,
          20,
          19,
          18,
          18,
          20,
          18,
          21,
          18,
          18,
          19,
          21,
          19,
          21,
          18,
          18,
          18,
          19,
          21,
          20,
          20,
          19,
          20,
          18,
          18,
          18,
          18,
          19,
          19,
          19,
          19,
          20,
          19,
          21,
          19,
          19,
          18,
          18
         ]
        }
       ],
       "layout": {
        "barmode": "overlay",
        "template": {
         "data": {
          "bar": [
           {
            "error_x": {
             "color": "#2a3f5f"
            },
            "error_y": {
             "color": "#2a3f5f"
            },
            "marker": {
             "line": {
              "color": "#E5ECF6",
              "width": 0.5
             },
             "pattern": {
              "fillmode": "overlay",
              "size": 10,
              "solidity": 0.2
             }
            },
            "type": "bar"
           }
          ],
          "barpolar": [
           {
            "marker": {
             "line": {
              "color": "#E5ECF6",
              "width": 0.5
             },
             "pattern": {
              "fillmode": "overlay",
              "size": 10,
              "solidity": 0.2
             }
            },
            "type": "barpolar"
           }
          ],
          "carpet": [
           {
            "aaxis": {
             "endlinecolor": "#2a3f5f",
             "gridcolor": "white",
             "linecolor": "white",
             "minorgridcolor": "white",
             "startlinecolor": "#2a3f5f"
            },
            "baxis": {
             "endlinecolor": "#2a3f5f",
             "gridcolor": "white",
             "linecolor": "white",
             "minorgridcolor": "white",
             "startlinecolor": "#2a3f5f"
            },
            "type": "carpet"
           }
          ],
          "choropleth": [
           {
            "colorbar": {
             "outlinewidth": 0,
             "ticks": ""
            },
            "type": "choropleth"
           }
          ],
          "contour": [
           {
            "colorbar": {
             "outlinewidth": 0,
             "ticks": ""
            },
            "colorscale": [
             [
              0,
              "#0d0887"
             ],
             [
              0.1111111111111111,
              "#46039f"
             ],
             [
              0.2222222222222222,
              "#7201a8"
             ],
             [
              0.3333333333333333,
              "#9c179e"
             ],
             [
              0.4444444444444444,
              "#bd3786"
             ],
             [
              0.5555555555555556,
              "#d8576b"
             ],
             [
              0.6666666666666666,
              "#ed7953"
             ],
             [
              0.7777777777777778,
              "#fb9f3a"
             ],
             [
              0.8888888888888888,
              "#fdca26"
             ],
             [
              1,
              "#f0f921"
             ]
            ],
            "type": "contour"
           }
          ],
          "contourcarpet": [
           {
            "colorbar": {
             "outlinewidth": 0,
             "ticks": ""
            },
            "type": "contourcarpet"
           }
          ],
          "heatmap": [
           {
            "colorbar": {
             "outlinewidth": 0,
             "ticks": ""
            },
            "colorscale": [
             [
              0,
              "#0d0887"
             ],
             [
              0.1111111111111111,
              "#46039f"
             ],
             [
              0.2222222222222222,
              "#7201a8"
             ],
             [
              0.3333333333333333,
              "#9c179e"
             ],
             [
              0.4444444444444444,
              "#bd3786"
             ],
             [
              0.5555555555555556,
              "#d8576b"
             ],
             [
              0.6666666666666666,
              "#ed7953"
             ],
             [
              0.7777777777777778,
              "#fb9f3a"
             ],
             [
              0.8888888888888888,
              "#fdca26"
             ],
             [
              1,
              "#f0f921"
             ]
            ],
            "type": "heatmap"
           }
          ],
          "heatmapgl": [
           {
            "colorbar": {
             "outlinewidth": 0,
             "ticks": ""
            },
            "colorscale": [
             [
              0,
              "#0d0887"
             ],
             [
              0.1111111111111111,
              "#46039f"
             ],
             [
              0.2222222222222222,
              "#7201a8"
             ],
             [
              0.3333333333333333,
              "#9c179e"
             ],
             [
              0.4444444444444444,
              "#bd3786"
             ],
             [
              0.5555555555555556,
              "#d8576b"
             ],
             [
              0.6666666666666666,
              "#ed7953"
             ],
             [
              0.7777777777777778,
              "#fb9f3a"
             ],
             [
              0.8888888888888888,
              "#fdca26"
             ],
             [
              1,
              "#f0f921"
             ]
            ],
            "type": "heatmapgl"
           }
          ],
          "histogram": [
           {
            "marker": {
             "pattern": {
              "fillmode": "overlay",
              "size": 10,
              "solidity": 0.2
             }
            },
            "type": "histogram"
           }
          ],
          "histogram2d": [
           {
            "colorbar": {
             "outlinewidth": 0,
             "ticks": ""
            },
            "colorscale": [
             [
              0,
              "#0d0887"
             ],
             [
              0.1111111111111111,
              "#46039f"
             ],
             [
              0.2222222222222222,
              "#7201a8"
             ],
             [
              0.3333333333333333,
              "#9c179e"
             ],
             [
              0.4444444444444444,
              "#bd3786"
             ],
             [
              0.5555555555555556,
              "#d8576b"
             ],
             [
              0.6666666666666666,
              "#ed7953"
             ],
             [
              0.7777777777777778,
              "#fb9f3a"
             ],
             [
              0.8888888888888888,
              "#fdca26"
             ],
             [
              1,
              "#f0f921"
             ]
            ],
            "type": "histogram2d"
           }
          ],
          "histogram2dcontour": [
           {
            "colorbar": {
             "outlinewidth": 0,
             "ticks": ""
            },
            "colorscale": [
             [
              0,
              "#0d0887"
             ],
             [
              0.1111111111111111,
              "#46039f"
             ],
             [
              0.2222222222222222,
              "#7201a8"
             ],
             [
              0.3333333333333333,
              "#9c179e"
             ],
             [
              0.4444444444444444,
              "#bd3786"
             ],
             [
              0.5555555555555556,
              "#d8576b"
             ],
             [
              0.6666666666666666,
              "#ed7953"
             ],
             [
              0.7777777777777778,
              "#fb9f3a"
             ],
             [
              0.8888888888888888,
              "#fdca26"
             ],
             [
              1,
              "#f0f921"
             ]
            ],
            "type": "histogram2dcontour"
           }
          ],
          "mesh3d": [
           {
            "colorbar": {
             "outlinewidth": 0,
             "ticks": ""
            },
            "type": "mesh3d"
           }
          ],
          "parcoords": [
           {
            "line": {
             "colorbar": {
              "outlinewidth": 0,
              "ticks": ""
             }
            },
            "type": "parcoords"
           }
          ],
          "pie": [
           {
            "automargin": true,
            "type": "pie"
           }
          ],
          "scatter": [
           {
            "fillpattern": {
             "fillmode": "overlay",
             "size": 10,
             "solidity": 0.2
            },
            "type": "scatter"
           }
          ],
          "scatter3d": [
           {
            "line": {
             "colorbar": {
              "outlinewidth": 0,
              "ticks": ""
             }
            },
            "marker": {
             "colorbar": {
              "outlinewidth": 0,
              "ticks": ""
             }
            },
            "type": "scatter3d"
           }
          ],
          "scattercarpet": [
           {
            "marker": {
             "colorbar": {
              "outlinewidth": 0,
              "ticks": ""
             }
            },
            "type": "scattercarpet"
           }
          ],
          "scattergeo": [
           {
            "marker": {
             "colorbar": {
              "outlinewidth": 0,
              "ticks": ""
             }
            },
            "type": "scattergeo"
           }
          ],
          "scattergl": [
           {
            "marker": {
             "colorbar": {
              "outlinewidth": 0,
              "ticks": ""
             }
            },
            "type": "scattergl"
           }
          ],
          "scattermapbox": [
           {
            "marker": {
             "colorbar": {
              "outlinewidth": 0,
              "ticks": ""
             }
            },
            "type": "scattermapbox"
           }
          ],
          "scatterpolar": [
           {
            "marker": {
             "colorbar": {
              "outlinewidth": 0,
              "ticks": ""
             }
            },
            "type": "scatterpolar"
           }
          ],
          "scatterpolargl": [
           {
            "marker": {
             "colorbar": {
              "outlinewidth": 0,
              "ticks": ""
             }
            },
            "type": "scatterpolargl"
           }
          ],
          "scatterternary": [
           {
            "marker": {
             "colorbar": {
              "outlinewidth": 0,
              "ticks": ""
             }
            },
            "type": "scatterternary"
           }
          ],
          "surface": [
           {
            "colorbar": {
             "outlinewidth": 0,
             "ticks": ""
            },
            "colorscale": [
             [
              0,
              "#0d0887"
             ],
             [
              0.1111111111111111,
              "#46039f"
             ],
             [
              0.2222222222222222,
              "#7201a8"
             ],
             [
              0.3333333333333333,
              "#9c179e"
             ],
             [
              0.4444444444444444,
              "#bd3786"
             ],
             [
              0.5555555555555556,
              "#d8576b"
             ],
             [
              0.6666666666666666,
              "#ed7953"
             ],
             [
              0.7777777777777778,
              "#fb9f3a"
             ],
             [
              0.8888888888888888,
              "#fdca26"
             ],
             [
              1,
              "#f0f921"
             ]
            ],
            "type": "surface"
           }
          ],
          "table": [
           {
            "cells": {
             "fill": {
              "color": "#EBF0F8"
             },
             "line": {
              "color": "white"
             }
            },
            "header": {
             "fill": {
              "color": "#C8D4E3"
             },
             "line": {
              "color": "white"
             }
            },
            "type": "table"
           }
          ]
         },
         "layout": {
          "annotationdefaults": {
           "arrowcolor": "#2a3f5f",
           "arrowhead": 0,
           "arrowwidth": 1
          },
          "autotypenumbers": "strict",
          "coloraxis": {
           "colorbar": {
            "outlinewidth": 0,
            "ticks": ""
           }
          },
          "colorscale": {
           "diverging": [
            [
             0,
             "#8e0152"
            ],
            [
             0.1,
             "#c51b7d"
            ],
            [
             0.2,
             "#de77ae"
            ],
            [
             0.3,
             "#f1b6da"
            ],
            [
             0.4,
             "#fde0ef"
            ],
            [
             0.5,
             "#f7f7f7"
            ],
            [
             0.6,
             "#e6f5d0"
            ],
            [
             0.7,
             "#b8e186"
            ],
            [
             0.8,
             "#7fbc41"
            ],
            [
             0.9,
             "#4d9221"
            ],
            [
             1,
             "#276419"
            ]
           ],
           "sequential": [
            [
             0,
             "#0d0887"
            ],
            [
             0.1111111111111111,
             "#46039f"
            ],
            [
             0.2222222222222222,
             "#7201a8"
            ],
            [
             0.3333333333333333,
             "#9c179e"
            ],
            [
             0.4444444444444444,
             "#bd3786"
            ],
            [
             0.5555555555555556,
             "#d8576b"
            ],
            [
             0.6666666666666666,
             "#ed7953"
            ],
            [
             0.7777777777777778,
             "#fb9f3a"
            ],
            [
             0.8888888888888888,
             "#fdca26"
            ],
            [
             1,
             "#f0f921"
            ]
           ],
           "sequentialminus": [
            [
             0,
             "#0d0887"
            ],
            [
             0.1111111111111111,
             "#46039f"
            ],
            [
             0.2222222222222222,
             "#7201a8"
            ],
            [
             0.3333333333333333,
             "#9c179e"
            ],
            [
             0.4444444444444444,
             "#bd3786"
            ],
            [
             0.5555555555555556,
             "#d8576b"
            ],
            [
             0.6666666666666666,
             "#ed7953"
            ],
            [
             0.7777777777777778,
             "#fb9f3a"
            ],
            [
             0.8888888888888888,
             "#fdca26"
            ],
            [
             1,
             "#f0f921"
            ]
           ]
          },
          "colorway": [
           "#636efa",
           "#EF553B",
           "#00cc96",
           "#ab63fa",
           "#FFA15A",
           "#19d3f3",
           "#FF6692",
           "#B6E880",
           "#FF97FF",
           "#FECB52"
          ],
          "font": {
           "color": "#2a3f5f"
          },
          "geo": {
           "bgcolor": "white",
           "lakecolor": "white",
           "landcolor": "#E5ECF6",
           "showlakes": true,
           "showland": true,
           "subunitcolor": "white"
          },
          "hoverlabel": {
           "align": "left"
          },
          "hovermode": "closest",
          "mapbox": {
           "style": "light"
          },
          "paper_bgcolor": "white",
          "plot_bgcolor": "#E5ECF6",
          "polar": {
           "angularaxis": {
            "gridcolor": "white",
            "linecolor": "white",
            "ticks": ""
           },
           "bgcolor": "#E5ECF6",
           "radialaxis": {
            "gridcolor": "white",
            "linecolor": "white",
            "ticks": ""
           }
          },
          "scene": {
           "xaxis": {
            "backgroundcolor": "#E5ECF6",
            "gridcolor": "white",
            "gridwidth": 2,
            "linecolor": "white",
            "showbackground": true,
            "ticks": "",
            "zerolinecolor": "white"
           },
           "yaxis": {
            "backgroundcolor": "#E5ECF6",
            "gridcolor": "white",
            "gridwidth": 2,
            "linecolor": "white",
            "showbackground": true,
            "ticks": "",
            "zerolinecolor": "white"
           },
           "zaxis": {
            "backgroundcolor": "#E5ECF6",
            "gridcolor": "white",
            "gridwidth": 2,
            "linecolor": "white",
            "showbackground": true,
            "ticks": "",
            "zerolinecolor": "white"
           }
          },
          "shapedefaults": {
           "line": {
            "color": "#2a3f5f"
           }
          },
          "ternary": {
           "aaxis": {
            "gridcolor": "white",
            "linecolor": "white",
            "ticks": ""
           },
           "baxis": {
            "gridcolor": "white",
            "linecolor": "white",
            "ticks": ""
           },
           "bgcolor": "#E5ECF6",
           "caxis": {
            "gridcolor": "white",
            "linecolor": "white",
            "ticks": ""
           }
          },
          "title": {
           "x": 0.05
          },
          "xaxis": {
           "automargin": true,
           "gridcolor": "white",
           "linecolor": "white",
           "ticks": "",
           "title": {
            "standoff": 15
           },
           "zerolinecolor": "white",
           "zerolinewidth": 2
          },
          "yaxis": {
           "automargin": true,
           "gridcolor": "white",
           "linecolor": "white",
           "ticks": "",
           "title": {
            "standoff": 15
           },
           "zerolinecolor": "white",
           "zerolinewidth": 2
          }
         }
        },
        "title": {
         "text": "Simulated Read Length Distributions"
        },
        "xaxis": {
         "title": {
          "text": "Read Length"
         }
        },
        "yaxis": {
         "title": {
          "text": "Density"
         }
        }
       }
      }
     },
     "metadata": {},
     "output_type": "display_data"
    },
    {
     "data": {
      "application/vnd.plotly.v1+json": {
       "config": {
        "plotlyServerURL": "https://plot.ly"
       },
       "data": [
        {
         "histnorm": "probability",
         "type": "histogram",
         "x": [
          21,
          19,
          23,
          23,
          18,
          20,
          24,
          27,
          21,
          21,
          30,
          24,
          23,
          20,
          23,
          24,
          29,
          24,
          21,
          25,
          22,
          25,
          25,
          24,
          22,
          22,
          27,
          21,
          22,
          25,
          23,
          25,
          23,
          22,
          24,
          22,
          26,
          25,
          23,
          20,
          22,
          24,
          21,
          18,
          20,
          24,
          21,
          23,
          24,
          22,
          21,
          22,
          24,
          21,
          26,
          27,
          19,
          19,
          24,
          26,
          21,
          21,
          19,
          18,
          27,
          22,
          21,
          23,
          28,
          25,
          26,
          24,
          21,
          22,
          25,
          22,
          19,
          22,
          20,
          22,
          18,
          23,
          25,
          21,
          26,
          28,
          21,
          27,
          23,
          24,
          25,
          25,
          26,
          22,
          22,
          20,
          26,
          23,
          21,
          23,
          20,
          23,
          18,
          22,
          26,
          22,
          21,
          25,
          25,
          22,
          23,
          28,
          25,
          28,
          24,
          23,
          23,
          23,
          22,
          26,
          23,
          22,
          21,
          21,
          24,
          21,
          18,
          21,
          21,
          23,
          25,
          27,
          28,
          26,
          22,
          25,
          25,
          26,
          26,
          23,
          27,
          19,
          24,
          23,
          23,
          26,
          24,
          25,
          19,
          21,
          26,
          26,
          19,
          21,
          23,
          21,
          24,
          24,
          23,
          19,
          26,
          21,
          23,
          22,
          24,
          22,
          24,
          25,
          24,
          20,
          23,
          19,
          20,
          23,
          18,
          25,
          25,
          25,
          21,
          21,
          22,
          25,
          18,
          20,
          24,
          21,
          22,
          26,
          21,
          24,
          23,
          22,
          21,
          25,
          21,
          23,
          20,
          19,
          26,
          27,
          24,
          23,
          22,
          25,
          19,
          25,
          26,
          26,
          20,
          22,
          22,
          21,
          22,
          23,
          18,
          24,
          23,
          20,
          24,
          27,
          19,
          21,
          21,
          28,
          22,
          20,
          28,
          27,
          24,
          26,
          18,
          23,
          27,
          22,
          23,
          21,
          26,
          30,
          24,
          23,
          23,
          24,
          24,
          25,
          18,
          22,
          23,
          23,
          24,
          23,
          23,
          24,
          22,
          23,
          25,
          23,
          24,
          20,
          24,
          23,
          22,
          18,
          21,
          24,
          19,
          18,
          25,
          21,
          26,
          19,
          26,
          24,
          25,
          21,
          18,
          21,
          24,
          24,
          20,
          18,
          23,
          24,
          18,
          20,
          19,
          23,
          19,
          21,
          23,
          23,
          22,
          23,
          19,
          24,
          24,
          26,
          21,
          22,
          26,
          18,
          23,
          25,
          18,
          26,
          23,
          19,
          24,
          24,
          24,
          23,
          24,
          29,
          22,
          23,
          20,
          24,
          24,
          24,
          28,
          18,
          24,
          22,
          21,
          20,
          25,
          26,
          24,
          22,
          22,
          23,
          21,
          20,
          21,
          24,
          25,
          21,
          20,
          31,
          25,
          18,
          21,
          26,
          18,
          21,
          25,
          20,
          25,
          24,
          22,
          20,
          26,
          23,
          18,
          23,
          24,
          23,
          27,
          20,
          24,
          24,
          18,
          23,
          23,
          21,
          21,
          20,
          24,
          24,
          20,
          24,
          22,
          25,
          25,
          24,
          23,
          24,
          24,
          24,
          22,
          23,
          24,
          24,
          24,
          24,
          27,
          18,
          26,
          26,
          22,
          20,
          21,
          20,
          18,
          24,
          19,
          24,
          23,
          18,
          22,
          27,
          18,
          19,
          22,
          22,
          22,
          20,
          23,
          18,
          23,
          23,
          23,
          22,
          25,
          21,
          23,
          23,
          20,
          23,
          22,
          21,
          22,
          20,
          23,
          22,
          23,
          21,
          23,
          24,
          25,
          20,
          22,
          22,
          28,
          22,
          24,
          25,
          21,
          18,
          23,
          22,
          18,
          26,
          21,
          21,
          22,
          22,
          18,
          24,
          24,
          18,
          23,
          21,
          24,
          19,
          23,
          20,
          25,
          19,
          18,
          23,
          18,
          21,
          20,
          20,
          23,
          21,
          25,
          21,
          19,
          22,
          18,
          19,
          24,
          23,
          20,
          27,
          20,
          21,
          27,
          18,
          22,
          23,
          22,
          23,
          20,
          21,
          28,
          22,
          23,
          21,
          22,
          24,
          23,
          23,
          25,
          18,
          23,
          22,
          21,
          20,
          23,
          22,
          23,
          20,
          23,
          22,
          22,
          18,
          25,
          26,
          20,
          26,
          21,
          25,
          21,
          21,
          22,
          19,
          26,
          18,
          22,
          22,
          20,
          20,
          26,
          22,
          21,
          27,
          25,
          24,
          26,
          23,
          24,
          23,
          23,
          24,
          21,
          24,
          22,
          23,
          21,
          24,
          22,
          24,
          23,
          20,
          26,
          25,
          20,
          22,
          18,
          22,
          23,
          21,
          23,
          21,
          24,
          27,
          22,
          21,
          18,
          24,
          23,
          22,
          21,
          26,
          23,
          19,
          23,
          21,
          24,
          23,
          21,
          25,
          25,
          26,
          19,
          20,
          23,
          20,
          22,
          21,
          22,
          24,
          23,
          19,
          25,
          19,
          21,
          23,
          18,
          25,
          24,
          21,
          23,
          22,
          18,
          23,
          26,
          26,
          22,
          26,
          22,
          20,
          19,
          19,
          22,
          24,
          25,
          20,
          18,
          21,
          21,
          23,
          23,
          22,
          25,
          19,
          22,
          22,
          21,
          24,
          21,
          20,
          20,
          19,
          23,
          22,
          23,
          25,
          22,
          18,
          25,
          25,
          22,
          18,
          26,
          20,
          22,
          23,
          25,
          25,
          22,
          26,
          26,
          21,
          21,
          23,
          24,
          23,
          24,
          21,
          22,
          18,
          22,
          24,
          18,
          25,
          21,
          18,
          18,
          26,
          18,
          22,
          26,
          20,
          20,
          22,
          23,
          23,
          22,
          26,
          22,
          18,
          22,
          25,
          20,
          25,
          21,
          19,
          20,
          23,
          22,
          26,
          25,
          26,
          22,
          18,
          26,
          20,
          20,
          20,
          24,
          21,
          20,
          24,
          25,
          21,
          21,
          19,
          24,
          24,
          22,
          19,
          23,
          26,
          21,
          21,
          21,
          22,
          23,
          23,
          19,
          21,
          24,
          25,
          23,
          20,
          22,
          20,
          21,
          21,
          25,
          21,
          19,
          23,
          26,
          26,
          18,
          26,
          23,
          18,
          23,
          25,
          22,
          18,
          19,
          21,
          21,
          26,
          26,
          24,
          19,
          20,
          20,
          24,
          18,
          23,
          18,
          21,
          18,
          25,
          22,
          21,
          23,
          20,
          20,
          22,
          22,
          18,
          23,
          27,
          18,
          24,
          20,
          24,
          25,
          21,
          27,
          22,
          28,
          22,
          21,
          20,
          23,
          24,
          21,
          22,
          24,
          25,
          25,
          30,
          21,
          22,
          21,
          22,
          21,
          28,
          22,
          21,
          24,
          23,
          24,
          23,
          24,
          21,
          23,
          22,
          24,
          23,
          28,
          23,
          23,
          26,
          19,
          20,
          20,
          25,
          26,
          22,
          25,
          21,
          21,
          22,
          23,
          26,
          22,
          18,
          26,
          19,
          25,
          20,
          21,
          23,
          22,
          23,
          25,
          25,
          27,
          24,
          21,
          18,
          25,
          19,
          20,
          25,
          18,
          21,
          22,
          22,
          18,
          23,
          23,
          23,
          21,
          22,
          23,
          25,
          20,
          23,
          27,
          22,
          25,
          18,
          24,
          26,
          21,
          21,
          25,
          19,
          26,
          18,
          25,
          20,
          25,
          21,
          23,
          25,
          23,
          19,
          18,
          21,
          23,
          25,
          20,
          21,
          22,
          22,
          28,
          23,
          20,
          24,
          25,
          23,
          24,
          24,
          23,
          22,
          26,
          24,
          20,
          21,
          26,
          22,
          22,
          27,
          26,
          23,
          24,
          23,
          25,
          26,
          19,
          25,
          22,
          20,
          24,
          26,
          18,
          23,
          25,
          24,
          22,
          23,
          20,
          18,
          23,
          23,
          24,
          23,
          25,
          20,
          26,
          22,
          22,
          26,
          22,
          23,
          26,
          23,
          22,
          26,
          23,
          18,
          20,
          20,
          20,
          24,
          26,
          19,
          21,
          23,
          26,
          23,
          22,
          23,
          24,
          21,
          22,
          21,
          23,
          21,
          22,
          25,
          24,
          21,
          21,
          21,
          26,
          22,
          24,
          21,
          24,
          26,
          25,
          20,
          21,
          23,
          27,
          20,
          22,
          22,
          22,
          20,
          22,
          22,
          22,
          26,
          19,
          20,
          25,
          23,
          23,
          22,
          22,
          28,
          21,
          24,
          20,
          23,
          20,
          23,
          22,
          19,
          21,
          22,
          21,
          20,
          23,
          18
         ]
        }
       ],
       "layout": {
        "barmode": "overlay",
        "template": {
         "data": {
          "bar": [
           {
            "error_x": {
             "color": "#2a3f5f"
            },
            "error_y": {
             "color": "#2a3f5f"
            },
            "marker": {
             "line": {
              "color": "#E5ECF6",
              "width": 0.5
             },
             "pattern": {
              "fillmode": "overlay",
              "size": 10,
              "solidity": 0.2
             }
            },
            "type": "bar"
           }
          ],
          "barpolar": [
           {
            "marker": {
             "line": {
              "color": "#E5ECF6",
              "width": 0.5
             },
             "pattern": {
              "fillmode": "overlay",
              "size": 10,
              "solidity": 0.2
             }
            },
            "type": "barpolar"
           }
          ],
          "carpet": [
           {
            "aaxis": {
             "endlinecolor": "#2a3f5f",
             "gridcolor": "white",
             "linecolor": "white",
             "minorgridcolor": "white",
             "startlinecolor": "#2a3f5f"
            },
            "baxis": {
             "endlinecolor": "#2a3f5f",
             "gridcolor": "white",
             "linecolor": "white",
             "minorgridcolor": "white",
             "startlinecolor": "#2a3f5f"
            },
            "type": "carpet"
           }
          ],
          "choropleth": [
           {
            "colorbar": {
             "outlinewidth": 0,
             "ticks": ""
            },
            "type": "choropleth"
           }
          ],
          "contour": [
           {
            "colorbar": {
             "outlinewidth": 0,
             "ticks": ""
            },
            "colorscale": [
             [
              0,
              "#0d0887"
             ],
             [
              0.1111111111111111,
              "#46039f"
             ],
             [
              0.2222222222222222,
              "#7201a8"
             ],
             [
              0.3333333333333333,
              "#9c179e"
             ],
             [
              0.4444444444444444,
              "#bd3786"
             ],
             [
              0.5555555555555556,
              "#d8576b"
             ],
             [
              0.6666666666666666,
              "#ed7953"
             ],
             [
              0.7777777777777778,
              "#fb9f3a"
             ],
             [
              0.8888888888888888,
              "#fdca26"
             ],
             [
              1,
              "#f0f921"
             ]
            ],
            "type": "contour"
           }
          ],
          "contourcarpet": [
           {
            "colorbar": {
             "outlinewidth": 0,
             "ticks": ""
            },
            "type": "contourcarpet"
           }
          ],
          "heatmap": [
           {
            "colorbar": {
             "outlinewidth": 0,
             "ticks": ""
            },
            "colorscale": [
             [
              0,
              "#0d0887"
             ],
             [
              0.1111111111111111,
              "#46039f"
             ],
             [
              0.2222222222222222,
              "#7201a8"
             ],
             [
              0.3333333333333333,
              "#9c179e"
             ],
             [
              0.4444444444444444,
              "#bd3786"
             ],
             [
              0.5555555555555556,
              "#d8576b"
             ],
             [
              0.6666666666666666,
              "#ed7953"
             ],
             [
              0.7777777777777778,
              "#fb9f3a"
             ],
             [
              0.8888888888888888,
              "#fdca26"
             ],
             [
              1,
              "#f0f921"
             ]
            ],
            "type": "heatmap"
           }
          ],
          "heatmapgl": [
           {
            "colorbar": {
             "outlinewidth": 0,
             "ticks": ""
            },
            "colorscale": [
             [
              0,
              "#0d0887"
             ],
             [
              0.1111111111111111,
              "#46039f"
             ],
             [
              0.2222222222222222,
              "#7201a8"
             ],
             [
              0.3333333333333333,
              "#9c179e"
             ],
             [
              0.4444444444444444,
              "#bd3786"
             ],
             [
              0.5555555555555556,
              "#d8576b"
             ],
             [
              0.6666666666666666,
              "#ed7953"
             ],
             [
              0.7777777777777778,
              "#fb9f3a"
             ],
             [
              0.8888888888888888,
              "#fdca26"
             ],
             [
              1,
              "#f0f921"
             ]
            ],
            "type": "heatmapgl"
           }
          ],
          "histogram": [
           {
            "marker": {
             "pattern": {
              "fillmode": "overlay",
              "size": 10,
              "solidity": 0.2
             }
            },
            "type": "histogram"
           }
          ],
          "histogram2d": [
           {
            "colorbar": {
             "outlinewidth": 0,
             "ticks": ""
            },
            "colorscale": [
             [
              0,
              "#0d0887"
             ],
             [
              0.1111111111111111,
              "#46039f"
             ],
             [
              0.2222222222222222,
              "#7201a8"
             ],
             [
              0.3333333333333333,
              "#9c179e"
             ],
             [
              0.4444444444444444,
              "#bd3786"
             ],
             [
              0.5555555555555556,
              "#d8576b"
             ],
             [
              0.6666666666666666,
              "#ed7953"
             ],
             [
              0.7777777777777778,
              "#fb9f3a"
             ],
             [
              0.8888888888888888,
              "#fdca26"
             ],
             [
              1,
              "#f0f921"
             ]
            ],
            "type": "histogram2d"
           }
          ],
          "histogram2dcontour": [
           {
            "colorbar": {
             "outlinewidth": 0,
             "ticks": ""
            },
            "colorscale": [
             [
              0,
              "#0d0887"
             ],
             [
              0.1111111111111111,
              "#46039f"
             ],
             [
              0.2222222222222222,
              "#7201a8"
             ],
             [
              0.3333333333333333,
              "#9c179e"
             ],
             [
              0.4444444444444444,
              "#bd3786"
             ],
             [
              0.5555555555555556,
              "#d8576b"
             ],
             [
              0.6666666666666666,
              "#ed7953"
             ],
             [
              0.7777777777777778,
              "#fb9f3a"
             ],
             [
              0.8888888888888888,
              "#fdca26"
             ],
             [
              1,
              "#f0f921"
             ]
            ],
            "type": "histogram2dcontour"
           }
          ],
          "mesh3d": [
           {
            "colorbar": {
             "outlinewidth": 0,
             "ticks": ""
            },
            "type": "mesh3d"
           }
          ],
          "parcoords": [
           {
            "line": {
             "colorbar": {
              "outlinewidth": 0,
              "ticks": ""
             }
            },
            "type": "parcoords"
           }
          ],
          "pie": [
           {
            "automargin": true,
            "type": "pie"
           }
          ],
          "scatter": [
           {
            "fillpattern": {
             "fillmode": "overlay",
             "size": 10,
             "solidity": 0.2
            },
            "type": "scatter"
           }
          ],
          "scatter3d": [
           {
            "line": {
             "colorbar": {
              "outlinewidth": 0,
              "ticks": ""
             }
            },
            "marker": {
             "colorbar": {
              "outlinewidth": 0,
              "ticks": ""
             }
            },
            "type": "scatter3d"
           }
          ],
          "scattercarpet": [
           {
            "marker": {
             "colorbar": {
              "outlinewidth": 0,
              "ticks": ""
             }
            },
            "type": "scattercarpet"
           }
          ],
          "scattergeo": [
           {
            "marker": {
             "colorbar": {
              "outlinewidth": 0,
              "ticks": ""
             }
            },
            "type": "scattergeo"
           }
          ],
          "scattergl": [
           {
            "marker": {
             "colorbar": {
              "outlinewidth": 0,
              "ticks": ""
             }
            },
            "type": "scattergl"
           }
          ],
          "scattermapbox": [
           {
            "marker": {
             "colorbar": {
              "outlinewidth": 0,
              "ticks": ""
             }
            },
            "type": "scattermapbox"
           }
          ],
          "scatterpolar": [
           {
            "marker": {
             "colorbar": {
              "outlinewidth": 0,
              "ticks": ""
             }
            },
            "type": "scatterpolar"
           }
          ],
          "scatterpolargl": [
           {
            "marker": {
             "colorbar": {
              "outlinewidth": 0,
              "ticks": ""
             }
            },
            "type": "scatterpolargl"
           }
          ],
          "scatterternary": [
           {
            "marker": {
             "colorbar": {
              "outlinewidth": 0,
              "ticks": ""
             }
            },
            "type": "scatterternary"
           }
          ],
          "surface": [
           {
            "colorbar": {
             "outlinewidth": 0,
             "ticks": ""
            },
            "colorscale": [
             [
              0,
              "#0d0887"
             ],
             [
              0.1111111111111111,
              "#46039f"
             ],
             [
              0.2222222222222222,
              "#7201a8"
             ],
             [
              0.3333333333333333,
              "#9c179e"
             ],
             [
              0.4444444444444444,
              "#bd3786"
             ],
             [
              0.5555555555555556,
              "#d8576b"
             ],
             [
              0.6666666666666666,
              "#ed7953"
             ],
             [
              0.7777777777777778,
              "#fb9f3a"
             ],
             [
              0.8888888888888888,
              "#fdca26"
             ],
             [
              1,
              "#f0f921"
             ]
            ],
            "type": "surface"
           }
          ],
          "table": [
           {
            "cells": {
             "fill": {
              "color": "#EBF0F8"
             },
             "line": {
              "color": "white"
             }
            },
            "header": {
             "fill": {
              "color": "#C8D4E3"
             },
             "line": {
              "color": "white"
             }
            },
            "type": "table"
           }
          ]
         },
         "layout": {
          "annotationdefaults": {
           "arrowcolor": "#2a3f5f",
           "arrowhead": 0,
           "arrowwidth": 1
          },
          "autotypenumbers": "strict",
          "coloraxis": {
           "colorbar": {
            "outlinewidth": 0,
            "ticks": ""
           }
          },
          "colorscale": {
           "diverging": [
            [
             0,
             "#8e0152"
            ],
            [
             0.1,
             "#c51b7d"
            ],
            [
             0.2,
             "#de77ae"
            ],
            [
             0.3,
             "#f1b6da"
            ],
            [
             0.4,
             "#fde0ef"
            ],
            [
             0.5,
             "#f7f7f7"
            ],
            [
             0.6,
             "#e6f5d0"
            ],
            [
             0.7,
             "#b8e186"
            ],
            [
             0.8,
             "#7fbc41"
            ],
            [
             0.9,
             "#4d9221"
            ],
            [
             1,
             "#276419"
            ]
           ],
           "sequential": [
            [
             0,
             "#0d0887"
            ],
            [
             0.1111111111111111,
             "#46039f"
            ],
            [
             0.2222222222222222,
             "#7201a8"
            ],
            [
             0.3333333333333333,
             "#9c179e"
            ],
            [
             0.4444444444444444,
             "#bd3786"
            ],
            [
             0.5555555555555556,
             "#d8576b"
            ],
            [
             0.6666666666666666,
             "#ed7953"
            ],
            [
             0.7777777777777778,
             "#fb9f3a"
            ],
            [
             0.8888888888888888,
             "#fdca26"
            ],
            [
             1,
             "#f0f921"
            ]
           ],
           "sequentialminus": [
            [
             0,
             "#0d0887"
            ],
            [
             0.1111111111111111,
             "#46039f"
            ],
            [
             0.2222222222222222,
             "#7201a8"
            ],
            [
             0.3333333333333333,
             "#9c179e"
            ],
            [
             0.4444444444444444,
             "#bd3786"
            ],
            [
             0.5555555555555556,
             "#d8576b"
            ],
            [
             0.6666666666666666,
             "#ed7953"
            ],
            [
             0.7777777777777778,
             "#fb9f3a"
            ],
            [
             0.8888888888888888,
             "#fdca26"
            ],
            [
             1,
             "#f0f921"
            ]
           ]
          },
          "colorway": [
           "#636efa",
           "#EF553B",
           "#00cc96",
           "#ab63fa",
           "#FFA15A",
           "#19d3f3",
           "#FF6692",
           "#B6E880",
           "#FF97FF",
           "#FECB52"
          ],
          "font": {
           "color": "#2a3f5f"
          },
          "geo": {
           "bgcolor": "white",
           "lakecolor": "white",
           "landcolor": "#E5ECF6",
           "showlakes": true,
           "showland": true,
           "subunitcolor": "white"
          },
          "hoverlabel": {
           "align": "left"
          },
          "hovermode": "closest",
          "mapbox": {
           "style": "light"
          },
          "paper_bgcolor": "white",
          "plot_bgcolor": "#E5ECF6",
          "polar": {
           "angularaxis": {
            "gridcolor": "white",
            "linecolor": "white",
            "ticks": ""
           },
           "bgcolor": "#E5ECF6",
           "radialaxis": {
            "gridcolor": "white",
            "linecolor": "white",
            "ticks": ""
           }
          },
          "scene": {
           "xaxis": {
            "backgroundcolor": "#E5ECF6",
            "gridcolor": "white",
            "gridwidth": 2,
            "linecolor": "white",
            "showbackground": true,
            "ticks": "",
            "zerolinecolor": "white"
           },
           "yaxis": {
            "backgroundcolor": "#E5ECF6",
            "gridcolor": "white",
            "gridwidth": 2,
            "linecolor": "white",
            "showbackground": true,
            "ticks": "",
            "zerolinecolor": "white"
           },
           "zaxis": {
            "backgroundcolor": "#E5ECF6",
            "gridcolor": "white",
            "gridwidth": 2,
            "linecolor": "white",
            "showbackground": true,
            "ticks": "",
            "zerolinecolor": "white"
           }
          },
          "shapedefaults": {
           "line": {
            "color": "#2a3f5f"
           }
          },
          "ternary": {
           "aaxis": {
            "gridcolor": "white",
            "linecolor": "white",
            "ticks": ""
           },
           "baxis": {
            "gridcolor": "white",
            "linecolor": "white",
            "ticks": ""
           },
           "bgcolor": "#E5ECF6",
           "caxis": {
            "gridcolor": "white",
            "linecolor": "white",
            "ticks": ""
           }
          },
          "title": {
           "x": 0.05
          },
          "xaxis": {
           "automargin": true,
           "gridcolor": "white",
           "linecolor": "white",
           "ticks": "",
           "title": {
            "standoff": 15
           },
           "zerolinecolor": "white",
           "zerolinewidth": 2
          },
          "yaxis": {
           "automargin": true,
           "gridcolor": "white",
           "linecolor": "white",
           "ticks": "",
           "title": {
            "standoff": 15
           },
           "zerolinecolor": "white",
           "zerolinewidth": 2
          }
         }
        },
        "title": {
         "text": "Simulated Read Length Distributions"
        },
        "xaxis": {
         "title": {
          "text": "Read Length"
         }
        },
        "yaxis": {
         "title": {
          "text": "Density"
         }
        }
       }
      }
     },
     "metadata": {},
     "output_type": "display_data"
    },
    {
     "data": {
      "application/vnd.plotly.v1+json": {
       "config": {
        "plotlyServerURL": "https://plot.ly"
       },
       "data": [
        {
         "histnorm": "probability",
         "type": "histogram",
         "x": [
          26,
          23,
          18,
          28,
          28,
          27,
          20,
          23,
          30,
          25,
          24,
          25,
          26,
          18,
          23,
          25,
          22,
          27,
          26,
          28,
          24,
          19,
          22,
          21,
          26,
          30,
          22,
          25,
          22,
          24,
          20,
          24,
          29,
          24,
          27,
          22,
          24,
          25,
          24,
          24,
          28,
          21,
          26,
          27,
          25,
          23,
          30,
          23,
          21,
          19,
          22,
          24,
          23,
          31,
          20,
          22,
          23,
          24,
          18,
          27,
          23,
          25,
          25,
          22,
          27,
          30,
          32,
          24,
          29,
          24,
          22,
          25,
          26,
          18,
          27,
          28,
          27,
          19,
          18,
          27,
          24,
          24,
          23,
          27,
          29,
          20,
          26,
          26,
          26,
          22,
          25,
          22,
          25,
          21,
          24,
          24,
          19,
          27,
          29,
          18,
          20,
          18,
          20,
          26,
          25,
          32,
          22,
          29,
          25,
          25,
          22,
          22,
          22,
          25,
          22,
          30,
          20,
          21,
          26,
          25,
          26,
          22,
          25,
          31,
          32,
          18,
          21,
          27,
          27,
          20,
          24,
          23,
          22,
          25,
          25,
          24,
          22,
          22,
          29,
          18,
          31,
          28,
          19,
          28,
          32,
          22,
          29,
          29,
          27,
          23,
          27,
          18,
          21,
          25,
          25,
          23,
          19,
          29,
          23,
          28,
          25,
          24,
          23,
          24,
          31,
          28,
          22,
          20,
          23,
          19,
          26,
          23,
          21,
          22,
          22,
          18,
          20,
          25,
          30,
          28,
          26,
          18,
          18,
          32,
          26,
          20,
          23,
          26,
          31,
          30,
          20,
          28,
          18,
          18,
          20,
          26,
          25,
          19,
          25,
          18,
          33,
          24,
          26,
          24,
          28,
          21,
          33,
          20,
          28,
          27,
          26,
          28,
          24,
          23,
          23,
          26,
          31,
          26,
          31,
          26,
          22,
          18,
          23,
          32,
          23,
          24,
          25,
          19,
          24,
          22,
          25,
          26,
          20,
          21,
          19,
          18,
          25,
          30,
          19,
          25,
          30,
          26,
          20,
          22,
          30,
          18,
          26,
          25,
          26,
          29,
          19,
          29,
          28,
          32,
          26,
          25,
          19,
          24,
          24,
          18,
          23,
          28,
          22,
          27,
          22,
          21,
          21,
          21,
          24,
          26,
          25,
          32,
          30,
          24,
          29,
          20,
          24,
          25,
          22,
          25,
          27,
          18,
          23,
          21,
          24,
          31,
          21,
          19,
          25,
          25,
          20,
          25,
          23,
          21,
          20,
          27,
          26,
          24,
          25,
          24,
          24,
          24,
          24,
          18,
          30,
          25,
          23,
          25,
          25,
          31,
          23,
          22,
          27,
          21,
          24,
          25,
          25,
          21,
          24,
          19,
          26,
          22,
          26,
          26,
          25,
          25,
          23,
          24,
          25,
          25,
          29,
          25,
          26,
          30,
          22,
          24,
          27,
          23,
          25,
          27,
          30,
          28,
          22,
          22,
          24,
          18,
          24,
          29,
          27,
          21,
          21,
          21,
          27,
          26,
          25,
          24,
          22,
          22,
          30,
          23,
          25,
          20,
          25,
          24,
          30,
          23,
          21,
          22,
          20,
          25,
          27,
          25,
          23,
          24,
          35,
          23,
          28,
          23,
          30,
          30,
          24,
          27,
          24,
          27,
          22,
          24,
          21,
          26,
          26,
          25,
          26,
          19,
          24,
          24,
          20,
          18,
          19,
          18,
          27,
          26,
          20,
          25,
          24,
          24,
          23,
          21,
          26,
          27,
          18,
          22,
          22,
          18,
          23,
          26,
          23,
          28,
          24,
          35,
          21,
          27,
          21,
          20,
          26,
          24,
          24,
          31,
          27,
          26,
          22,
          24,
          27,
          22,
          26,
          24,
          23,
          26,
          28,
          21,
          26,
          27,
          18,
          22,
          26,
          25,
          22,
          21,
          18,
          23,
          34,
          29,
          25,
          20,
          28,
          28,
          22,
          22,
          23,
          25,
          26,
          26,
          23,
          25,
          22,
          21,
          23,
          20,
          24,
          26,
          27,
          20,
          23,
          29,
          26,
          28,
          25,
          35,
          26,
          25,
          34,
          26,
          27,
          18,
          19,
          22,
          22,
          28,
          21,
          33,
          22,
          24,
          25,
          33,
          25,
          25,
          30,
          30,
          23,
          18,
          21,
          24,
          25,
          21,
          32,
          26,
          24,
          21,
          28,
          21,
          20,
          21,
          23,
          18,
          24,
          29,
          26,
          30,
          28,
          27,
          28,
          24,
          21,
          31,
          26,
          21,
          24,
          26,
          26,
          22,
          27,
          21,
          26,
          22,
          23,
          25,
          25,
          22,
          18,
          26,
          23,
          18,
          22,
          29,
          21,
          24,
          24,
          23,
          25,
          18,
          30,
          28,
          31,
          25,
          21,
          25,
          21,
          29,
          20,
          25,
          31,
          25,
          18,
          23,
          21,
          28,
          19,
          19,
          26,
          18,
          23,
          29,
          26,
          25,
          19,
          23,
          18,
          21,
          22,
          27,
          26,
          26,
          27,
          26,
          25,
          22,
          26,
          30,
          28,
          32,
          23,
          22,
          23,
          32,
          25,
          20,
          23,
          18,
          18,
          28,
          26,
          26,
          28,
          23,
          25,
          30,
          25,
          28,
          19,
          26,
          25,
          26,
          28,
          20,
          25,
          24,
          27,
          25,
          25,
          29,
          22,
          23,
          24,
          25,
          25,
          27,
          24,
          20,
          23,
          22,
          20,
          24,
          24,
          24,
          22,
          26,
          26,
          23,
          24,
          25,
          30,
          23,
          25,
          24,
          31,
          27,
          25,
          24,
          24,
          21,
          23,
          27,
          18,
          25,
          24,
          23,
          23,
          23,
          22,
          25,
          30,
          27,
          28,
          28,
          20,
          23,
          27,
          21,
          28,
          21,
          30,
          28,
          25,
          28,
          22,
          24,
          21,
          25,
          23,
          25,
          18,
          25,
          28,
          21,
          26,
          22,
          28,
          25,
          26,
          25,
          22,
          23,
          25,
          26,
          26,
          24,
          26,
          23,
          24,
          23,
          28,
          19,
          26,
          29,
          21,
          21,
          24,
          22,
          22,
          21,
          20,
          26,
          26,
          22,
          26,
          21,
          21,
          23,
          27,
          26,
          28,
          35,
          25,
          25,
          27,
          26,
          23,
          22,
          25,
          34,
          23,
          18,
          28,
          24,
          25,
          31,
          27,
          25,
          26,
          21,
          25,
          23,
          20,
          25,
          26,
          25,
          20,
          30,
          23,
          22,
          26,
          33,
          20,
          23,
          24,
          28,
          24,
          21,
          25,
          23,
          33,
          20,
          25,
          24,
          22,
          23,
          27,
          28,
          29,
          29,
          25,
          21,
          25,
          23,
          29,
          20,
          28,
          23,
          26,
          24,
          28,
          22,
          20,
          29,
          20,
          25,
          22,
          28,
          28,
          24,
          27,
          30,
          19,
          18,
          19,
          28,
          26,
          29,
          30,
          26,
          26,
          25,
          20,
          23,
          18,
          22,
          26,
          28,
          29,
          25,
          27,
          23,
          26,
          21,
          24,
          20,
          19,
          28,
          23,
          30,
          20,
          20,
          22,
          24,
          29,
          18,
          24,
          32,
          28,
          22,
          18,
          31,
          29,
          24,
          26,
          23,
          31,
          27,
          25,
          23,
          21,
          23,
          25,
          29,
          31,
          26,
          23,
          21,
          28,
          21,
          22,
          28,
          27,
          24,
          25,
          33,
          21,
          23,
          18,
          31,
          34,
          22,
          23,
          26,
          18,
          25,
          25,
          21,
          29,
          26,
          29,
          23,
          21,
          26,
          20,
          19,
          30,
          23,
          26,
          29,
          30,
          25,
          25,
          19,
          21,
          32,
          26,
          29,
          23,
          24,
          33,
          30,
          21,
          25,
          25,
          31,
          19,
          23,
          23,
          30,
          27,
          24,
          30,
          28,
          30,
          23,
          25,
          32,
          21,
          24,
          28,
          30,
          19,
          32,
          24,
          25,
          23,
          18,
          26,
          25,
          22,
          26,
          25,
          24,
          29,
          30,
          27,
          23,
          25,
          18,
          32,
          21,
          23,
          21,
          27,
          24,
          26,
          24,
          20,
          21,
          29,
          19,
          25,
          24,
          29,
          24,
          27,
          31,
          20,
          23,
          24,
          21,
          24,
          22,
          26,
          22,
          21,
          23,
          30,
          28,
          24,
          26,
          25,
          21,
          20,
          23,
          23,
          33,
          27,
          25,
          20,
          24,
          26,
          27,
          22,
          25,
          22,
          30,
          24,
          23,
          27,
          29,
          29,
          24,
          26,
          24,
          29,
          26,
          26,
          23,
          20,
          22,
          25,
          27,
          22,
          29,
          27,
          23,
          28,
          29,
          32,
          27
         ]
        }
       ],
       "layout": {
        "barmode": "overlay",
        "template": {
         "data": {
          "bar": [
           {
            "error_x": {
             "color": "#2a3f5f"
            },
            "error_y": {
             "color": "#2a3f5f"
            },
            "marker": {
             "line": {
              "color": "#E5ECF6",
              "width": 0.5
             },
             "pattern": {
              "fillmode": "overlay",
              "size": 10,
              "solidity": 0.2
             }
            },
            "type": "bar"
           }
          ],
          "barpolar": [
           {
            "marker": {
             "line": {
              "color": "#E5ECF6",
              "width": 0.5
             },
             "pattern": {
              "fillmode": "overlay",
              "size": 10,
              "solidity": 0.2
             }
            },
            "type": "barpolar"
           }
          ],
          "carpet": [
           {
            "aaxis": {
             "endlinecolor": "#2a3f5f",
             "gridcolor": "white",
             "linecolor": "white",
             "minorgridcolor": "white",
             "startlinecolor": "#2a3f5f"
            },
            "baxis": {
             "endlinecolor": "#2a3f5f",
             "gridcolor": "white",
             "linecolor": "white",
             "minorgridcolor": "white",
             "startlinecolor": "#2a3f5f"
            },
            "type": "carpet"
           }
          ],
          "choropleth": [
           {
            "colorbar": {
             "outlinewidth": 0,
             "ticks": ""
            },
            "type": "choropleth"
           }
          ],
          "contour": [
           {
            "colorbar": {
             "outlinewidth": 0,
             "ticks": ""
            },
            "colorscale": [
             [
              0,
              "#0d0887"
             ],
             [
              0.1111111111111111,
              "#46039f"
             ],
             [
              0.2222222222222222,
              "#7201a8"
             ],
             [
              0.3333333333333333,
              "#9c179e"
             ],
             [
              0.4444444444444444,
              "#bd3786"
             ],
             [
              0.5555555555555556,
              "#d8576b"
             ],
             [
              0.6666666666666666,
              "#ed7953"
             ],
             [
              0.7777777777777778,
              "#fb9f3a"
             ],
             [
              0.8888888888888888,
              "#fdca26"
             ],
             [
              1,
              "#f0f921"
             ]
            ],
            "type": "contour"
           }
          ],
          "contourcarpet": [
           {
            "colorbar": {
             "outlinewidth": 0,
             "ticks": ""
            },
            "type": "contourcarpet"
           }
          ],
          "heatmap": [
           {
            "colorbar": {
             "outlinewidth": 0,
             "ticks": ""
            },
            "colorscale": [
             [
              0,
              "#0d0887"
             ],
             [
              0.1111111111111111,
              "#46039f"
             ],
             [
              0.2222222222222222,
              "#7201a8"
             ],
             [
              0.3333333333333333,
              "#9c179e"
             ],
             [
              0.4444444444444444,
              "#bd3786"
             ],
             [
              0.5555555555555556,
              "#d8576b"
             ],
             [
              0.6666666666666666,
              "#ed7953"
             ],
             [
              0.7777777777777778,
              "#fb9f3a"
             ],
             [
              0.8888888888888888,
              "#fdca26"
             ],
             [
              1,
              "#f0f921"
             ]
            ],
            "type": "heatmap"
           }
          ],
          "heatmapgl": [
           {
            "colorbar": {
             "outlinewidth": 0,
             "ticks": ""
            },
            "colorscale": [
             [
              0,
              "#0d0887"
             ],
             [
              0.1111111111111111,
              "#46039f"
             ],
             [
              0.2222222222222222,
              "#7201a8"
             ],
             [
              0.3333333333333333,
              "#9c179e"
             ],
             [
              0.4444444444444444,
              "#bd3786"
             ],
             [
              0.5555555555555556,
              "#d8576b"
             ],
             [
              0.6666666666666666,
              "#ed7953"
             ],
             [
              0.7777777777777778,
              "#fb9f3a"
             ],
             [
              0.8888888888888888,
              "#fdca26"
             ],
             [
              1,
              "#f0f921"
             ]
            ],
            "type": "heatmapgl"
           }
          ],
          "histogram": [
           {
            "marker": {
             "pattern": {
              "fillmode": "overlay",
              "size": 10,
              "solidity": 0.2
             }
            },
            "type": "histogram"
           }
          ],
          "histogram2d": [
           {
            "colorbar": {
             "outlinewidth": 0,
             "ticks": ""
            },
            "colorscale": [
             [
              0,
              "#0d0887"
             ],
             [
              0.1111111111111111,
              "#46039f"
             ],
             [
              0.2222222222222222,
              "#7201a8"
             ],
             [
              0.3333333333333333,
              "#9c179e"
             ],
             [
              0.4444444444444444,
              "#bd3786"
             ],
             [
              0.5555555555555556,
              "#d8576b"
             ],
             [
              0.6666666666666666,
              "#ed7953"
             ],
             [
              0.7777777777777778,
              "#fb9f3a"
             ],
             [
              0.8888888888888888,
              "#fdca26"
             ],
             [
              1,
              "#f0f921"
             ]
            ],
            "type": "histogram2d"
           }
          ],
          "histogram2dcontour": [
           {
            "colorbar": {
             "outlinewidth": 0,
             "ticks": ""
            },
            "colorscale": [
             [
              0,
              "#0d0887"
             ],
             [
              0.1111111111111111,
              "#46039f"
             ],
             [
              0.2222222222222222,
              "#7201a8"
             ],
             [
              0.3333333333333333,
              "#9c179e"
             ],
             [
              0.4444444444444444,
              "#bd3786"
             ],
             [
              0.5555555555555556,
              "#d8576b"
             ],
             [
              0.6666666666666666,
              "#ed7953"
             ],
             [
              0.7777777777777778,
              "#fb9f3a"
             ],
             [
              0.8888888888888888,
              "#fdca26"
             ],
             [
              1,
              "#f0f921"
             ]
            ],
            "type": "histogram2dcontour"
           }
          ],
          "mesh3d": [
           {
            "colorbar": {
             "outlinewidth": 0,
             "ticks": ""
            },
            "type": "mesh3d"
           }
          ],
          "parcoords": [
           {
            "line": {
             "colorbar": {
              "outlinewidth": 0,
              "ticks": ""
             }
            },
            "type": "parcoords"
           }
          ],
          "pie": [
           {
            "automargin": true,
            "type": "pie"
           }
          ],
          "scatter": [
           {
            "fillpattern": {
             "fillmode": "overlay",
             "size": 10,
             "solidity": 0.2
            },
            "type": "scatter"
           }
          ],
          "scatter3d": [
           {
            "line": {
             "colorbar": {
              "outlinewidth": 0,
              "ticks": ""
             }
            },
            "marker": {
             "colorbar": {
              "outlinewidth": 0,
              "ticks": ""
             }
            },
            "type": "scatter3d"
           }
          ],
          "scattercarpet": [
           {
            "marker": {
             "colorbar": {
              "outlinewidth": 0,
              "ticks": ""
             }
            },
            "type": "scattercarpet"
           }
          ],
          "scattergeo": [
           {
            "marker": {
             "colorbar": {
              "outlinewidth": 0,
              "ticks": ""
             }
            },
            "type": "scattergeo"
           }
          ],
          "scattergl": [
           {
            "marker": {
             "colorbar": {
              "outlinewidth": 0,
              "ticks": ""
             }
            },
            "type": "scattergl"
           }
          ],
          "scattermapbox": [
           {
            "marker": {
             "colorbar": {
              "outlinewidth": 0,
              "ticks": ""
             }
            },
            "type": "scattermapbox"
           }
          ],
          "scatterpolar": [
           {
            "marker": {
             "colorbar": {
              "outlinewidth": 0,
              "ticks": ""
             }
            },
            "type": "scatterpolar"
           }
          ],
          "scatterpolargl": [
           {
            "marker": {
             "colorbar": {
              "outlinewidth": 0,
              "ticks": ""
             }
            },
            "type": "scatterpolargl"
           }
          ],
          "scatterternary": [
           {
            "marker": {
             "colorbar": {
              "outlinewidth": 0,
              "ticks": ""
             }
            },
            "type": "scatterternary"
           }
          ],
          "surface": [
           {
            "colorbar": {
             "outlinewidth": 0,
             "ticks": ""
            },
            "colorscale": [
             [
              0,
              "#0d0887"
             ],
             [
              0.1111111111111111,
              "#46039f"
             ],
             [
              0.2222222222222222,
              "#7201a8"
             ],
             [
              0.3333333333333333,
              "#9c179e"
             ],
             [
              0.4444444444444444,
              "#bd3786"
             ],
             [
              0.5555555555555556,
              "#d8576b"
             ],
             [
              0.6666666666666666,
              "#ed7953"
             ],
             [
              0.7777777777777778,
              "#fb9f3a"
             ],
             [
              0.8888888888888888,
              "#fdca26"
             ],
             [
              1,
              "#f0f921"
             ]
            ],
            "type": "surface"
           }
          ],
          "table": [
           {
            "cells": {
             "fill": {
              "color": "#EBF0F8"
             },
             "line": {
              "color": "white"
             }
            },
            "header": {
             "fill": {
              "color": "#C8D4E3"
             },
             "line": {
              "color": "white"
             }
            },
            "type": "table"
           }
          ]
         },
         "layout": {
          "annotationdefaults": {
           "arrowcolor": "#2a3f5f",
           "arrowhead": 0,
           "arrowwidth": 1
          },
          "autotypenumbers": "strict",
          "coloraxis": {
           "colorbar": {
            "outlinewidth": 0,
            "ticks": ""
           }
          },
          "colorscale": {
           "diverging": [
            [
             0,
             "#8e0152"
            ],
            [
             0.1,
             "#c51b7d"
            ],
            [
             0.2,
             "#de77ae"
            ],
            [
             0.3,
             "#f1b6da"
            ],
            [
             0.4,
             "#fde0ef"
            ],
            [
             0.5,
             "#f7f7f7"
            ],
            [
             0.6,
             "#e6f5d0"
            ],
            [
             0.7,
             "#b8e186"
            ],
            [
             0.8,
             "#7fbc41"
            ],
            [
             0.9,
             "#4d9221"
            ],
            [
             1,
             "#276419"
            ]
           ],
           "sequential": [
            [
             0,
             "#0d0887"
            ],
            [
             0.1111111111111111,
             "#46039f"
            ],
            [
             0.2222222222222222,
             "#7201a8"
            ],
            [
             0.3333333333333333,
             "#9c179e"
            ],
            [
             0.4444444444444444,
             "#bd3786"
            ],
            [
             0.5555555555555556,
             "#d8576b"
            ],
            [
             0.6666666666666666,
             "#ed7953"
            ],
            [
             0.7777777777777778,
             "#fb9f3a"
            ],
            [
             0.8888888888888888,
             "#fdca26"
            ],
            [
             1,
             "#f0f921"
            ]
           ],
           "sequentialminus": [
            [
             0,
             "#0d0887"
            ],
            [
             0.1111111111111111,
             "#46039f"
            ],
            [
             0.2222222222222222,
             "#7201a8"
            ],
            [
             0.3333333333333333,
             "#9c179e"
            ],
            [
             0.4444444444444444,
             "#bd3786"
            ],
            [
             0.5555555555555556,
             "#d8576b"
            ],
            [
             0.6666666666666666,
             "#ed7953"
            ],
            [
             0.7777777777777778,
             "#fb9f3a"
            ],
            [
             0.8888888888888888,
             "#fdca26"
            ],
            [
             1,
             "#f0f921"
            ]
           ]
          },
          "colorway": [
           "#636efa",
           "#EF553B",
           "#00cc96",
           "#ab63fa",
           "#FFA15A",
           "#19d3f3",
           "#FF6692",
           "#B6E880",
           "#FF97FF",
           "#FECB52"
          ],
          "font": {
           "color": "#2a3f5f"
          },
          "geo": {
           "bgcolor": "white",
           "lakecolor": "white",
           "landcolor": "#E5ECF6",
           "showlakes": true,
           "showland": true,
           "subunitcolor": "white"
          },
          "hoverlabel": {
           "align": "left"
          },
          "hovermode": "closest",
          "mapbox": {
           "style": "light"
          },
          "paper_bgcolor": "white",
          "plot_bgcolor": "#E5ECF6",
          "polar": {
           "angularaxis": {
            "gridcolor": "white",
            "linecolor": "white",
            "ticks": ""
           },
           "bgcolor": "#E5ECF6",
           "radialaxis": {
            "gridcolor": "white",
            "linecolor": "white",
            "ticks": ""
           }
          },
          "scene": {
           "xaxis": {
            "backgroundcolor": "#E5ECF6",
            "gridcolor": "white",
            "gridwidth": 2,
            "linecolor": "white",
            "showbackground": true,
            "ticks": "",
            "zerolinecolor": "white"
           },
           "yaxis": {
            "backgroundcolor": "#E5ECF6",
            "gridcolor": "white",
            "gridwidth": 2,
            "linecolor": "white",
            "showbackground": true,
            "ticks": "",
            "zerolinecolor": "white"
           },
           "zaxis": {
            "backgroundcolor": "#E5ECF6",
            "gridcolor": "white",
            "gridwidth": 2,
            "linecolor": "white",
            "showbackground": true,
            "ticks": "",
            "zerolinecolor": "white"
           }
          },
          "shapedefaults": {
           "line": {
            "color": "#2a3f5f"
           }
          },
          "ternary": {
           "aaxis": {
            "gridcolor": "white",
            "linecolor": "white",
            "ticks": ""
           },
           "baxis": {
            "gridcolor": "white",
            "linecolor": "white",
            "ticks": ""
           },
           "bgcolor": "#E5ECF6",
           "caxis": {
            "gridcolor": "white",
            "linecolor": "white",
            "ticks": ""
           }
          },
          "title": {
           "x": 0.05
          },
          "xaxis": {
           "automargin": true,
           "gridcolor": "white",
           "linecolor": "white",
           "ticks": "",
           "title": {
            "standoff": 15
           },
           "zerolinecolor": "white",
           "zerolinewidth": 2
          },
          "yaxis": {
           "automargin": true,
           "gridcolor": "white",
           "linecolor": "white",
           "ticks": "",
           "title": {
            "standoff": 15
           },
           "zerolinecolor": "white",
           "zerolinewidth": 2
          }
         }
        },
        "title": {
         "text": "Simulated Read Length Distributions"
        },
        "xaxis": {
         "title": {
          "text": "Read Length"
         }
        },
        "yaxis": {
         "title": {
          "text": "Density"
         }
        }
       }
      }
     },
     "metadata": {},
     "output_type": "display_data"
    },
    {
     "data": {
      "application/vnd.plotly.v1+json": {
       "config": {
        "plotlyServerURL": "https://plot.ly"
       },
       "data": [
        {
         "histnorm": "probability",
         "type": "histogram",
         "x": [
          20,
          18,
          19,
          26,
          23,
          22,
          18,
          18,
          22,
          23,
          18,
          21,
          25,
          18,
          21,
          23,
          18,
          18,
          22,
          30,
          21,
          27,
          18,
          21,
          21,
          19,
          18,
          22,
          31,
          18,
          23,
          18,
          18,
          26,
          22,
          21,
          18,
          18,
          18,
          19,
          21,
          21,
          31,
          18,
          18,
          18,
          18,
          18,
          21,
          18,
          20,
          30,
          23,
          18,
          19,
          18,
          18,
          23,
          18,
          28,
          28,
          19,
          18,
          21,
          26,
          21,
          24,
          18,
          24,
          18,
          20,
          27,
          18,
          18,
          18,
          23,
          22,
          18,
          20,
          20,
          26,
          18,
          24,
          18,
          23,
          22,
          18,
          25,
          20,
          26,
          18,
          18,
          22,
          23,
          18,
          19,
          20,
          18,
          18,
          20,
          20,
          23,
          18,
          18,
          18,
          19,
          19,
          18,
          22,
          18,
          27,
          18,
          18,
          18,
          18,
          18,
          18,
          28,
          23,
          20,
          18,
          24,
          18,
          18,
          18,
          21,
          18,
          18,
          19,
          18,
          18,
          18,
          18,
          21,
          18,
          18,
          26,
          24,
          18,
          18,
          18,
          23,
          18,
          18,
          22,
          18,
          23,
          19,
          18,
          26,
          19,
          18,
          22,
          19,
          18,
          18,
          18,
          18,
          25,
          18,
          25,
          18,
          18,
          18,
          18,
          18,
          23,
          21,
          18,
          18,
          18,
          18,
          18,
          18,
          24,
          23,
          18,
          20,
          18,
          18,
          21,
          22,
          19,
          25,
          18,
          18,
          20,
          20,
          27,
          22,
          19,
          21,
          19,
          22,
          19,
          18,
          18,
          27,
          20,
          18,
          18,
          22,
          18,
          18,
          20,
          18,
          18,
          20,
          18,
          18,
          21,
          19,
          25,
          18,
          21,
          18,
          19,
          22,
          18,
          21,
          29,
          18,
          20,
          18,
          23,
          18,
          18,
          18,
          18,
          20,
          20,
          18,
          18,
          18,
          18,
          20,
          21,
          18,
          18,
          20,
          18,
          18,
          18,
          25,
          23,
          18,
          24,
          29,
          22,
          26,
          18,
          18,
          22,
          18,
          20,
          20,
          25,
          18,
          19,
          19,
          18,
          20,
          26,
          18,
          21,
          26,
          20,
          18,
          18,
          18,
          30,
          20,
          18,
          19,
          18,
          18,
          20,
          22,
          18,
          21,
          18,
          20,
          18,
          21,
          19,
          18,
          18,
          18,
          18,
          18,
          18,
          22,
          21,
          18,
          18,
          20,
          18,
          18,
          18,
          18,
          21,
          21,
          19,
          18,
          21,
          18,
          21,
          21,
          20,
          24,
          21,
          20,
          23,
          19,
          18,
          23,
          18,
          18,
          19,
          21,
          18,
          18,
          18,
          18,
          21,
          24,
          19,
          26,
          23,
          22,
          18,
          30,
          22,
          18,
          18,
          20,
          21,
          18,
          18,
          21,
          18,
          25,
          24,
          30,
          24,
          18,
          18,
          27,
          19,
          18,
          25,
          21,
          22,
          24,
          18,
          22,
          24,
          21,
          26,
          18,
          19,
          21,
          18,
          22,
          18,
          23,
          25,
          18,
          27,
          18,
          19,
          28,
          18,
          18,
          18,
          18,
          18,
          18,
          20,
          18,
          18,
          18,
          18,
          19,
          18,
          18,
          23,
          21,
          22,
          22,
          18,
          25,
          18,
          18,
          18,
          24,
          22,
          22,
          19,
          18,
          27,
          20,
          18,
          18,
          18,
          21,
          18,
          18,
          18,
          18,
          24,
          18,
          20,
          19,
          21,
          18,
          18,
          18,
          24,
          19,
          18,
          25,
          18,
          18,
          18,
          18,
          26,
          20,
          23,
          18,
          18,
          18,
          18,
          19,
          18,
          25,
          18,
          21,
          18,
          18,
          24,
          18,
          22,
          24,
          21,
          18,
          27,
          18,
          19,
          18,
          18,
          18,
          20,
          20,
          18,
          20,
          18,
          20,
          19,
          19,
          21,
          18,
          18,
          19,
          18,
          22,
          18,
          23,
          18,
          18,
          25,
          18,
          18,
          18,
          18,
          29,
          18,
          22,
          18,
          18,
          18,
          18,
          18,
          20,
          25,
          24,
          18,
          18,
          23,
          18,
          18,
          19,
          27,
          18,
          18,
          18,
          20,
          24,
          22,
          18,
          18,
          22,
          18,
          18,
          23,
          18,
          18,
          20,
          18,
          19,
          18,
          18,
          18,
          18,
          20,
          18,
          18,
          25,
          28,
          30,
          21,
          23,
          18,
          23,
          23,
          23,
          18,
          22,
          19,
          22,
          18,
          18,
          18,
          18,
          25,
          18,
          26,
          19,
          24,
          25,
          21,
          18,
          24,
          19,
          18,
          20,
          18,
          18,
          18,
          18,
          18,
          18,
          18,
          25,
          18,
          23,
          21,
          18,
          19,
          18,
          18,
          18,
          22,
          18,
          23,
          18,
          26,
          29,
          24,
          18,
          22,
          18,
          18,
          18,
          18,
          20,
          19,
          21,
          19,
          18,
          18,
          18,
          18,
          18,
          18,
          21,
          21,
          22,
          18,
          18,
          18,
          19,
          18,
          18,
          18,
          18,
          20,
          18,
          20,
          18,
          18,
          25,
          18,
          22,
          20,
          18,
          18,
          18,
          23,
          18,
          22,
          21,
          18,
          22,
          21,
          24,
          18,
          18,
          21,
          18,
          18,
          20,
          18,
          20,
          20,
          26,
          19,
          18,
          21,
          19,
          19,
          18,
          18,
          27,
          19,
          28,
          23,
          18,
          18,
          19,
          23,
          19,
          23,
          28,
          18,
          18,
          18,
          30,
          23,
          22,
          18,
          20,
          21,
          28,
          18,
          26,
          25,
          18,
          18,
          18,
          28,
          22,
          18,
          19,
          22,
          18,
          18,
          18,
          22,
          18,
          20,
          27,
          18,
          18,
          18,
          19,
          18,
          18,
          18,
          25,
          18,
          18,
          20,
          18,
          19,
          18,
          28,
          19,
          18,
          18,
          18,
          21,
          18,
          21,
          20,
          19,
          23,
          18,
          18,
          20,
          23,
          21,
          27,
          27,
          25,
          25,
          20,
          18,
          20,
          22,
          18,
          22,
          21,
          20,
          18,
          18,
          18,
          21,
          18,
          25,
          18,
          18,
          23,
          18,
          27,
          24,
          18,
          29,
          19,
          29,
          21,
          19,
          18,
          20,
          19,
          18,
          23,
          19,
          24,
          18,
          20,
          19,
          27,
          20,
          18,
          18,
          24,
          18,
          18,
          18,
          21,
          18,
          18,
          19,
          18,
          18,
          26,
          22,
          31,
          24,
          18,
          18,
          18,
          18,
          19,
          23,
          20,
          18,
          25,
          23,
          18,
          19,
          18,
          18,
          18,
          26,
          23,
          18,
          18,
          21,
          20,
          18,
          18,
          18,
          18,
          18,
          18,
          19,
          20,
          18,
          21,
          23,
          22,
          19,
          20,
          18,
          18,
          18,
          18,
          19,
          19,
          21,
          24,
          23,
          18,
          18,
          18,
          20,
          18,
          23,
          19,
          18,
          20,
          18,
          18,
          18,
          18,
          18,
          20,
          27,
          18,
          24,
          18,
          18,
          20,
          27,
          18,
          22,
          32,
          19,
          18,
          18,
          23,
          18,
          28,
          23,
          18,
          25,
          18,
          18,
          20,
          18,
          18,
          18,
          19,
          24,
          22,
          18,
          22,
          21,
          24,
          26,
          18,
          18,
          27,
          18,
          18,
          18,
          25,
          21,
          18,
          28,
          24,
          19,
          18,
          19,
          18,
          20,
          18,
          23,
          19,
          18,
          22,
          22,
          19,
          19,
          24,
          24,
          18,
          24,
          21,
          18,
          21,
          18,
          24,
          18,
          22,
          18,
          18,
          18,
          24,
          18,
          18,
          21,
          20,
          21,
          21,
          18,
          19,
          18,
          18,
          18,
          18,
          18,
          18,
          18,
          18,
          18,
          24,
          19,
          23,
          18,
          19,
          18,
          18,
          20,
          27,
          18,
          18,
          18,
          18,
          18,
          18,
          20,
          20,
          18,
          18,
          18,
          24,
          24,
          18,
          21,
          23,
          22,
          19,
          18,
          18,
          19,
          18,
          23,
          25,
          23,
          19,
          18,
          18,
          20,
          18,
          18,
          23,
          22,
          24,
          18,
          18,
          26,
          24,
          19,
          23,
          24,
          22,
          18,
          29,
          25,
          18,
          18,
          27,
          21,
          21,
          31,
          18,
          22,
          18,
          18,
          23,
          21,
          18,
          23,
          26,
          18,
          18,
          20,
          24,
          18,
          18,
          18,
          20,
          18,
          18,
          26,
          18,
          18,
          18,
          23,
          18,
          23,
          23,
          18,
          27,
          23,
          18,
          22
         ]
        }
       ],
       "layout": {
        "barmode": "overlay",
        "template": {
         "data": {
          "bar": [
           {
            "error_x": {
             "color": "#2a3f5f"
            },
            "error_y": {
             "color": "#2a3f5f"
            },
            "marker": {
             "line": {
              "color": "#E5ECF6",
              "width": 0.5
             },
             "pattern": {
              "fillmode": "overlay",
              "size": 10,
              "solidity": 0.2
             }
            },
            "type": "bar"
           }
          ],
          "barpolar": [
           {
            "marker": {
             "line": {
              "color": "#E5ECF6",
              "width": 0.5
             },
             "pattern": {
              "fillmode": "overlay",
              "size": 10,
              "solidity": 0.2
             }
            },
            "type": "barpolar"
           }
          ],
          "carpet": [
           {
            "aaxis": {
             "endlinecolor": "#2a3f5f",
             "gridcolor": "white",
             "linecolor": "white",
             "minorgridcolor": "white",
             "startlinecolor": "#2a3f5f"
            },
            "baxis": {
             "endlinecolor": "#2a3f5f",
             "gridcolor": "white",
             "linecolor": "white",
             "minorgridcolor": "white",
             "startlinecolor": "#2a3f5f"
            },
            "type": "carpet"
           }
          ],
          "choropleth": [
           {
            "colorbar": {
             "outlinewidth": 0,
             "ticks": ""
            },
            "type": "choropleth"
           }
          ],
          "contour": [
           {
            "colorbar": {
             "outlinewidth": 0,
             "ticks": ""
            },
            "colorscale": [
             [
              0,
              "#0d0887"
             ],
             [
              0.1111111111111111,
              "#46039f"
             ],
             [
              0.2222222222222222,
              "#7201a8"
             ],
             [
              0.3333333333333333,
              "#9c179e"
             ],
             [
              0.4444444444444444,
              "#bd3786"
             ],
             [
              0.5555555555555556,
              "#d8576b"
             ],
             [
              0.6666666666666666,
              "#ed7953"
             ],
             [
              0.7777777777777778,
              "#fb9f3a"
             ],
             [
              0.8888888888888888,
              "#fdca26"
             ],
             [
              1,
              "#f0f921"
             ]
            ],
            "type": "contour"
           }
          ],
          "contourcarpet": [
           {
            "colorbar": {
             "outlinewidth": 0,
             "ticks": ""
            },
            "type": "contourcarpet"
           }
          ],
          "heatmap": [
           {
            "colorbar": {
             "outlinewidth": 0,
             "ticks": ""
            },
            "colorscale": [
             [
              0,
              "#0d0887"
             ],
             [
              0.1111111111111111,
              "#46039f"
             ],
             [
              0.2222222222222222,
              "#7201a8"
             ],
             [
              0.3333333333333333,
              "#9c179e"
             ],
             [
              0.4444444444444444,
              "#bd3786"
             ],
             [
              0.5555555555555556,
              "#d8576b"
             ],
             [
              0.6666666666666666,
              "#ed7953"
             ],
             [
              0.7777777777777778,
              "#fb9f3a"
             ],
             [
              0.8888888888888888,
              "#fdca26"
             ],
             [
              1,
              "#f0f921"
             ]
            ],
            "type": "heatmap"
           }
          ],
          "heatmapgl": [
           {
            "colorbar": {
             "outlinewidth": 0,
             "ticks": ""
            },
            "colorscale": [
             [
              0,
              "#0d0887"
             ],
             [
              0.1111111111111111,
              "#46039f"
             ],
             [
              0.2222222222222222,
              "#7201a8"
             ],
             [
              0.3333333333333333,
              "#9c179e"
             ],
             [
              0.4444444444444444,
              "#bd3786"
             ],
             [
              0.5555555555555556,
              "#d8576b"
             ],
             [
              0.6666666666666666,
              "#ed7953"
             ],
             [
              0.7777777777777778,
              "#fb9f3a"
             ],
             [
              0.8888888888888888,
              "#fdca26"
             ],
             [
              1,
              "#f0f921"
             ]
            ],
            "type": "heatmapgl"
           }
          ],
          "histogram": [
           {
            "marker": {
             "pattern": {
              "fillmode": "overlay",
              "size": 10,
              "solidity": 0.2
             }
            },
            "type": "histogram"
           }
          ],
          "histogram2d": [
           {
            "colorbar": {
             "outlinewidth": 0,
             "ticks": ""
            },
            "colorscale": [
             [
              0,
              "#0d0887"
             ],
             [
              0.1111111111111111,
              "#46039f"
             ],
             [
              0.2222222222222222,
              "#7201a8"
             ],
             [
              0.3333333333333333,
              "#9c179e"
             ],
             [
              0.4444444444444444,
              "#bd3786"
             ],
             [
              0.5555555555555556,
              "#d8576b"
             ],
             [
              0.6666666666666666,
              "#ed7953"
             ],
             [
              0.7777777777777778,
              "#fb9f3a"
             ],
             [
              0.8888888888888888,
              "#fdca26"
             ],
             [
              1,
              "#f0f921"
             ]
            ],
            "type": "histogram2d"
           }
          ],
          "histogram2dcontour": [
           {
            "colorbar": {
             "outlinewidth": 0,
             "ticks": ""
            },
            "colorscale": [
             [
              0,
              "#0d0887"
             ],
             [
              0.1111111111111111,
              "#46039f"
             ],
             [
              0.2222222222222222,
              "#7201a8"
             ],
             [
              0.3333333333333333,
              "#9c179e"
             ],
             [
              0.4444444444444444,
              "#bd3786"
             ],
             [
              0.5555555555555556,
              "#d8576b"
             ],
             [
              0.6666666666666666,
              "#ed7953"
             ],
             [
              0.7777777777777778,
              "#fb9f3a"
             ],
             [
              0.8888888888888888,
              "#fdca26"
             ],
             [
              1,
              "#f0f921"
             ]
            ],
            "type": "histogram2dcontour"
           }
          ],
          "mesh3d": [
           {
            "colorbar": {
             "outlinewidth": 0,
             "ticks": ""
            },
            "type": "mesh3d"
           }
          ],
          "parcoords": [
           {
            "line": {
             "colorbar": {
              "outlinewidth": 0,
              "ticks": ""
             }
            },
            "type": "parcoords"
           }
          ],
          "pie": [
           {
            "automargin": true,
            "type": "pie"
           }
          ],
          "scatter": [
           {
            "fillpattern": {
             "fillmode": "overlay",
             "size": 10,
             "solidity": 0.2
            },
            "type": "scatter"
           }
          ],
          "scatter3d": [
           {
            "line": {
             "colorbar": {
              "outlinewidth": 0,
              "ticks": ""
             }
            },
            "marker": {
             "colorbar": {
              "outlinewidth": 0,
              "ticks": ""
             }
            },
            "type": "scatter3d"
           }
          ],
          "scattercarpet": [
           {
            "marker": {
             "colorbar": {
              "outlinewidth": 0,
              "ticks": ""
             }
            },
            "type": "scattercarpet"
           }
          ],
          "scattergeo": [
           {
            "marker": {
             "colorbar": {
              "outlinewidth": 0,
              "ticks": ""
             }
            },
            "type": "scattergeo"
           }
          ],
          "scattergl": [
           {
            "marker": {
             "colorbar": {
              "outlinewidth": 0,
              "ticks": ""
             }
            },
            "type": "scattergl"
           }
          ],
          "scattermapbox": [
           {
            "marker": {
             "colorbar": {
              "outlinewidth": 0,
              "ticks": ""
             }
            },
            "type": "scattermapbox"
           }
          ],
          "scatterpolar": [
           {
            "marker": {
             "colorbar": {
              "outlinewidth": 0,
              "ticks": ""
             }
            },
            "type": "scatterpolar"
           }
          ],
          "scatterpolargl": [
           {
            "marker": {
             "colorbar": {
              "outlinewidth": 0,
              "ticks": ""
             }
            },
            "type": "scatterpolargl"
           }
          ],
          "scatterternary": [
           {
            "marker": {
             "colorbar": {
              "outlinewidth": 0,
              "ticks": ""
             }
            },
            "type": "scatterternary"
           }
          ],
          "surface": [
           {
            "colorbar": {
             "outlinewidth": 0,
             "ticks": ""
            },
            "colorscale": [
             [
              0,
              "#0d0887"
             ],
             [
              0.1111111111111111,
              "#46039f"
             ],
             [
              0.2222222222222222,
              "#7201a8"
             ],
             [
              0.3333333333333333,
              "#9c179e"
             ],
             [
              0.4444444444444444,
              "#bd3786"
             ],
             [
              0.5555555555555556,
              "#d8576b"
             ],
             [
              0.6666666666666666,
              "#ed7953"
             ],
             [
              0.7777777777777778,
              "#fb9f3a"
             ],
             [
              0.8888888888888888,
              "#fdca26"
             ],
             [
              1,
              "#f0f921"
             ]
            ],
            "type": "surface"
           }
          ],
          "table": [
           {
            "cells": {
             "fill": {
              "color": "#EBF0F8"
             },
             "line": {
              "color": "white"
             }
            },
            "header": {
             "fill": {
              "color": "#C8D4E3"
             },
             "line": {
              "color": "white"
             }
            },
            "type": "table"
           }
          ]
         },
         "layout": {
          "annotationdefaults": {
           "arrowcolor": "#2a3f5f",
           "arrowhead": 0,
           "arrowwidth": 1
          },
          "autotypenumbers": "strict",
          "coloraxis": {
           "colorbar": {
            "outlinewidth": 0,
            "ticks": ""
           }
          },
          "colorscale": {
           "diverging": [
            [
             0,
             "#8e0152"
            ],
            [
             0.1,
             "#c51b7d"
            ],
            [
             0.2,
             "#de77ae"
            ],
            [
             0.3,
             "#f1b6da"
            ],
            [
             0.4,
             "#fde0ef"
            ],
            [
             0.5,
             "#f7f7f7"
            ],
            [
             0.6,
             "#e6f5d0"
            ],
            [
             0.7,
             "#b8e186"
            ],
            [
             0.8,
             "#7fbc41"
            ],
            [
             0.9,
             "#4d9221"
            ],
            [
             1,
             "#276419"
            ]
           ],
           "sequential": [
            [
             0,
             "#0d0887"
            ],
            [
             0.1111111111111111,
             "#46039f"
            ],
            [
             0.2222222222222222,
             "#7201a8"
            ],
            [
             0.3333333333333333,
             "#9c179e"
            ],
            [
             0.4444444444444444,
             "#bd3786"
            ],
            [
             0.5555555555555556,
             "#d8576b"
            ],
            [
             0.6666666666666666,
             "#ed7953"
            ],
            [
             0.7777777777777778,
             "#fb9f3a"
            ],
            [
             0.8888888888888888,
             "#fdca26"
            ],
            [
             1,
             "#f0f921"
            ]
           ],
           "sequentialminus": [
            [
             0,
             "#0d0887"
            ],
            [
             0.1111111111111111,
             "#46039f"
            ],
            [
             0.2222222222222222,
             "#7201a8"
            ],
            [
             0.3333333333333333,
             "#9c179e"
            ],
            [
             0.4444444444444444,
             "#bd3786"
            ],
            [
             0.5555555555555556,
             "#d8576b"
            ],
            [
             0.6666666666666666,
             "#ed7953"
            ],
            [
             0.7777777777777778,
             "#fb9f3a"
            ],
            [
             0.8888888888888888,
             "#fdca26"
            ],
            [
             1,
             "#f0f921"
            ]
           ]
          },
          "colorway": [
           "#636efa",
           "#EF553B",
           "#00cc96",
           "#ab63fa",
           "#FFA15A",
           "#19d3f3",
           "#FF6692",
           "#B6E880",
           "#FF97FF",
           "#FECB52"
          ],
          "font": {
           "color": "#2a3f5f"
          },
          "geo": {
           "bgcolor": "white",
           "lakecolor": "white",
           "landcolor": "#E5ECF6",
           "showlakes": true,
           "showland": true,
           "subunitcolor": "white"
          },
          "hoverlabel": {
           "align": "left"
          },
          "hovermode": "closest",
          "mapbox": {
           "style": "light"
          },
          "paper_bgcolor": "white",
          "plot_bgcolor": "#E5ECF6",
          "polar": {
           "angularaxis": {
            "gridcolor": "white",
            "linecolor": "white",
            "ticks": ""
           },
           "bgcolor": "#E5ECF6",
           "radialaxis": {
            "gridcolor": "white",
            "linecolor": "white",
            "ticks": ""
           }
          },
          "scene": {
           "xaxis": {
            "backgroundcolor": "#E5ECF6",
            "gridcolor": "white",
            "gridwidth": 2,
            "linecolor": "white",
            "showbackground": true,
            "ticks": "",
            "zerolinecolor": "white"
           },
           "yaxis": {
            "backgroundcolor": "#E5ECF6",
            "gridcolor": "white",
            "gridwidth": 2,
            "linecolor": "white",
            "showbackground": true,
            "ticks": "",
            "zerolinecolor": "white"
           },
           "zaxis": {
            "backgroundcolor": "#E5ECF6",
            "gridcolor": "white",
            "gridwidth": 2,
            "linecolor": "white",
            "showbackground": true,
            "ticks": "",
            "zerolinecolor": "white"
           }
          },
          "shapedefaults": {
           "line": {
            "color": "#2a3f5f"
           }
          },
          "ternary": {
           "aaxis": {
            "gridcolor": "white",
            "linecolor": "white",
            "ticks": ""
           },
           "baxis": {
            "gridcolor": "white",
            "linecolor": "white",
            "ticks": ""
           },
           "bgcolor": "#E5ECF6",
           "caxis": {
            "gridcolor": "white",
            "linecolor": "white",
            "ticks": ""
           }
          },
          "title": {
           "x": 0.05
          },
          "xaxis": {
           "automargin": true,
           "gridcolor": "white",
           "linecolor": "white",
           "ticks": "",
           "title": {
            "standoff": 15
           },
           "zerolinecolor": "white",
           "zerolinewidth": 2
          },
          "yaxis": {
           "automargin": true,
           "gridcolor": "white",
           "linecolor": "white",
           "ticks": "",
           "title": {
            "standoff": 15
           },
           "zerolinecolor": "white",
           "zerolinewidth": 2
          }
         }
        },
        "title": {
         "text": "Simulated Read Length Distributions"
        },
        "xaxis": {
         "title": {
          "text": "Read Length"
         }
        },
        "yaxis": {
         "title": {
          "text": "Density"
         }
        }
       }
      }
     },
     "metadata": {},
     "output_type": "display_data"
    }
   ],
   "source": [
    "import plotly.graph_objects as go\n",
    "\n",
    "# make multifigure sub plot of 4 random distributions\n",
    "\n",
    "for i in range(9):\n",
    "    fig = go.Figure()\n",
    "\n",
    "    fig.add_trace(go.Histogram(x=normal_distributions[i], histnorm='probability'))\n",
    "\n",
    "    fig.update_layout(\n",
    "        title='Simulated Read Length Distributions',\n",
    "        xaxis_title='Read Length',\n",
    "        yaxis_title='Density',\n",
    "        # template='plotly_dark',\n",
    "        barmode='overlay'\n",
    "    )\n",
    "\n",
    "    fig.show()\n"
   ]
  },
  {
   "cell_type": "code",
   "execution_count": 5,
   "metadata": {},
   "outputs": [
    {
     "name": "stdout",
     "output_type": "stream",
     "text": [
      "Collecting polars\n",
      "  Obtaining dependency information for polars from https://files.pythonhosted.org/packages/c6/b5/40e452ce05a01a7cde60bbbc86e9103ef0cbc1354832a3c7ccd0daf5591a/polars-0.20.30-cp38-abi3-manylinux_2_17_x86_64.manylinux2014_x86_64.whl.metadata\n",
      "  Downloading polars-0.20.30-cp38-abi3-manylinux_2_17_x86_64.manylinux2014_x86_64.whl.metadata (14 kB)\n",
      "Downloading polars-0.20.30-cp38-abi3-manylinux_2_17_x86_64.manylinux2014_x86_64.whl (28.3 MB)\n",
      "\u001b[2K   \u001b[90m━━━━━━━━━━━━━━━━━━━━━━━━━━━━━━━━━━━━━━━━\u001b[0m \u001b[32m28.3/28.3 MB\u001b[0m \u001b[31m5.4 MB/s\u001b[0m eta \u001b[36m0:00:00\u001b[0m00:01\u001b[0m00:01\u001b[0m\n",
      "\u001b[?25hInstalling collected packages: polars\n",
      "Successfully installed polars-0.20.30\n"
     ]
    }
   ],
   "source": [
    "!pip install polars\n"
   ]
  },
  {
   "cell_type": "code",
   "execution_count": 12,
   "metadata": {},
   "outputs": [],
   "source": [
    "import polars as pl\n",
    "\n",
    "# ignore commented lines\n",
    "gtf = pl.read_csv(\"~/Downloads/gencode.v45.annotation.gtf.gz\", has_header=False, separator=\"\\t\", comment_prefix=\"#\")"
   ]
  },
  {
   "cell_type": "code",
   "execution_count": 19,
   "metadata": {},
   "outputs": [
    {
     "data": {
      "text/html": [
       "<div><style>\n",
       ".dataframe > thead > tr,\n",
       ".dataframe > tbody > tr {\n",
       "  text-align: right;\n",
       "  white-space: pre-wrap;\n",
       "}\n",
       "</style>\n",
       "<small>shape: (5, 1)</small><table border=\"1\" class=\"dataframe\"><thead><tr><th>attribute</th></tr><tr><td>str</td></tr></thead><tbody><tr><td>&quot;gene_id&quot;</td></tr><tr><td>&quot;ENSG00000186092.7&quot;&quot;</td></tr><tr><td>&quot;&quot;</td></tr><tr><td>&quot;transcript_id&quot;</td></tr><tr><td>&quot;ENST00000641515.2&quot;&quot;</td></tr></tbody></table></div>"
      ],
      "text/plain": [
       "shape: (5, 1)\n",
       "┌────────────────────┐\n",
       "│ attribute          │\n",
       "│ ---                │\n",
       "│ str                │\n",
       "╞════════════════════╡\n",
       "│ gene_id            │\n",
       "│ ENSG00000186092.7\" │\n",
       "│                    │\n",
       "│ transcript_id      │\n",
       "│ ENST00000641515.2\" │\n",
       "└────────────────────┘"
      ]
     },
     "execution_count": 19,
     "metadata": {},
     "output_type": "execute_result"
    }
   ],
   "source": [
    "# get unique protein coding transcript ids\n",
    "gtf_cds = gtf.filter(pl.col(\"column_3\") == \"CDS\")\n",
    "\n",
    "# get transcript id from attribute column\n",
    "gtf_cds = gtf_cds.select(pl.col(\"column_9\").str.split(\";\").explode().str.split(\" \").explode().str.replace('\"', \"\").alias(\"attribute\"))\n",
    "\n",
    "gtf_cds.head()"
   ]
  },
  {
   "cell_type": "code",
   "execution_count": 21,
   "metadata": {},
   "outputs": [],
   "source": [
    "import pandas as pd \n",
    "\n",
    "def extract_protein_coding_transcripts(gtf_file):\n",
    "    # Read the GTF file into a pandas DataFrame\n",
    "    col_names = ['seqname', 'source', 'feature', 'start', 'end', 'score', 'strand', 'frame', 'attribute']\n",
    "    df = pd.read_csv(gtf_file, sep='\\t', comment='#', names=col_names, header=None)\n",
    "\n",
    "    # Filter for transcripts\n",
    "    transcripts = df[df['feature'] == 'transcript']\n",
    "\n",
    "    # Initialize a set to store unique protein-coding transcript IDs\n",
    "    protein_coding_transcripts = set()\n",
    "\n",
    "    # Iterate over the transcripts DataFrame\n",
    "    for _, row in transcripts.iterrows():\n",
    "        # Extract the attributes column\n",
    "        attributes = row['attribute']\n",
    "        \n",
    "        # Check if the transcript is protein-coding\n",
    "        if 'transcript_biotype \"protein_coding\"' in attributes or 'transcript_type \"protein_coding\"' in attributes:\n",
    "            # Extract the transcript ID\n",
    "            transcript_id = None\n",
    "            for attribute in attributes.split(';'):\n",
    "                attribute = attribute.strip()\n",
    "                if attribute.startswith('transcript_id'):\n",
    "                    transcript_id = attribute.split(' ')[1].replace('\"', '')\n",
    "                    break\n",
    "            if transcript_id:\n",
    "                protein_coding_transcripts.add(transcript_id)\n",
    "\n",
    "    return protein_coding_transcripts\n",
    "\n",
    "unique_txs = extract_protein_coding_transcripts(\"~/Downloads/gencode.v45.annotation.gtf.gz\")"
   ]
  },
  {
   "cell_type": "code",
   "execution_count": 23,
   "metadata": {},
   "outputs": [
    {
     "data": {
      "text/plain": [
       "89110"
      ]
     },
     "execution_count": 23,
     "metadata": {},
     "output_type": "execute_result"
    }
   ],
   "source": [
    "len(unique_txs)"
   ]
  },
  {
   "cell_type": "code",
   "execution_count": 2,
   "metadata": {},
   "outputs": [
    {
     "name": "stdout",
     "output_type": "stream",
     "text": [
      "\u001b[31mERROR: Ignored the following versions that require a different python version: 0.1.0 Requires-Python >=3.11.0; 0.1.1 Requires-Python >=3.11.0; 0.1.2 Requires-Python >=3.12.0; 0.1.3 Requires-Python >=3.12.0; 1.0.0 Requires-Python >=3.12.0; 1.0.1 Requires-Python >=3.12.0\u001b[0m\u001b[31m\n",
      "\u001b[0m\u001b[31mERROR: Could not find a version that satisfies the requirement pyranges1 (from versions: none)\u001b[0m\u001b[31m\n",
      "\u001b[0m\u001b[31mERROR: No matching distribution found for pyranges1\u001b[0m\u001b[31m\n",
      "\u001b[0m"
     ]
    }
   ],
   "source": [
    "!pip install pyranges1"
   ]
  },
  {
   "cell_type": "code",
   "execution_count": 1,
   "metadata": {},
   "outputs": [
    {
     "ename": "ModuleNotFoundError",
     "evalue": "No module named 'pyranges'",
     "output_type": "error",
     "traceback": [
      "\u001b[0;31m---------------------------------------------------------------------------\u001b[0m",
      "\u001b[0;31mModuleNotFoundError\u001b[0m                       Traceback (most recent call last)",
      "Cell \u001b[0;32mIn[1], line 1\u001b[0m\n\u001b[0;32m----> 1\u001b[0m \u001b[38;5;28;01mimport\u001b[39;00m \u001b[38;5;21;01mpyranges\u001b[39;00m \n",
      "\u001b[0;31mModuleNotFoundError\u001b[0m: No module named 'pyranges'"
     ]
    }
   ],
   "source": [
    "import pyranges "
   ]
  }
 ],
 "metadata": {
  "kernelspec": {
   "display_name": "Python 3",
   "language": "python",
   "name": "python3"
  },
  "language_info": {
   "codemirror_mode": {
    "name": "ipython",
    "version": 3
   },
   "file_extension": ".py",
   "mimetype": "text/x-python",
   "name": "python",
   "nbconvert_exporter": "python",
   "pygments_lexer": "ipython3",
   "version": "3.10.12"
  }
 },
 "nbformat": 4,
 "nbformat_minor": 2
}
