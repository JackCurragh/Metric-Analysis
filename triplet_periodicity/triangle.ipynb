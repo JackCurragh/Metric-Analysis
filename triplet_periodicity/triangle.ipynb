{
 "cells": [
  {
   "cell_type": "code",
   "execution_count": null,
   "metadata": {},
   "outputs": [],
   "source": [
    "!pip install pandas numpy matplotlib scikit-learn plotly\n"
   ]
  },
  {
   "cell_type": "code",
   "execution_count": null,
   "metadata": {},
   "outputs": [],
   "source": [
    "import pandas as pd\n",
    "import numpy as np"
   ]
  },
  {
   "cell_type": "code",
   "execution_count": null,
   "metadata": {},
   "outputs": [],
   "source": [
    "df = pd.read_csv(\"../../RibosomeProfiler/sample_data/annotated_read_df_cleaned.csv\")"
   ]
  },
  {
   "cell_type": "code",
   "execution_count": null,
   "metadata": {},
   "outputs": [],
   "source": [
    "def create_profile_df(df, transcript_id):\n",
    "    df_subset = df[df['transcript_id'].str.contains(transcript_id)]\n",
    "    profile = []\n",
    "    for g in df_subset.groupby('a_site'):\n",
    "        profile.append([g[0], g[1].shape[0]])\n",
    "    for i in range(0, df_subset['a_site'].max() + 1):\n",
    "        if i not in df_subset['a_site'].values:\n",
    "            profile.append([i, 0])\n",
    "\n",
    "    profile = sorted(profile, key=lambda x: x[0])\n",
    "\n",
    "    profile_df = pd.DataFrame(profile, columns=['a_site', 'count'])\n",
    "    return profile_df\n"
   ]
  },
  {
   "cell_type": "code",
   "execution_count": null,
   "metadata": {},
   "outputs": [],
   "source": [
    "def proportion_of_kmer(profile_df, k):\n",
    "    proportion = []\n",
    "    count = 0\n",
    "    for i in range(0, profile_df['a_site'].max()-(k -1), k):\n",
    "        if i in profile_df['a_site'].values:\n",
    "            f1 = profile_df[profile_df['a_site'] == i]['count'].values[0]\n",
    "        else:\n",
    "            f1 = 0\n",
    "\n",
    "        if i + 1 in profile_df['a_site'].values:\n",
    "            f2 = profile_df[profile_df['a_site'] == i + 1]['count'].values[0]\n",
    "        else:\n",
    "            f2 = 0\n",
    "\n",
    "        if i + 2 in profile_df['a_site'].values:\n",
    "            f3 = profile_df[profile_df['a_site'] == i + 2]['count'].values[0]\n",
    "        else:\n",
    "            f3 = 0\n",
    "            \n",
    "        if sum([f1, f2, f3]) == 0:\n",
    "            continue\n",
    "        count += 1\n",
    "        p1 = f1 / (f1 + f2 + f3) \n",
    "        p2 = f2 / (f1 + f2 + f3)\n",
    "        p3 = f3 / (f1 + f2 + f3)\n",
    "        proportion.append([count, p1, p2, p3])\n",
    "    return proportion\n"
   ]
  },
  {
   "cell_type": "code",
   "execution_count": null,
   "metadata": {},
   "outputs": [],
   "source": [
    "# get proporitons for each transcript in a merged df\n",
    "\n",
    "# get top ten occuring transcripts\n",
    "transcript_ids = df['transcript_id'].value_counts().index.tolist()\n",
    "\n",
    "merged = pd.DataFrame()\n",
    "\n",
    "for transcript_id in transcript_ids[:10]:\n",
    "    profile_df = create_profile_df(df, transcript_id)\n",
    "    proportion = proportion_of_kmer(profile_df, k=3)\n",
    "    proportion_df = pd.DataFrame(proportion, columns=['count', 'p1', 'p2', 'p3'])\n",
    "    proportion_df['transcript_id'] = transcript_id\n",
    "    merged = pd.concat([merged, proportion_df])\n"
   ]
  },
  {
   "cell_type": "code",
   "execution_count": null,
   "metadata": {},
   "outputs": [],
   "source": [
    "# k means clustering of p1 and p2\n",
    "from sklearn.cluster import KMeans\n",
    "\n",
    "kmeans = KMeans(n_clusters=3, random_state=0).fit(merged[['p1', 'p2']])\n",
    "\n",
    "merged['kmeans_cluster'] = kmeans.labels_\n",
    "\n",
    "centroids = kmeans.cluster_centers_\n",
    "#plot centroids on p1 vs p2\n",
    "\n",
    "plt.scatter(merged['p1'], merged['p2'], c=merged['kmeans_cluster'])\n",
    "\n",
    "plt.scatter(centroids[:, 0], centroids[:, 1], c='red', s=50)"
   ]
  },
  {
   "cell_type": "code",
   "execution_count": null,
   "metadata": {},
   "outputs": [],
   "source": [
    "def get_euc_distance_point_to_centroid(point, centroid):\n",
    "    return np.sqrt(np.sum((point - centroid)**2))"
   ]
  },
  {
   "cell_type": "code",
   "execution_count": null,
   "metadata": {},
   "outputs": [],
   "source": [
    "get_euc_distance_point_to_centroid(np.array([0, 0]), centroids[2])"
   ]
  },
  {
   "cell_type": "code",
   "execution_count": null,
   "metadata": {},
   "outputs": [],
   "source": [
    "def get_distances_to_centroids(point, centroids):\n",
    "    distances = []\n",
    "    for centroid in centroids:\n",
    "        distances.append(get_euc_distance_point_to_centroid(point, centroid))\n",
    "    return sorted(distances)"
   ]
  },
  {
   "cell_type": "code",
   "execution_count": null,
   "metadata": {},
   "outputs": [],
   "source": [
    "def assign_point_to_cluster(point, centroids):\n",
    "    distances = []\n",
    "    for centroid in centroids:\n",
    "        distances.append(get_euc_distance_point_to_centroid(point, centroid))\n",
    "    return np.argmin(distances)"
   ]
  },
  {
   "cell_type": "code",
   "execution_count": null,
   "metadata": {},
   "outputs": [],
   "source": [
    "assign_point_to_cluster(np.array([1, 1]), centroids)"
   ]
  },
  {
   "cell_type": "code",
   "execution_count": null,
   "metadata": {},
   "outputs": [],
   "source": [
    "def get_other_clusters_for_point(point, centroids):\n",
    "    distances = []\n",
    "    for centroid in centroids:\n",
    "        distances.append(get_euc_distance_point_to_centroid(point, centroid))\n",
    "    return np.argsort(distances)[1:]"
   ]
  },
  {
   "cell_type": "code",
   "execution_count": null,
   "metadata": {},
   "outputs": [],
   "source": [
    "get_other_clusters_for_point(np.array([0, 1]), centroids)"
   ]
  },
  {
   "cell_type": "code",
   "execution_count": null,
   "metadata": {},
   "outputs": [],
   "source": [
    "distances = get_distances_to_centroids(np.array([0, 0]), centroids)\n",
    "sum(distances[1:])\n"
   ]
  },
  {
   "cell_type": "code",
   "execution_count": null,
   "metadata": {},
   "outputs": [],
   "source": [
    "# Run DBSCAN on p1 and p2\n",
    "from sklearn.cluster import DBSCAN\n",
    "from sklearn.preprocessing import StandardScaler\n",
    "\n",
    "X = merged[['p1', 'p2']].values\n",
    "X = StandardScaler().fit_transform(X)\n",
    "\n",
    "db = DBSCAN(eps=0.25, min_samples=60).fit(X)\n",
    "\n",
    "labels = db.labels_\n",
    "\n",
    "merged['dbscan_cluster'] = labels\n",
    "\n",
    "merged['dbscan_cluster'].value_counts()\n",
    "\n",
    "# get dbscan centroids\n",
    "centroids = []\n",
    "for cluster in merged['dbscan_cluster'].unique():\n",
    "    centroids.append(merged[merged['dbscan_cluster'] == cluster][['p1', 'p2']].mean().values)\n",
    "\n",
    "plt.scatter(merged['p1'], merged['p2'], c=merged['dbscan_cluster'])\n",
    "\n",
    "centroids = np.array(centroids)\n",
    "\n",
    "plt.scatter(centroids[:, 0], centroids[:, 1], c='red', s=50)"
   ]
  },
  {
   "cell_type": "code",
   "execution_count": null,
   "metadata": {},
   "outputs": [],
   "source": [
    "\n"
   ]
  },
  {
   "cell_type": "code",
   "execution_count": null,
   "metadata": {},
   "outputs": [],
   "source": [
    "\n"
   ]
  },
  {
   "cell_type": "code",
   "execution_count": null,
   "metadata": {},
   "outputs": [],
   "source": [
    "# for given point get sum of distance to furtherst two centroids\n",
    "def get_sum_of_distances_to_furtherst_two_centroids(point, centroids):\n",
    "    distances = []\n",
    "    for centroid in centroids:\n",
    "        distances.append(get_euc_distance_point_to_centroid(point, centroid))\n",
    "    return sum(sorted(distances)[1:3])\n",
    "\n"
   ]
  },
  {
   "cell_type": "markdown",
   "metadata": {},
   "source": [
    "# Initialize continuous proportions"
   ]
  },
  {
   "cell_type": "code",
   "execution_count": null,
   "metadata": {},
   "outputs": [],
   "source": [
    "# get all combinations of read counts for p1, p2, p3\n",
    "import itertools\n",
    "\n",
    "numbers = range(1, 101)\n",
    "\n",
    "permutations = []\n",
    "for perm in itertools.permutations(numbers, 3):\n",
    "    if sum(perm) == 100:\n",
    "        permutations.append(perm)\n",
    "\n",
    "read_frame_continuous = {}\n",
    "for i, perm in enumerate(permutations):\n",
    "    read_frame_continuous[i] = {0: perm[0], 1: perm[1], 2: perm[2]}\n",
    "\n",
    "read_frame_continuous_df = pd.DataFrame(read_frame_continuous).T"
   ]
  },
  {
   "cell_type": "code",
   "execution_count": null,
   "metadata": {},
   "outputs": [],
   "source": [
    "# get min distance to nearest centroid\n",
    "def get_min_distance_to_nearest_centroid(point, centroids):\n",
    "    distances = []\n",
    "    for centroid in centroids:\n",
    "        distances.append(get_euc_distance_point_to_centroid(point, centroid))\n",
    "    return min(distances)\n",
    "\n"
   ]
  },
  {
   "cell_type": "code",
   "execution_count": null,
   "metadata": {},
   "outputs": [],
   "source": [
    "# add min distance to nearest centroid to read_frame_continuous_df\n",
    "read_frame_continuous_df['min_distance_to_nearest_centroid'] = read_frame_continuous_df.apply(lambda x: get_min_distance_to_nearest_centroid(x.values[0], centroids), axis=1)\n",
    "\n",
    "# plot continuous read frame p1 vs p2\n",
    "plt.scatter(read_frame_continuous_df[0], read_frame_continuous_df[1], c=read_frame_continuous_df['min_distance_to_nearest_centroid'])\n",
    "\n",
    "# label axes\n",
    "plt.xlabel('p1')\n",
    "plt.ylabel('p2')\n",
    "\n",
    "# title \n",
    "plt.title('p1 vs p2 for all possible read frame combinations colored by min distance to nearest centroid')"
   ]
  },
  {
   "cell_type": "code",
   "execution_count": null,
   "metadata": {},
   "outputs": [],
   "source": [
    "def calculate_frame_bias(f1, f2, f3):\n",
    "    frames = sorted([f1, f2, f3])\n",
    "    return 1 - (frames[1]/frames[2])\n"
   ]
  },
  {
   "cell_type": "code",
   "execution_count": null,
   "metadata": {},
   "outputs": [],
   "source": [
    "def calculate_frame_bias2(f1, f2, f3):\n",
    "    frames = sorted([f1, f2, f3])\n",
    "    return frames[2] / sum(frames)"
   ]
  },
  {
   "cell_type": "code",
   "execution_count": null,
   "metadata": {},
   "outputs": [],
   "source": [
    "# add frame bias to read_frame_continuous_df (1-(count of the second highest peak/count of the highest peak))\n",
    "read_frame_continuous_df['frame_bias'] = read_frame_continuous_df.apply(lambda x: calculate_frame_bias(x.values[0], x.values[1], x.values[2]), axis=1)\n",
    "\n",
    "# plot continuous read frame p1 vs p2\n",
    "plt.scatter(read_frame_continuous_df[0], read_frame_continuous_df[1], c=read_frame_continuous_df['frame_bias'])\n",
    "\n",
    "# label axes\n",
    "plt.xlabel('p1')\n",
    "plt.ylabel('p2')\n",
    "\n",
    "# title\n",
    "plt.title('p1 vs p2 for all possible read frame combinations colored by frame bias')"
   ]
  },
  {
   "cell_type": "code",
   "execution_count": null,
   "metadata": {},
   "outputs": [],
   "source": [
    "read_frame_continuous_df['frame_bias2'] = read_frame_continuous_df.apply(lambda x: calculate_frame_bias2(x.values[0], x.values[1], x.values[2]), axis=1)\n",
    "\n",
    "# plot continuous read frame p1 vs p2\n",
    "plt.scatter(read_frame_continuous_df[0], read_frame_continuous_df[1], c=read_frame_continuous_df['frame_bias2'])\n",
    "\n",
    "# label axes\n",
    "plt.xlabel('p1')\n",
    "plt.ylabel('p2')\n",
    "\n",
    "# title\n",
    "plt.title('p1 vs p2 for all possible read frame combinations colored by frame bias2')\n"
   ]
  },
  {
   "cell_type": "code",
   "execution_count": null,
   "metadata": {},
   "outputs": [],
   "source": [
    "# use plotly to plot p1 vs p2 vs p3 as a ternary scatter plot\n",
    "import plotly.express as px\n",
    "\n",
    "fig = px.scatter_ternary(read_frame_continuous_df, a=0, b=1, c=2, color=\"frame_bias\", hover_name=\"frame_bias\", size_max=15)\n",
    "fig.show()"
   ]
  },
  {
   "cell_type": "code",
   "execution_count": null,
   "metadata": {},
   "outputs": [],
   "source": [
    "fig = px.scatter_ternary(read_frame_continuous_df, a=0, b=1, c=2, color=\"frame_bias\", hover_name=\"frame_bias2\", size_max=15)\n",
    "fig.show()"
   ]
  },
  {
   "cell_type": "code",
   "execution_count": null,
   "metadata": {},
   "outputs": [],
   "source": [
    "def calculate_distance_ternary_plane(point, target):\n",
    "    '''\n",
    "    Calculated distance from point to target in ternary plane (p1, p2, p3)\n",
    "    Using euclidean distance in 3D cartesian coordinates\n",
    "\n",
    "    Parameters\n",
    "    ----------\n",
    "    point : list\n",
    "        List of proportions in p1, p2, p3\n",
    "\n",
    "    target : list\n",
    "        List of proportions in p1, p2, p3\n",
    "\n",
    "    Returns \n",
    "    -------\n",
    "    distance : float\n",
    "        Distance from point to target in ternary plane\n",
    "    '''\n",
    "    point = np.array(point)\n",
    "    target = np.array(target)\n",
    "\n",
    "    # get vertices of triangle\n",
    "    vertices = np.array([[0.0, 0.0], [1.0, 0.0], [0.5, 1]])\n",
    "\n",
    "    # get cartesian coordinates of point\n",
    "    cartesian_point = np.dot(point, vertices)\n",
    "\n",
    "    # get cartesian coordinates of target\n",
    "    cartesian_target = np.dot(target, vertices)\n",
    "\n",
    "    # calculate distance between cartesian_point and cartesian_target\n",
    "    distance = np.sqrt(np.sum((cartesian_point - cartesian_target)**2))\n",
    "\n",
    "    return distance\n"
   ]
  },
  {
   "cell_type": "code",
   "execution_count": null,
   "metadata": {},
   "outputs": [],
   "source": [
    "def get_cart_point(ternary_point, vertices=[[0.0, 0.0], [1.0, 0.0], [0.5, 1]]):\n",
    "    point = np.array(ternary_point)\n",
    "    # get vertices of triangle\n",
    "    verts= np.array(vertices)\n",
    "\n",
    "    # get cartesian coordinates of point\n",
    "    cartesian_point = np.dot(point, verts)\n",
    "    return cartesian_point"
   ]
  },
  {
   "cell_type": "code",
   "execution_count": null,
   "metadata": {},
   "outputs": [],
   "source": [
    "def calculate_distance_cartesian(cart_point, target):\n",
    "    '''\n",
    "    Calculated distance from point to target in ternary plane (p1, p2, p3)\n",
    "    Using euclidean distance in 3D cartesian coordinates\n",
    "\n",
    "    Parameters\n",
    "    ----------\n",
    "    point : list\n",
    "        List of proportions in p1, p2, p3\n",
    "\n",
    "    target : list\n",
    "        List of proportions in p1, p2, p3\n",
    "\n",
    "    Returns \n",
    "    -------\n",
    "    distance : float\n",
    "        Distance from point to target in ternary plane\n",
    "    '''\n",
    "    cart_point = np.array(cart_point)\n",
    "    target = np.array(target)\n",
    "\n",
    "    # calculate distance between cartesian_point and cartesian_target\n",
    "    distance = np.sqrt(np.sum((cart_point - target)**2))\n",
    "\n",
    "    return distance"
   ]
  },
  {
   "cell_type": "markdown",
   "metadata": {},
   "source": [
    "# Exploring Cartesian Triangle"
   ]
  },
  {
   "cell_type": "code",
   "execution_count": null,
   "metadata": {},
   "outputs": [],
   "source": [
    "#get cartesian points for all points in read_frame_continuous_df\n",
    "read_frame_continuous_df['cartesian_point'] = read_frame_continuous_df.apply(lambda x: get_cart_point(x.values[0:3]), axis=1)\n"
   ]
  },
  {
   "cell_type": "code",
   "execution_count": null,
   "metadata": {},
   "outputs": [],
   "source": [
    "A = np.array([0, 0])\n",
    "B = np.array([100, 0])\n",
    "C = np.array([50, 100])\n",
    "\n",
    "read_frame_continuous_df['distance_from_A'] = read_frame_continuous_df.apply(lambda x: calculate_distance_cartesian(x['cartesian_point'], A), axis=1)\n",
    "read_frame_continuous_df['distance_from_B'] = read_frame_continuous_df.apply(lambda x: calculate_distance_cartesian(x['cartesian_point'], B), axis=1)\n",
    "read_frame_continuous_df['distance_from_C'] = read_frame_continuous_df.apply(lambda x: calculate_distance_cartesian(x['cartesian_point'], C), axis=1)"
   ]
  },
  {
   "cell_type": "code",
   "execution_count": null,
   "metadata": {},
   "outputs": [],
   "source": [
    "# plot cartesian points colored by distance from A and label A, B and C \n",
    "plt.scatter(read_frame_continuous_df['cartesian_point'].apply(lambda x: x[0]), read_frame_continuous_df['cartesian_point'].apply(lambda x: x[1]), c=read_frame_continuous_df['distance_from_A'])\n",
    "plt.text(0, 0, 'A')\n",
    "plt.text(100, 0, 'B')\n",
    "plt.text(50, 100, 'C')\n",
    "\n",
    "# title\n",
    "plt.title('Cartesian Points Colored by Distance from A')\n"
   ]
  },
  {
   "cell_type": "code",
   "execution_count": null,
   "metadata": {},
   "outputs": [],
   "source": [
    "# plot cartesian points colored by distance from A and label A, B and C \n",
    "plt.scatter(read_frame_continuous_df['cartesian_point'].apply(lambda x: x[0]), read_frame_continuous_df['cartesian_point'].apply(lambda x: x[1]), c=read_frame_continuous_df['distance_from_B'])\n",
    "plt.text(0, 0, 'A')\n",
    "plt.text(100, 0, 'B')\n",
    "plt.text(50, 100, 'C')\n",
    "\n",
    "# title\n",
    "plt.title('Cartesian Points Colored by Distance from B')"
   ]
  },
  {
   "cell_type": "code",
   "execution_count": null,
   "metadata": {},
   "outputs": [],
   "source": [
    "read_frame_continuous_df['cartesian_point']"
   ]
  },
  {
   "cell_type": "code",
   "execution_count": null,
   "metadata": {},
   "outputs": [],
   "source": [
    "# # plot cartesian points colored by distance from A and label A, B and C \n",
    "plt.scatter(read_frame_continuous_df['cartesian_point'].apply(lambda x: x[0]), read_frame_continuous_df['cartesian_point'].apply(lambda x: x[1]), c=read_frame_continuous_df['distance_from_C'])\n",
    "plt.text(0, 0, 'A')\n",
    "plt.text(100, 0, 'B')\n",
    "plt.text(50, 100, 'C')\n",
    "\n",
    "# title\n",
    "plt.title('Cartesian Points Colored by Distance from C')"
   ]
  },
  {
   "cell_type": "code",
   "execution_count": null,
   "metadata": {},
   "outputs": [],
   "source": [
    "merged.head()"
   ]
  },
  {
   "cell_type": "code",
   "execution_count": null,
   "metadata": {},
   "outputs": [],
   "source": [
    "# get cartesian points for all points in merged\n",
    "merged['cartesian_point'] = merged.apply(lambda x: get_cart_point(x.values[0:3]), axis=1)\n",
    "\n",
    "\n",
    "A = np.array([0, 0])\n",
    "B = np.array([1, 0])\n",
    "C = np.array([0.5, 1])\n",
    "\n",
    "merged['distance_from_A'] = merged.apply(lambda x: calculate_distance_cartesian(x['cartesian_point'], A), axis=1)\n",
    "merged['distance_from_B'] = merged.apply(lambda x: calculate_distance_cartesian(x['cartesian_point'], B), axis=1)\n",
    "merged['distance_from_C'] = merged.apply(lambda x: calculate_distance_cartesian(x['cartesian_point'], C), axis=1)"
   ]
  },
  {
   "cell_type": "code",
   "execution_count": null,
   "metadata": {},
   "outputs": [],
   "source": [
    "def approximate_translation(observed: tuple, metagene: tuple):\n",
    "    f1 = observed[0] * metagene[0] + observed[2] * metagene[1] + observed[1] * metagene[2]\n",
    "    f2 = observed[0] * metagene[1] + observed[1] * metagene[0] + observed[2] * metagene[2]\n",
    "    f3 = observed[0] * metagene[2] + observed[1] * metagene[1] + observed[2] * metagene[0]\n",
    "    return (f1, f2, f3)"
   ]
  },
  {
   "cell_type": "code",
   "execution_count": 435,
   "metadata": {},
   "outputs": [
    {
     "data": {
      "text/plain": [
       "(0.11794784964442939, 0.7872671859126312, 0.09478496444293938)"
      ]
     },
     "execution_count": 435,
     "metadata": {},
     "output_type": "execute_result"
    }
   ],
   "source": [
    "metagene_sums = [3483, 23248, 2799]\n",
    "metagene = (metagene_sums[0] / sum(metagene_sums), metagene_sums[1] / sum(metagene_sums), metagene_sums[2] / sum(metagene_sums))\n",
    "metagene"
   ]
  },
  {
   "cell_type": "code",
   "execution_count": 436,
   "metadata": {},
   "outputs": [
    {
     "data": {
      "text/html": [
       "<div>\n",
       "<style scoped>\n",
       "    .dataframe tbody tr th:only-of-type {\n",
       "        vertical-align: middle;\n",
       "    }\n",
       "\n",
       "    .dataframe tbody tr th {\n",
       "        vertical-align: top;\n",
       "    }\n",
       "\n",
       "    .dataframe thead th {\n",
       "        text-align: right;\n",
       "    }\n",
       "</style>\n",
       "<table border=\"1\" class=\"dataframe\">\n",
       "  <thead>\n",
       "    <tr style=\"text-align: right;\">\n",
       "      <th></th>\n",
       "      <th>p1</th>\n",
       "      <th>p2</th>\n",
       "      <th>p3</th>\n",
       "      <th>cartesian_point</th>\n",
       "      <th>approximate_translation_f1</th>\n",
       "      <th>approximate_translation_f2</th>\n",
       "      <th>approximate_translation_f3</th>\n",
       "      <th>approximate_translation_cartesian_point</th>\n",
       "    </tr>\n",
       "  </thead>\n",
       "  <tbody>\n",
       "    <tr>\n",
       "      <th>111</th>\n",
       "      <td>0.0</td>\n",
       "      <td>0.0</td>\n",
       "      <td>1.0</td>\n",
       "      <td>[0.0, 0.0]</td>\n",
       "      <td>0.787267</td>\n",
       "      <td>0.094785</td>\n",
       "      <td>0.117948</td>\n",
       "      <td>[0.15375888926515408, 0.11794784964442939]</td>\n",
       "    </tr>\n",
       "    <tr>\n",
       "      <th>112</th>\n",
       "      <td>0.0</td>\n",
       "      <td>0.0</td>\n",
       "      <td>1.0</td>\n",
       "      <td>[0.0, 0.0]</td>\n",
       "      <td>0.787267</td>\n",
       "      <td>0.094785</td>\n",
       "      <td>0.117948</td>\n",
       "      <td>[0.15375888926515408, 0.11794784964442939]</td>\n",
       "    </tr>\n",
       "    <tr>\n",
       "      <th>113</th>\n",
       "      <td>0.0</td>\n",
       "      <td>0.0</td>\n",
       "      <td>1.0</td>\n",
       "      <td>[0.0, 0.0]</td>\n",
       "      <td>0.787267</td>\n",
       "      <td>0.094785</td>\n",
       "      <td>0.117948</td>\n",
       "      <td>[0.15375888926515408, 0.11794784964442939]</td>\n",
       "    </tr>\n",
       "    <tr>\n",
       "      <th>114</th>\n",
       "      <td>0.0</td>\n",
       "      <td>1.0</td>\n",
       "      <td>0.0</td>\n",
       "      <td>[0.5, 1.0]</td>\n",
       "      <td>0.094785</td>\n",
       "      <td>0.117948</td>\n",
       "      <td>0.787267</td>\n",
       "      <td>[0.511581442600745, 0.7872671859126312]</td>\n",
       "    </tr>\n",
       "    <tr>\n",
       "      <th>115</th>\n",
       "      <td>0.0</td>\n",
       "      <td>1.0</td>\n",
       "      <td>0.0</td>\n",
       "      <td>[0.5, 1.0]</td>\n",
       "      <td>0.094785</td>\n",
       "      <td>0.117948</td>\n",
       "      <td>0.787267</td>\n",
       "      <td>[0.511581442600745, 0.7872671859126312]</td>\n",
       "    </tr>\n",
       "  </tbody>\n",
       "</table>\n",
       "</div>"
      ],
      "text/plain": [
       "      p1   p2   p3 cartesian_point  approximate_translation_f1  \\\n",
       "111  0.0  0.0  1.0      [0.0, 0.0]                    0.787267   \n",
       "112  0.0  0.0  1.0      [0.0, 0.0]                    0.787267   \n",
       "113  0.0  0.0  1.0      [0.0, 0.0]                    0.787267   \n",
       "114  0.0  1.0  0.0      [0.5, 1.0]                    0.094785   \n",
       "115  0.0  1.0  0.0      [0.5, 1.0]                    0.094785   \n",
       "\n",
       "     approximate_translation_f2  approximate_translation_f3  \\\n",
       "111                    0.094785                    0.117948   \n",
       "112                    0.094785                    0.117948   \n",
       "113                    0.094785                    0.117948   \n",
       "114                    0.117948                    0.787267   \n",
       "115                    0.117948                    0.787267   \n",
       "\n",
       "        approximate_translation_cartesian_point  \n",
       "111  [0.15375888926515408, 0.11794784964442939]  \n",
       "112  [0.15375888926515408, 0.11794784964442939]  \n",
       "113  [0.15375888926515408, 0.11794784964442939]  \n",
       "114     [0.511581442600745, 0.7872671859126312]  \n",
       "115     [0.511581442600745, 0.7872671859126312]  "
      ]
     },
     "execution_count": 436,
     "metadata": {},
     "output_type": "execute_result"
    }
   ],
   "source": [
    "# approximate translation for each row in merged\n",
    "merged['approximate_translation'] = merged.apply(lambda x: approximate_translation(x.values[1:4], metagene), axis=1)\n",
    "\n",
    "# split approximate translation into three columns\n",
    "merged[['approximate_translation_f1', 'approximate_translation_f2', 'approximate_translation_f3']] = pd.DataFrame(merged['approximate_translation'].tolist(), index=merged.index)\n",
    "\n",
    "\n",
    "merged['approximate_translation_cartesian_point'] = merged.apply(lambda x: get_cart_point([x['approximate_translation_f1'], x['approximate_translation_f2'], x['approximate_translation_f3']]), axis=1)\n",
    "merged[['p1', 'p2', 'p3','cartesian_point', 'approximate_translation_f1', 'approximate_translation_f2', 'approximate_translation_f3', 'approximate_translation_cartesian_point']].tail()"
   ]
  },
  {
   "cell_type": "code",
   "execution_count": 439,
   "metadata": {},
   "outputs": [
    {
     "data": {
      "text/plain": [
       "Text(0.5, 1, 'C')"
      ]
     },
     "execution_count": 439,
     "metadata": {},
     "output_type": "execute_result"
    },
    {
     "data": {
      "image/png": "[encoded data removed]",
      "text/plain": [
       "<Figure size 1000x500 with 2 Axes>"
      ]
     },
     "metadata": {},
     "output_type": "display_data"
    }
   ],
   "source": [
    "import matplotlib.pyplot as plt\n",
    "\n",
    "# plot cartesian_point and approximate_translation_cartesian_point side by side\n",
    "fig, (ax1, ax2) = plt.subplots(1, 2, figsize=(10, 5))\n",
    "\n",
    "# plot cartesian_point\n",
    "ax1.scatter(merged['cartesian_point'].apply(lambda x: x[0]), merged['cartesian_point'].apply(lambda x: x[1]))\n",
    "ax1.text(0, 0, 'A')\n",
    "ax1.text(1, 0, 'B')\n",
    "ax1.text(0.5, 1, 'C')\n",
    "\n",
    "# title\n",
    "ax1.set_title('Cartesian Points Colored by Distance from A')\n",
    "\n",
    "# plot approximate_translation_cartesian_point\n",
    "ax2.scatter(merged['approximate_translation_cartesian_point'].apply(lambda x: x[0]), merged['approximate_translation_cartesian_point'].apply(lambda x: x[1]))\n",
    "ax2.text(0, 0, 'A')\n",
    "ax2.text(1, 0, 'B')\n",
    "ax2.text(0.5, 1, 'C')\n",
    "\n"
   ]
  },
  {
   "cell_type": "code",
   "execution_count": 438,
   "metadata": {},
   "outputs": [
    {
     "data": {
      "text/plain": [
       "Text(0.5, 1.0, 'approximate_translation_f1 vs approximate_translation_f2')"
      ]
     },
     "execution_count": 438,
     "metadata": {},
     "output_type": "execute_result"
    },
    {
     "data": {
      "image/png": "[encoded data removed]",
      "text/plain": [
       "<Figure size 1000x500 with 2 Axes>"
      ]
     },
     "metadata": {},
     "output_type": "display_data"
    }
   ],
   "source": [
    "# plot p1 vs p2 and approximate_translation_f1 vs approximate_translation_f2 side by side\n",
    "fig, (ax1, ax2) = plt.subplots(1, 2, figsize=(10, 5))\n",
    "\n",
    "# plot p1 vs p2\n",
    "ax1.scatter(merged['p1'], merged['p2'])\n",
    "\n",
    "# title\n",
    "ax1.set_title('p1 vs p2')\n",
    "\n",
    "# plot approximate_translation_f1 vs approximate_translation_f2\n",
    "ax2.scatter(merged['approximate_translation_f1'], merged['approximate_translation_f2'])\n",
    "\n",
    "# title\n",
    "ax2.set_title('approximate_translation_f1 vs approximate_translation_f2')\n",
    "\n"
   ]
  },
  {
   "cell_type": "code",
   "execution_count": 440,
   "metadata": {},
   "outputs": [
    {
     "data": {
      "text/plain": [
       "0.3492871456656782"
      ]
     },
     "execution_count": 440,
     "metadata": {},
     "output_type": "execute_result"
    }
   ],
   "source": [
    "merged['approximate_translation_f1'].sum() / merged[['approximate_translation_f1', 'approximate_translation_f2', 'approximate_translation_f3']].sum().sum()"
   ]
  },
  {
   "cell_type": "code",
   "execution_count": 442,
   "metadata": {},
   "outputs": [
    {
     "data": {
      "text/plain": [
       "0.34174678040437717"
      ]
     },
     "execution_count": 442,
     "metadata": {},
     "output_type": "execute_result"
    }
   ],
   "source": [
    "merged['approximate_translation_f2'].sum() / merged[['approximate_translation_f1', 'approximate_translation_f2', 'approximate_translation_f3']].sum().sum()"
   ]
  },
  {
   "cell_type": "code",
   "execution_count": 441,
   "metadata": {},
   "outputs": [
    {
     "data": {
      "text/plain": [
       "0.3089660739299447"
      ]
     },
     "execution_count": 441,
     "metadata": {},
     "output_type": "execute_result"
    }
   ],
   "source": [
    "merged['approximate_translation_f3'].sum() / merged[['approximate_translation_f1', 'approximate_translation_f2', 'approximate_translation_f3']].sum().sum()"
   ]
  },
  {
   "cell_type": "code",
   "execution_count": null,
   "metadata": {},
   "outputs": [],
   "source": []
  },
  {
   "cell_type": "code",
   "execution_count": 443,
   "metadata": {},
   "outputs": [
    {
     "data": {
      "text/plain": [
       "0.3466853193528615"
      ]
     },
     "execution_count": 443,
     "metadata": {},
     "output_type": "execute_result"
    }
   ],
   "source": [
    "merged['p1'].sum() / merged[['p1', 'p2', 'p3']].sum().sum()"
   ]
  },
  {
   "cell_type": "code",
   "execution_count": 445,
   "metadata": {},
   "outputs": [
    {
     "data": {
      "text/plain": [
       "0.29738937119092457"
      ]
     },
     "execution_count": 445,
     "metadata": {},
     "output_type": "execute_result"
    }
   ],
   "source": [
    "merged['p2'].sum() / merged[['p1', 'p2', 'p3']].sum().sum()"
   ]
  },
  {
   "cell_type": "code",
   "execution_count": 444,
   "metadata": {},
   "outputs": [
    {
     "data": {
      "text/plain": [
       "0.355925309456214"
      ]
     },
     "execution_count": 444,
     "metadata": {},
     "output_type": "execute_result"
    }
   ],
   "source": [
    "merged['p3'].sum() / merged[['p1', 'p2', 'p3']].sum().sum()"
   ]
  },
  {
   "cell_type": "code",
   "execution_count": null,
   "metadata": {},
   "outputs": [],
   "source": [
    "# plot cartesian points colored by distance from A and label A, B and C\n",
    "plt.scatter(merged['cartesian_point'].apply(lambda x: x[0]), merged['cartesian_point'].apply(lambda x: x[1]), c=merged['distance_from_A'])\n",
    "plt.text(0, 0, 'A')\n",
    "plt.text(1, 0, 'B')\n",
    "plt.text(0.5, 1, 'C')\n",
    "\n",
    "# title\n",
    "plt.title('Cartesian Points Colored by Distance from A')"
   ]
  },
  {
   "cell_type": "code",
   "execution_count": null,
   "metadata": {},
   "outputs": [],
   "source": [
    "# cluster based on cartesian points\n",
    "\n",
    "# split cartesian points into x and y\n",
    "merged['cartesian_point_x'] = merged['cartesian_point'].apply(lambda x: x[0])\n",
    "merged['cartesian_point_y'] = merged['cartesian_point'].apply(lambda x: x[1])\n",
    "\n",
    "kmeans = KMeans(n_clusters=3, random_state=0).fit(merged[['cartesian_point_x', 'cartesian_point_y']])\n",
    "merged['kmeans_cluster_cart'] = kmeans.labels_"
   ]
  },
  {
   "cell_type": "code",
   "execution_count": null,
   "metadata": {},
   "outputs": [],
   "source": [
    "# plot cartesian points colored by kmeans cluster\n",
    "plt.scatter(merged['cartesian_point_x'], merged['cartesian_point_y'], c=merged['kmeans_cluster_cart'])\n"
   ]
  },
  {
   "cell_type": "code",
   "execution_count": null,
   "metadata": {},
   "outputs": [],
   "source": [
    "def process_transcripts(df, num_transcripts, k):\n",
    "    transcript_ids = df['transcript_id'].value_counts().index.tolist()\n",
    "    merged = pd.DataFrame()\n",
    "\n",
    "    for transcript_id in transcript_ids[:num_transcripts]:\n",
    "        profile_df = create_profile_df(df, transcript_id)\n",
    "        proportion = proportion_of_kmer(profile_df, k=k)\n",
    "        proportion_df = pd.DataFrame(proportion, columns=['count', 'p1', 'p2', 'p3'])\n",
    "        proportion_df['transcript_id'] = transcript_id\n",
    "        merged = pd.concat([merged, proportion_df])\n",
    "\n",
    "    merged['cartesian_point'] = merged.apply(lambda x: get_cart_point(x.values[0:3]), axis=1)\n",
    "    merged['cartesian_point_x'] = merged['cartesian_point'].apply(lambda x: x[0])\n",
    "    merged['cartesian_point_y'] = merged['cartesian_point'].apply(lambda x: x[1])\n",
    "\n",
    "    kmeans = KMeans(n_clusters=3, random_state=0).fit(merged[['cartesian_point_x', 'cartesian_point_y']])\n",
    "    merged['kmeans_cluster_cart'] = kmeans.labels_\n",
    "    \n",
    "    return merged"
   ]
  },
  {
   "cell_type": "markdown",
   "metadata": {},
   "source": [
    "# Plot frame breakdown per transcript"
   ]
  },
  {
   "cell_type": "code",
   "execution_count": null,
   "metadata": {},
   "outputs": [],
   "source": [
    "import matplotlib.pyplot as plt\n",
    "\n",
    "k_values = [3, 6, 9, 12, 15]\n",
    "fig, axes = plt.subplots(1, len(k_values), figsize=(15, 5))\n",
    "\n",
    "for i, k in enumerate(k_values):\n",
    "    merged = process_transcripts(df, 10, k=k)\n",
    "    ax = axes[i]\n",
    "    \n",
    "    sc = ax.scatter(merged['cartesian_point_x'], merged['cartesian_point_y'], c=merged['kmeans_cluster_cart'])\n",
    "    ax.set_title('k = {}'.format(k))\n",
    "    \n",
    "\n",
    "# legend\n",
    "fig.legend(*sc.legend_elements(), loc=\"lower left\", title=\"Classes\")\n",
    "plt.show()"
   ]
  },
  {
   "cell_type": "markdown",
   "metadata": {},
   "source": [
    "# Plot Ribosome Profile"
   ]
  },
  {
   "cell_type": "code",
   "execution_count": null,
   "metadata": {},
   "outputs": [],
   "source": [
    "\n",
    "\n",
    "def plot_profile(profile_df, transcript_id):\n",
    "    # get profile df for transcript\n",
    "    profile_df = create_profile_df(df, transcript_id)\n",
    "    \n",
    "\n",
    "    frame1 = profile_df[profile_df['a_site'] % 3 == 0]\n",
    "    frame2 = profile_df[profile_df['a_site'] % 3 == 1]\n",
    "    frame3 = profile_df[profile_df['a_site'] % 3 == 2]\n",
    "    # plot with plotly\n",
    "    import plotly.graph_objects as go\n",
    "\n",
    "    fig = go.Figure()\n",
    "\n",
    "    fig.add_trace(go.Bar(x=frame1['a_site'], y=frame1['count'], name='frame1'))\n",
    "    fig.add_trace(go.Bar(x=frame2['a_site'], y=frame2['count'], name='frame2'))\n",
    "    fig.add_trace(go.Bar(x=frame3['a_site'], y=frame3['count'], name='frame3'))\n",
    "\n",
    "    # label axes\n",
    "    fig.update_xaxes(title_text='a_site')\n",
    "    fig.update_yaxes(title_text='count')\n",
    "\n",
    "    # title\n",
    "    fig.update_layout(title_text=f'Ribosome Profile of {transcript_id}')\n",
    "\n",
    "    fig.show()\n",
    "\n"
   ]
  },
  {
   "cell_type": "code",
   "execution_count": null,
   "metadata": {},
   "outputs": [],
   "source": [
    "plot_profile(profile_df, transcript_id)"
   ]
  },
  {
   "cell_type": "markdown",
   "metadata": {},
   "source": [
    "# Sliding window periodicity Triangle per gene"
   ]
  },
  {
   "cell_type": "code",
   "execution_count": null,
   "metadata": {},
   "outputs": [],
   "source": [
    "import numpy as np\n",
    "import pandas as pd\n",
    "import plotly.graph_objects as go\n",
    "from plotly.subplots import make_subplots\n",
    "\n",
    "# Assuming you have defined the required functions (e.g., create_profile_df, proportion_of_kmer, get_cart_point) earlier in your code.\n",
    "\n",
    "# Number of subplots to create\n",
    "\n",
    "def plot_periodicity_triangles(df, k=9, size=50, step=25, transcript_id=None):\n",
    "\n",
    "    if not transcript_id:\n",
    "        transcript_id = df['transcript_id'].value_counts().index.tolist()[20]\n",
    "\n",
    "    # Get profile df for transcript\n",
    "    profile_df = create_profile_df(df, transcript_id)\n",
    "\n",
    "    # Get end of transcript\n",
    "    end = profile_df[profile_df['count'] > 1]['a_site'].max()\n",
    "    start = 0\n",
    "\n",
    "    windows = []\n",
    "    for i in range(start, end - size, step):\n",
    "        windows.append([i, i + size])\n",
    "\n",
    "    print(f\"Generating {len(windows)} plots\")\n",
    "    # Create subplots in a grid\n",
    "    num_rows = round(np.sqrt(len(windows))) + 1\n",
    "    num_cols = round(np.sqrt(len(windows))) + 1\n",
    "\n",
    "    # Create subplots with shared axes\n",
    "    fig = make_subplots(rows=num_rows, cols=num_cols, subplot_titles=[f\"{window[0]}-{window[1]}\" for window in windows])\n",
    "\n",
    "    # Initialize a list to keep track of created subplots\n",
    "    subplots_created = 0\n",
    "\n",
    "    # Create a subplot for each window\n",
    "    for i, window in enumerate(windows):\n",
    "        # Subset proportion_df to have rows indexed by window\n",
    "        subset_df = profile_df[(profile_df['a_site'] > window[0]) & (profile_df['a_site'] < window[1])]\n",
    "\n",
    "        proportion_df = proportion_of_kmer(subset_df, k=k)\n",
    "        proportion_df = pd.DataFrame(proportion_df, columns=['count', 'p1', 'p2', 'p3'])\n",
    "        proportion_df['transcript_id'] = transcript_id\n",
    "\n",
    "        proportion_df['cartesian_point'] = proportion_df.apply(lambda x: get_cart_point(x.values[1:4]), axis=1)\n",
    "        proportion_df['cartesian_point_x'] = proportion_df['cartesian_point'].apply(lambda x: x[0])\n",
    "        proportion_df['cartesian_point_y'] = proportion_df['cartesian_point'].apply(lambda x: x[1])\n",
    "\n",
    "        # Create a scatter plot using Plotly\n",
    "        scatter = go.Scatter(\n",
    "            x=proportion_df['cartesian_point_x'],\n",
    "            y=proportion_df['cartesian_point_y'],\n",
    "            mode='markers',\n",
    "            marker=dict(\n",
    "                size=10,\n",
    "                opacity=0.6,\n",
    "                color=proportion_df['count'],\n",
    "                colorscale='Viridis',\n",
    "            ),\n",
    "            name=f'{window}',\n",
    "        )\n",
    "\n",
    "        # Add the subplot to the grid\n",
    "        row = subplots_created // num_cols + 1\n",
    "        col = subplots_created % num_cols + 1\n",
    "        fig.add_trace(scatter, row=row, col=col)\n",
    "        triangle = go.Scatter(\n",
    "            x=[0, 1, 0.5, 0],\n",
    "            y=[0, 0, 1, 0],  # Adjust the y-values as needed\n",
    "            mode='lines+text',\n",
    "            line=dict(color='red', width=2),\n",
    "            text=['', '', '', ''],\n",
    "        )\n",
    "        fig.add_trace(triangle, row=row, col=col)\n",
    "\n",
    "        subplots_created += 1\n",
    "\n",
    "        # if subplots_created >= num_plots:\n",
    "        #     break\n",
    "\n",
    "    # Update layout and display the grid of plots\n",
    "    fig.update_layout(\n",
    "        title=f'Proportion of Reads in Each Frame for {k} nt Window - Transcript {transcript_id}',\n",
    "        showlegend=False,\n",
    "        width=1200,\n",
    "        height=800,\n",
    "    )\n",
    "\n",
    "\n",
    "    fig.show()\n",
    "\n"
   ]
  },
  {
   "cell_type": "code",
   "execution_count": null,
   "metadata": {},
   "outputs": [],
   "source": [
    "plot_periodicity_triangles(df, k=9, size=200, step=100, transcript_id=\"ENST00000369535\")\n",
    "plot_profile(profile_df, \"ENST00000369535\")"
   ]
  },
  {
   "cell_type": "markdown",
   "metadata": {},
   "source": [
    "# Exploring Distances on Cartesian"
   ]
  },
  {
   "cell_type": "code",
   "execution_count": null,
   "metadata": {},
   "outputs": [],
   "source": [
    "metagene_proportions = [0.7, 0.2, 0.1]\n",
    "codon_proportions = [0.5, 0.4, 0.1]\n",
    "\n",
    "\n",
    "# plot metagene proportions as bar plot color red, green, blue and have Y axis go up to 1\n",
    "plt.bar([0, 1, 2], metagene_proportions, color=['red', 'green', 'blue'])"
   ]
  },
  {
   "cell_type": "code",
   "execution_count": null,
   "metadata": {},
   "outputs": [],
   "source": [
    "import plotly.express as px\n",
    "import numpy as np\n",
    "\n",
    "# Initialize data dictionary\n",
    "data = {'x': [], 'y': []}\n",
    "\n",
    "# get vertices of triangle\n",
    "vertices = np.array([[0.0, 0.0], [1.0, 0.0], [0.5, 1]])\n",
    "\n",
    "# Iterate through metagene proportions\n",
    "for _ in range(len(metagene_proportions)):\n",
    "    cartesian_point = np.dot(metagene_proportions, vertices)\n",
    "    data['x'].append(cartesian_point[0])\n",
    "    data['y'].append(cartesian_point[1])\n",
    "\n",
    "    # Cycle to the next metagene by shifting the proportions\n",
    "    metagene_proportions = [metagene_proportions[-1]] + metagene_proportions[:-1]\n",
    "\n",
    "# Create a scatter plot of the data points\n",
    "fig = px.scatter(data, x='x', y='y', width=800, height=800)\n",
    "\n",
    "# Add a trace for the triangle\n",
    "triangle = go.Scatter(\n",
    "    x=[0, 1, 0.5, 0],\n",
    "    y=[0, 0, 1, 0],  # Adjust the y-values as needed\n",
    "    mode='lines+text',\n",
    "    line=dict(color='red', width=2),\n",
    "    text=['', '', '', ''],\n",
    ")\n",
    "fig.add_trace(triangle)\n",
    "# Show the plot\n",
    "\n",
    "print(list(zip(data['x'], data['y'])))\n",
    "\n",
    "# plot codon proporiton as cartesian point\n",
    "cartesian_point = np.dot(codon_proportions, vertices)\n",
    "\n",
    "fig.add_trace(go.Scatter(x=[cartesian_point[0]], y=[cartesian_point[1]], mode='markers', marker=dict(size=10, color='red')))\n",
    "fig.show()\n"
   ]
  },
  {
   "cell_type": "code",
   "execution_count": null,
   "metadata": {},
   "outputs": [],
   "source": [
    "reference_points_lst = list(zip(data['x'], data['y']))\n",
    "\n",
    "reference_points = {\n",
    "    'Frame1': reference_points_lst[0],\n",
    "    'Frame2': reference_points_lst[1],\n",
    "    'Frame3': reference_points_lst[2],\n",
    "}\n",
    "# get distance from reference points to cartesian point\n",
    "distances = []\n",
    "for reference_point in reference_points.values():\n",
    "    print(reference_point, calculate_distance_cartesian(cartesian_point, reference_point))\n",
    "    distances.append(calculate_distance_cartesian(cartesian_point, reference_point))\n",
    "\n",
    "# get closest reference point\n",
    "closest_reference_point = list(reference_points.keys())[np.argmin(distances)]\n",
    "closest_reference_point"
   ]
  },
  {
   "cell_type": "markdown",
   "metadata": {},
   "source": [
    "# Potential Metrics: 1 - (distance from closest reference point / distance from equidistance point)"
   ]
  },
  {
   "cell_type": "code",
   "execution_count": null,
   "metadata": {},
   "outputs": [],
   "source": [
    "#get point equidistant from all reference points\n",
    "equidistant_point = np.mean(reference_points_lst, axis=0)\n",
    "\n",
    "# get distance from equidistant point to reference points\n",
    "max_distance = calculate_distance_cartesian(equidistant_point, reference_points['Frame1'])\n",
    "\n",
    "# get distance from cartesian point to closest reference point\n",
    "cart_distance = calculate_distance_cartesian(cartesian_point, reference_points[closest_reference_point])\n",
    "\n",
    "inverse_proportion_distance_to_equidistant = 1 - (cart_distance / max_distance)\n",
    "inverse_proportion_distance_to_equidistant"
   ]
  },
  {
   "cell_type": "code",
   "execution_count": null,
   "metadata": {},
   "outputs": [],
   "source": [
    "# plot lines from cart point to equidistant point and reference points\n",
    "fig.add_trace(go.Scatter(x=[equidistant_point[0], cartesian_point[0]], y=[equidistant_point[1], cartesian_point[1]], mode='lines', line=dict(color='black', width=2)))\n",
    "\n",
    "#label each line with distance\n",
    "fig.add_trace(go.Scatter(x=[equidistant_point[0], cartesian_point[0]], y=[equidistant_point[1], cartesian_point[1]], mode='text', text=[round(max_distance,2), round(cart_distance, 2)], textposition='top center'))\n",
    "\n",
    "fig.add_trace(go.Scatter(x=[cartesian_point[0], reference_points[closest_reference_point][0]], y=[cartesian_point[1], reference_points[closest_reference_point][1]], mode='lines', line=dict(color='black', width=2)))"
   ]
  },
  {
   "cell_type": "markdown",
   "metadata": {},
   "source": [
    "# Potential Metrics: 1 - (distance from closest reference point / sum of distances from all reference points)"
   ]
  },
  {
   "cell_type": "code",
   "execution_count": null,
   "metadata": {},
   "outputs": [],
   "source": [
    "closest_over_sum = 1 - (cart_distance / (sum(distances)))\n",
    "closest_over_sum"
   ]
  }
 ],
 "metadata": {
  "kernelspec": {
   "display_name": "RibosomeProfiler",
   "language": "python",
   "name": "python3"
  },
  "language_info": {
   "codemirror_mode": {
    "name": "ipython",
    "version": 3
   },
   "file_extension": ".py",
   "mimetype": "text/x-python",
   "name": "python",
   "nbconvert_exporter": "python",
   "pygments_lexer": "ipython3",
   "version": "3.10.12"
  },
  "orig_nbformat": 4
 },
 "nbformat": 4,
 "nbformat_minor": 2
}
