{
 "cells": [
  {
   "cell_type": "code",
   "execution_count": 3,
   "metadata": {},
   "outputs": [],
   "source": [
    "import itertools\n",
    "\n",
    "numbers = range(1, 101)\n",
    "\n",
    "permutations = []\n",
    "for perm in itertools.permutations(numbers, 3):\n",
    "    if sum(perm) == 100:\n",
    "        permutations.append(perm)\n",
    "\n",
    "read_frame_continuous = {}\n",
    "for i, perm in enumerate(permutations):\n",
    "    read_frame_continuous[i] = {0: perm[0], 1: perm[1], 2: perm[2]}"
   ]
  },
  {
   "cell_type": "code",
   "execution_count": 4,
   "metadata": {},
   "outputs": [
    {
     "data": {
      "text/plain": [
       "{0: 1, 1: 3, 2: 96}"
      ]
     },
     "execution_count": 4,
     "metadata": {},
     "output_type": "execute_result"
    }
   ],
   "source": []
  },
  {
   "cell_type": "code",
   "execution_count": 13,
   "metadata": {},
   "outputs": [],
   "source": [
    "observed = (0.80, 0.20, 0)\n",
    "metagene = (0.90, 0.05, 0.05)"
   ]
  },
  {
   "cell_type": "code",
   "execution_count": 14,
   "metadata": {},
   "outputs": [],
   "source": [
    "def approximate_translation(observed: tuple, metagene: tuple):\n",
    "    f1 = observed[0] * metagene[0] + observed[2] * metagene[1] + observed[1] * metagene[2]\n",
    "    f2 = observed[0] * metagene[1] + observed[1] * metagene[0] + observed[2] * metagene[2]\n",
    "    f3 = observed[0] * metagene[2] + observed[1] * metagene[1] + observed[2] * metagene[0]\n",
    "    return (f1, f2, f3)"
   ]
  },
  {
   "cell_type": "code",
   "execution_count": 15,
   "metadata": {},
   "outputs": [
    {
     "data": {
      "text/plain": [
       "(0.7300000000000001, 0.22000000000000003, 0.05000000000000001)"
      ]
     },
     "execution_count": 15,
     "metadata": {},
     "output_type": "execute_result"
    }
   ],
   "source": [
    "approximate_translation(observed, metagene)"
   ]
  }
 ],
 "metadata": {
  "kernelspec": {
   "display_name": "RibosomeProfiler",
   "language": "python",
   "name": "python3"
  },
  "language_info": {
   "codemirror_mode": {
    "name": "ipython",
    "version": 3
   },
   "file_extension": ".py",
   "mimetype": "text/x-python",
   "name": "python",
   "nbconvert_exporter": "python",
   "pygments_lexer": "ipython3",
   "version": "3.10.10"
  },
  "orig_nbformat": 4
 },
 "nbformat": 4,
 "nbformat_minor": 2
}
