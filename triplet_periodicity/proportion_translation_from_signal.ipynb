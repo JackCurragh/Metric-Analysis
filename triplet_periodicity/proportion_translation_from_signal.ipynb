{
 "cells": [
  {
   "cell_type": "code",
   "execution_count": 1,
   "metadata": {},
   "outputs": [],
   "source": [
    "import itertools\n",
    "\n",
    "numbers = range(1, 101)\n",
    "\n",
    "permutations = []\n",
    "for perm in itertools.permutations(numbers, 3):\n",
    "    if sum(perm) == 100:\n",
    "        permutations.append(perm)\n",
    "\n",
    "read_frame_continuous = {}\n",
    "for i, perm in enumerate(permutations):\n",
    "    read_frame_continuous[i] = {0: perm[0], 1: perm[1], 2: perm[2]}"
   ]
  },
  {
   "cell_type": "code",
   "execution_count": 17,
   "metadata": {},
   "outputs": [],
   "source": [
    "def approximate_translation(observed: tuple, metagene: tuple):\n",
    "    f1 = (observed[0] * metagene[0]) + (observed[2] * metagene[1]) + (observed[1] * metagene[2])\n",
    "    f2 = (observed[0] * metagene[1]) + (observed[1] * metagene[0]) + (observed[2] * metagene[2])\n",
    "    f3 = (observed[0] * metagene[2]) + (observed[1] * metagene[1]) + (observed[2] * metagene[0])\n",
    "    return (f1, f2, f3)"
   ]
  },
  {
   "cell_type": "code",
   "execution_count": 18,
   "metadata": {},
   "outputs": [],
   "source": [
    "observed = (0.45, 0.45, 0.1)\n",
    "metagene = (0.70, 0.15, 0.15)"
   ]
  },
  {
   "cell_type": "code",
   "execution_count": 19,
   "metadata": {},
   "outputs": [
    {
     "data": {
      "text/plain": [
       "(0.3975, 0.3975, 0.20500000000000002)"
      ]
     },
     "execution_count": 19,
     "metadata": {},
     "output_type": "execute_result"
    }
   ],
   "source": [
    "approximate_translation(observed, metagene)"
   ]
  }
 ],
 "metadata": {
  "kernelspec": {
   "display_name": "RibosomeProfiler",
   "language": "python",
   "name": "python3"
  },
  "language_info": {
   "codemirror_mode": {
    "name": "ipython",
    "version": 3
   },
   "file_extension": ".py",
   "mimetype": "text/x-python",
   "name": "python",
   "nbconvert_exporter": "python",
   "pygments_lexer": "ipython3",
   "version": "3.10.12"
  },
  "orig_nbformat": 4
 },
 "nbformat": 4,
 "nbformat_minor": 2
}
