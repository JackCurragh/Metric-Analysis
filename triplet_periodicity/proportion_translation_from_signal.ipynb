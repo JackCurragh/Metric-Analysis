{
 "cells": [
  {
   "cell_type": "code",
   "execution_count": 1,
   "metadata": {},
   "outputs": [],
   "source": [
    "import itertools\n",
    "\n",
    "numbers = range(1, 101)\n",
    "\n",
    "permutations = []\n",
    "for perm in itertools.permutations(numbers, 3):\n",
    "    if sum(perm) == 100:\n",
    "        permutations.append(perm)\n",
    "\n",
    "read_frame_continuous = {}\n",
    "for i, perm in enumerate(permutations):\n",
    "    read_frame_continuous[i] = {0: perm[0], 1: perm[1], 2: perm[2]}"
   ]
  },
  {
   "cell_type": "code",
   "execution_count": 3,
   "metadata": {},
   "outputs": [
    {
     "data": {
      "text/plain": [
       "{0: 1, 1: 3, 2: 96}"
      ]
     },
     "execution_count": 3,
     "metadata": {},
     "output_type": "execute_result"
    }
   ],
   "source": [
    "read_frame_continuous[1]"
   ]
  },
  {
   "cell_type": "code",
   "execution_count": 4,
   "metadata": {},
   "outputs": [],
   "source": [
    "observed = (80, 20, 0)"
   ]
  },
  {
   "cell_type": "code",
   "execution_count": null,
   "metadata": {},
   "outputs": [],
   "source": [
    "def approximate_translation(observed: tuple, metagene: tuple):\n",
    "    f1 "
   ]
  }
 ],
 "metadata": {
  "kernelspec": {
   "display_name": "RibosomeProfiler",
   "language": "python",
   "name": "python3"
  },
  "language_info": {
   "codemirror_mode": {
    "name": "ipython",
    "version": 3
   },
   "file_extension": ".py",
   "mimetype": "text/x-python",
   "name": "python",
   "nbconvert_exporter": "python",
   "pygments_lexer": "ipython3",
   "version": "3.10.10"
  },
  "orig_nbformat": 4
 },
 "nbformat": 4,
 "nbformat_minor": 2
}
